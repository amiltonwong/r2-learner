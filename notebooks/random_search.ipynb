{
 "metadata": {
  "name": "",
  "signature": "sha256:be274879fddcc4429d71b2caa58e0c5f9356774ed4a8a97d7f311a74cf460dbf"
 },
 "nbformat": 3,
 "nbformat_minor": 0,
 "worksheets": [
  {
   "cells": [
    {
     "cell_type": "code",
     "collapsed": false,
     "input": [
      "%load_ext autoreload\n",
      "%autoreload 2\n",
      "\n",
      "import sys\n",
      "import os\n",
      "sys.path.append(\"..\")\n",
      "\n",
      "from sklearn import svm, datasets\n",
      "from sklearn.grid_search import ParameterGrid, GridSearchCV\n",
      "from sklearn.base import BaseEstimator, clone \n",
      "from sklearn.cross_validation import KFold\n",
      "from sklearn.svm import SVC\n",
      "import os\n",
      "import math\n",
      "import numpy as np\n",
      "import sklearn.metrics\n",
      "from multiprocessing import Pool\n",
      "from functools import partial\n",
      "\n",
      "import sklearn\n",
      "from sklearn.preprocessing import MinMaxScaler, LabelBinarizer\n",
      "from sklearn.metrics import accuracy_score\n",
      "from sklearn.cross_validation import KFold\n",
      "from sklearn.preprocessing import MinMaxScaler\n",
      "\n",
      "from data_api import *\n",
      "\n",
      "from r2 import *\n",
      "from lmao import *\n",
      "\n",
      "\n",
      "\n",
      "%matplotlib inline"
     ],
     "language": "python",
     "metadata": {},
     "outputs": [
      {
       "output_type": "stream",
       "stream": "stdout",
       "text": [
        "The autoreload extension is already loaded. To reload it, use:\n",
        "  %reload_ext autoreload\n"
       ]
      }
     ],
     "prompt_number": 7
    },
    {
     "cell_type": "code",
     "collapsed": false,
     "input": [
      "def create_projector_2d_3(alpha_1, alpha_2, scale, b):\n",
      "   return [ np.array([[np.cos(alpha_2/180.0*3.14)],[np.sin(alpha_2/180.0*3.14)]]).dot(np.array([[np.cos(alpha_1/180.0*3.14), np.cos(alpha_2/180.0*3.14)]])),\n",
      "           b*np.array([[np.cos(alpha_2/180.0*3.14), np.sin(alpha_2/180.0*3.14)]]) ]\n",
      "  \n",
      "def create_random_projector_2d_3():\n",
      "    return create_projector_2d_3(np.random.uniform(0,360), np.random.uniform(0,360), np.random.uniform(0,5), np.random.uniform(-1,1))"
     ],
     "language": "python",
     "metadata": {},
     "outputs": [],
     "prompt_number": 3
    },
    {
     "cell_type": "code",
     "collapsed": false,
     "input": [
      "def test(p, X, Y):\n",
      "\n",
      "    base_cls = partial(SVC, class_weight='auto', kernel='linear', C=1)\n",
      "    model = LMAO(depth=2, base_cls=base_cls, projectors=p, \\\n",
      "                 scale=True, activation='sigmoid')\n",
      "    # model = R2SVMLearner(despth=19, beta=0.1, use_prev=True, scale=True, activation='sigmoid')\n",
      "    model.fit(X, Y)\n",
      "\n",
      "    return sklearn.metrics.accuracy_score(Y, model.predict(X))"
     ],
     "language": "python",
     "metadata": {},
     "outputs": [],
     "prompt_number": 4
    },
    {
     "cell_type": "code",
     "collapsed": false,
     "input": [
      "X_moon, Y_moon = sklearn.datasets.make_moons(n_samples=1000, noise=0.04)\n",
      "X_spiral, Y_spiral = np.loadtxt(\"../data/two_spirals.x\", skiprows=1), np.loadtxt(\"../data/two_spirals.y\", skiprows=1)"
     ],
     "language": "python",
     "metadata": {},
     "outputs": [],
     "prompt_number": 8
    },
    {
     "cell_type": "code",
     "collapsed": false,
     "input": [
      "import time\n",
      "s=time.time()\n",
      "results = [test([create_random_projector_2d_3(), create_random_projector_2d_3()], X_spiral, Y_spiral) for _ in xrange(1000)]\n",
      "print max(results)\n",
      "print time.time() - s"
     ],
     "language": "python",
     "metadata": {},
     "outputs": [
      {
       "output_type": "stream",
       "stream": "stdout",
       "text": [
        "0.53\n",
        "5.116533041\n"
       ]
      }
     ],
     "prompt_number": 12
    },
    {
     "cell_type": "code",
     "collapsed": false,
     "input": [
      "x = np.argmax([1,2])"
     ],
     "language": "python",
     "metadata": {},
     "outputs": [],
     "prompt_number": 15
    },
    {
     "cell_type": "code",
     "collapsed": false,
     "input": [
      "from multiprocessing import Value"
     ],
     "language": "python",
     "metadata": {},
     "outputs": [],
     "prompt_number": 17
    },
    {
     "cell_type": "code",
     "collapsed": false,
     "input": [
      "Value('f', 2.0)"
     ],
     "language": "python",
     "metadata": {},
     "outputs": [
      {
       "metadata": {},
       "output_type": "pyout",
       "prompt_number": 18,
       "text": [
        "<Synchronized wrapper for c_float(2.0)>"
       ]
      }
     ],
     "prompt_number": 18
    }
   ],
   "metadata": {}
  }
 ]
}