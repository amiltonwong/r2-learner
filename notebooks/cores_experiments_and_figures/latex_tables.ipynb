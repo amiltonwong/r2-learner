{
 "metadata": {
  "name": "",
  "signature": "sha256:855707a43e1bb8485fa97519b04c852e72cbf33d7d8fb2c39cd3067d59a45d8a"
 },
 "nbformat": 3,
 "nbformat_minor": 0,
 "worksheets": [
  {
   "cells": [
    {
     "cell_type": "markdown",
     "metadata": {},
     "source": [
      "# This notebook contains latex tables included in the publication"
     ]
    },
    {
     "cell_type": "code",
     "collapsed": false,
     "input": [
      "%load_ext autoreload\n",
      "%autoreload 2\n",
      "import sys, os\n",
      "sys.path.append('../..')\n",
      "\n",
      "%matplotlib inline\n",
      "import matplotlib.pylab as plt\n",
      "\n",
      "from misc.config import c\n",
      "from data_api import *\n",
      "import cPickla\n",
      "import pandas as pd\n",
      "from data_api import *\n",
      "results_dir = c['RESULTS_DIR']"
     ],
     "language": "python",
     "metadata": {},
     "outputs": [],
     "prompt_number": 1
    },
    {
     "cell_type": "code",
     "collapsed": false,
     "input": [
      "all_results = {}\n",
      "models = ['exh_r2svm']\n",
      "\n",
      "datasets = ['glass', 'australian', 'bank','breast_cancer', 'crashes', 'liver', 'segment', 'satimage', 'heart', 'vowel',\n",
      "            'diabetes', 'fourclass', 'german', 'indian', 'ionosphere', 'sonar', 'splice', 'iris', 'wine', 'pendigits',\n",
      "            'vehicle']\n",
      "\n",
      "# datasets = ['vowel', 'vehicle', 'satimage', 'segment', 'pendigits']\n",
      "\n",
      "paths = [ os.path.join(results_dir, model + '_' + dataset) for model in models for dataset in datasets ]\n",
      "\n",
      "for path in paths:\n",
      "    if os.path.isdir(path):\n",
      "        print path\n",
      "        results = {}\n",
      "        for exp in os.listdir(path):\n",
      "            name = exp[:-11]\n",
      "            try:\n",
      "                exp_res = cPickle.load(open(os.path.join(path, exp),'r'))\n",
      "            except:\n",
      "                print exp\n",
      "                continue\n",
      "            merged_res = exp_res['monitors']\n",
      "            merged_res.update(exp_res['results'])\n",
      "            merged_res.update(exp_res['config']['params'])\n",
      "            results[name] = merged_res\n",
      "        name = path.split('/')[-1]\n",
      "        all_results[name] = results"
     ],
     "language": "python",
     "metadata": {},
     "outputs": [
      {
       "output_type": "stream",
       "stream": "stdout",
       "text": [
        "/mnt/users/czarnecki/local/r2-learner/results/exh_r2svm_glass\n",
        "/mnt/users/czarnecki/local/r2-learner/results/exh_r2svm_vowel\n",
        "/mnt/users/czarnecki/local/r2-learner/results/exh_r2svm_fourclass\n",
        "/mnt/users/czarnecki/local/r2-learner/results/exh_r2svm_ionosphere"
       ]
      },
      {
       "output_type": "stream",
       "stream": "stdout",
       "text": [
        "\n",
        "/mnt/users/czarnecki/local/r2-learner/results/exh_r2svm_sonar\n",
        "/mnt/users/czarnecki/local/r2-learner/results/exh_r2svm_splice\n",
        "/mnt/users/czarnecki/local/r2-learner/results/exh_r2svm_wine"
       ]
      },
      {
       "output_type": "stream",
       "stream": "stdout",
       "text": [
        "\n"
       ]
      }
     ],
     "prompt_number": 3
    },
    {
     "cell_type": "code",
     "collapsed": false,
     "input": [
      "csv_results = {}\n",
      "csv_dir = os.path.join(results_dir, 'csv')\n",
      "\n",
      "for csv_file in os.listdir(csv_dir):\n",
      "    csv_results[csv_file] = pd.DataFrame.from_csv(os.path.join(csv_dir, csv_file))"
     ],
     "language": "python",
     "metadata": {},
     "outputs": [],
     "prompt_number": 5
    },
    {
     "cell_type": "code",
     "collapsed": false,
     "input": [
      "float()"
     ],
     "language": "python",
     "metadata": {},
     "outputs": [
      {
       "metadata": {},
       "output_type": "pyout",
       "prompt_number": 13,
       "text": [
        "0.0"
       ]
      }
     ],
     "prompt_number": 13
    },
    {
     "cell_type": "code",
     "collapsed": false,
     "input": [
      "from collections import defaultdict\n",
      "def get_accuracy_table(models=['test_elm', 'test_svm', 'test_linear_svm','test_r2svm', 'test_r2elm', 'random_r2svm', 'fixed_r2svm', \n",
      "            'triple_svm', 'triple_r2svm', 'triple_fixed_r2svm'], \\\n",
      "                       datasets=['glass', 'australian', 'bank','breast_cancer', 'crashes', 'liver', 'segment', 'satimage', 'heart', 'vowel',\n",
      "                'diabetes', 'fourclass', 'german', 'indian', 'ionosphere', 'sonar', 'splice', 'iris', 'wine', 'pendigits',\n",
      "                'vehicle', 'svmguide2', 'svmguide4']\n",
      "                       ):\n",
      "    pd.options.display.float_format = '{:2.2f}'.format\n",
      "\n",
      "    best_results = {model: {} for model in models}\n",
      "    \n",
      "    best_per_dataset = defaultdict(float)\n",
      "    for model in models:\n",
      "        for data in datasets:\n",
      "            if model + '_' + data in csv_results.keys():\n",
      "                df = csv_results[model + '_' + data]\n",
      "                best_per_dataset[data] = max(best_per_dataset[data], df['mean_acc'].max())\n",
      "    \n",
      "    for model in models:\n",
      "        for data in datasets:\n",
      "            if model + '_' + data in csv_results.keys():\n",
      "                df = csv_results[model + '_' + data]\n",
      "                acc = df['mean_acc'].max()\n",
      "                if acc == best_per_dataset[data]:\n",
      "                    txt = \"\\textb{\"+str(int(100*acc))+\"\\%} & $ \\pm $\\textb{1\\%}\" #TODO: add STD estimation\n",
      "                else:\n",
      "                    txt = str(int(100*acc))+ \"\\% & $ \\pm $\" + \"1\\%\"\n",
      "                              \n",
      "                best_results[model][data] = txt\n",
      "\n",
      "\n",
      "    return pd.DataFrame.from_dict(best_results)[models]"
     ],
     "language": "python",
     "metadata": {},
     "outputs": [],
     "prompt_number": 111
    },
    {
     "cell_type": "code",
     "collapsed": false,
     "input": [
      "## 1st table is all models and only fixed_r2svm"
     ],
     "language": "python",
     "metadata": {},
     "outputs": [],
     "prompt_number": 23
    },
    {
     "cell_type": "code",
     "collapsed": false,
     "input": [
      "from itertools import izip"
     ],
     "language": "python",
     "metadata": {},
     "outputs": [],
     "prompt_number": 79
    },
    {
     "cell_type": "code",
     "collapsed": false,
     "input": [
      "models=['test_r2svm', 'fixed_r2svm', 'test_r2elm', 'test_elm', 'test_svm', 'test_linear_svm']\n",
      "datasets = ['glass', 'australian', 'bank','breast_cancer', 'crashes', 'liver', 'segment', 'satimage', 'heart', 'vowel',\n",
      "                'diabetes', 'fourclass', 'german', 'indian', 'ionosphere', 'sonar', 'splice', 'iris', 'wine', 'pendigits',\n",
      "                'vehicle', 'svmguide2', 'svmguide4']\n",
      "tb = get_accuracy_table(models=models, datasets = datasets)\n",
      "# 1. Change column names\n",
      "tb = tb.rename(columns=dict(izip(models,[\"\\rrsvm\", \"fixed \\\\rrsvm\", \"\\\\drelm\", \"ELM\", \"SVM + RBF\", \"SVM\"])))"
     ],
     "language": "python",
     "metadata": {},
     "outputs": [],
     "prompt_number": 117
    },
    {
     "cell_type": "code",
     "collapsed": false,
     "input": [
      "\n",
      "h = tb.to_latex(index=True, header=True, formatters=[lambda x:x]*7)\n",
      "\n",
      "h = h.replace(\"\\\\&\", \"&\").replace(\"\\\\textbackslash\", \"\\\\\").replace(\"\\\\$\", \"$\").replace(\"extb\", \"\\\\textbf\").replace(\"\\\\{\", \"{\").replace(\"\\\\}\", \"}\").replace(\"\\\\\\\\%\", \"\\\\%\")\n",
      "\n",
      "print h"
     ],
     "language": "python",
     "metadata": {},
     "outputs": [
      {
       "output_type": "stream",
       "stream": "stdout",
       "text": [
        "\\begin{tabular}{lllllll}\n",
        "\\toprule\n",
        "{} &             \\rrsvm &       fixed \\rrsvm &                           \\drelm &                               ELM &                         SVM + RBF &                SVM \\\\\n",
        "\\midrule\n",
        "australian    &  86\\% & $ \\pm $1\\% &  85\\% & $ \\pm $1\\% &  \t\\textbf{87\\%} & $ \\pm $\t\\textbf{1\\%} &                 87\\% & $ \\pm $1\\% &                 86\\% & $ \\pm $1\\% &  85\\% & $ \\pm $1\\% \\\\\n",
        "bank          &  99\\% & $ \\pm $1\\% &  99\\% & $ \\pm $1\\% &                97\\% & $ \\pm $1\\% &  \t\\textbf{100\\%} & $ \\pm $\t\\textbf{1\\%} &  \t\\textbf{100\\%} & $ \\pm $\t\\textbf{1\\%} &  99\\% & $ \\pm $1\\% \\\\\n",
        "breast\\_cancer &  96\\% & $ \\pm $1\\% &  97\\% & $ \\pm $1\\% &  \t\\textbf{97\\%} & $ \\pm $\t\\textbf{1\\%} &                 97\\% & $ \\pm $1\\% &                 97\\% & $ \\pm $1\\% &  96\\% & $ \\pm $1\\% \\\\\n",
        "crashes       &  94\\% & $ \\pm $1\\% &  95\\% & $ \\pm $1\\% &                95\\% & $ \\pm $1\\% &                 92\\% & $ \\pm $1\\% &   \t\\textbf{96\\%} & $ \\pm $\t\\textbf{1\\%} &  95\\% & $ \\pm $1\\% \\\\\n",
        "diabetes      &  77\\% & $ \\pm $1\\% &  76\\% & $ \\pm $1\\% &  \t\\textbf{78\\%} & $ \\pm $\t\\textbf{1\\%} &                 78\\% & $ \\pm $1\\% &                 78\\% & $ \\pm $1\\% &  78\\% & $ \\pm $1\\% \\\\\n",
        "fourclass     &  74\\% & $ \\pm $1\\% &  74\\% & $ \\pm $1\\% &                78\\% & $ \\pm $1\\% &                 98\\% & $ \\pm $1\\% &  \t\\textbf{100\\%} & $ \\pm $\t\\textbf{1\\%} &  77\\% & $ \\pm $1\\% \\\\\n",
        "german        &  73\\% & $ \\pm $1\\% &  72\\% & $ \\pm $1\\% &  \t\\textbf{77\\%} & $ \\pm $\t\\textbf{1\\%} &                 75\\% & $ \\pm $1\\% &                 76\\% & $ \\pm $1\\% &  76\\% & $ \\pm $1\\% \\\\\n",
        "glass         &  59\\% & $ \\pm $1\\% &  59\\% & $ \\pm $1\\% &                67\\% & $ \\pm $1\\% &                 70\\% & $ \\pm $1\\% &   \t\\textbf{73\\%} & $ \\pm $\t\\textbf{1\\%} &  62\\% & $ \\pm $1\\% \\\\\n",
        "heart         &  84\\% & $ \\pm $1\\% &  84\\% & $ \\pm $1\\% &  \t\\textbf{87\\%} & $ \\pm $\t\\textbf{1\\%} &                 82\\% & $ \\pm $1\\% &                 84\\% & $ \\pm $1\\% &  84\\% & $ \\pm $1\\% \\\\\n",
        "indian        &  69\\% & $ \\pm $1\\% &  71\\% & $ \\pm $1\\% &  \t\\textbf{72\\%} & $ \\pm $\t\\textbf{1\\%} &                 72\\% & $ \\pm $1\\% &                 72\\% & $ \\pm $1\\% &  72\\% & $ \\pm $1\\% \\\\\n",
        "ionosphere    &  88\\% & $ \\pm $1\\% &  90\\% & $ \\pm $1\\% &                92\\% & $ \\pm $1\\% &                 91\\% & $ \\pm $1\\% &   \t\\textbf{96\\%} & $ \\pm $\t\\textbf{1\\%} &  88\\% & $ \\pm $1\\% \\\\\n",
        "iris          &  97\\% & $ \\pm $1\\% &  96\\% & $ \\pm $1\\% &                97\\% & $ \\pm $1\\% &   \t\\textbf{98\\%} & $ \\pm $\t\\textbf{1\\%} &   \t\\textbf{98\\%} & $ \\pm $\t\\textbf{1\\%} &  95\\% & $ \\pm $1\\% \\\\\n",
        "liver         &  67\\% & $ \\pm $1\\% &  66\\% & $ \\pm $1\\% &                70\\% & $ \\pm $1\\% &                 74\\% & $ \\pm $1\\% &   \t\\textbf{75\\%} & $ \\pm $\t\\textbf{1\\%} &  70\\% & $ \\pm $1\\% \\\\\n",
        "pendigits     &  94\\% & $ \\pm $1\\% &  93\\% & $ \\pm $1\\% &                87\\% & $ \\pm $1\\% &                 97\\% & $ \\pm $1\\% &   \t\\textbf{99\\%} & $ \\pm $\t\\textbf{1\\%} &  93\\% & $ \\pm $1\\% \\\\\n",
        "satimage      &  89\\% & $ \\pm $1\\% &  87\\% & $ \\pm $1\\% &                88\\% & $ \\pm $1\\% &                 88\\% & $ \\pm $1\\% &   \t\\textbf{93\\%} & $ \\pm $\t\\textbf{1\\%} &  82\\% & $ \\pm $1\\% \\\\\n",
        "segment       &  96\\% & $ \\pm $1\\% &  92\\% & $ \\pm $1\\% &                94\\% & $ \\pm $1\\% &                 92\\% & $ \\pm $1\\% &   \t\\textbf{97\\%} & $ \\pm $\t\\textbf{1\\%} &  92\\% & $ \\pm $1\\% \\\\\n",
        "sonar         &  77\\% & $ \\pm $1\\% &  80\\% & $ \\pm $1\\% &                82\\% & $ \\pm $1\\% &                 82\\% & $ \\pm $1\\% &   \t\\textbf{88\\%} & $ \\pm $\t\\textbf{1\\%} &  75\\% & $ \\pm $1\\% \\\\\n",
        "splice        &  81\\% & $ \\pm $1\\% &  80\\% & $ \\pm $1\\% &                83\\% & $ \\pm $1\\% &                 76\\% & $ \\pm $1\\% &   \t\\textbf{88\\%} & $ \\pm $\t\\textbf{1\\%} &  79\\% & $ \\pm $1\\% \\\\\n",
        "svmguide2     &  82\\% & $ \\pm $1\\% &  82\\% & $ \\pm $1\\% &                83\\% & $ \\pm $1\\% &                 82\\% & $ \\pm $1\\% &   \t\\textbf{84\\%} & $ \\pm $\t\\textbf{1\\%} &  83\\% & $ \\pm $1\\% \\\\\n",
        "svmguide4     &  84\\% & $ \\pm $1\\% &  72\\% & $ \\pm $1\\% &                79\\% & $ \\pm $1\\% &                 75\\% & $ \\pm $1\\% &   \t\\textbf{86\\%} & $ \\pm $\t\\textbf{1\\%} &  80\\% & $ \\pm $1\\% \\\\\n",
        "vehicle       &  80\\% & $ \\pm $1\\% &  77\\% & $ \\pm $1\\% &                79\\% & $ \\pm $1\\% &                 82\\% & $ \\pm $1\\% &   \t\\textbf{85\\%} & $ \\pm $\t\\textbf{1\\%} &  78\\% & $ \\pm $1\\% \\\\\n",
        "vowel         &  62\\% & $ \\pm $1\\% &  49\\% & $ \\pm $1\\% &                53\\% & $ \\pm $1\\% &                 82\\% & $ \\pm $1\\% &   \t\\textbf{99\\%} & $ \\pm $\t\\textbf{1\\%} &  47\\% & $ \\pm $1\\% \\\\\n",
        "wine          &  83\\% & $ \\pm $1\\% &  84\\% & $ \\pm $1\\% &                86\\% & $ \\pm $1\\% &   \t\\textbf{87\\%} & $ \\pm $\t\\textbf{1\\%} &                 85\\% & $ \\pm $1\\% &  83\\% & $ \\pm $1\\% \\\\\n",
        "\\bottomrule\n",
        "\\end{tabular}\n",
        "\n"
       ]
      }
     ],
     "prompt_number": 118
    }
   ],
   "metadata": {}
  }
 ]
}