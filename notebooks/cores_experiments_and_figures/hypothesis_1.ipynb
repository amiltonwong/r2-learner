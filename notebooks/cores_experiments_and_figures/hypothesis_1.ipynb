{
 "metadata": {
  "name": "",
  "signature": "sha256:d9e3960dcafb7c658998c218defcd10e7f072b8d7458243fc5e58e9931ba5e00"
 },
 "nbformat": 3,
 "nbformat_minor": 0,
 "worksheets": [
  {
   "cells": [
    {
     "cell_type": "markdown",
     "metadata": {},
     "source": [
      "# 1) Model dzia\u0142a wyj\u0105tkowo s\u0142abo o ile dane nie s\u0105 znormalizowane\n",
      "\n",
      "Jest to oczywiste ze wzgl\u0119du na u\u017cywane funkcje aktywacji - rbf i sigmoid."
     ]
    },
    {
     "cell_type": "code",
     "collapsed": false,
     "input": [
      "%load_ext autoreload\n",
      "%autoreload 2\n",
      "\n",
      "import sys\n",
      "import os\n",
      "sys.path.append(\"../..\")\n",
      "sys.path.append(\"../../scripts\")\n",
      "\n",
      "from sklearn import svm, datasets\n",
      "from sklearn.grid_search import ParameterGrid, GridSearchCV\n",
      "from sklearn.base import BaseEstimator, clone \n",
      "from sklearn.cross_validation import KFold\n",
      "from sklearn.svm import SVC\n",
      "import os\n",
      "import math\n",
      "import numpy as np\n",
      "import sklearn.metrics\n",
      "from multiprocessing import Pool\n",
      "from functools import partial\n",
      "\n",
      "import sklearn\n",
      "from sklearn.preprocessing import MinMaxScaler, LabelBinarizer\n",
      "from sklearn.metrics import accuracy_score\n",
      "from sklearn.cross_validation import KFold\n",
      "from sklearn.preprocessing import MinMaxScaler\n",
      "\n",
      "from data_api import *\n",
      "from fit_models import k_fold\n",
      "from r2 import *\n",
      "\n",
      "\n",
      "\n",
      "%matplotlib inline"
     ],
     "language": "python",
     "metadata": {},
     "outputs": [
      {
       "output_type": "stream",
       "stream": "stdout",
       "text": [
        "The autoreload extension is already loaded. To reload it, use:\n",
        "  %reload_ext autoreload\n"
       ]
      }
     ],
     "prompt_number": 14
    },
    {
     "cell_type": "code",
     "collapsed": false,
     "input": [
      "X_moon, Y_moon = sklearn.datasets.make_moons(n_samples=1000, noise=0.04)\n",
      "X_spiral, Y_spiral = np.loadtxt(\"../../data/two_spirals.x\", skiprows=1), np.loadtxt(\"../../data/two_spirals.y\", skiprows=1)"
     ],
     "language": "python",
     "metadata": {},
     "outputs": [],
     "prompt_number": 3
    },
    {
     "cell_type": "code",
     "collapsed": false,
     "input": [
      "model_1 = R2SVMLearner()\n",
      "model_2 = R2SVMLearner()"
     ],
     "language": "python",
     "metadata": {},
     "outputs": [],
     "prompt_number": 4
    },
    {
     "cell_type": "code",
     "collapsed": false,
     "input": [
      "data = fetch_uci_datasets([\"iris\"])[0]\n"
     ],
     "language": "python",
     "metadata": {},
     "outputs": [],
     "prompt_number": 5
    },
    {
     "cell_type": "code",
     "collapsed": false,
     "input": [
      "moon = Bunch(n_dim=2, name=\"moon\", n_class=2, target_names=[\"0\",\"1\"], feature_names=[\"x\",\"y\"], data=X_moon, target=Y_moon)"
     ],
     "language": "python",
     "metadata": {},
     "outputs": [],
     "prompt_number": 11
    },
    {
     "cell_type": "code",
     "collapsed": false,
     "input": [
      "spiral = Bunch(n_dim=2, name=\"spiral\", n_class=2, target_names=[\"0\",\"1\"], feature_names=[\"x\",\"y\"], data=X_spiral, target=Y_spiral)"
     ],
     "language": "python",
     "metadata": {},
     "outputs": [],
     "prompt_number": 10
    },
    {
     "cell_type": "code",
     "collapsed": false,
     "input": [
      "data.keys()"
     ],
     "language": "python",
     "metadata": {},
     "outputs": [
      {
       "metadata": {},
       "output_type": "pyout",
       "prompt_number": 7,
       "text": [
        "['n_dim',\n",
        " 'name',\n",
        " 'DESCR',\n",
        " 'n_class',\n",
        " 'target_names',\n",
        " 'feature_names',\n",
        " 'data',\n",
        " 'target']"
       ]
      }
     ],
     "prompt_number": 7
    },
    {
     "cell_type": "code",
     "collapsed": false,
     "input": [
      "from IPython.parallel import Client\n",
      "c = Client()\n",
      "c.ids"
     ],
     "language": "python",
     "metadata": {},
     "outputs": [
      {
       "metadata": {},
       "output_type": "pyout",
       "prompt_number": 16,
       "text": [
        "[0, 1, 2, 3]"
       ]
      }
     ],
     "prompt_number": 16
    },
    {
     "cell_type": "code",
     "collapsed": false,
     "input": [
      "params = {'C': [np.exp(i) for i in xrange(-2, 6)],\n",
      "          'beta': [0.1, 0.5, 1.0, 1.5, 2.0],\n",
      "          'fit_c': ['random'],              # SINGLE\n",
      "          'activation': ['sigmoid'],        # SINGLE\n",
      "          'scale': [True, False],\n",
      "          'recurrent': [True, False],\n",
      "          'use_prev': [True, False],\n",
      "          'seed': [666]}                    # SINGLE\n",
      "\n",
      "\n",
      "model = R2SVMLearner()\n",
      "param_list = ParameterGrid(params)\n",
      "exp_name = 'test'\n",
      "\n",
      "def gen_params():\n",
      "    for i, param in enumerate(param_list):\n",
      "        yield {'model': model, 'params': param, 'data': data, 'name': exp_name}\n",
      "\n",
      "params = list(gen_params())\n",
      "\n",
      "def run(p):\n",
      "    k_fold(base_model=p['model'], params=p['params'], data=p['data'], exp_name=p['name'])\n",
      "\n",
      "p = Pool(n_jobs)\n",
      "rs = p.map_async(run, params)\n",
      "while True :\n",
      "    if (rs.ready()): break\n",
      "    remaining = rs._number_left\n",
      "    print \"Waiting for\", remaining, \"tasks to complete on\", data.name\n",
      "    time.sleep(10)\n"
     ],
     "language": "python",
     "metadata": {},
     "outputs": []
    }
   ],
   "metadata": {}
  }
 ]
}