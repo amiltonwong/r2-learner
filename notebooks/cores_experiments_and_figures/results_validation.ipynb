{
 "metadata": {
  "name": "",
  "signature": "sha256:28119c83c4949218abe6103026749f49e7e3afd07642ca0c70560a1ceaefe2ee"
 },
 "nbformat": 3,
 "nbformat_minor": 0,
 "worksheets": [
  {
   "cells": [
    {
     "cell_type": "markdown",
     "metadata": {},
     "source": [
      "# Validating if our results are sensible"
     ]
    },
    {
     "cell_type": "code",
     "collapsed": false,
     "input": [
      "%load_ext autoreload\n",
      "%autoreload 2\n",
      "import sys, os\n",
      "sys.path.append('../..')\n",
      "\n",
      "%matplotlib inline\n",
      "import matplotlib.pylab as plt\n",
      "\n",
      "from misc.config import c\n",
      "from data_api import *\n",
      "import cPickle\n",
      "import pandas as pd\n",
      "from data_api import *\n",
      "results_dir = c['RESULTS_DIR']"
     ],
     "language": "python",
     "metadata": {},
     "outputs": [],
     "prompt_number": 2
    },
    {
     "cell_type": "code",
     "collapsed": false,
     "input": [
      "all_results = {}\n",
      "\n",
      "datasets = ['fourclass']\n",
      "models = ['test_random']\n",
      "\n",
      "paths = [ os.path.join(results_dir, model + '_' + dataset) for model in models for dataset in datasets ]"
     ],
     "language": "python",
     "metadata": {},
     "outputs": [],
     "prompt_number": 3
    },
    {
     "cell_type": "code",
     "collapsed": false,
     "input": [
      "csv_results = {}\n",
      "csv_dir = os.path.join(results_dir, 'csv')\n",
      "\n",
      "for csv_file in os.listdir(csv_dir):\n",
      "    print csv_file\n",
      "    csv_results[csv_file] = pd.DataFrame.from_csv(os.path.join(csv_dir, csv_file))"
     ],
     "language": "python",
     "metadata": {},
     "outputs": [
      {
       "output_type": "stream",
       "stream": "stdout",
       "text": [
        "test_svm_liver\n",
        "fixed_r2svm_heart\n",
        "fixed_r2svm_sonar\n",
        "test_elm_bank\n",
        "test_svm_sonar\n",
        "test_linear_svm_segment\n",
        "test_elm_diabetes\n",
        "random_r2svm_fourclass\n",
        "test_elm_wine"
       ]
      },
      {
       "output_type": "stream",
       "stream": "stdout",
       "text": [
        "\n",
        "test_svm_segment\n",
        "test_svm_german\n",
        "fixed_r2svm_wine\n",
        "test_linear_svm_iris\n",
        "test_elm_splice\n",
        "test_elm_iris\n",
        "test_svm_satimage\n",
        "fixed_r2svm_pendigits\n",
        "test_linear_svm_breast_cancer"
       ]
      },
      {
       "output_type": "stream",
       "stream": "stdout",
       "text": [
        "\n",
        "fixed_r2svm_german\n",
        "test_svm_indian\n",
        "test_linear_svm_liver\n",
        "test_linear_svm_splice\n",
        "random_r2svm_australian\n",
        "fixed_r2svm_australian\n",
        "test_linear_svm_bank"
       ]
      },
      {
       "output_type": "stream",
       "stream": "stdout",
       "text": [
        "\n",
        "test_elm_segment\n",
        "fixed_r2svm_liver\n",
        "test_linear_svm_satimage\n",
        "random_r2svm_liver\n",
        "random_r2svm_iris\n",
        "fixed_r2svm_crashes\n",
        "test_linear_svm_australian"
       ]
      },
      {
       "output_type": "stream",
       "stream": "stdout",
       "text": [
        "\n",
        "unit_test_r2svm_indian\n",
        "fixed_r2svm_segment\n",
        "test_linear_svm_indian\n",
        "fixed_r2svm_indian\n",
        "test_linear_svm_wine"
       ]
      },
      {
       "output_type": "stream",
       "stream": "stdout",
       "text": [
        "\n",
        "random_r2svm_german\n",
        "test_elm_fourclass\n",
        "random_r2svm_heart\n",
        "test_linear_svm_crashes\n",
        "test_svm_bank\n",
        "fixed_r2svm_glass\n",
        "unit_test_r2svm_diabetes\n",
        "test_elm_breast_cancer"
       ]
      },
      {
       "output_type": "stream",
       "stream": "stdout",
       "text": [
        "\n",
        "random_r2svm_segment\n",
        "random_r2svm_diabetes\n",
        "random_r2svm_wine\n",
        "test_svm_wine\n",
        "random_r2svm_splice\n",
        "test_svm_heart\n",
        "test_linear_svm_heart"
       ]
      },
      {
       "output_type": "stream",
       "stream": "stdout",
       "text": [
        "\n",
        "test_svm_australian\n",
        "test_elm_glass\n",
        "test_elm_heart\n",
        "test_linear_svm_fourclass\n",
        "random_r2svm_pendigits\n",
        "test_linear_svm_ionosphere\n",
        "fixed_r2svm_iris\n",
        "test_svm_splice\n",
        "test_svm_ionosphere\n",
        "test_elm_australian\n",
        "test_elm_ionosphere"
       ]
      },
      {
       "output_type": "stream",
       "stream": "stdout",
       "text": [
        "\n",
        "fixed_r2svm_bank\n",
        "test_linear_svm_diabetes\n",
        "test_elm_liver\n",
        "test_linear_svm_german\n",
        "test_svm_iris\n",
        "test_elm_crashes\n",
        "test_svm_fourclass\n",
        "fixed_r2svm_diabetes\n",
        "test_svm_breast_cancer"
       ]
      },
      {
       "output_type": "stream",
       "stream": "stdout",
       "text": [
        "\n",
        "test_svm_crashes\n",
        "fixed_r2svm_satimage\n",
        "test_elm_indian\n",
        "test_elm_sonar\n",
        "fixed_r2svm_fourclass\n",
        "random_r2svm_glass\n",
        "random_r2svm_indian"
       ]
      },
      {
       "output_type": "stream",
       "stream": "stdout",
       "text": [
        "\n",
        "random_r2svm_crashes\n",
        "fixed_r2svm_breast_cancer\n",
        "random_r2svm_bank\n",
        "test_svm_glass\n",
        "test_svm_diabetes"
       ]
      },
      {
       "output_type": "stream",
       "stream": "stdout",
       "text": [
        "\n",
        "test_linear_svm_sonar\n",
        "random_r2svm_breast_cancer\n",
        "fixed_r2svm_ionosphere\n",
        "random_r2svm_sonar\n",
        "test_elm_german\n",
        "fixed_r2svm_splice\n",
        "test_linear_svm_glass"
       ]
      },
      {
       "output_type": "stream",
       "stream": "stdout",
       "text": [
        "\n",
        "random_r2svm_satimage\n",
        "random_r2svm_ionosphere\n"
       ]
      }
     ],
     "prompt_number": 4
    },
    {
     "cell_type": "code",
     "collapsed": false,
     "input": [
      "f = csv_results['random_r2svm_segment']"
     ],
     "language": "python",
     "metadata": {},
     "outputs": [],
     "prompt_number": 18
    },
    {
     "cell_type": "code",
     "collapsed": false,
     "input": [
      "len(V == 0.6438567)"
     ],
     "language": "python",
     "metadata": {},
     "outputs": [
      {
       "metadata": {},
       "output_type": "pyout",
       "prompt_number": 74,
       "text": [
        "189"
       ]
      }
     ],
     "prompt_number": 74
    },
    {
     "cell_type": "code",
     "collapsed": false,
     "input": [
      "C[0:21]"
     ],
     "language": "python",
     "metadata": {},
     "outputs": [
      {
       "metadata": {},
       "output_type": "pyout",
       "prompt_number": 75,
       "text": [
        "array([ 0.13533528,  0.13533528,  0.13533528,  0.13533528,  0.13533528,\n",
        "        0.13533528,  0.13533528,  0.13533528,  0.13533528,  0.13533528,\n",
        "        0.13533528,  0.13533528,  0.13533528,  0.13533528,  0.13533528,\n",
        "        0.13533528,  0.13533528,  0.13533528,  0.13533528,  0.13533528,\n",
        "        0.13533528])"
       ]
      }
     ],
     "prompt_number": 75
    },
    {
     "cell_type": "code",
     "collapsed": false,
     "input": [
      "f.iloc[1*21+3]"
     ],
     "language": "python",
     "metadata": {},
     "outputs": [
      {
       "metadata": {},
       "output_type": "pyout",
       "prompt_number": 68,
       "text": [
        "C                                                     0.3678794\n",
        "acc_fold      [ 0.6416185   0.6416185   0.64534884  0.645348...\n",
        "clf                                                          []\n",
        "data_name                                             fourclass\n",
        "gamma                                               0.002478752\n",
        "kernel                                                      rbf\n",
        "mean_acc                                              0.6438567\n",
        "n_class                                                       2\n",
        "n_dim                                                         2\n",
        "std                                                 0.001827486\n",
        "test_time     [0.0036678314208984375, 0.0037109851837158203,...\n",
        "train_time    [0.02165389060974121, 0.021739959716796875, 0....\n",
        "Name: test_svc_fourclass_C0.367879441171_g0.00247875217667_, dtype: object"
       ]
      }
     ],
     "prompt_number": 68
    },
    {
     "cell_type": "code",
     "collapsed": false,
     "input": [
      "a = f[f['mean_acc'] == max(f['mean_acc'])]"
     ],
     "language": "python",
     "metadata": {},
     "outputs": [],
     "prompt_number": 20
    },
    {
     "cell_type": "code",
     "collapsed": false,
     "input": [
      "a"
     ],
     "language": "python",
     "metadata": {},
     "outputs": [
      {
       "html": [
        "<div style=\"max-height:1000px;max-width:1500px;overflow:auto;\">\n",
        "<table border=\"1\" class=\"dataframe\">\n",
        "  <thead>\n",
        "    <tr style=\"text-align: right;\">\n",
        "      <th></th>\n",
        "      <th>acc_fold</th>\n",
        "      <th>best_depth</th>\n",
        "      <th>beta</th>\n",
        "      <th>clf</th>\n",
        "      <th>data_name</th>\n",
        "      <th>depth</th>\n",
        "      <th>fit_c</th>\n",
        "      <th>mean_acc</th>\n",
        "      <th>n_class</th>\n",
        "      <th>n_dim</th>\n",
        "      <th>recurrent</th>\n",
        "      <th>scale</th>\n",
        "      <th>seed</th>\n",
        "      <th>std</th>\n",
        "      <th>test_time</th>\n",
        "      <th>train_time</th>\n",
        "      <th>use_prev</th>\n",
        "    </tr>\n",
        "  </thead>\n",
        "  <tbody>\n",
        "    <tr>\n",
        "      <th>random_r2svm_segment_uT_rF_b0.10_d4_sT_fra_</th>\n",
        "      <td> [[ 0.93939394  0.92857143  0.93290043]\\n [ 0.9...</td>\n",
        "      <td> [4, 4, 4, 4, 4]</td>\n",
        "      <td> 0.1</td>\n",
        "      <td> []</td>\n",
        "      <td> segment</td>\n",
        "      <td> 4</td>\n",
        "      <td> random_cls</td>\n",
        "      <td> 0.917172</td>\n",
        "      <td> 7</td>\n",
        "      <td> 19</td>\n",
        "      <td> False</td>\n",
        "      <td> True</td>\n",
        "      <td> 666</td>\n",
        "      <td> 0.010908</td>\n",
        "      <td> [[0.001834869384765625, 0.00177001953125, 0.00...</td>\n",
        "      <td> [[0.03561592102050781, 0.0375211238861084, 0.0...</td>\n",
        "      <td> True</td>\n",
        "    </tr>\n",
        "  </tbody>\n",
        "</table>\n",
        "</div>"
       ],
       "metadata": {},
       "output_type": "pyout",
       "prompt_number": 24,
       "text": [
        "                                                                                      acc_fold  \\\n",
        "random_r2svm_segment_uT_rF_b0.10_d4_sT_fra_  [[ 0.93939394  0.92857143  0.93290043]\\n [ 0.9...   \n",
        "\n",
        "                                                  best_depth  beta clf  \\\n",
        "random_r2svm_segment_uT_rF_b0.10_d4_sT_fra_  [4, 4, 4, 4, 4]   0.1  []   \n",
        "\n",
        "                                            data_name  depth       fit_c  \\\n",
        "random_r2svm_segment_uT_rF_b0.10_d4_sT_fra_   segment      4  random_cls   \n",
        "\n",
        "                                             mean_acc  n_class  n_dim  \\\n",
        "random_r2svm_segment_uT_rF_b0.10_d4_sT_fra_  0.917172        7     19   \n",
        "\n",
        "                                            recurrent scale  seed       std  \\\n",
        "random_r2svm_segment_uT_rF_b0.10_d4_sT_fra_     False  True   666  0.010908   \n",
        "\n",
        "                                                                                     test_time  \\\n",
        "random_r2svm_segment_uT_rF_b0.10_d4_sT_fra_  [[0.001834869384765625, 0.00177001953125, 0.00...   \n",
        "\n",
        "                                                                                    train_time  \\\n",
        "random_r2svm_segment_uT_rF_b0.10_d4_sT_fra_  [[0.03561592102050781, 0.0375211238861084, 0.0...   \n",
        "\n",
        "                                            use_prev  \n",
        "random_r2svm_segment_uT_rF_b0.10_d4_sT_fra_     True  "
       ]
      }
     ],
     "prompt_number": 24
    },
    {
     "cell_type": "code",
     "collapsed": false,
     "input": [
      "C = f['C'].values"
     ],
     "language": "python",
     "metadata": {},
     "outputs": [],
     "prompt_number": 76
    },
    {
     "cell_type": "code",
     "collapsed": false,
     "input": [
      "V = f['mean_acc'].values"
     ],
     "language": "python",
     "metadata": {},
     "outputs": [],
     "prompt_number": 77
    },
    {
     "cell_type": "code",
     "collapsed": false,
     "input": [
      "G = f['gamma'].values"
     ],
     "language": "python",
     "metadata": {},
     "outputs": [],
     "prompt_number": 78
    },
    {
     "cell_type": "code",
     "collapsed": false,
     "input": [
      "g = set(G)"
     ],
     "language": "python",
     "metadata": {},
     "outputs": [],
     "prompt_number": 79
    },
    {
     "cell_type": "code",
     "collapsed": false,
     "input": [
      "c = set(C)"
     ],
     "language": "python",
     "metadata": {},
     "outputs": [],
     "prompt_number": 80
    },
    {
     "cell_type": "code",
     "collapsed": false,
     "input": [
      "len(g)"
     ],
     "language": "python",
     "metadata": {},
     "outputs": [
      {
       "metadata": {},
       "output_type": "pyout",
       "prompt_number": 81,
       "text": [
        "21"
       ]
      }
     ],
     "prompt_number": 81
    },
    {
     "cell_type": "code",
     "collapsed": false,
     "input": [
      "len(c)"
     ],
     "language": "python",
     "metadata": {},
     "outputs": [
      {
       "metadata": {},
       "output_type": "pyout",
       "prompt_number": 82,
       "text": [
        "14"
       ]
      }
     ],
     "prompt_number": 82
    },
    {
     "cell_type": "code",
     "collapsed": false,
     "input": [
      "C[0], C[20]"
     ],
     "language": "python",
     "metadata": {},
     "outputs": [
      {
       "metadata": {},
       "output_type": "pyout",
       "prompt_number": 38,
       "text": [
        "(0.1353352832366127, 0.1353352832366127)"
       ]
      }
     ],
     "prompt_number": 38
    },
    {
     "cell_type": "code",
     "collapsed": false,
     "input": [
      "V[4*21 + 1]"
     ],
     "language": "python",
     "metadata": {},
     "outputs": [
      {
       "metadata": {},
       "output_type": "pyout",
       "prompt_number": 49,
       "text": [
        "0.64385670116951199"
       ]
      }
     ],
     "prompt_number": 49
    },
    {
     "cell_type": "code",
     "collapsed": false,
     "input": [
      "set(C)"
     ],
     "language": "python",
     "metadata": {},
     "outputs": [
      {
       "metadata": {},
       "output_type": "pyout",
       "prompt_number": 45,
       "text": [
        "{0.1353352832366127,\n",
        " 0.36787944117144228,\n",
        " 1.0,\n",
        " 2.7182818284590446,\n",
        " 7.3890560989306495,\n",
        " 20.085536923187668,\n",
        " 54.598150033144243,\n",
        " 148.4131591025766,\n",
        " 403.42879349273511}"
       ]
      }
     ],
     "prompt_number": 45
    },
    {
     "cell_type": "code",
     "collapsed": false,
     "input": [
      "set(G)"
     ],
     "language": "python",
     "metadata": {},
     "outputs": [
      {
       "metadata": {},
       "output_type": "pyout",
       "prompt_number": 48,
       "text": [
        "{4.5399929762484854e-05,\n",
        " 0.00012340980408667956,\n",
        " 0.0003354626279025118,\n",
        " 0.00091188196555451624,\n",
        " 0.0024787521766663585,\n",
        " 0.006737946999085467,\n",
        " 0.018315638888734175,\n",
        " 0.049787068367863938,\n",
        " 0.1353352832366127,\n",
        " 0.36787944117144228,\n",
        " 1.0,\n",
        " 2.7182818284590446,\n",
        " 7.3890560989306495,\n",
        " 20.085536923187668,\n",
        " 54.598150033144243,\n",
        " 148.4131591025766,\n",
        " 403.42879349273511,\n",
        " 1096.6331584284585,\n",
        " 2980.9579870417283,\n",
        " 8103.0839275753842,\n",
        " 22026.465794806718}"
       ]
      }
     ],
     "prompt_number": 48
    },
    {
     "cell_type": "code",
     "collapsed": false,
     "input": [
      "plt.figure(figsize=(8, 6))\n",
      "plt.imshow(V.reshape(14,21), interpolation='nearest', cmap=plt.cm.spectral)\n",
      "plt.colorbar()\n",
      "plt.show()"
     ],
     "language": "python",
     "metadata": {},
     "outputs": [
      {
       "metadata": {},
       "output_type": "display_data",
       "png": "[encoded data removed]",
       "text": [
        "<matplotlib.figure.Figure at 0x7f1dfe801850>"
       ]
      }
     ],
     "prompt_number": 83
    },
    {
     "cell_type": "code",
     "collapsed": false,
     "input": [
      "f.loc[']"
     ],
     "language": "python",
     "metadata": {},
     "outputs": []
    },
    {
     "cell_type": "code",
     "collapsed": false,
     "input": [
      "best_std = {model: {} for model in models}\n",
      "for model in models:\n",
      "    for data in datasets:\n",
      "        if model + '_' + data in results_pd.keys():\n",
      "            df = results_pd[model + '_' + data]\n",
      "            scores = df.loc[df['mean_acc'].idxmax(),'acc_fold']\n",
      "            best_std[model][data] =  np.mean([np.std(fold_scores) for fold_scores in scores]) * 100 "
     ],
     "language": "python",
     "metadata": {},
     "outputs": [
      {
       "ename": "NameError",
       "evalue": "name 'results_pd' is not defined",
       "output_type": "pyerr",
       "traceback": [
        "\u001b[1;31m---------------------------------------------------------------------------\u001b[0m\n\u001b[1;31mNameError\u001b[0m                                 Traceback (most recent call last)",
        "\u001b[1;32m<ipython-input-4-f4b36cc6bb2e>\u001b[0m in \u001b[0;36m<module>\u001b[1;34m()\u001b[0m\n\u001b[0;32m      2\u001b[0m \u001b[1;32mfor\u001b[0m \u001b[0mmodel\u001b[0m \u001b[1;32min\u001b[0m \u001b[0mmodels\u001b[0m\u001b[1;33m:\u001b[0m\u001b[1;33m\u001b[0m\u001b[0m\n\u001b[0;32m      3\u001b[0m     \u001b[1;32mfor\u001b[0m \u001b[0mdata\u001b[0m \u001b[1;32min\u001b[0m \u001b[0mdatasets\u001b[0m\u001b[1;33m:\u001b[0m\u001b[1;33m\u001b[0m\u001b[0m\n\u001b[1;32m----> 4\u001b[1;33m         \u001b[1;32mif\u001b[0m \u001b[0mmodel\u001b[0m \u001b[1;33m+\u001b[0m \u001b[1;34m'_'\u001b[0m \u001b[1;33m+\u001b[0m \u001b[0mdata\u001b[0m \u001b[1;32min\u001b[0m \u001b[0mresults_pd\u001b[0m\u001b[1;33m.\u001b[0m\u001b[0mkeys\u001b[0m\u001b[1;33m(\u001b[0m\u001b[1;33m)\u001b[0m\u001b[1;33m:\u001b[0m\u001b[1;33m\u001b[0m\u001b[0m\n\u001b[0m\u001b[0;32m      5\u001b[0m             \u001b[0mdf\u001b[0m \u001b[1;33m=\u001b[0m \u001b[0mresults_pd\u001b[0m\u001b[1;33m[\u001b[0m\u001b[0mmodel\u001b[0m \u001b[1;33m+\u001b[0m \u001b[1;34m'_'\u001b[0m \u001b[1;33m+\u001b[0m \u001b[0mdata\u001b[0m\u001b[1;33m]\u001b[0m\u001b[1;33m\u001b[0m\u001b[0m\n\u001b[0;32m      6\u001b[0m             \u001b[0mscores\u001b[0m \u001b[1;33m=\u001b[0m \u001b[0mdf\u001b[0m\u001b[1;33m.\u001b[0m\u001b[0mloc\u001b[0m\u001b[1;33m[\u001b[0m\u001b[0mdf\u001b[0m\u001b[1;33m[\u001b[0m\u001b[1;34m'mean_acc'\u001b[0m\u001b[1;33m]\u001b[0m\u001b[1;33m.\u001b[0m\u001b[0midxmax\u001b[0m\u001b[1;33m(\u001b[0m\u001b[1;33m)\u001b[0m\u001b[1;33m,\u001b[0m\u001b[1;34m'acc_fold'\u001b[0m\u001b[1;33m]\u001b[0m\u001b[1;33m\u001b[0m\u001b[0m\n",
        "\u001b[1;31mNameError\u001b[0m: name 'results_pd' is not defined"
       ]
      }
     ],
     "prompt_number": 4
    },
    {
     "cell_type": "code",
     "collapsed": false,
     "input": [
      "print \"Best std\"\n",
      "pd.DataFrame.from_dict(best_std) "
     ],
     "language": "python",
     "metadata": {},
     "outputs": [
      {
       "output_type": "stream",
       "stream": "stdout",
       "text": [
        "Best std\n"
       ]
      },
      {
       "html": [
        "<div style=\"max-height:1000px;max-width:1500px;overflow:auto;\">\n",
        "<table border=\"1\" class=\"dataframe\">\n",
        "  <thead>\n",
        "    <tr style=\"text-align: right;\">\n",
        "      <th></th>\n",
        "      <th>test_svc</th>\n",
        "    </tr>\n",
        "  </thead>\n",
        "  <tbody>\n",
        "  </tbody>\n",
        "</table>\n",
        "</div>"
       ],
       "metadata": {},
       "output_type": "pyout",
       "prompt_number": 5,
       "text": [
        "Empty DataFrame\n",
        "Columns: [test_svc]\n",
        "Index: []"
       ]
      }
     ],
     "prompt_number": 5
    }
   ],
   "metadata": {}
  }
 ]
}