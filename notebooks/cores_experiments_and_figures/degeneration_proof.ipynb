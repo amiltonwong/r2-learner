{
 "metadata": {
  "name": "",
  "signature": "sha256:5bc8b71b559117c0a48fb88c6f8f72d86cb1c51d99c724473b44a38e6c4acf3b"
 },
 "nbformat": 3,
 "nbformat_minor": 0,
 "worksheets": [
  {
   "cells": [
    {
     "cell_type": "markdown",
     "metadata": {},
     "source": [
      "# This notebook contains proof that hyperplanes, in essence, are not important. \n",
      "\n",
      "(What is important (in an unclear way) is their intersection, so this proof is relevant for K>2)"
     ]
    },
    {
     "cell_type": "markdown",
     "metadata": {},
     "source": [
      "#1 Notation and basic analysis\n",
      "\n",
      "$K$ - number of classes, $D$ - number of dimensions. Define $\\{w_i\\}_{i=1,\\ldots,K}$ - K random vectors,\n",
      "$\\{v_i\\}_{i=1,\\ldots,K}$ - K normal vectors defining hyperplanes of the multiclass classifier.\n",
      "\n",
      "I will focus on the displacement applied to the vector\n",
      "\n",
      "$$ T(x) = \\sum_{i=1}^{K} \\langle x, v_i \\rangle w_i $$\n",
      "\n",
      "Rewriting it a little bit we can see it is just **affine transformation**\n",
      "\n",
      "$$ T(x) = x(\\sum_{i=1}^{K} v_i w_i^T) = xA $$\n",
      "\n",
      "To gain some intuition about this affine transformation note that it has well defined kernel\n",
      "\n",
      "$$ ker(T) = \\{x: \\langle x, v_i \\rangle = 0 \\,\\, i=1, \\ldots, K\\} $$,\n",
      "\n",
      "and $dim(ker(T)) = D-K$ assuming all normal vectors are linearly independent. $ker(T)$ is just interesection of all the hyperplanes."
     ]
    },
    {
     "cell_type": "markdown",
     "metadata": {},
     "source": [
      "## 2. Define helper functions"
     ]
    },
    {
     "cell_type": "code",
     "collapsed": false,
     "input": [
      "import numpy as np\n",
      "import matplotlib.pylab as plt \n",
      "%matplotlib inline\n",
      "from sympy import Matrix"
     ],
     "language": "python",
     "metadata": {},
     "outputs": [],
     "prompt_number": 1
    },
    {
     "cell_type": "code",
     "collapsed": false,
     "input": [
      "def create_random_vectors(K, D, norm=True):\n",
      "    \"\"\"\n",
      "    Creates K (# of classes) random D-dim vectors\n",
      "    \"\"\"\n",
      "    def make_rand_vector(dims, norm=True):                                                      \n",
      "        vec = [np.random.normal(0, 1) for i in range(dims)]                          \n",
      "        if norm:\n",
      "            mag = sum(x**2 for x in vec) ** .5 \n",
      "        else:\n",
      "            mag = 1\n",
      "\n",
      "        return np.array([[x/mag for x in vec]]) \n",
      "    return [make_rand_vector(D, norm=norm) for _ in xrange(K)]"
     ],
     "language": "python",
     "metadata": {},
     "outputs": [],
     "prompt_number": 2
    },
    {
     "cell_type": "code",
     "collapsed": false,
     "input": [
      "def calculate_transformation(v, w, x):\n",
      "    \"\"\"\n",
      "    Exectus model.\n",
      "    @param w - random vectors\n",
      "    @param v - hyperplanes\n",
      "    @param x - transformed point\n",
      "    \"\"\"\n",
      "    assert(len(v) == len(w))\n",
      "    # A is our transformation matrix\n",
      "    A = sum(v[i].reshape(-1,1).dot(w[i].reshape(1,-1)) for i in range(K))\n",
      "    return x.reshape(1,-1).dot(A)"
     ],
     "language": "python",
     "metadata": {},
     "outputs": [],
     "prompt_number": 3
    },
    {
     "cell_type": "markdown",
     "metadata": {},
     "source": [
      "# 3. Theorem. What happens when we rotate hyperplanes?\n",
      "\n",
      "There are many ways to show that hyperplanes are not important. One way to go about this is showing that given ($V$, $W$) (sets of normals and random vectors) any rotation around some axis\n",
      "applied to the normal vectors $V$ is equivalent to changing $W$. \n",
      "\n",
      "Why is that equivalent to the hypothesis? For instance if we have the optimal layer transformation $V^*$ and $W^*$ we can show that there is equivalent pair $RV^*, W'$. So we can start from the \"bad\", or \"random\" $RV^*$ and still find the best projection. Because of that we can start from an infinite number of different hyperplanes.\n",
      "\n",
      "## **Theorem**:\n",
      "\n",
      "**Theorem**. Given ($V$, $W$), there exists and axis that for each rotation $R$ around this axis if we create $V'= \\{ Rv_i , v_i \\in V\\}$ then model defined  by ($V'$, $W$) is equivalent to ($V$, $W'$) for some $W'$."
     ]
    },
    {
     "cell_type": "markdown",
     "metadata": {},
     "source": [
      "# 4. Empirical proof (theoretical follows in section 5)\n",
      "## 4.1 Create random (V,W) model"
     ]
    },
    {
     "cell_type": "code",
     "collapsed": false,
     "input": [
      "print V.shape\n",
      "print b.shape"
     ],
     "language": "python",
     "metadata": {},
     "outputs": [
      {
       "output_type": "stream",
       "stream": "stdout",
       "text": [
        "(8, 30)\n",
        "(30, 1)\n"
       ]
      }
     ],
     "prompt_number": 23
    },
    {
     "cell_type": "code",
     "collapsed": false,
     "input": [
      "import scipy\n",
      "import scipy.linalg"
     ],
     "language": "python",
     "metadata": {},
     "outputs": [],
     "prompt_number": 56
    },
    {
     "cell_type": "code",
     "collapsed": false,
     "input": [
      "K = 5\n",
      "D = 30\n",
      "v = create_random_vectors(K, D, norm=True)\n",
      "V = np.vstack(v)\n",
      "b = np.random.normal(size=(K, 1))\n",
      "sol = scipy.linalg.lstsq(V, -b)"
     ],
     "language": "python",
     "metadata": {},
     "outputs": [],
     "prompt_number": 79
    },
    {
     "cell_type": "code",
     "collapsed": false,
     "input": [
      "print sum( np.inner(v[i], sol[0].reshape(-1)) + b[i] for i in range(K))"
     ],
     "language": "python",
     "metadata": {},
     "outputs": [
      {
       "output_type": "stream",
       "stream": "stdout",
       "text": [
        "[ -1.11022302e-15]\n"
       ]
      }
     ],
     "prompt_number": 83
    },
    {
     "cell_type": "code",
     "collapsed": false,
     "input": [
      "np.inner(v[0], sol[0].reshape(-1))"
     ],
     "language": "python",
     "metadata": {},
     "outputs": [
      {
       "metadata": {},
       "output_type": "pyout",
       "prompt_number": 42,
       "text": [
        "array([ 0.2293337])"
       ]
      }
     ],
     "prompt_number": 42
    },
    {
     "cell_type": "code",
     "collapsed": false,
     "input": [
      "help(np.linalg.lstsq)"
     ],
     "language": "python",
     "metadata": {},
     "outputs": [
      {
       "output_type": "stream",
       "stream": "stdout",
       "text": [
        "Help on function lstsq in module numpy.linalg.linalg:\n",
        "\n",
        "lstsq(a, b, rcond=-1)\n",
        "    Return the least-squares solution to a linear matrix equation.\n",
        "    \n",
        "    Solves the equation `a x = b` by computing a vector `x` that\n",
        "    minimizes the Euclidean 2-norm `|| b - a x ||^2`.  The equation may\n",
        "    be under-, well-, or over- determined (i.e., the number of\n",
        "    linearly independent rows of `a` can be less than, equal to, or\n",
        "    greater than its number of linearly independent columns).  If `a`\n",
        "    is square and of full rank, then `x` (but for round-off error) is\n",
        "    the \"exact\" solution of the equation.\n",
        "    \n",
        "    Parameters\n",
        "    ----------\n",
        "    a : (M, N) array_like\n",
        "        \"Coefficient\" matrix.\n",
        "    b : {(M,), (M, K)} array_like\n",
        "        Ordinate or \"dependent variable\" values. If `b` is two-dimensional,\n",
        "        the least-squares solution is calculated for each of the `K` columns\n",
        "        of `b`.\n",
        "    rcond : float, optional\n",
        "        Cut-off ratio for small singular values of `a`.\n",
        "        Singular values are set to zero if they are smaller than `rcond`\n",
        "        times the largest singular value of `a`.\n",
        "    \n",
        "    Returns\n",
        "    -------\n",
        "    x : {(N,), (N, K)} ndarray\n",
        "        Least-squares solution. If `b` is two-dimensional,\n",
        "        the solutions are in the `K` columns of `x`.\n",
        "    residuals : {(), (1,), (K,)} ndarray\n",
        "        Sums of residuals; squared Euclidean 2-norm for each column in\n",
        "        ``b - a*x``.\n",
        "        If the rank of `a` is < N or M <= N, this is an empty array.\n",
        "        If `b` is 1-dimensional, this is a (1,) shape array.\n",
        "        Otherwise the shape is (K,).\n",
        "    rank : int\n",
        "        Rank of matrix `a`.\n",
        "    s : (min(M, N),) ndarray\n",
        "        Singular values of `a`.\n",
        "    \n",
        "    Raises\n",
        "    ------\n",
        "    LinAlgError\n",
        "        If computation does not converge.\n",
        "    \n",
        "    Notes\n",
        "    -----\n",
        "    If `b` is a matrix, then all array results are returned as matrices.\n",
        "    \n",
        "    Examples\n",
        "    --------\n",
        "    Fit a line, ``y = mx + c``, through some noisy data-points:\n",
        "    \n",
        "    >>> x = np.array([0, 1, 2, 3])\n",
        "    >>> y = np.array([-1, 0.2, 0.9, 2.1])\n",
        "    \n",
        "    By examining the coefficients, we see that the line should have a\n",
        "    gradient of roughly 1 and cut the y-axis at, more or less, -1.\n",
        "    \n",
        "    We can rewrite the line equation as ``y = Ap``, where ``A = [[x 1]]``\n",
        "    and ``p = [[m], [c]]``.  Now use `lstsq` to solve for `p`:\n",
        "    \n",
        "    >>> A = np.vstack([x, np.ones(len(x))]).T\n",
        "    >>> A\n",
        "    array([[ 0.,  1.],\n",
        "           [ 1.,  1.],\n",
        "           [ 2.,  1.],\n",
        "           [ 3.,  1.]])\n",
        "    \n",
        "    >>> m, c = np.linalg.lstsq(A, y)[0]\n",
        "    >>> print m, c\n",
        "    1.0 -0.95\n",
        "    \n",
        "    Plot the data along with the fitted line:\n",
        "    \n",
        "    >>> import matplotlib.pyplot as plt\n",
        "    >>> plt.plot(x, y, 'o', label='Original data', markersize=10)\n",
        "    >>> plt.plot(x, m*x + c, 'r', label='Fitted line')\n",
        "    >>> plt.legend()\n",
        "    >>> plt.show()\n",
        "\n"
       ]
      }
     ],
     "prompt_number": 38
    },
    {
     "cell_type": "code",
     "collapsed": false,
     "input": [
      "sol[1]"
     ],
     "language": "python",
     "metadata": {},
     "outputs": [
      {
       "metadata": {},
       "output_type": "pyout",
       "prompt_number": 35,
       "text": [
        "array([], dtype=float64)"
       ]
      }
     ],
     "prompt_number": 35
    },
    {
     "cell_type": "code",
     "collapsed": false,
     "input": [],
     "language": "python",
     "metadata": {},
     "outputs": []
    },
    {
     "cell_type": "code",
     "collapsed": false,
     "input": [
      "np.inner(v[0], sol.reshape(-1))"
     ],
     "language": "python",
     "metadata": {},
     "outputs": [
      {
       "metadata": {},
       "output_type": "pyout",
       "prompt_number": 30,
       "text": [
        "array([-1.81398429])"
       ]
      }
     ],
     "prompt_number": 30
    },
    {
     "cell_type": "code",
     "collapsed": false,
     "input": [
      "# Number of classes\n",
      "K = 8\n",
      "# Number of dimensions\n",
      "D = 30\n",
      "\n",
      "# Create normals and random vectors\n",
      "v = create_random_vectors(K, D, norm=True)\n",
      "w = create_random_vectors(K, D, norm=False)\n",
      "\n",
      "# This is matrix A that defines the transformation\n",
      "A = sum(v[i].reshape(-1,1).dot(w[i].reshape(1,-1)) for i in range(K))"
     ],
     "language": "python",
     "metadata": {},
     "outputs": [],
     "prompt_number": 7
    },
    {
     "cell_type": "markdown",
     "metadata": {},
     "source": [
      "## 4.2 What happens when we apply orthogonal transformation to v\n",
      "\n",
      "To remind our model without transformation is\n",
      "\n",
      "$$ T(x) = x(\\sum_{i=1}^{K} v_i w_i^T) = xA $$\n",
      "\n",
      "After applying transformation\n",
      "\n",
      "$$ T'(x) = x(\\sum_{i=1}^{K} Qv_i w_i^T) = xQ(\\sum_{i=1}^{K} v_i w_i^T) = xQA $$\n",
      "\n",
      "Interestingly applying this transformation to $v_i$ is equivalent to \"rotating\" whole affine transformation.\n",
      "\n",
      "What we can do is try to find new set of $\\{w_i'\\}_{i=1,\\ldots,K}=W'$ . The main thing is to note that it amounts to simple matrix equation. Define\n",
      "\n",
      "$$ B = (\\sum_{i=1}^{K} Qv_i w_i'^T) $$ \n",
      "\n",
      "and we would like that\n",
      "\n",
      "$$ T'(x) = xB $$\n",
      "\n",
      "so:\n",
      "\n",
      "$$ T'(x) = xB = xQA $$\n",
      "\n",
      "from which follows that matrices are equivalent\n",
      "\n",
      "$$  QA = B $$\n",
      "\n",
      "**This is just a linear equation for coefficients of W'. There are $KxD$ such coefficients.**\n",
      "\n",
      "Cool, but there might be one problem? This is a set of $DxD$ equations (for each entry of QA matrix). But we can prove mathematically that it has only $KxD$ free parameters if we choose rotation axis smartly, what I will do in section 5."
     ]
    },
    {
     "cell_type": "markdown",
     "metadata": {},
     "source": [
      "# 4.3 Choosing rotation axis smartly\n",
      "\n",
      "We need to choose rotation axis such that **we do not change intersection of the hyperplanes** (this is why proof doesn't work for K=2 :)\n",
      "\n",
      "Don't try to understand **get_rotation_matrix**. Section 5 math is better explainer"
     ]
    },
    {
     "cell_type": "code",
     "collapsed": false,
     "input": [
      "import copy\n",
      "def get_rotation_matrix(D, K, v, theta=5, random=False):\n",
      "    \"\"\"\n",
      "    Constructs rotation matrix that keep Q invariant\n",
      "    \"\"\"\n",
      "    \n",
      "    def get_nullspace(v):\n",
      "        \"\"\"\n",
      "        Calculates nullspace of list of vectors v\n",
      "        \"\"\"\n",
      "        return np.array(Matrix(np.vstack([np.vstack(v)])).nullspace())\n",
      "    \n",
      "    Q = get_nullspace(v)\n",
      "\n",
      "    if random:\n",
      "        v = copy.deepcopy(v)\n",
      "        v[0:2] = create_random_vectors(2, D)\n",
      "    \n",
      "    \n",
      "    # We define basis and we will perform rotation in 2-dim subspace defined by first 2 vectors of basis\n",
      "    P = np.hstack([np.hstack([v[i].reshape(-1,1) for i in range(K)]), Q.T])\n",
      "    Port = np.array(gs(P.T)).T\n",
      "\n",
      "    # Create rotation matrix\n",
      "    R = np.eye(D)\n",
      "    theta = theta*3.14/180\n",
      "    R[0:2,0:2] = np.array( [[np.cos(theta), -np.sin(theta)], [np.sin(theta), np.cos(theta)]])\n",
      "    R_full = Port.dot(R).dot(np.linalg.inv(Port))\n",
      "    \n",
      "    return R_full"
     ],
     "language": "python",
     "metadata": {},
     "outputs": [],
     "prompt_number": 14
    },
    {
     "cell_type": "code",
     "collapsed": false,
     "input": [
      "# Number of classes\n",
      "K = 3\n",
      "# Number of dimensions\n",
      "D = 250\n",
      "\n",
      "# Create normals and random vectors\n",
      "v = create_random_vectors(K, D, norm=True)\n",
      "w = create_random_vectors(K, D, norm=False)\n",
      "\n",
      "# This is matrix A that defines the transformation\n",
      "A = sum(v[i].reshape(-1,1).dot(w[i].reshape(1,-1)) for i in range(K))"
     ],
     "language": "python",
     "metadata": {},
     "outputs": [],
     "prompt_number": 12
    },
    {
     "cell_type": "code",
     "collapsed": false,
     "input": [
      "# Number of classes\n",
      "K = 3\n",
      "# Number of dimensions\n",
      "D = 55\n",
      "\n",
      "# Create normals and random vectors\n",
      "v = create_random_vectors(K, D, norm=True)\n",
      "w = create_random_vectors(K, D, norm=False)\n",
      "\n",
      "# This is matrix A that defines the transformation\n",
      "A = sum(v[i].reshape(-1,1).dot(w[i].reshape(1,-1)) for i in range(K))\n",
      "Q = np.random.normal(size=(D,D))\n",
      "Q = np.eye(D)\n",
      "\n",
      "theta = 45\n",
      "Q[0:2,0:2] = np.array([[np.cos(theta), np.sin(theta)], [-np.sin(theta), np.cos(theta)]])\n",
      "QA = Q.dot(A)\n",
      "abs(QA-A).sum() # Making sure change is big"
     ],
     "language": "python",
     "metadata": {},
     "outputs": [
      {
       "metadata": {},
       "output_type": "pyout",
       "prompt_number": 22,
       "text": [
        "17.734953324339408"
       ]
      }
     ],
     "prompt_number": 22
    },
    {
     "cell_type": "code",
     "collapsed": false,
     "input": [
      "R = get_rotation_matrix(D, K, v, theta=45) # We rotate by 45 degrees\n",
      "RA = R.dot(A)\n",
      "abs(RA-A).sum() # Making sure change is big"
     ],
     "language": "python",
     "metadata": {},
     "outputs": [
      {
       "metadata": {},
       "output_type": "pyout",
       "prompt_number": 16,
       "text": [
        "298.639646948294"
       ]
      }
     ],
     "prompt_number": 16
    },
    {
     "cell_type": "code",
     "collapsed": false,
     "input": [
      "R = get_rotation_matrix(D, K, v, theta=45, random=True) # We rotate by 45 degrees\n",
      "RA = R.dot(A)\n",
      "abs(RA-A).sum() # Making sure change is big"
     ],
     "language": "python",
     "metadata": {},
     "outputs": [
      {
       "ename": "NameError",
       "evalue": "global name 'gs' is not defined",
       "output_type": "pyerr",
       "traceback": [
        "\u001b[1;31m---------------------------------------------------------------------------\u001b[0m\n\u001b[1;31mNameError\u001b[0m                                 Traceback (most recent call last)",
        "\u001b[1;32m<ipython-input-13-b4a26e9c5eac>\u001b[0m in \u001b[0;36m<module>\u001b[1;34m()\u001b[0m\n\u001b[1;32m----> 1\u001b[1;33m \u001b[0mR\u001b[0m \u001b[1;33m=\u001b[0m \u001b[0mget_rotation_matrix\u001b[0m\u001b[1;33m(\u001b[0m\u001b[0mD\u001b[0m\u001b[1;33m,\u001b[0m \u001b[0mK\u001b[0m\u001b[1;33m,\u001b[0m \u001b[0mv\u001b[0m\u001b[1;33m,\u001b[0m \u001b[0mtheta\u001b[0m\u001b[1;33m=\u001b[0m\u001b[1;36m45\u001b[0m\u001b[1;33m,\u001b[0m \u001b[0mrandom\u001b[0m\u001b[1;33m=\u001b[0m\u001b[0mTrue\u001b[0m\u001b[1;33m)\u001b[0m \u001b[1;31m# We rotate by 45 degrees\u001b[0m\u001b[1;33m\u001b[0m\u001b[0m\n\u001b[0m\u001b[0;32m      2\u001b[0m \u001b[0mRA\u001b[0m \u001b[1;33m=\u001b[0m \u001b[0mR\u001b[0m\u001b[1;33m.\u001b[0m\u001b[0mdot\u001b[0m\u001b[1;33m(\u001b[0m\u001b[0mA\u001b[0m\u001b[1;33m)\u001b[0m\u001b[1;33m\u001b[0m\u001b[0m\n\u001b[0;32m      3\u001b[0m \u001b[0mabs\u001b[0m\u001b[1;33m(\u001b[0m\u001b[0mRA\u001b[0m\u001b[1;33m-\u001b[0m\u001b[0mA\u001b[0m\u001b[1;33m)\u001b[0m\u001b[1;33m.\u001b[0m\u001b[0msum\u001b[0m\u001b[1;33m(\u001b[0m\u001b[1;33m)\u001b[0m \u001b[1;31m# Making sure change is big\u001b[0m\u001b[1;33m\u001b[0m\u001b[0m\n",
        "\u001b[1;32m<ipython-input-5-a5278b233b07>\u001b[0m in \u001b[0;36mget_rotation_matrix\u001b[1;34m(D, K, v, theta, random)\u001b[0m\n\u001b[0;32m     20\u001b[0m     \u001b[1;31m# We define basis and we will perform rotation in 2-dim subspace defined by first 2 vectors of basis\u001b[0m\u001b[1;33m\u001b[0m\u001b[1;33m\u001b[0m\u001b[0m\n\u001b[0;32m     21\u001b[0m     \u001b[0mP\u001b[0m \u001b[1;33m=\u001b[0m \u001b[0mnp\u001b[0m\u001b[1;33m.\u001b[0m\u001b[0mhstack\u001b[0m\u001b[1;33m(\u001b[0m\u001b[1;33m[\u001b[0m\u001b[0mnp\u001b[0m\u001b[1;33m.\u001b[0m\u001b[0mhstack\u001b[0m\u001b[1;33m(\u001b[0m\u001b[1;33m[\u001b[0m\u001b[0mv\u001b[0m\u001b[1;33m[\u001b[0m\u001b[0mi\u001b[0m\u001b[1;33m]\u001b[0m\u001b[1;33m.\u001b[0m\u001b[0mreshape\u001b[0m\u001b[1;33m(\u001b[0m\u001b[1;33m-\u001b[0m\u001b[1;36m1\u001b[0m\u001b[1;33m,\u001b[0m\u001b[1;36m1\u001b[0m\u001b[1;33m)\u001b[0m \u001b[1;32mfor\u001b[0m \u001b[0mi\u001b[0m \u001b[1;32min\u001b[0m \u001b[0mrange\u001b[0m\u001b[1;33m(\u001b[0m\u001b[0mK\u001b[0m\u001b[1;33m)\u001b[0m\u001b[1;33m]\u001b[0m\u001b[1;33m)\u001b[0m\u001b[1;33m,\u001b[0m \u001b[0mQ\u001b[0m\u001b[1;33m.\u001b[0m\u001b[0mT\u001b[0m\u001b[1;33m]\u001b[0m\u001b[1;33m)\u001b[0m\u001b[1;33m\u001b[0m\u001b[0m\n\u001b[1;32m---> 22\u001b[1;33m     \u001b[0mPort\u001b[0m \u001b[1;33m=\u001b[0m \u001b[0mnp\u001b[0m\u001b[1;33m.\u001b[0m\u001b[0marray\u001b[0m\u001b[1;33m(\u001b[0m\u001b[0mgs\u001b[0m\u001b[1;33m(\u001b[0m\u001b[0mP\u001b[0m\u001b[1;33m.\u001b[0m\u001b[0mT\u001b[0m\u001b[1;33m)\u001b[0m\u001b[1;33m)\u001b[0m\u001b[1;33m.\u001b[0m\u001b[0mT\u001b[0m\u001b[1;33m\u001b[0m\u001b[0m\n\u001b[0m\u001b[0;32m     23\u001b[0m \u001b[1;33m\u001b[0m\u001b[0m\n\u001b[0;32m     24\u001b[0m     \u001b[1;31m# Create rotation matrix\u001b[0m\u001b[1;33m\u001b[0m\u001b[1;33m\u001b[0m\u001b[0m\n",
        "\u001b[1;31mNameError\u001b[0m: global name 'gs' is not defined"
       ]
      }
     ],
     "prompt_number": 13
    },
    {
     "cell_type": "markdown",
     "metadata": {},
     "source": [
      "## 4.4 Solve by least squares $QA = B$\n",
      "\n",
      "Note: there is some magic indexing, but it is just writing down the linear equation"
     ]
    },
    {
     "cell_type": "code",
     "collapsed": false,
     "input": [
      "print B[0,0:10]\n",
      "print QA[0,0:10]"
     ],
     "language": "python",
     "metadata": {},
     "outputs": [
      {
       "output_type": "stream",
       "stream": "stdout",
       "text": [
        "[-0.06107082  0.05048638 -0.08127015  0.18721233  0.11800719  0.13899996\n",
        "  0.03682909 -0.15950646 -0.10764648  0.10688499]\n",
        "[-0.04935148  0.04122691 -0.06635005  0.17176184  0.11974439  0.11456017\n",
        "  0.01916262 -0.13656447 -0.09649816  0.08251703]\n"
       ]
      }
     ],
     "prompt_number": 10
    },
    {
     "cell_type": "code",
     "collapsed": false,
     "input": [
      "# K^2 D x K parametrow"
     ],
     "language": "python",
     "metadata": {},
     "outputs": []
    },
    {
     "cell_type": "code",
     "collapsed": false,
     "input": [
      "D*D"
     ],
     "language": "python",
     "metadata": {},
     "outputs": [
      {
       "metadata": {},
       "output_type": "pyout",
       "prompt_number": 21,
       "text": [
        "3025"
       ]
      }
     ],
     "prompt_number": 21
    },
    {
     "cell_type": "code",
     "collapsed": false,
     "input": [
      "D*K"
     ],
     "language": "python",
     "metadata": {},
     "outputs": [
      {
       "metadata": {},
       "output_type": "pyout",
       "prompt_number": 20,
       "text": [
        "165"
       ]
      }
     ],
     "prompt_number": 20
    },
    {
     "cell_type": "code",
     "collapsed": false,
     "input": [
      "np.linalg.matrix_rank(L)"
     ],
     "language": "python",
     "metadata": {},
     "outputs": [
      {
       "metadata": {},
       "output_type": "pyout",
       "prompt_number": 18,
       "text": [
        "165"
       ]
      }
     ],
     "prompt_number": 18
    },
    {
     "cell_type": "code",
     "collapsed": false,
     "input": [
      "# R = Q\n",
      "# RA = QA\n",
      "# Let's first find QA that defines our T' transformation.\n",
      "\n",
      "\n",
      "# Just define the linear matrix equation. We need coefficient matrix L and free coef matrix b and\n",
      "# we will solve it by np.linalg.lstsq(L, b)\n",
      "L = []\n",
      "b = []\n",
      "\n",
      "# Each entry of B matrix defines one equation\n",
      "for i in range(D): \n",
      "    for j in range(D): \n",
      "        m = np.zeros(shape=(K,D))\n",
      "        m[:, j] = [vi.reshape(-1)[i] for vi in v]\n",
      "        b.append(RA[i,j])\n",
      "        L.append(m.reshape(-1))\n",
      "L = np.vstack(L)\n",
      "b = np.array(b).reshape(-1, 1)\n",
      "\n",
      "Wprim = np.linalg.lstsq(L, b)[0]\n",
      "Wprim = Wprim.reshape(K,D)\n",
      "B = sum(v[i].reshape(-1,1).dot(Wprim[i].reshape(1,-1)) for i in range(K))\n",
      "\n",
      "print \"This should be small!!!!! \", abs(B - RA).max()\n",
      "print \"This means we have found equivalent set of random vectors for this rotation\""
     ],
     "language": "python",
     "metadata": {},
     "outputs": [
      {
       "output_type": "stream",
       "stream": "stdout",
       "text": [
        "This should be small!!!!!  "
       ]
      },
      {
       "output_type": "stream",
       "stream": "stdout",
       "text": [
        "2.88657986402541e-15\n",
        "This means we have found equivalent set of random vectors for this rotation\n"
       ]
      }
     ],
     "prompt_number": 17
    },
    {
     "cell_type": "markdown",
     "metadata": {},
     "source": [
      "# 5. Mathematical justification\n",
      "\n",
      "This is just a sketch, because up to this point it should be already convincing.\n",
      "\n",
      "We can decompose the space (always) into $Im(T)$ and $Ker(T)$. Now we choose rotation such that $Ker(T)$ is invariant. What is beautiful is that now we just need to \"fix\" behavior of the transformation $T'$ on $Im(T')$. This is governed by $KxD$ parameters.\n",
      "\n",
      "More formal proof would do change of basis"
     ]
    },
    {
     "cell_type": "code",
     "collapsed": false,
     "input": [
      "import numpy as np\n",
      " \n",
      "def gs_cofficient(v1, v2):\n",
      "    return np.dot(v2, v1) / np.dot(v1, v1)\n",
      " \n",
      "def multiply(cofficient, v):\n",
      "    return map((lambda x : x * cofficient), v)\n",
      " \n",
      "def proj(v1, v2):\n",
      "    return multiply(gs_cofficient(v1, v2) , v1)\n",
      " \n",
      "def gs(X):\n",
      "    Y = []\n",
      "    for i in range(len(X)):\n",
      "        temp_vec = X[i]\n",
      "        for inY in Y :\n",
      "            proj_vec = proj(inY, X[i])\n",
      "            temp_vec = map(lambda x, y : x - y, temp_vec, proj_vec)\n",
      "        Y.append(temp_vec)\n",
      "    return Y"
     ],
     "language": "python",
     "metadata": {},
     "outputs": [],
     "prompt_number": 15
    }
   ],
   "metadata": {}
  }
 ]
}