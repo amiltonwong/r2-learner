{
 "metadata": {
  "name": "",
  "signature": "sha256:79b2d9bcdb9fe99238e1464a53640e5943cf31a87ef2543bbf8478763701aa15"
 },
 "nbformat": 3,
 "nbformat_minor": 0,
 "worksheets": [
  {
   "cells": [
    {
     "cell_type": "code",
     "collapsed": false,
     "input": [
      "%load_ext autoreload\n",
      "%autoreload 2\n",
      "\n",
      "import sys\n",
      "import os\n",
      "sys.path.append(\"..\")\n",
      "\n",
      "from sklearn import svm, datasets\n",
      "from sklearn.grid_search import ParameterGrid, GridSearchCV\n",
      "from sklearn.base import BaseEstimator, clone \n",
      "from sklearn.cross_validation import KFold\n",
      "from sklearn.svm import SVC\n",
      "import os\n",
      "import math\n",
      "import numpy as np\n",
      "import sklearn.metrics\n",
      "from multiprocessing import Pool\n",
      "from functools import partial\n",
      "\n",
      "import sklearn\n",
      "from sklearn.preprocessing import MinMaxScaler, LabelBinarizer\n",
      "from sklearn.metrics import accuracy_score\n",
      "from sklearn.cross_validation import KFold\n",
      "from sklearn.preprocessing import MinMaxScaler\n",
      "\n",
      "from data_api import *\n",
      "\n",
      "from r2 import *\n",
      "from lmao import *\n",
      "\n",
      "\n",
      "\n",
      "%matplotlib inline"
     ],
     "language": "python",
     "metadata": {},
     "outputs": [],
     "prompt_number": 1
    },
    {
     "cell_type": "code",
     "collapsed": false,
     "input": [],
     "language": "python",
     "metadata": {},
     "outputs": []
    }
   ],
   "metadata": {}
  }
 ]
}