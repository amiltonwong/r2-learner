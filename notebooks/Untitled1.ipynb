{
 "metadata": {
  "name": "",
  "signature": "sha256:4741658e5296f48c7ed63c2d8f0a9d3bfd46d1bb47df13df84adf6e03de61bb2"
 },
 "nbformat": 3,
 "nbformat_minor": 0,
 "worksheets": []
}