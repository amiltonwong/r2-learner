{
 "metadata": {
  "name": "",
  "signature": "sha256:aabb0687374a2f131631d79f6301c408763f0df2fe898e76f592252b1b0778c3"
 },
 "nbformat": 3,
 "nbformat_minor": 0,
 "worksheets": [
  {
   "cells": [
    {
     "cell_type": "code",
     "collapsed": false,
     "input": [
      "%load_ext autoreload\n",
      "%autoreload 2\n",
      "\n",
      "import sys\n",
      "import os\n",
      "sys.path.append(\"..\")\n",
      "\n",
      "from sklearn import svm, datasets\n",
      "from sklearn.grid_search import ParameterGrid, GridSearchCV\n",
      "from sklearn.base import BaseEstimator, clone \n",
      "from sklearn.cross_validation import KFold\n",
      "from sklearn.svm import SVC\n",
      "import os\n",
      "import math\n",
      "import numpy as np\n",
      "import sklearn.metrics\n",
      "from multiprocessing import Pool\n",
      "from functools import partial\n",
      "\n",
      "import sklearn\n",
      "from sklearn.preprocessing import MinMaxScaler, LabelBinarizer\n",
      "from sklearn.metrics import accuracy_score\n",
      "from sklearn.cross_validation import KFold\n",
      "from sklearn.preprocessing import MinMaxScaler\n",
      "\n",
      "from data_api import *\n",
      "\n",
      "from r2 import *\n",
      "\n",
      "\n",
      "\n",
      "%matplotlib inline"
     ],
     "language": "python",
     "metadata": {},
     "outputs": [
      {
       "output_type": "stream",
       "stream": "stdout",
       "text": [
        "The autoreload extension is already loaded. To reload it, use:\n",
        "  %reload_ext autoreload\n"
       ]
      }
     ],
     "prompt_number": 51
    },
    {
     "cell_type": "code",
     "collapsed": false,
     "input": [
      "X_moon, Y_moon = sklearn.datasets.make_moons(n_samples=1000, noise=0.04)\n",
      "X_spiral, Y_spiral = np.loadtxt(\"../data/two_spirals.x\", skiprows=1), np.loadtxt(\"../data/two_spirals.y\", skiprows=1)"
     ],
     "language": "python",
     "metadata": {},
     "outputs": [],
     "prompt_number": 41
    },
    {
     "cell_type": "code",
     "collapsed": false,
     "input": [
      "import sklearn"
     ],
     "language": "python",
     "metadata": {},
     "outputs": [],
     "prompt_number": 20
    },
    {
     "cell_type": "code",
     "collapsed": false,
     "input": [
      "print sklearn.metrics.accuracy_score(R2SVMLearner(beta=0.9, depth=3, fit_c='random').fit(X_spiral, Y_spiral).predict(X_spiral), Y_spiral)"
     ],
     "language": "python",
     "metadata": {},
     "outputs": [
      {
       "output_type": "stream",
       "stream": "stdout",
       "text": [
        "0.506666666667\n"
       ]
      }
     ],
     "prompt_number": 3
    },
    {
     "cell_type": "code",
     "collapsed": false,
     "input": [
      "m = R2SVMLearner(beta=0.9, depth=3, fit_c='random').fit(X_spiral, Y_spiral)"
     ],
     "language": "python",
     "metadata": {},
     "outputs": [],
     "prompt_number": 4
    },
    {
     "cell_type": "code",
     "collapsed": false,
     "input": [
      "from r2 import _r2_compress_model"
     ],
     "language": "python",
     "metadata": {},
     "outputs": [],
     "prompt_number": 15
    },
    {
     "cell_type": "code",
     "collapsed": false,
     "input": [
      "m2 =LinearSVC().fit(X_spiral, Y_spiral)"
     ],
     "language": "python",
     "metadata": {},
     "outputs": [],
     "prompt_number": 69
    },
    {
     "cell_type": "code",
     "collapsed": false,
     "input": [
      "m2.decision_function([1,2])"
     ],
     "language": "python",
     "metadata": {},
     "outputs": [
      {
       "metadata": {},
       "output_type": "pyout",
       "prompt_number": 74,
       "text": [
        "array([ 0.40005309])"
       ]
      }
     ],
     "prompt_number": 74
    },
    {
     "cell_type": "code",
     "collapsed": false,
     "input": [
      "np.dot([1,2], m2.coef_.T) + m2.intercept_"
     ],
     "language": "python",
     "metadata": {},
     "outputs": [
      {
       "metadata": {},
       "output_type": "pyout",
       "prompt_number": 72,
       "text": [
        "array([ 0.40005309])"
       ]
      }
     ],
     "prompt_number": 72
    },
    {
     "cell_type": "code",
     "collapsed": false,
     "input": [
      "m2.get_params()"
     ],
     "language": "python",
     "metadata": {},
     "outputs": [
      {
       "metadata": {},
       "output_type": "pyout",
       "prompt_number": 4,
       "text": [
        "{'C': 1.0,\n",
        " 'class_weight': None,\n",
        " 'dual': True,\n",
        " 'fit_intercept': True,\n",
        " 'intercept_scaling': 1,\n",
        " 'loss': 'l2',\n",
        " 'multi_class': 'ovr',\n",
        " 'penalty': 'l2',\n",
        " 'random_state': None,\n",
        " 'tol': 0.0001,\n",
        " 'verbose': 0}"
       ]
      }
     ],
     "prompt_number": 4
    },
    {
     "cell_type": "code",
     "collapsed": false,
     "input": [
      "m = _r2_compress_model(m)"
     ],
     "language": "python",
     "metadata": {},
     "outputs": [],
     "prompt_number": 48
    },
    {
     "cell_type": "code",
     "collapsed": false,
     "input": [
      "m.models_[0]"
     ],
     "language": "python",
     "metadata": {},
     "outputs": [
      {
       "metadata": {},
       "output_type": "pyout",
       "prompt_number": 49,
       "text": [
        "{'b': array([  1.89312370e-06]),\n",
        " 'params': {'C': 1,\n",
        "  'class_weight': 'auto',\n",
        "  'dual': True,\n",
        "  'fit_intercept': True,\n",
        "  'intercept_scaling': 1,\n",
        "  'loss': 'l1',\n",
        "  'multi_class': 'ovr',\n",
        "  'penalty': 'l2',\n",
        "  'random_state': None,\n",
        "  'tol': 0.0001,\n",
        "  'verbose': 0},\n",
        " 'w': array([[ 0.09624959,  0.74383658]])}"
       ]
      }
     ],
     "prompt_number": 49
    },
    {
     "cell_type": "code",
     "collapsed": false,
     "input": [
      "\n"
     ],
     "language": "python",
     "metadata": {},
     "outputs": []
    },
    {
     "cell_type": "code",
     "collapsed": false,
     "input": [
      "print sklearn.metrics.accuracy_score(m.predict(X_spiral), Y_spiral)"
     ],
     "language": "python",
     "metadata": {},
     "outputs": [
      {
       "output_type": "stream",
       "stream": "stdout",
       "text": [
        "0.516666666667\n"
       ]
      }
     ],
     "prompt_number": 47
    },
    {
     "cell_type": "code",
     "collapsed": false,
     "input": [
      "m = R2SVMLearner(beta=0.9, depth=3, fit_c='random').fit(X_spiral, Y_spiral)"
     ],
     "language": "python",
     "metadata": {},
     "outputs": [],
     "prompt_number": 46
    },
    {
     "cell_type": "code",
     "collapsed": false,
     "input": [
      "print sklearn.metrics.accuracy_score(m.predict(X_spiral), Y_spiral)"
     ],
     "language": "python",
     "metadata": {},
     "outputs": [
      {
       "output_type": "stream",
       "stream": "stdout",
       "text": [
        "0.303333333333\n"
       ]
      }
     ],
     "prompt_number": 39
    },
    {
     "cell_type": "code",
     "collapsed": false,
     "input": [
      "m = SVC()"
     ],
     "language": "python",
     "metadata": {},
     "outputs": [],
     "prompt_number": 126
    },
    {
     "cell_type": "code",
     "collapsed": false,
     "input": [
      "m.coef0"
     ],
     "language": "python",
     "metadata": {},
     "outputs": [
      {
       "metadata": {},
       "output_type": "pyout",
       "prompt_number": 127,
       "text": [
        "0.0"
       ]
      }
     ],
     "prompt_number": 127
    },
    {
     "cell_type": "code",
     "collapsed": false,
     "input": [
      "def test(X, Y, cv=True, fit_c='random'):\n",
      "    model = R2SVMLearner(depth=5, beta=0.8, fit_c=fit_c, use_prev=False, scale=True, activation='sigmoid')\n",
      "    if cv:\n",
      "        ac = np.mean(cross_val_score(model, X, Y, scoring='accuracy', cv=3, n_jobs=1))\n",
      "    else:\n",
      "        model.fit(X, Y)\n",
      "        ac = sklearn.metrics.accuracy_score(Y, model.predict(X))\n",
      "    return ac"
     ],
     "language": "python",
     "metadata": {},
     "outputs": [],
     "prompt_number": 78
    },
    {
     "cell_type": "code",
     "collapsed": false,
     "input": [
      "import time\n",
      "s=time.time()\n",
      "results_fit_c = [test(X_spiral, Y_spiral, cv=True, fit_c='random') for _ in xrange(50)]\n",
      "print max(results_fit_c)\n",
      "print time.time() - s\n",
      "import time\n",
      "\n",
      "s=time.time()\n",
      "results_random_cls = [test(X_spiral, Y_spiral, cv=True, fit_c='random_cls') for _ in xrange(50)]\n",
      "print max(results_random_cls)\n",
      "print time.time() - s"
     ],
     "language": "python",
     "metadata": {},
     "outputs": [
      {
       "output_type": "stream",
       "stream": "stdout",
       "text": [
        "0.38\n",
        "561.66188097\n"
       ]
      },
      {
       "ename": "JoblibAttributeError",
       "evalue": "JoblibAttributeError\n___________________________________________________________________________\nMultiprocessing exception:\n    ...........................................................................\n/lhome/home/czarnecki/st/r2-learner/r2-learner/notebooks/<string> in <module>()\n----> 1 \n      2 \n      3 \n      4 \n      5 \n      6 \n      7 \n      8 \n      9 \n     10 \n\n...........................................................................\n/lhome/home/czarnecki/staszek_tmp/tradeshift/local/lib/python2.7/site-packages/IPython/kernel/zmq/kernelapp.py in main()\n    464 \n    465 def main():\n    466     \"\"\"Run an IPKernel as an application\"\"\"\n    467     app = IPKernelApp.instance()\n    468     app.initialize()\n--> 469     app.start()\n        app.start = <bound method IPKernelApp.start of <IPython.kernel.zmq.kernelapp.IPKernelApp object>>\n    470 \n    471 \n    472 if __name__ == '__main__':\n    473     main()\n\n...........................................................................\n/lhome/home/czarnecki/staszek_tmp/tradeshift/local/lib/python2.7/site-packages/IPython/kernel/zmq/kernelapp.py in start(self=<IPython.kernel.zmq.kernelapp.IPKernelApp object>)\n    454     def start(self):\n    455         if self.poller is not None:\n    456             self.poller.start()\n    457         self.kernel.start()\n    458         try:\n--> 459             ioloop.IOLoop.instance().start()\n    460         except KeyboardInterrupt:\n    461             pass\n    462 \n    463 launch_new_instance = IPKernelApp.launch_instance\n\n...........................................................................\n/lhome/home/czarnecki/staszek_tmp/tradeshift/local/lib/python2.7/site-packages/zmq/eventloop/ioloop.py in start(self=<zmq.eventloop.ioloop.ZMQIOLoop object>)\n    146             PollIOLoop.configure(ZMQIOLoop)\n    147         return PollIOLoop.instance()\n    148     \n    149     def start(self):\n    150         try:\n--> 151             super(ZMQIOLoop, self).start()\n        self.start = <bound method ZMQIOLoop.start of <zmq.eventloop.ioloop.ZMQIOLoop object>>\n    152         except ZMQError as e:\n    153             if e.errno == ETERM:\n    154                 # quietly return on ETERM\n    155                 pass\n\n...........................................................................\n/lhome/home/czarnecki/staszek_tmp/tradeshift/local/lib/python2.7/site-packages/tornado/ioloop.py in start(self=<zmq.eventloop.ioloop.ZMQIOLoop object>)\n    832                 self._events.update(event_pairs)\n    833                 while self._events:\n    834                     fd, events = self._events.popitem()\n    835                     try:\n    836                         fd_obj, handler_func = self._handlers[fd]\n--> 837                         handler_func(fd_obj, events)\n        handler_func = <function null_wrapper>\n        fd_obj = <zmq.sugar.socket.Socket object>\n        events = 1\n    838                     except (OSError, IOError) as e:\n    839                         if errno_from_exception(e) == errno.EPIPE:\n    840                             # Happens when the client closes the connection\n    841                             pass\n\n...........................................................................\n/lhome/home/czarnecki/staszek_tmp/tradeshift/local/lib/python2.7/site-packages/tornado/stack_context.py in null_wrapper(*args=(<zmq.sugar.socket.Socket object>, 1), **kwargs={})\n    270         # Fast path when there are no active contexts.\n    271         def null_wrapper(*args, **kwargs):\n    272             try:\n    273                 current_state = _state.contexts\n    274                 _state.contexts = cap_contexts[0]\n--> 275                 return fn(*args, **kwargs)\n        args = (<zmq.sugar.socket.Socket object>, 1)\n        kwargs = {}\n    276             finally:\n    277                 _state.contexts = current_state\n    278         null_wrapper._wrapped = True\n    279         return null_wrapper\n\n...........................................................................\n/lhome/home/czarnecki/staszek_tmp/tradeshift/local/lib/python2.7/site-packages/zmq/eventloop/zmqstream.py in _handle_events(self=<zmq.eventloop.zmqstream.ZMQStream object>, fd=<zmq.sugar.socket.Socket object>, events=1)\n    428             # dispatch events:\n    429             if events & IOLoop.ERROR:\n    430                 gen_log.error(\"got POLLERR event on ZMQStream, which doesn't make sense\")\n    431                 return\n    432             if events & IOLoop.READ:\n--> 433                 self._handle_recv()\n        self._handle_recv = <bound method ZMQStream._handle_recv of <zmq.eventloop.zmqstream.ZMQStream object>>\n    434                 if not self.socket:\n    435                     return\n    436             if events & IOLoop.WRITE:\n    437                 self._handle_send()\n\n...........................................................................\n/lhome/home/czarnecki/staszek_tmp/tradeshift/local/lib/python2.7/site-packages/zmq/eventloop/zmqstream.py in _handle_recv(self=<zmq.eventloop.zmqstream.ZMQStream object>)\n    460                 gen_log.error(\"RECV Error: %s\"%zmq.strerror(e.errno))\n    461         else:\n    462             if self._recv_callback:\n    463                 callback = self._recv_callback\n    464                 # self._recv_callback = None\n--> 465                 self._run_callback(callback, msg)\n        self._run_callback = <bound method ZMQStream._run_callback of <zmq.eventloop.zmqstream.ZMQStream object>>\n        callback = <function null_wrapper>\n        msg = [<zmq.sugar.frame.Frame object>, <zmq.sugar.frame.Frame object>, <zmq.sugar.frame.Frame object>, <zmq.sugar.frame.Frame object>, <zmq.sugar.frame.Frame object>, <zmq.sugar.frame.Frame object>, <zmq.sugar.frame.Frame object>]\n    466                 \n    467         # self.update_state()\n    468         \n    469 \n\n...........................................................................\n/lhome/home/czarnecki/staszek_tmp/tradeshift/local/lib/python2.7/site-packages/zmq/eventloop/zmqstream.py in _run_callback(self=<zmq.eventloop.zmqstream.ZMQStream object>, callback=<function null_wrapper>, *args=([<zmq.sugar.frame.Frame object>, <zmq.sugar.frame.Frame object>, <zmq.sugar.frame.Frame object>, <zmq.sugar.frame.Frame object>, <zmq.sugar.frame.Frame object>, <zmq.sugar.frame.Frame object>, <zmq.sugar.frame.Frame object>],), **kwargs={})\n    402         close our socket.\"\"\"\n    403         try:\n    404             # Use a NullContext to ensure that all StackContexts are run\n    405             # inside our blanket exception handler rather than outside.\n    406             with stack_context.NullContext():\n--> 407                 callback(*args, **kwargs)\n        callback = <function null_wrapper>\n        args = ([<zmq.sugar.frame.Frame object>, <zmq.sugar.frame.Frame object>, <zmq.sugar.frame.Frame object>, <zmq.sugar.frame.Frame object>, <zmq.sugar.frame.Frame object>, <zmq.sugar.frame.Frame object>, <zmq.sugar.frame.Frame object>],)\n        kwargs = {}\n    408         except:\n    409             gen_log.error(\"Uncaught exception, closing connection.\",\n    410                           exc_info=True)\n    411             # Close the socket on an uncaught exception from a user callback\n\n...........................................................................\n/lhome/home/czarnecki/staszek_tmp/tradeshift/local/lib/python2.7/site-packages/tornado/stack_context.py in null_wrapper(*args=([<zmq.sugar.frame.Frame object>, <zmq.sugar.frame.Frame object>, <zmq.sugar.frame.Frame object>, <zmq.sugar.frame.Frame object>, <zmq.sugar.frame.Frame object>, <zmq.sugar.frame.Frame object>, <zmq.sugar.frame.Frame object>],), **kwargs={})\n    270         # Fast path when there are no active contexts.\n    271         def null_wrapper(*args, **kwargs):\n    272             try:\n    273                 current_state = _state.contexts\n    274                 _state.contexts = cap_contexts[0]\n--> 275                 return fn(*args, **kwargs)\n        args = ([<zmq.sugar.frame.Frame object>, <zmq.sugar.frame.Frame object>, <zmq.sugar.frame.Frame object>, <zmq.sugar.frame.Frame object>, <zmq.sugar.frame.Frame object>, <zmq.sugar.frame.Frame object>, <zmq.sugar.frame.Frame object>],)\n        kwargs = {}\n    276             finally:\n    277                 _state.contexts = current_state\n    278         null_wrapper._wrapped = True\n    279         return null_wrapper\n\n...........................................................................\n/lhome/home/czarnecki/staszek_tmp/tradeshift/local/lib/python2.7/site-packages/IPython/kernel/zmq/ipkernel.py in dispatcher(msg=[<zmq.sugar.frame.Frame object>, <zmq.sugar.frame.Frame object>, <zmq.sugar.frame.Frame object>, <zmq.sugar.frame.Frame object>, <zmq.sugar.frame.Frame object>, <zmq.sugar.frame.Frame object>, <zmq.sugar.frame.Frame object>])\n    276         if self.control_stream:\n    277             self.control_stream.on_recv(self.dispatch_control, copy=False)\n    278 \n    279         def make_dispatcher(stream):\n    280             def dispatcher(msg):\n--> 281                 return self.dispatch_shell(stream, msg)\n        msg = [<zmq.sugar.frame.Frame object>, <zmq.sugar.frame.Frame object>, <zmq.sugar.frame.Frame object>, <zmq.sugar.frame.Frame object>, <zmq.sugar.frame.Frame object>, <zmq.sugar.frame.Frame object>, <zmq.sugar.frame.Frame object>]\n    282             return dispatcher\n    283 \n    284         for s in self.shell_streams:\n    285             s.on_recv(make_dispatcher(s), copy=False)\n\n...........................................................................\n/lhome/home/czarnecki/staszek_tmp/tradeshift/local/lib/python2.7/site-packages/IPython/kernel/zmq/ipkernel.py in dispatch_shell(self=<IPython.kernel.zmq.ipkernel.Kernel object>, stream=<zmq.eventloop.zmqstream.ZMQStream object>, msg={'buffers': [], 'content': {u'allow_stdin': True, u'code': u\"import time\\ns=time.time()\\nresults_fit_c = [t...t max(results_random_cls)\\nprint time.time() - s\", u'silent': False, u'store_history': True, u'user_expressions': {}, u'user_variables': []}, 'header': {u'msg_id': u'707B8303706D4895B40625F63A04033C', u'msg_type': u'execute_request', u'session': u'2D9D0315A85049C0B0DF2E0E2AFDF513', u'username': u'username'}, 'metadata': {}, 'msg_id': u'707B8303706D4895B40625F63A04033C', 'msg_type': u'execute_request', 'parent_header': {}})\n    240             self.log.error(\"UNKNOWN MESSAGE TYPE: %r\", msg_type)\n    241         else:\n    242             # ensure default_int_handler during handler call\n    243             sig = signal(SIGINT, default_int_handler)\n    244             try:\n--> 245                 handler(stream, idents, msg)\n        handler = <bound method Kernel.execute_request of <IPython.kernel.zmq.ipkernel.Kernel object>>\n        stream = <zmq.eventloop.zmqstream.ZMQStream object>\n        idents = ['2D9D0315A85049C0B0DF2E0E2AFDF513']\n        msg = {'buffers': [], 'content': {u'allow_stdin': True, u'code': u\"import time\\ns=time.time()\\nresults_fit_c = [t...t max(results_random_cls)\\nprint time.time() - s\", u'silent': False, u'store_history': True, u'user_expressions': {}, u'user_variables': []}, 'header': {u'msg_id': u'707B8303706D4895B40625F63A04033C', u'msg_type': u'execute_request', u'session': u'2D9D0315A85049C0B0DF2E0E2AFDF513', u'username': u'username'}, 'metadata': {}, 'msg_id': u'707B8303706D4895B40625F63A04033C', 'msg_type': u'execute_request', 'parent_header': {}}\n    246             except Exception:\n    247                 self.log.error(\"Exception in message handler:\", exc_info=True)\n    248             finally:\n    249                 signal(SIGINT, sig)\n\n...........................................................................\n/lhome/home/czarnecki/staszek_tmp/tradeshift/local/lib/python2.7/site-packages/IPython/kernel/zmq/ipkernel.py in execute_request(self=<IPython.kernel.zmq.ipkernel.Kernel object>, stream=<zmq.eventloop.zmqstream.ZMQStream object>, ident=['2D9D0315A85049C0B0DF2E0E2AFDF513'], parent={'buffers': [], 'content': {u'allow_stdin': True, u'code': u\"import time\\ns=time.time()\\nresults_fit_c = [t...t max(results_random_cls)\\nprint time.time() - s\", u'silent': False, u'store_history': True, u'user_expressions': {}, u'user_variables': []}, 'header': {u'msg_id': u'707B8303706D4895B40625F63A04033C', u'msg_type': u'execute_request', u'session': u'2D9D0315A85049C0B0DF2E0E2AFDF513', u'username': u'username'}, 'metadata': {}, 'msg_id': u'707B8303706D4895B40625F63A04033C', 'msg_type': u'execute_request', 'parent_header': {}})\n    384 \n    385         reply_content = {}\n    386         # FIXME: the shell calls the exception handler itself.\n    387         shell._reply_content = None\n    388         try:\n--> 389             shell.run_cell(code, store_history=store_history, silent=silent)\n        shell.run_cell = <bound method ZMQInteractiveShell.run_cell of <I....kernel.zmq.zmqshell.ZMQInteractiveShell object>>\n        code = u\"import time\\ns=time.time()\\nresults_fit_c = [t...t max(results_random_cls)\\nprint time.time() - s\"\n        store_history = True\n        silent = False\n    390         except:\n    391             status = u'error'\n    392             # FIXME: this code right now isn't being used yet by default,\n    393             # because the run_cell() call above directly fires off exception\n\n...........................................................................\n/lhome/home/czarnecki/staszek_tmp/tradeshift/local/lib/python2.7/site-packages/IPython/core/interactiveshell.py in run_cell(self=<IPython.kernel.zmq.zmqshell.ZMQInteractiveShell object>, raw_cell=u\"import time\\ns=time.time()\\nresults_fit_c = [t...t max(results_random_cls)\\nprint time.time() - s\", store_history=True, silent=False, shell_futures=True)\n   2736                 code_ast = self.transform_ast(code_ast)\n   2737 \n   2738                 # Execute the user code\n   2739                 interactivity = \"none\" if silent else self.ast_node_interactivity\n   2740                 self.run_ast_nodes(code_ast.body, cell_name,\n-> 2741                                    interactivity=interactivity, compiler=compiler)\n        interactivity = 'last_expr'\n        compiler = <IPython.core.compilerop.CachingCompiler instance>\n   2742                 \n   2743                 self.events.trigger('post_execute')\n   2744                 if not silent:\n   2745                     self.events.trigger('post_run_cell')\n\n...........................................................................\n/lhome/home/czarnecki/staszek_tmp/tradeshift/local/lib/python2.7/site-packages/IPython/core/interactiveshell.py in run_ast_nodes(self=<IPython.kernel.zmq.zmqshell.ZMQInteractiveShell object>, nodelist=[<_ast.Import object>, <_ast.Assign object>, <_ast.Assign object>, <_ast.Print object>, <_ast.Print object>, <_ast.Import object>, <_ast.Assign object>, <_ast.Assign object>, <_ast.Print object>, <_ast.Print object>], cell_name='<ipython-input-77-3e930f7db202>', interactivity='none', compiler=<IPython.core.compilerop.CachingCompiler instance>)\n   2822 \n   2823         try:\n   2824             for i, node in enumerate(to_run_exec):\n   2825                 mod = ast.Module([node])\n   2826                 code = compiler(mod, cell_name, \"exec\")\n-> 2827                 if self.run_code(code):\n        self.run_code = <bound method ZMQInteractiveShell.run_code of <I....kernel.zmq.zmqshell.ZMQInteractiveShell object>>\n        code = <code object <module> at 0x7fe87ac07cb0, file \"<ipython-input-77-3e930f7db202>\", line 9>\n   2828                     return True\n   2829 \n   2830             for i, node in enumerate(to_run_interactive):\n   2831                 mod = ast.Interactive([node])\n\n...........................................................................\n/lhome/home/czarnecki/staszek_tmp/tradeshift/local/lib/python2.7/site-packages/IPython/core/interactiveshell.py in run_code(self=<IPython.kernel.zmq.zmqshell.ZMQInteractiveShell object>, code_obj=<code object <module> at 0x7fe87ac07cb0, file \"<ipython-input-77-3e930f7db202>\", line 9>)\n   2878         outflag = 1  # happens in more places, so it's easier as default\n   2879         try:\n   2880             try:\n   2881                 self.hooks.pre_run_code_hook()\n   2882                 #rprint('Running code', repr(code_obj)) # dbg\n-> 2883                 exec(code_obj, self.user_global_ns, self.user_ns)\n        code_obj = <code object <module> at 0x7fe87ac07cb0, file \"<ipython-input-77-3e930f7db202>\", line 9>\n        self.user_global_ns = {'BaseEstimator': <class 'sklearn.base.BaseEstimator'>, 'Bunch': <class 'data_api.Bunch'>, 'ELM': <class 'elm.ELM'>, 'GridSearchCV': <class 'sklearn.grid_search.GridSearchCV'>, 'In': ['', u'get_ipython().magic(u\\'load_ext autoreload\\')\\...n\\n\\nget_ipython().magic(u\\'matplotlib inline\\')', u'X_moon, Y_moon = sklearn.datasets.make_moons(n... np.loadtxt(\"../data/two_spirals.y\", skiprows=1)', u'm2 =LinearSVC().fit(X_spiral, Y_spiral)', u'm2.get_params()', u'm = _r2_compress_model(m)', u'from r2 import _r2_compress_model', u'm = _r2_compress_model(m)', u'm = _r2_compress_model(m)', u\"m = R2SVMLearner(beta=0.9, depth=3, fit_c='random_cls').fit(X_spiral, Y_spiral)\", u'm.models_[0]', u\"m = R2SVMLearner(beta=0.9, depth=3, fit_c='random_cls').fit(X_spiral, Y_spiral)\", u\"m = R2SVMLearner(beta=0.9, depth=3, fit_c='random').fit(X_spiral, Y_spiral)\", u'print sklearn.metrics.accuracy_score(m.predict(X_spiral), Y_spiral)', u'm.models_[0]', u'from r2 import _r2_compress_model', u\"m = R2SVMLearner(beta=0.9, depth=3, fit_c='random').fit(X_spiral, Y_spiral)\", u'get_ipython().magic(u\\'load_ext autoreload\\')\\...n\\n\\nget_ipython().magic(u\\'matplotlib inline\\')', u'm.models_[0]', u'm = _r2_compress_model(m)', ...], 'KFold': <class 'sklearn.cross_validation.KFold'>, 'LabelBinarizer': <class 'sklearn.preprocessing.label.LabelBinarizer'>, 'LinearSVC': <class 'sklearn.svm.classes.LinearSVC'>, 'MinMaxScaler': <class 'sklearn.preprocessing.data.MinMaxScaler'>, 'MyLinModel': <class 'r2.MyLinModel'>, ...}\n        self.user_ns = {'BaseEstimator': <class 'sklearn.base.BaseEstimator'>, 'Bunch': <class 'data_api.Bunch'>, 'ELM': <class 'elm.ELM'>, 'GridSearchCV': <class 'sklearn.grid_search.GridSearchCV'>, 'In': ['', u'get_ipython().magic(u\\'load_ext autoreload\\')\\...n\\n\\nget_ipython().magic(u\\'matplotlib inline\\')', u'X_moon, Y_moon = sklearn.datasets.make_moons(n... np.loadtxt(\"../data/two_spirals.y\", skiprows=1)', u'm2 =LinearSVC().fit(X_spiral, Y_spiral)', u'm2.get_params()', u'm = _r2_compress_model(m)', u'from r2 import _r2_compress_model', u'm = _r2_compress_model(m)', u'm = _r2_compress_model(m)', u\"m = R2SVMLearner(beta=0.9, depth=3, fit_c='random_cls').fit(X_spiral, Y_spiral)\", u'm.models_[0]', u\"m = R2SVMLearner(beta=0.9, depth=3, fit_c='random_cls').fit(X_spiral, Y_spiral)\", u\"m = R2SVMLearner(beta=0.9, depth=3, fit_c='random').fit(X_spiral, Y_spiral)\", u'print sklearn.metrics.accuracy_score(m.predict(X_spiral), Y_spiral)', u'm.models_[0]', u'from r2 import _r2_compress_model', u\"m = R2SVMLearner(beta=0.9, depth=3, fit_c='random').fit(X_spiral, Y_spiral)\", u'get_ipython().magic(u\\'load_ext autoreload\\')\\...n\\n\\nget_ipython().magic(u\\'matplotlib inline\\')', u'm.models_[0]', u'm = _r2_compress_model(m)', ...], 'KFold': <class 'sklearn.cross_validation.KFold'>, 'LabelBinarizer': <class 'sklearn.preprocessing.label.LabelBinarizer'>, 'LinearSVC': <class 'sklearn.svm.classes.LinearSVC'>, 'MinMaxScaler': <class 'sklearn.preprocessing.data.MinMaxScaler'>, 'MyLinModel': <class 'r2.MyLinModel'>, ...}\n   2884             finally:\n   2885                 # Reset our crash handler in place\n   2886                 sys.excepthook = old_excepthook\n   2887         except SystemExit:\n\n...........................................................................\n/lhome/home/czarnecki/st/r2-learner/r2-learner/notebooks/<ipython-input-77-3e930f7db202> in <module>()\n      4 print max(results_fit_c)\n      5 print time.time() - s\n      6 import time\n      7 \n      8 s=time.time()\n----> 9 results_random_cls = [test(X_spiral, Y_spiral, cv=True, fit_c='random_cls') for _ in xrange(50)]\n     10 print max(results_random_cls)\n     11 print time.time() - s\n     12 \n     13 \n\n...........................................................................\n/lhome/home/czarnecki/st/r2-learner/r2-learner/notebooks/<ipython-input-76-002f042e2f5a> in test(X=array([[  3.33333300e-01,   0.00000000e+00],\n   ...1],\n       [  1.65196400e+00,  -1.38719300e-01]]), Y=array([ 1.,  2.,  2.,  1.,  2.,  1.,  2.,  1.,  ...2.,  2.,  1.,  1.,  2.,  1.,  2.,  1.,  1.,  1.]), cv=True, fit_c='random_cls')\n      1 \n      2 \n      3 def test(X, Y, cv=True, fit_c='random'):\n----> 4     model = R2SVMLearner(depth=5, beta=0.8, fit_c=fit_c, use_prev=False, scale=True, activation='sigmoid')\n      5     if cv:\n      6         ac = np.mean(cross_val_score(model, X, Y, scoring='accuracy', cv=3, n_jobs=3))\n      7     else:\n      8         model.fit(X, Y)\n      9         ac = sklearn.metrics.accuracy_score(Y, model.predict(X))\n     10     return ac\n\n...........................................................................\n/lhome/home/czarnecki/staszek_tmp/tradeshift/local/lib/python2.7/site-packages/sklearn/cross_validation.py in cross_val_score(estimator=R2SVMLearner(C=1, activation='sigmoid', beta=0.8...None,\n       use_linear_svc=None, use_prev=False), X=array([[  3.33333300e-01,   0.00000000e+00],\n   ...1],\n       [  1.65196400e+00,  -1.38719300e-01]]), y=array([ 1.,  2.,  2.,  1.,  2.,  1.,  2.,  1.,  ...2.,  2.,  1.,  1.,  2.,  1.,  2.,  1.,  1.,  1.]), scoring='accuracy', cv=sklearn.cross_validation.KFold(n=300, n_folds=3, shuffle=False, random_state=None), n_jobs=3, verbose=0, fit_params=None, score_func=None, pre_dispatch='2*n_jobs')\n   1146     parallel = Parallel(n_jobs=n_jobs, verbose=verbose,\n   1147                         pre_dispatch=pre_dispatch)\n   1148     scores = parallel(delayed(_fit_and_score)(clone(estimator), X, y, scorer,\n   1149                                               train, test, verbose, None,\n   1150                                               fit_params)\n-> 1151                       for train, test in cv)\n        cv = sklearn.cross_validation.KFold(n=300, n_folds=3, shuffle=False, random_state=None)\n   1152     return np.array(scores)[:, 0]\n   1153 \n   1154 \n   1155 def _fit_and_score(estimator, X, y, scorer, train, test, verbose, parameters,\n\n...........................................................................\n/lhome/home/czarnecki/staszek_tmp/tradeshift/local/lib/python2.7/site-packages/sklearn/externals/joblib/parallel.py in __call__(self=Parallel(n_jobs=3), iterable=<itertools.islice object>)\n    655             if pre_dispatch == \"all\" or n_jobs == 1:\n    656                 # The iterable was consumed all at once by the above for loop.\n    657                 # No need to wait for async callbacks to trigger to\n    658                 # consumption.\n    659                 self._iterating = False\n--> 660             self.retrieve()\n        self.retrieve = <bound method Parallel.retrieve of Parallel(n_jobs=3)>\n    661             # Make sure that we get a last message telling us we are done\n    662             elapsed_time = time.time() - self._start_time\n    663             self._print('Done %3i out of %3i | elapsed: %s finished',\n    664                         (len(self._output),\n\n    ---------------------------------------------------------------------------\n    Sub-process traceback:\n    ---------------------------------------------------------------------------\n    AttributeError                                     Wed Mar 18 09:21:41 2015\nPID: 17757Python 2.7.8: /lhome/home/czarnecki/staszek_tmp/tradeshift/bin/python\n...........................................................................\n/lhome/home/czarnecki/staszek_tmp/tradeshift/local/lib/python2.7/site-packages/sklearn/cross_validation.pyc in _fit_and_score(estimator=R2SVMLearner(C=1, activation='sigmoid', beta=0.8...9254,\n       use_linear_svc=None, use_prev=False), X=array([[  3.33333300e-01,   0.00000000e+00],\n   ...1],\n       [  1.65196400e+00,  -1.38719300e-01]]), y=array([ 1.,  2.,  2.,  1.,  2.,  1.,  2.,  1.,  ...2.,  2.,  1.,  1.,  2.,  1.,  2.,  1.,  1.,  1.]), scorer=make_scorer(accuracy_score), train=array([100, 101, 102, 103, 104, 105, 106, 107, 1..., 292, 293, 294,\n       295, 296, 297, 298, 299]), test=array([ 0,  1,  2,  3,  4,  5,  6,  7,  8,  9, 1... 88, 89, 90, 91, 92, 93, 94, 95, 96, 97, 98, 99]), verbose=0, parameters=None, fit_params={}, return_train_score=False, return_parameters=False)\n   1234     X_train, y_train = _safe_split(estimator, X, y, train)\n   1235     X_test, y_test = _safe_split(estimator, X, y, test, train)\n   1236     if y_train is None:\n   1237         estimator.fit(X_train, **fit_params)\n   1238     else:\n-> 1239         estimator.fit(X_train, y_train, **fit_params)\n   1240     test_score = _score(estimator, X_test, y_test, scorer)\n   1241     if return_train_score:\n   1242         train_score = _score(estimator, X_train, y_train, scorer)\n   1243 \n\n...........................................................................\n/lhome/home/czarnecki/st/r2-learner/r2-learner/r2.py in fit(self=R2SVMLearner(C=1, activation='sigmoid', beta=0.8...9254,\n       use_linear_svc=None, use_prev=False), X=array([[ -4.95556541e-01,  -6.97811762e-01],\n   ...1],\n       [  1.20000000e+00,  -1.10702816e-01]]), Y=array([ 2.,  1.,  1.,  1.,  2.,  1.,  2.,  2.,  ...,  1.,  1.,  2.,\n        1.,  2.,  1.,  1.,  1.]), W=None)\n    198             X = self.scalers_[0].fit_transform(X)\n    199         self._fitted = False\n    200 \n    201         # Fit\n    202         for i in xrange(self.depth):\n--> 203             X = self._feed_forward(X, i, Y)\n        X = array([[ -4.95556541e-01,  -6.97811762e-01],\n   ...1],\n       [  1.20000000e+00,  -1.10702816e-01]])\n        self._feed_forward = <bound method R2SVMLearner._feed_forward of R2SV...254,\n       use_linear_svc=None, use_prev=False)>\n        i = 0\n        Y = array([ 2.,  1.,  1.,  1.,  2.,  1.,  2.,  2.,  ...,  1.,  1.,  2.,\n        1.,  2.,  1.,  1.,  1.])\n    204 \n    205         return self\n    206 \n    207     def predict(self, X, all_layers=False):\n\n...........................................................................\n/lhome/home/czarnecki/st/r2-learner/r2-learner/r2.py in _feed_forward(self=R2SVMLearner(C=1, activation='sigmoid', beta=0.8...9254,\n       use_linear_svc=None, use_prev=False), X=array([[ -4.95556541e-01,  -6.97811762e-01],\n   ...1],\n       [  1.20000000e+00,  -1.10702816e-01]]), i=0, Y=array([ 2.,  1.,  1.,  1.,  2.,  1.,  2.,  2.,  ...,  1.,  1.,  2.,\n        1.,  2.,  1.,  1.,  1.]))\n    127 \n    128         if i != self.depth - 1:\n    129             \n    130             if not self.fixed_prediction:\n    131                 self._o.append(self.models_[i].decision_function(X) if self.K > 2 else \\\n--> 132 \t\t                           np.vstack([-self.models_[i].decision_function(X).reshape(1, -1),\n        self.models_ = [SVC(C=1, cache_size=200, class_weight='auto', co...None,\n  shrinking=True, tol=0.001, verbose=False), SVC(C=1, cache_size=200, class_weight='auto', co...None,\n  shrinking=True, tol=0.001, verbose=False), SVC(C=1, cache_size=200, class_weight='auto', co...None,\n  shrinking=True, tol=0.001, verbose=False), SVC(C=1, cache_size=200, class_weight='auto', co...None,\n  shrinking=True, tol=0.001, verbose=False), SVC(C=1, cache_size=200, class_weight='auto', co...None,\n  shrinking=True, tol=0.001, verbose=False)]\n        i.decision_function = undefined\n        X.reshape = <built-in method reshape of numpy.ndarray object>\n        X.reshape.T = undefined\n    133 \t\t                                      self.models_[i].decision_function(X).reshape(1, -1)]).T)\n    134             elif isinstance(self.fixed_prediction, (int, long, float, complex)): \n    135                 self._o.append(np.ones(shape=(X.shape[0], self.K)) * self.fixed_prediction)\n    136             else:\n\n...........................................................................\n/lhome/home/czarnecki/staszek_tmp/tradeshift/local/lib/python2.7/site-packages/sklearn/svm/base.pyc in decision_function(self=SVC(C=1, cache_size=200, class_weight='auto', co...None,\n  shrinking=True, tol=0.001, verbose=False), X=array([[ -4.95556541e-01,  -6.97811762e-01],\n   ...1],\n       [  1.20000000e+00,  -1.10702816e-01]]))\n    353         -------\n    354         X : array-like, shape = [n_samples, n_class * (n_class-1) / 2]\n    355             Returns the decision function of the sample for each class\n    356             in the model.\n    357         \"\"\"\n--> 358         if self._sparse:\n    359             raise NotImplementedError(\"Decision_function not supported for\"\n    360                                       \" sparse SVM.\")\n    361 \n    362         X = self._validate_for_predict(X)\n\nAttributeError: 'SVC' object has no attribute '_sparse'\n___________________________________________________________________________",
       "output_type": "pyerr",
       "traceback": [
        "\u001b[1;31m---------------------------------------------------------------------------\u001b[0m\n\u001b[1;31mJoblibAttributeError\u001b[0m                      Traceback (most recent call last)",
        "\u001b[1;32m<ipython-input-77-3e930f7db202>\u001b[0m in \u001b[0;36m<module>\u001b[1;34m()\u001b[0m\n\u001b[0;32m      7\u001b[0m \u001b[1;33m\u001b[0m\u001b[0m\n\u001b[0;32m      8\u001b[0m \u001b[0ms\u001b[0m\u001b[1;33m=\u001b[0m\u001b[0mtime\u001b[0m\u001b[1;33m.\u001b[0m\u001b[0mtime\u001b[0m\u001b[1;33m(\u001b[0m\u001b[1;33m)\u001b[0m\u001b[1;33m\u001b[0m\u001b[0m\n\u001b[1;32m----> 9\u001b[1;33m \u001b[0mresults_random_cls\u001b[0m \u001b[1;33m=\u001b[0m \u001b[1;33m[\u001b[0m\u001b[0mtest\u001b[0m\u001b[1;33m(\u001b[0m\u001b[0mX_spiral\u001b[0m\u001b[1;33m,\u001b[0m \u001b[0mY_spiral\u001b[0m\u001b[1;33m,\u001b[0m \u001b[0mcv\u001b[0m\u001b[1;33m=\u001b[0m\u001b[0mTrue\u001b[0m\u001b[1;33m,\u001b[0m \u001b[0mfit_c\u001b[0m\u001b[1;33m=\u001b[0m\u001b[1;34m'random_cls'\u001b[0m\u001b[1;33m)\u001b[0m \u001b[1;32mfor\u001b[0m \u001b[0m_\u001b[0m \u001b[1;32min\u001b[0m \u001b[0mxrange\u001b[0m\u001b[1;33m(\u001b[0m\u001b[1;36m50\u001b[0m\u001b[1;33m)\u001b[0m\u001b[1;33m]\u001b[0m\u001b[1;33m\u001b[0m\u001b[0m\n\u001b[0m\u001b[0;32m     10\u001b[0m \u001b[1;32mprint\u001b[0m \u001b[0mmax\u001b[0m\u001b[1;33m(\u001b[0m\u001b[0mresults_random_cls\u001b[0m\u001b[1;33m)\u001b[0m\u001b[1;33m\u001b[0m\u001b[0m\n\u001b[0;32m     11\u001b[0m \u001b[1;32mprint\u001b[0m \u001b[0mtime\u001b[0m\u001b[1;33m.\u001b[0m\u001b[0mtime\u001b[0m\u001b[1;33m(\u001b[0m\u001b[1;33m)\u001b[0m \u001b[1;33m-\u001b[0m \u001b[0ms\u001b[0m\u001b[1;33m\u001b[0m\u001b[0m\n",
        "\u001b[1;32m<ipython-input-76-002f042e2f5a>\u001b[0m in \u001b[0;36mtest\u001b[1;34m(X, Y, cv, fit_c)\u001b[0m\n\u001b[0;32m      2\u001b[0m     \u001b[0mmodel\u001b[0m \u001b[1;33m=\u001b[0m \u001b[0mR2SVMLearner\u001b[0m\u001b[1;33m(\u001b[0m\u001b[0mdepth\u001b[0m\u001b[1;33m=\u001b[0m\u001b[1;36m5\u001b[0m\u001b[1;33m,\u001b[0m \u001b[0mbeta\u001b[0m\u001b[1;33m=\u001b[0m\u001b[1;36m0.8\u001b[0m\u001b[1;33m,\u001b[0m \u001b[0mfit_c\u001b[0m\u001b[1;33m=\u001b[0m\u001b[0mfit_c\u001b[0m\u001b[1;33m,\u001b[0m \u001b[0muse_prev\u001b[0m\u001b[1;33m=\u001b[0m\u001b[0mFalse\u001b[0m\u001b[1;33m,\u001b[0m \u001b[0mscale\u001b[0m\u001b[1;33m=\u001b[0m\u001b[0mTrue\u001b[0m\u001b[1;33m,\u001b[0m \u001b[0mactivation\u001b[0m\u001b[1;33m=\u001b[0m\u001b[1;34m'sigmoid'\u001b[0m\u001b[1;33m)\u001b[0m\u001b[1;33m\u001b[0m\u001b[0m\n\u001b[0;32m      3\u001b[0m     \u001b[1;32mif\u001b[0m \u001b[0mcv\u001b[0m\u001b[1;33m:\u001b[0m\u001b[1;33m\u001b[0m\u001b[0m\n\u001b[1;32m----> 4\u001b[1;33m         \u001b[0mac\u001b[0m \u001b[1;33m=\u001b[0m \u001b[0mnp\u001b[0m\u001b[1;33m.\u001b[0m\u001b[0mmean\u001b[0m\u001b[1;33m(\u001b[0m\u001b[0mcross_val_score\u001b[0m\u001b[1;33m(\u001b[0m\u001b[0mmodel\u001b[0m\u001b[1;33m,\u001b[0m \u001b[0mX\u001b[0m\u001b[1;33m,\u001b[0m \u001b[0mY\u001b[0m\u001b[1;33m,\u001b[0m \u001b[0mscoring\u001b[0m\u001b[1;33m=\u001b[0m\u001b[1;34m'accuracy'\u001b[0m\u001b[1;33m,\u001b[0m \u001b[0mcv\u001b[0m\u001b[1;33m=\u001b[0m\u001b[1;36m3\u001b[0m\u001b[1;33m,\u001b[0m \u001b[0mn_jobs\u001b[0m\u001b[1;33m=\u001b[0m\u001b[1;36m3\u001b[0m\u001b[1;33m)\u001b[0m\u001b[1;33m)\u001b[0m\u001b[1;33m\u001b[0m\u001b[0m\n\u001b[0m\u001b[0;32m      5\u001b[0m     \u001b[1;32melse\u001b[0m\u001b[1;33m:\u001b[0m\u001b[1;33m\u001b[0m\u001b[0m\n\u001b[0;32m      6\u001b[0m         \u001b[0mmodel\u001b[0m\u001b[1;33m.\u001b[0m\u001b[0mfit\u001b[0m\u001b[1;33m(\u001b[0m\u001b[0mX\u001b[0m\u001b[1;33m,\u001b[0m \u001b[0mY\u001b[0m\u001b[1;33m)\u001b[0m\u001b[1;33m\u001b[0m\u001b[0m\n",
        "\u001b[1;32m/lhome/home/czarnecki/staszek_tmp/tradeshift/local/lib/python2.7/site-packages/sklearn/cross_validation.pyc\u001b[0m in \u001b[0;36mcross_val_score\u001b[1;34m(estimator, X, y, scoring, cv, n_jobs, verbose, fit_params, score_func, pre_dispatch)\u001b[0m\n\u001b[0;32m   1149\u001b[0m                                               \u001b[0mtrain\u001b[0m\u001b[1;33m,\u001b[0m \u001b[0mtest\u001b[0m\u001b[1;33m,\u001b[0m \u001b[0mverbose\u001b[0m\u001b[1;33m,\u001b[0m \u001b[0mNone\u001b[0m\u001b[1;33m,\u001b[0m\u001b[1;33m\u001b[0m\u001b[0m\n\u001b[0;32m   1150\u001b[0m                                               fit_params)\n\u001b[1;32m-> 1151\u001b[1;33m                       for train, test in cv)\n\u001b[0m\u001b[0;32m   1152\u001b[0m     \u001b[1;32mreturn\u001b[0m \u001b[0mnp\u001b[0m\u001b[1;33m.\u001b[0m\u001b[0marray\u001b[0m\u001b[1;33m(\u001b[0m\u001b[0mscores\u001b[0m\u001b[1;33m)\u001b[0m\u001b[1;33m[\u001b[0m\u001b[1;33m:\u001b[0m\u001b[1;33m,\u001b[0m \u001b[1;36m0\u001b[0m\u001b[1;33m]\u001b[0m\u001b[1;33m\u001b[0m\u001b[0m\n\u001b[0;32m   1153\u001b[0m \u001b[1;33m\u001b[0m\u001b[0m\n",
        "\u001b[1;32m/lhome/home/czarnecki/staszek_tmp/tradeshift/local/lib/python2.7/site-packages/sklearn/externals/joblib/parallel.pyc\u001b[0m in \u001b[0;36m__call__\u001b[1;34m(self, iterable)\u001b[0m\n\u001b[0;32m    658\u001b[0m                 \u001b[1;31m# consumption.\u001b[0m\u001b[1;33m\u001b[0m\u001b[1;33m\u001b[0m\u001b[0m\n\u001b[0;32m    659\u001b[0m                 \u001b[0mself\u001b[0m\u001b[1;33m.\u001b[0m\u001b[0m_iterating\u001b[0m \u001b[1;33m=\u001b[0m \u001b[0mFalse\u001b[0m\u001b[1;33m\u001b[0m\u001b[0m\n\u001b[1;32m--> 660\u001b[1;33m             \u001b[0mself\u001b[0m\u001b[1;33m.\u001b[0m\u001b[0mretrieve\u001b[0m\u001b[1;33m(\u001b[0m\u001b[1;33m)\u001b[0m\u001b[1;33m\u001b[0m\u001b[0m\n\u001b[0m\u001b[0;32m    661\u001b[0m             \u001b[1;31m# Make sure that we get a last message telling us we are done\u001b[0m\u001b[1;33m\u001b[0m\u001b[1;33m\u001b[0m\u001b[0m\n\u001b[0;32m    662\u001b[0m             \u001b[0melapsed_time\u001b[0m \u001b[1;33m=\u001b[0m \u001b[0mtime\u001b[0m\u001b[1;33m.\u001b[0m\u001b[0mtime\u001b[0m\u001b[1;33m(\u001b[0m\u001b[1;33m)\u001b[0m \u001b[1;33m-\u001b[0m \u001b[0mself\u001b[0m\u001b[1;33m.\u001b[0m\u001b[0m_start_time\u001b[0m\u001b[1;33m\u001b[0m\u001b[0m\n",
        "\u001b[1;32m/lhome/home/czarnecki/staszek_tmp/tradeshift/local/lib/python2.7/site-packages/sklearn/externals/joblib/parallel.pyc\u001b[0m in \u001b[0;36mretrieve\u001b[1;34m(self)\u001b[0m\n\u001b[0;32m    541\u001b[0m                         \u001b[1;31m# Convert this to a JoblibException\u001b[0m\u001b[1;33m\u001b[0m\u001b[1;33m\u001b[0m\u001b[0m\n\u001b[0;32m    542\u001b[0m                         \u001b[0mexception_type\u001b[0m \u001b[1;33m=\u001b[0m \u001b[0m_mk_exception\u001b[0m\u001b[1;33m(\u001b[0m\u001b[0mexception\u001b[0m\u001b[1;33m.\u001b[0m\u001b[0metype\u001b[0m\u001b[1;33m)\u001b[0m\u001b[1;33m[\u001b[0m\u001b[1;36m0\u001b[0m\u001b[1;33m]\u001b[0m\u001b[1;33m\u001b[0m\u001b[0m\n\u001b[1;32m--> 543\u001b[1;33m                         \u001b[1;32mraise\u001b[0m \u001b[0mexception_type\u001b[0m\u001b[1;33m(\u001b[0m\u001b[0mreport\u001b[0m\u001b[1;33m)\u001b[0m\u001b[1;33m\u001b[0m\u001b[0m\n\u001b[0m\u001b[0;32m    544\u001b[0m                     \u001b[1;32mraise\u001b[0m \u001b[0mexception\u001b[0m\u001b[1;33m\u001b[0m\u001b[0m\n\u001b[0;32m    545\u001b[0m                 \u001b[1;32mfinally\u001b[0m\u001b[1;33m:\u001b[0m\u001b[1;33m\u001b[0m\u001b[0m\n",
        "\u001b[1;31mJoblibAttributeError\u001b[0m: JoblibAttributeError\n___________________________________________________________________________\nMultiprocessing exception:\n    ...........................................................................\n/lhome/home/czarnecki/st/r2-learner/r2-learner/notebooks/<string> in <module>()\n----> 1 \n      2 \n      3 \n      4 \n      5 \n      6 \n      7 \n      8 \n      9 \n     10 \n\n...........................................................................\n/lhome/home/czarnecki/staszek_tmp/tradeshift/local/lib/python2.7/site-packages/IPython/kernel/zmq/kernelapp.py in main()\n    464 \n    465 def main():\n    466     \"\"\"Run an IPKernel as an application\"\"\"\n    467     app = IPKernelApp.instance()\n    468     app.initialize()\n--> 469     app.start()\n        app.start = <bound method IPKernelApp.start of <IPython.kernel.zmq.kernelapp.IPKernelApp object>>\n    470 \n    471 \n    472 if __name__ == '__main__':\n    473     main()\n\n...........................................................................\n/lhome/home/czarnecki/staszek_tmp/tradeshift/local/lib/python2.7/site-packages/IPython/kernel/zmq/kernelapp.py in start(self=<IPython.kernel.zmq.kernelapp.IPKernelApp object>)\n    454     def start(self):\n    455         if self.poller is not None:\n    456             self.poller.start()\n    457         self.kernel.start()\n    458         try:\n--> 459             ioloop.IOLoop.instance().start()\n    460         except KeyboardInterrupt:\n    461             pass\n    462 \n    463 launch_new_instance = IPKernelApp.launch_instance\n\n...........................................................................\n/lhome/home/czarnecki/staszek_tmp/tradeshift/local/lib/python2.7/site-packages/zmq/eventloop/ioloop.py in start(self=<zmq.eventloop.ioloop.ZMQIOLoop object>)\n    146             PollIOLoop.configure(ZMQIOLoop)\n    147         return PollIOLoop.instance()\n    148     \n    149     def start(self):\n    150         try:\n--> 151             super(ZMQIOLoop, self).start()\n        self.start = <bound method ZMQIOLoop.start of <zmq.eventloop.ioloop.ZMQIOLoop object>>\n    152         except ZMQError as e:\n    153             if e.errno == ETERM:\n    154                 # quietly return on ETERM\n    155                 pass\n\n...........................................................................\n/lhome/home/czarnecki/staszek_tmp/tradeshift/local/lib/python2.7/site-packages/tornado/ioloop.py in start(self=<zmq.eventloop.ioloop.ZMQIOLoop object>)\n    832                 self._events.update(event_pairs)\n    833                 while self._events:\n    834                     fd, events = self._events.popitem()\n    835                     try:\n    836                         fd_obj, handler_func = self._handlers[fd]\n--> 837                         handler_func(fd_obj, events)\n        handler_func = <function null_wrapper>\n        fd_obj = <zmq.sugar.socket.Socket object>\n        events = 1\n    838                     except (OSError, IOError) as e:\n    839                         if errno_from_exception(e) == errno.EPIPE:\n    840                             # Happens when the client closes the connection\n    841                             pass\n\n...........................................................................\n/lhome/home/czarnecki/staszek_tmp/tradeshift/local/lib/python2.7/site-packages/tornado/stack_context.py in null_wrapper(*args=(<zmq.sugar.socket.Socket object>, 1), **kwargs={})\n    270         # Fast path when there are no active contexts.\n    271         def null_wrapper(*args, **kwargs):\n    272             try:\n    273                 current_state = _state.contexts\n    274                 _state.contexts = cap_contexts[0]\n--> 275                 return fn(*args, **kwargs)\n        args = (<zmq.sugar.socket.Socket object>, 1)\n        kwargs = {}\n    276             finally:\n    277                 _state.contexts = current_state\n    278         null_wrapper._wrapped = True\n    279         return null_wrapper\n\n...........................................................................\n/lhome/home/czarnecki/staszek_tmp/tradeshift/local/lib/python2.7/site-packages/zmq/eventloop/zmqstream.py in _handle_events(self=<zmq.eventloop.zmqstream.ZMQStream object>, fd=<zmq.sugar.socket.Socket object>, events=1)\n    428             # dispatch events:\n    429             if events & IOLoop.ERROR:\n    430                 gen_log.error(\"got POLLERR event on ZMQStream, which doesn't make sense\")\n    431                 return\n    432             if events & IOLoop.READ:\n--> 433                 self._handle_recv()\n        self._handle_recv = <bound method ZMQStream._handle_recv of <zmq.eventloop.zmqstream.ZMQStream object>>\n    434                 if not self.socket:\n    435                     return\n    436             if events & IOLoop.WRITE:\n    437                 self._handle_send()\n\n...........................................................................\n/lhome/home/czarnecki/staszek_tmp/tradeshift/local/lib/python2.7/site-packages/zmq/eventloop/zmqstream.py in _handle_recv(self=<zmq.eventloop.zmqstream.ZMQStream object>)\n    460                 gen_log.error(\"RECV Error: %s\"%zmq.strerror(e.errno))\n    461         else:\n    462             if self._recv_callback:\n    463                 callback = self._recv_callback\n    464                 # self._recv_callback = None\n--> 465                 self._run_callback(callback, msg)\n        self._run_callback = <bound method ZMQStream._run_callback of <zmq.eventloop.zmqstream.ZMQStream object>>\n        callback = <function null_wrapper>\n        msg = [<zmq.sugar.frame.Frame object>, <zmq.sugar.frame.Frame object>, <zmq.sugar.frame.Frame object>, <zmq.sugar.frame.Frame object>, <zmq.sugar.frame.Frame object>, <zmq.sugar.frame.Frame object>, <zmq.sugar.frame.Frame object>]\n    466                 \n    467         # self.update_state()\n    468         \n    469 \n\n...........................................................................\n/lhome/home/czarnecki/staszek_tmp/tradeshift/local/lib/python2.7/site-packages/zmq/eventloop/zmqstream.py in _run_callback(self=<zmq.eventloop.zmqstream.ZMQStream object>, callback=<function null_wrapper>, *args=([<zmq.sugar.frame.Frame object>, <zmq.sugar.frame.Frame object>, <zmq.sugar.frame.Frame object>, <zmq.sugar.frame.Frame object>, <zmq.sugar.frame.Frame object>, <zmq.sugar.frame.Frame object>, <zmq.sugar.frame.Frame object>],), **kwargs={})\n    402         close our socket.\"\"\"\n    403         try:\n    404             # Use a NullContext to ensure that all StackContexts are run\n    405             # inside our blanket exception handler rather than outside.\n    406             with stack_context.NullContext():\n--> 407                 callback(*args, **kwargs)\n        callback = <function null_wrapper>\n        args = ([<zmq.sugar.frame.Frame object>, <zmq.sugar.frame.Frame object>, <zmq.sugar.frame.Frame object>, <zmq.sugar.frame.Frame object>, <zmq.sugar.frame.Frame object>, <zmq.sugar.frame.Frame object>, <zmq.sugar.frame.Frame object>],)\n        kwargs = {}\n    408         except:\n    409             gen_log.error(\"Uncaught exception, closing connection.\",\n    410                           exc_info=True)\n    411             # Close the socket on an uncaught exception from a user callback\n\n...........................................................................\n/lhome/home/czarnecki/staszek_tmp/tradeshift/local/lib/python2.7/site-packages/tornado/stack_context.py in null_wrapper(*args=([<zmq.sugar.frame.Frame object>, <zmq.sugar.frame.Frame object>, <zmq.sugar.frame.Frame object>, <zmq.sugar.frame.Frame object>, <zmq.sugar.frame.Frame object>, <zmq.sugar.frame.Frame object>, <zmq.sugar.frame.Frame object>],), **kwargs={})\n    270         # Fast path when there are no active contexts.\n    271         def null_wrapper(*args, **kwargs):\n    272             try:\n    273                 current_state = _state.contexts\n    274                 _state.contexts = cap_contexts[0]\n--> 275                 return fn(*args, **kwargs)\n        args = ([<zmq.sugar.frame.Frame object>, <zmq.sugar.frame.Frame object>, <zmq.sugar.frame.Frame object>, <zmq.sugar.frame.Frame object>, <zmq.sugar.frame.Frame object>, <zmq.sugar.frame.Frame object>, <zmq.sugar.frame.Frame object>],)\n        kwargs = {}\n    276             finally:\n    277                 _state.contexts = current_state\n    278         null_wrapper._wrapped = True\n    279         return null_wrapper\n\n...........................................................................\n/lhome/home/czarnecki/staszek_tmp/tradeshift/local/lib/python2.7/site-packages/IPython/kernel/zmq/ipkernel.py in dispatcher(msg=[<zmq.sugar.frame.Frame object>, <zmq.sugar.frame.Frame object>, <zmq.sugar.frame.Frame object>, <zmq.sugar.frame.Frame object>, <zmq.sugar.frame.Frame object>, <zmq.sugar.frame.Frame object>, <zmq.sugar.frame.Frame object>])\n    276         if self.control_stream:\n    277             self.control_stream.on_recv(self.dispatch_control, copy=False)\n    278 \n    279         def make_dispatcher(stream):\n    280             def dispatcher(msg):\n--> 281                 return self.dispatch_shell(stream, msg)\n        msg = [<zmq.sugar.frame.Frame object>, <zmq.sugar.frame.Frame object>, <zmq.sugar.frame.Frame object>, <zmq.sugar.frame.Frame object>, <zmq.sugar.frame.Frame object>, <zmq.sugar.frame.Frame object>, <zmq.sugar.frame.Frame object>]\n    282             return dispatcher\n    283 \n    284         for s in self.shell_streams:\n    285             s.on_recv(make_dispatcher(s), copy=False)\n\n...........................................................................\n/lhome/home/czarnecki/staszek_tmp/tradeshift/local/lib/python2.7/site-packages/IPython/kernel/zmq/ipkernel.py in dispatch_shell(self=<IPython.kernel.zmq.ipkernel.Kernel object>, stream=<zmq.eventloop.zmqstream.ZMQStream object>, msg={'buffers': [], 'content': {u'allow_stdin': True, u'code': u\"import time\\ns=time.time()\\nresults_fit_c = [t...t max(results_random_cls)\\nprint time.time() - s\", u'silent': False, u'store_history': True, u'user_expressions': {}, u'user_variables': []}, 'header': {u'msg_id': u'707B8303706D4895B40625F63A04033C', u'msg_type': u'execute_request', u'session': u'2D9D0315A85049C0B0DF2E0E2AFDF513', u'username': u'username'}, 'metadata': {}, 'msg_id': u'707B8303706D4895B40625F63A04033C', 'msg_type': u'execute_request', 'parent_header': {}})\n    240             self.log.error(\"UNKNOWN MESSAGE TYPE: %r\", msg_type)\n    241         else:\n    242             # ensure default_int_handler during handler call\n    243             sig = signal(SIGINT, default_int_handler)\n    244             try:\n--> 245                 handler(stream, idents, msg)\n        handler = <bound method Kernel.execute_request of <IPython.kernel.zmq.ipkernel.Kernel object>>\n        stream = <zmq.eventloop.zmqstream.ZMQStream object>\n        idents = ['2D9D0315A85049C0B0DF2E0E2AFDF513']\n        msg = {'buffers': [], 'content': {u'allow_stdin': True, u'code': u\"import time\\ns=time.time()\\nresults_fit_c = [t...t max(results_random_cls)\\nprint time.time() - s\", u'silent': False, u'store_history': True, u'user_expressions': {}, u'user_variables': []}, 'header': {u'msg_id': u'707B8303706D4895B40625F63A04033C', u'msg_type': u'execute_request', u'session': u'2D9D0315A85049C0B0DF2E0E2AFDF513', u'username': u'username'}, 'metadata': {}, 'msg_id': u'707B8303706D4895B40625F63A04033C', 'msg_type': u'execute_request', 'parent_header': {}}\n    246             except Exception:\n    247                 self.log.error(\"Exception in message handler:\", exc_info=True)\n    248             finally:\n    249                 signal(SIGINT, sig)\n\n...........................................................................\n/lhome/home/czarnecki/staszek_tmp/tradeshift/local/lib/python2.7/site-packages/IPython/kernel/zmq/ipkernel.py in execute_request(self=<IPython.kernel.zmq.ipkernel.Kernel object>, stream=<zmq.eventloop.zmqstream.ZMQStream object>, ident=['2D9D0315A85049C0B0DF2E0E2AFDF513'], parent={'buffers': [], 'content': {u'allow_stdin': True, u'code': u\"import time\\ns=time.time()\\nresults_fit_c = [t...t max(results_random_cls)\\nprint time.time() - s\", u'silent': False, u'store_history': True, u'user_expressions': {}, u'user_variables': []}, 'header': {u'msg_id': u'707B8303706D4895B40625F63A04033C', u'msg_type': u'execute_request', u'session': u'2D9D0315A85049C0B0DF2E0E2AFDF513', u'username': u'username'}, 'metadata': {}, 'msg_id': u'707B8303706D4895B40625F63A04033C', 'msg_type': u'execute_request', 'parent_header': {}})\n    384 \n    385         reply_content = {}\n    386         # FIXME: the shell calls the exception handler itself.\n    387         shell._reply_content = None\n    388         try:\n--> 389             shell.run_cell(code, store_history=store_history, silent=silent)\n        shell.run_cell = <bound method ZMQInteractiveShell.run_cell of <I....kernel.zmq.zmqshell.ZMQInteractiveShell object>>\n        code = u\"import time\\ns=time.time()\\nresults_fit_c = [t...t max(results_random_cls)\\nprint time.time() - s\"\n        store_history = True\n        silent = False\n    390         except:\n    391             status = u'error'\n    392             # FIXME: this code right now isn't being used yet by default,\n    393             # because the run_cell() call above directly fires off exception\n\n...........................................................................\n/lhome/home/czarnecki/staszek_tmp/tradeshift/local/lib/python2.7/site-packages/IPython/core/interactiveshell.py in run_cell(self=<IPython.kernel.zmq.zmqshell.ZMQInteractiveShell object>, raw_cell=u\"import time\\ns=time.time()\\nresults_fit_c = [t...t max(results_random_cls)\\nprint time.time() - s\", store_history=True, silent=False, shell_futures=True)\n   2736                 code_ast = self.transform_ast(code_ast)\n   2737 \n   2738                 # Execute the user code\n   2739                 interactivity = \"none\" if silent else self.ast_node_interactivity\n   2740                 self.run_ast_nodes(code_ast.body, cell_name,\n-> 2741                                    interactivity=interactivity, compiler=compiler)\n        interactivity = 'last_expr'\n        compiler = <IPython.core.compilerop.CachingCompiler instance>\n   2742                 \n   2743                 self.events.trigger('post_execute')\n   2744                 if not silent:\n   2745                     self.events.trigger('post_run_cell')\n\n...........................................................................\n/lhome/home/czarnecki/staszek_tmp/tradeshift/local/lib/python2.7/site-packages/IPython/core/interactiveshell.py in run_ast_nodes(self=<IPython.kernel.zmq.zmqshell.ZMQInteractiveShell object>, nodelist=[<_ast.Import object>, <_ast.Assign object>, <_ast.Assign object>, <_ast.Print object>, <_ast.Print object>, <_ast.Import object>, <_ast.Assign object>, <_ast.Assign object>, <_ast.Print object>, <_ast.Print object>], cell_name='<ipython-input-77-3e930f7db202>', interactivity='none', compiler=<IPython.core.compilerop.CachingCompiler instance>)\n   2822 \n   2823         try:\n   2824             for i, node in enumerate(to_run_exec):\n   2825                 mod = ast.Module([node])\n   2826                 code = compiler(mod, cell_name, \"exec\")\n-> 2827                 if self.run_code(code):\n        self.run_code = <bound method ZMQInteractiveShell.run_code of <I....kernel.zmq.zmqshell.ZMQInteractiveShell object>>\n        code = <code object <module> at 0x7fe87ac07cb0, file \"<ipython-input-77-3e930f7db202>\", line 9>\n   2828                     return True\n   2829 \n   2830             for i, node in enumerate(to_run_interactive):\n   2831                 mod = ast.Interactive([node])\n\n...........................................................................\n/lhome/home/czarnecki/staszek_tmp/tradeshift/local/lib/python2.7/site-packages/IPython/core/interactiveshell.py in run_code(self=<IPython.kernel.zmq.zmqshell.ZMQInteractiveShell object>, code_obj=<code object <module> at 0x7fe87ac07cb0, file \"<ipython-input-77-3e930f7db202>\", line 9>)\n   2878         outflag = 1  # happens in more places, so it's easier as default\n   2879         try:\n   2880             try:\n   2881                 self.hooks.pre_run_code_hook()\n   2882                 #rprint('Running code', repr(code_obj)) # dbg\n-> 2883                 exec(code_obj, self.user_global_ns, self.user_ns)\n        code_obj = <code object <module> at 0x7fe87ac07cb0, file \"<ipython-input-77-3e930f7db202>\", line 9>\n        self.user_global_ns = {'BaseEstimator': <class 'sklearn.base.BaseEstimator'>, 'Bunch': <class 'data_api.Bunch'>, 'ELM': <class 'elm.ELM'>, 'GridSearchCV': <class 'sklearn.grid_search.GridSearchCV'>, 'In': ['', u'get_ipython().magic(u\\'load_ext autoreload\\')\\...n\\n\\nget_ipython().magic(u\\'matplotlib inline\\')', u'X_moon, Y_moon = sklearn.datasets.make_moons(n... np.loadtxt(\"../data/two_spirals.y\", skiprows=1)', u'm2 =LinearSVC().fit(X_spiral, Y_spiral)', u'm2.get_params()', u'm = _r2_compress_model(m)', u'from r2 import _r2_compress_model', u'm = _r2_compress_model(m)', u'm = _r2_compress_model(m)', u\"m = R2SVMLearner(beta=0.9, depth=3, fit_c='random_cls').fit(X_spiral, Y_spiral)\", u'm.models_[0]', u\"m = R2SVMLearner(beta=0.9, depth=3, fit_c='random_cls').fit(X_spiral, Y_spiral)\", u\"m = R2SVMLearner(beta=0.9, depth=3, fit_c='random').fit(X_spiral, Y_spiral)\", u'print sklearn.metrics.accuracy_score(m.predict(X_spiral), Y_spiral)', u'm.models_[0]', u'from r2 import _r2_compress_model', u\"m = R2SVMLearner(beta=0.9, depth=3, fit_c='random').fit(X_spiral, Y_spiral)\", u'get_ipython().magic(u\\'load_ext autoreload\\')\\...n\\n\\nget_ipython().magic(u\\'matplotlib inline\\')', u'm.models_[0]', u'm = _r2_compress_model(m)', ...], 'KFold': <class 'sklearn.cross_validation.KFold'>, 'LabelBinarizer': <class 'sklearn.preprocessing.label.LabelBinarizer'>, 'LinearSVC': <class 'sklearn.svm.classes.LinearSVC'>, 'MinMaxScaler': <class 'sklearn.preprocessing.data.MinMaxScaler'>, 'MyLinModel': <class 'r2.MyLinModel'>, ...}\n        self.user_ns = {'BaseEstimator': <class 'sklearn.base.BaseEstimator'>, 'Bunch': <class 'data_api.Bunch'>, 'ELM': <class 'elm.ELM'>, 'GridSearchCV': <class 'sklearn.grid_search.GridSearchCV'>, 'In': ['', u'get_ipython().magic(u\\'load_ext autoreload\\')\\...n\\n\\nget_ipython().magic(u\\'matplotlib inline\\')', u'X_moon, Y_moon = sklearn.datasets.make_moons(n... np.loadtxt(\"../data/two_spirals.y\", skiprows=1)', u'm2 =LinearSVC().fit(X_spiral, Y_spiral)', u'm2.get_params()', u'm = _r2_compress_model(m)', u'from r2 import _r2_compress_model', u'm = _r2_compress_model(m)', u'm = _r2_compress_model(m)', u\"m = R2SVMLearner(beta=0.9, depth=3, fit_c='random_cls').fit(X_spiral, Y_spiral)\", u'm.models_[0]', u\"m = R2SVMLearner(beta=0.9, depth=3, fit_c='random_cls').fit(X_spiral, Y_spiral)\", u\"m = R2SVMLearner(beta=0.9, depth=3, fit_c='random').fit(X_spiral, Y_spiral)\", u'print sklearn.metrics.accuracy_score(m.predict(X_spiral), Y_spiral)', u'm.models_[0]', u'from r2 import _r2_compress_model', u\"m = R2SVMLearner(beta=0.9, depth=3, fit_c='random').fit(X_spiral, Y_spiral)\", u'get_ipython().magic(u\\'load_ext autoreload\\')\\...n\\n\\nget_ipython().magic(u\\'matplotlib inline\\')', u'm.models_[0]', u'm = _r2_compress_model(m)', ...], 'KFold': <class 'sklearn.cross_validation.KFold'>, 'LabelBinarizer': <class 'sklearn.preprocessing.label.LabelBinarizer'>, 'LinearSVC': <class 'sklearn.svm.classes.LinearSVC'>, 'MinMaxScaler': <class 'sklearn.preprocessing.data.MinMaxScaler'>, 'MyLinModel': <class 'r2.MyLinModel'>, ...}\n   2884             finally:\n   2885                 # Reset our crash handler in place\n   2886                 sys.excepthook = old_excepthook\n   2887         except SystemExit:\n\n...........................................................................\n/lhome/home/czarnecki/st/r2-learner/r2-learner/notebooks/<ipython-input-77-3e930f7db202> in <module>()\n      4 print max(results_fit_c)\n      5 print time.time() - s\n      6 import time\n      7 \n      8 s=time.time()\n----> 9 results_random_cls = [test(X_spiral, Y_spiral, cv=True, fit_c='random_cls') for _ in xrange(50)]\n     10 print max(results_random_cls)\n     11 print time.time() - s\n     12 \n     13 \n\n...........................................................................\n/lhome/home/czarnecki/st/r2-learner/r2-learner/notebooks/<ipython-input-76-002f042e2f5a> in test(X=array([[  3.33333300e-01,   0.00000000e+00],\n   ...1],\n       [  1.65196400e+00,  -1.38719300e-01]]), Y=array([ 1.,  2.,  2.,  1.,  2.,  1.,  2.,  1.,  ...2.,  2.,  1.,  1.,  2.,  1.,  2.,  1.,  1.,  1.]), cv=True, fit_c='random_cls')\n      1 \n      2 \n      3 def test(X, Y, cv=True, fit_c='random'):\n----> 4     model = R2SVMLearner(depth=5, beta=0.8, fit_c=fit_c, use_prev=False, scale=True, activation='sigmoid')\n      5     if cv:\n      6         ac = np.mean(cross_val_score(model, X, Y, scoring='accuracy', cv=3, n_jobs=3))\n      7     else:\n      8         model.fit(X, Y)\n      9         ac = sklearn.metrics.accuracy_score(Y, model.predict(X))\n     10     return ac\n\n...........................................................................\n/lhome/home/czarnecki/staszek_tmp/tradeshift/local/lib/python2.7/site-packages/sklearn/cross_validation.py in cross_val_score(estimator=R2SVMLearner(C=1, activation='sigmoid', beta=0.8...None,\n       use_linear_svc=None, use_prev=False), X=array([[  3.33333300e-01,   0.00000000e+00],\n   ...1],\n       [  1.65196400e+00,  -1.38719300e-01]]), y=array([ 1.,  2.,  2.,  1.,  2.,  1.,  2.,  1.,  ...2.,  2.,  1.,  1.,  2.,  1.,  2.,  1.,  1.,  1.]), scoring='accuracy', cv=sklearn.cross_validation.KFold(n=300, n_folds=3, shuffle=False, random_state=None), n_jobs=3, verbose=0, fit_params=None, score_func=None, pre_dispatch='2*n_jobs')\n   1146     parallel = Parallel(n_jobs=n_jobs, verbose=verbose,\n   1147                         pre_dispatch=pre_dispatch)\n   1148     scores = parallel(delayed(_fit_and_score)(clone(estimator), X, y, scorer,\n   1149                                               train, test, verbose, None,\n   1150                                               fit_params)\n-> 1151                       for train, test in cv)\n        cv = sklearn.cross_validation.KFold(n=300, n_folds=3, shuffle=False, random_state=None)\n   1152     return np.array(scores)[:, 0]\n   1153 \n   1154 \n   1155 def _fit_and_score(estimator, X, y, scorer, train, test, verbose, parameters,\n\n...........................................................................\n/lhome/home/czarnecki/staszek_tmp/tradeshift/local/lib/python2.7/site-packages/sklearn/externals/joblib/parallel.py in __call__(self=Parallel(n_jobs=3), iterable=<itertools.islice object>)\n    655             if pre_dispatch == \"all\" or n_jobs == 1:\n    656                 # The iterable was consumed all at once by the above for loop.\n    657                 # No need to wait for async callbacks to trigger to\n    658                 # consumption.\n    659                 self._iterating = False\n--> 660             self.retrieve()\n        self.retrieve = <bound method Parallel.retrieve of Parallel(n_jobs=3)>\n    661             # Make sure that we get a last message telling us we are done\n    662             elapsed_time = time.time() - self._start_time\n    663             self._print('Done %3i out of %3i | elapsed: %s finished',\n    664                         (len(self._output),\n\n    ---------------------------------------------------------------------------\n    Sub-process traceback:\n    ---------------------------------------------------------------------------\n    AttributeError                                     Wed Mar 18 09:21:41 2015\nPID: 17757Python 2.7.8: /lhome/home/czarnecki/staszek_tmp/tradeshift/bin/python\n...........................................................................\n/lhome/home/czarnecki/staszek_tmp/tradeshift/local/lib/python2.7/site-packages/sklearn/cross_validation.pyc in _fit_and_score(estimator=R2SVMLearner(C=1, activation='sigmoid', beta=0.8...9254,\n       use_linear_svc=None, use_prev=False), X=array([[  3.33333300e-01,   0.00000000e+00],\n   ...1],\n       [  1.65196400e+00,  -1.38719300e-01]]), y=array([ 1.,  2.,  2.,  1.,  2.,  1.,  2.,  1.,  ...2.,  2.,  1.,  1.,  2.,  1.,  2.,  1.,  1.,  1.]), scorer=make_scorer(accuracy_score), train=array([100, 101, 102, 103, 104, 105, 106, 107, 1..., 292, 293, 294,\n       295, 296, 297, 298, 299]), test=array([ 0,  1,  2,  3,  4,  5,  6,  7,  8,  9, 1... 88, 89, 90, 91, 92, 93, 94, 95, 96, 97, 98, 99]), verbose=0, parameters=None, fit_params={}, return_train_score=False, return_parameters=False)\n   1234     X_train, y_train = _safe_split(estimator, X, y, train)\n   1235     X_test, y_test = _safe_split(estimator, X, y, test, train)\n   1236     if y_train is None:\n   1237         estimator.fit(X_train, **fit_params)\n   1238     else:\n-> 1239         estimator.fit(X_train, y_train, **fit_params)\n   1240     test_score = _score(estimator, X_test, y_test, scorer)\n   1241     if return_train_score:\n   1242         train_score = _score(estimator, X_train, y_train, scorer)\n   1243 \n\n...........................................................................\n/lhome/home/czarnecki/st/r2-learner/r2-learner/r2.py in fit(self=R2SVMLearner(C=1, activation='sigmoid', beta=0.8...9254,\n       use_linear_svc=None, use_prev=False), X=array([[ -4.95556541e-01,  -6.97811762e-01],\n   ...1],\n       [  1.20000000e+00,  -1.10702816e-01]]), Y=array([ 2.,  1.,  1.,  1.,  2.,  1.,  2.,  2.,  ...,  1.,  1.,  2.,\n        1.,  2.,  1.,  1.,  1.]), W=None)\n    198             X = self.scalers_[0].fit_transform(X)\n    199         self._fitted = False\n    200 \n    201         # Fit\n    202         for i in xrange(self.depth):\n--> 203             X = self._feed_forward(X, i, Y)\n        X = array([[ -4.95556541e-01,  -6.97811762e-01],\n   ...1],\n       [  1.20000000e+00,  -1.10702816e-01]])\n        self._feed_forward = <bound method R2SVMLearner._feed_forward of R2SV...254,\n       use_linear_svc=None, use_prev=False)>\n        i = 0\n        Y = array([ 2.,  1.,  1.,  1.,  2.,  1.,  2.,  2.,  ...,  1.,  1.,  2.,\n        1.,  2.,  1.,  1.,  1.])\n    204 \n    205         return self\n    206 \n    207     def predict(self, X, all_layers=False):\n\n...........................................................................\n/lhome/home/czarnecki/st/r2-learner/r2-learner/r2.py in _feed_forward(self=R2SVMLearner(C=1, activation='sigmoid', beta=0.8...9254,\n       use_linear_svc=None, use_prev=False), X=array([[ -4.95556541e-01,  -6.97811762e-01],\n   ...1],\n       [  1.20000000e+00,  -1.10702816e-01]]), i=0, Y=array([ 2.,  1.,  1.,  1.,  2.,  1.,  2.,  2.,  ...,  1.,  1.,  2.,\n        1.,  2.,  1.,  1.,  1.]))\n    127 \n    128         if i != self.depth - 1:\n    129             \n    130             if not self.fixed_prediction:\n    131                 self._o.append(self.models_[i].decision_function(X) if self.K > 2 else \\\n--> 132 \t\t                           np.vstack([-self.models_[i].decision_function(X).reshape(1, -1),\n        self.models_ = [SVC(C=1, cache_size=200, class_weight='auto', co...None,\n  shrinking=True, tol=0.001, verbose=False), SVC(C=1, cache_size=200, class_weight='auto', co...None,\n  shrinking=True, tol=0.001, verbose=False), SVC(C=1, cache_size=200, class_weight='auto', co...None,\n  shrinking=True, tol=0.001, verbose=False), SVC(C=1, cache_size=200, class_weight='auto', co...None,\n  shrinking=True, tol=0.001, verbose=False), SVC(C=1, cache_size=200, class_weight='auto', co...None,\n  shrinking=True, tol=0.001, verbose=False)]\n        i.decision_function = undefined\n        X.reshape = <built-in method reshape of numpy.ndarray object>\n        X.reshape.T = undefined\n    133 \t\t                                      self.models_[i].decision_function(X).reshape(1, -1)]).T)\n    134             elif isinstance(self.fixed_prediction, (int, long, float, complex)): \n    135                 self._o.append(np.ones(shape=(X.shape[0], self.K)) * self.fixed_prediction)\n    136             else:\n\n...........................................................................\n/lhome/home/czarnecki/staszek_tmp/tradeshift/local/lib/python2.7/site-packages/sklearn/svm/base.pyc in decision_function(self=SVC(C=1, cache_size=200, class_weight='auto', co...None,\n  shrinking=True, tol=0.001, verbose=False), X=array([[ -4.95556541e-01,  -6.97811762e-01],\n   ...1],\n       [  1.20000000e+00,  -1.10702816e-01]]))\n    353         -------\n    354         X : array-like, shape = [n_samples, n_class * (n_class-1) / 2]\n    355             Returns the decision function of the sample for each class\n    356             in the model.\n    357         \"\"\"\n--> 358         if self._sparse:\n    359             raise NotImplementedError(\"Decision_function not supported for\"\n    360                                       \" sparse SVM.\")\n    361 \n    362         X = self._validate_for_predict(X)\n\nAttributeError: 'SVC' object has no attribute '_sparse'\n___________________________________________________________________________"
       ]
      }
     ],
     "prompt_number": 77
    },
    {
     "cell_type": "code",
     "collapsed": false,
     "input": [
      "print max(results_random_cls), max(results_fit_c)"
     ],
     "language": "python",
     "metadata": {},
     "outputs": [
      {
       "ename": "NameError",
       "evalue": "name 'results_random_cls' is not defined",
       "output_type": "pyerr",
       "traceback": [
        "\u001b[1;31m---------------------------------------------------------------------------\u001b[0m\n\u001b[1;31mNameError\u001b[0m                                 Traceback (most recent call last)",
        "\u001b[1;32m<ipython-input-50-3da2c3bb9551>\u001b[0m in \u001b[0;36m<module>\u001b[1;34m()\u001b[0m\n\u001b[1;32m----> 1\u001b[1;33m \u001b[1;32mprint\u001b[0m \u001b[0mmax\u001b[0m\u001b[1;33m(\u001b[0m\u001b[0mresults_random_cls\u001b[0m\u001b[1;33m)\u001b[0m\u001b[1;33m,\u001b[0m \u001b[0mmax\u001b[0m\u001b[1;33m(\u001b[0m\u001b[0mresults_fit_c\u001b[0m\u001b[1;33m)\u001b[0m\u001b[1;33m\u001b[0m\u001b[0m\n\u001b[0m",
        "\u001b[1;31mNameError\u001b[0m: name 'results_random_cls' is not defined"
       ]
      }
     ],
     "prompt_number": 50
    },
    {
     "cell_type": "code",
     "collapsed": false,
     "input": [
      "import numpy as np\n",
      "import scipy\n",
      "\n",
      "import sklearn\n",
      "from sklearn.svm import SVC, LinearSVC\n",
      "from sklearn.preprocessing import MinMaxScaler, Normalizer, StandardScaler\n",
      "from sklearn.multiclass import OneVsRestClassifier\n",
      "from sklearn.cross_validation import KFold, cross_val_score\n",
      "\n",
      "from functools import partial\n",
      "from elm import ELM\n",
      "\n",
      "from sklearn.base import BaseEstimator, clone\n",
      "\n",
      "\n",
      "class MR2Learner(BaseEstimator):\n",
      "    def __init__(self, activation='sigmoid', recurrent=True, depth=7, \\\n",
      "                 seed=None, beta=0.1, scale=False, use_prev=False, M=3, base_cls=None, \n",
      "\t\t\t\tfixed_prediction=False,\n",
      "\t\t\t\tis_base_multiclass=False):\n",
      "        self.name = 'r2svm'\n",
      "        self.fixed_prediction = fixed_prediction\n",
      "        self.use_prev = use_prev\n",
      "        self.M = M\n",
      "        self.depth = depth\n",
      "        self.beta = beta\n",
      "        self.base_cls = base_cls\n",
      "        self.seed = seed\n",
      "        self.scale = scale\n",
      "        self.recurrent = recurrent\n",
      "        self.C = C\n",
      "        self.X_tr = []\n",
      "        self.layer_predictions_ = []\n",
      "        self.activation = activation  # Minor hack to pickle functions, we will call it by getattr\n",
      "        self.is_base_multiclass = is_base_multiclass  # Minor hack to know when to wrap in OneVsRest\n",
      "\n",
      "        # Used in _feed_forward for keeping state\n",
      "        self._o = []\n",
      "        self._delta = []\n",
      "        self._fitted = False\n",
      "        self._X_moved = []\n",
      "        self._X_tr = []\n",
      "        self._prev_C = None\n",
      "\n",
      "    def _feed_forward(self, X, i, Y=None):\n",
      "        # Modifies state (_o, _delta, _fitted, _X_tr, _X_moved)\n",
      "        # Assumes scaled data passed to it (so you have to scale data)\n",
      "\n",
      "        if i == 0:\n",
      "            self._o = []\n",
      "            self._delta = np.zeros(shape=X.shape)\n",
      "            self._X_tr = [X]\n",
      "            self._X_moved = [X]\n",
      "\n",
      "        # Always fit last layer\n",
      "        if not self._fitted:\n",
      "            if i != self.depth - 1:\n",
      "                c = np.random.uniform(size=self.M)\n",
      "                c = MinMaxScaler((-2, 10)).fit_transform(c)\n",
      "                c = [np.exp(x) for x in c]\n",
      "                # Add one and previous\n",
      "                c = list(set(c).union([1]).union([self._prev_C])) if self._prev_C else list(set(c).union([1]))\n",
      "\n",
      "                for j in xrange(fit_size):\n",
      "                    self.models_[i][j] = self.models_[i][j].set_params(estimator__C=c[j]) if not self.is_base_multiclass \\\n",
      "                                                                                    and self.K > 2 else \\\n",
      "                        self.models_[i][j].set_params(C=c[j])\n",
      "                    self.models_[i].fit(X, Y)\n",
      "            else:\n",
      "                best_C = None\n",
      "                best_score = 0.\n",
      "                fit_size = 7\n",
      "                if type(self.base_cls) == ELM:\n",
      "                    c = [10**i for i in xrange(0, fit_size)]\n",
      "                else :\n",
      "                    c = np.random.uniform(size=fit_size)\n",
      "                    c = MinMaxScaler((-2, 10)).fit_transform(c)\n",
      "                    c = [np.exp(x) for x in c]\n",
      "                    # Add one and previous\n",
      "                    c = list(set(c).union([1]).union([self._prev_C])) if self._prev_C else list(set(c).union([1]))\n",
      "\n",
      "                for j in xrange(fit_size):\n",
      "                    model = clone(self.models_[i]).set_params(estimator__C=c[j]) if not self.is_base_multiclass \\\n",
      "                                                                                    and self.K > 2 else \\\n",
      "                        clone(self.models_[i]).set_params(C=c[j])\n",
      "                    scores = cross_val_score(model, X, Y, scoring='accuracy', \\\n",
      "                                             cv=KFold(X.shape[0], shuffle=True, random_state=self.random_state))\n",
      "                    score = scores.mean()\n",
      "                    if score > best_score:\n",
      "                        best_score = score\n",
      "                        best_C = c[j]\n",
      "                assert best_C is not None\n",
      "                self.models_[i][0].set_params(estimator__C=best_C) if not self.is_base_multiclass and self.K > 2\\\n",
      "                    else self.models_[i][0].set_params(C=best_C)\n",
      "                self._prev_C = best_C\n",
      "                self.models_[i][0].fit(X, Y)                \n",
      "\n",
      "        if i != self.depth - 1:\n",
      "            \n",
      "            if not self.fixed_prediction:\n",
      "                self._o.append(np.hstack([\\\n",
      "                                          self.models_[i][j].decision_function(X) if self.K > 2 else \\\n",
      "                                            np.vstack([\\\n",
      "                                                    -self.models_[i][j].decision_function(X).reshape(1, -1),\\\n",
      "                                                    self.models_[i][j].decision_function(X).reshape(1, -1)]).T) \\\n",
      "                                   for j in range(self.M)]\n",
      "            else: \n",
      "                self._o.append(np.ones(shape=(X.shape[0], self.K)) * self.fixed_prediction)\n",
      "\n",
      "            if self.recurrent:\n",
      "                self._delta += np.dot(self._o[i], self.W[i])\n",
      "            else:\n",
      "                self._delta = np.dot(self._o[i], self.W[i])\n",
      "\n",
      "            if self.use_prev:\n",
      "                self._X_moved.append(X + self.beta * self._delta)\n",
      "                X = getattr(self, \"_\" + self.activation)(self._X_moved[-1])\n",
      "            else:\n",
      "                self._X_moved.append(self._X_tr[0] + self.beta * self._delta)\n",
      "                X = getattr(self, \"_\" + self.activation)(self._X_moved[-1])\n",
      "\n",
      "            if self.scale:\n",
      "                if not self._fitted:\n",
      "                    X = self.scalers_[i + 1].fit_transform(X)\n",
      "                else:\n",
      "                    X = self.scalers_[i + 1].transform(X)\n",
      "\n",
      "            self._X_tr.append(X)\n",
      "        else:\n",
      "            self._fitted = True\n",
      "\n",
      "        return X\n",
      "\n",
      "    def fit(self, X, Y, W=None):\n",
      "        self.K = len(set(Y))  # Class number\n",
      "\n",
      "        # Seed\n",
      "        if self.seed is None:\n",
      "            self.seed = np.random.randint(0, np.iinfo(np.int32).max)\n",
      "        else:\n",
      "            np.random.seed(self.seed)\n",
      "            # print(\"WARNING: seeding whole numpy (forced by bug in SVC)\")\n",
      "        self.random_state = np.random.RandomState(self.seed)\n",
      "\n",
      "        # Models and scalers\n",
      "        if type(X) == np.ndarray:\n",
      "            self.scalers_ = [MinMaxScaler((-1.2, 1.2)) for _ in xrange(self.depth)]\n",
      "        elif type(X) == scipy.sparse.csr.csr_matrix:\n",
      "            self.scalers_ = [Normalizer(norm='l2') for _ in xrange(self.depth)]\n",
      "        else:\n",
      "            raise \"Wrong data type, got:\", type(X)\n",
      "\n",
      "        if self.K <= 2:\n",
      "            self.models_ = [[self.base_cls() for _ in xrange(self.depth) for _ in self.M]]\n",
      "        # for m in self.models_:\n",
      "        #    m.set_params(random_state=self.random_state)    # is this necessary?\n",
      "        # else :\n",
      "        else:\n",
      "            if self.is_base_multiclass:\n",
      "                self.models_ = [[self.base_cls().set_params(random_state=self.random_state) for _ in xrange(self.depth) for _ in self.M]]\n",
      "            else:\n",
      "                self.models_ = [[OneVsRestClassifier(self.base_cls().set_params(random_state=self.random_state), \\\n",
      "                                                    n_jobs=1) for _ in xrange(self.depth)]\n",
      "\n",
      "        self.W = W if W else [self.random_state.normal(size=(self.K*self.M, X.shape[1])) for _ in range(self.depth - 1)]\n",
      "\n",
      "        # Prepare data\n",
      "        if self.scale:\n",
      "            X = self.scalers_[0].fit_transform(X)\n",
      "        self._fitted = False\n",
      "\n",
      "        # Fit\n",
      "        for i in xrange(self.depth):\n",
      "            X = self._feed_forward(X, i, Y)\n",
      "\n",
      "        return self\n",
      "\n",
      "    def predict(self, X):\n",
      "        # Prepare data\n",
      "        if self.scale:\n",
      "            X = self.scalers_[0].transform(X)\n",
      "\t\t\n",
      "        _X = [X]\n",
      "        # Predict\n",
      "        for i in xrange(self.depth):\n",
      "            X = self._feed_forward(X, i)\n",
      "            if all_layers and i != self.depth-1: # Last layer is  \n",
      "                _X.append(X)\n",
      "\t\t\n",
      "  \n",
      "        return self.models_[-1][0].predict(X)\n",
      "\n",
      "    @staticmethod\n",
      "    def _tanh(x):\n",
      "        return 2. / (1. + np.exp(x)) - 1.\n",
      "\n",
      "    @staticmethod\n",
      "    def _sigmoid(x):\n",
      "        return 1.0 / (1.0 + np.exp(-x))\n",
      "\n",
      "    @staticmethod\n",
      "    def _rbf(x):\n",
      "        return np.exp(-np.power((x - np.mean(x, axis=0)), 2))\n",
      "\n",
      "\n",
      "def score_all_depths_r2(model, X, Y):\n",
      "    \"\"\"\n",
      "    @returns depth, score_for_this_depth\n",
      "    \"\"\"\n",
      "    scores = [sklearn.metrics.accuracy_score(Y_pred, Y) for Y_pred in model.predict(X, all_layers=True)]\n",
      "    return np.argmax(scores)+1, scores[np.argmax(scores)]\n",
      "\n",
      "\n",
      "class MR2ELMLearner(R2Learner):\n",
      "    def __init__(self, activation='sigmoid', recurrent=True, depth=10, \\\n",
      "                 seed=None, beta=0.1, scale=False, fit_c=None, use_prev=False, max_h=100, h=10,\n",
      "                 fit_h=None, C=100, fixed_prediction=False):\n",
      "        \"\"\"\n",
      "        @param fixed_prediction pass float to fix prediction to this number or pass False to learn model\n",
      "        \"\"\"\n",
      "        self.h = h\n",
      "        self.max_h = max_h\n",
      "\n",
      "        if fit_h == None:\n",
      "            base_cls = partial(ELM, h=self.h, activation='linear', C=C)\n",
      "        else:\n",
      "            raise NotImplementedError()\n",
      "\n",
      "        MR2Learner.__init__(self, fixed_prediction=fixed_prediction, activation=activation, recurrent=recurrent, depth=depth, \\\n",
      "                           seed=seed, beta=beta, scale=scale, use_prev=use_prev, base_cls=base_cls,\n",
      "                           is_base_multiclass=True, fit_c=fit_c, C=C)\n",
      "\n",
      "\n",
      "class mR2SVMLearner(R2Learner):\n",
      "    def __init__(self, activation='sigmoid', recurrent=True, depth=10, \\\n",
      "                 seed=None, beta=0.1, scale=False, fixed_prediction=False, use_prev=False, fit_c=None, C=1, use_linear_svc=True):\n",
      "        \"\"\"\n",
      "        @param fixed_prediction pass float to fix prediction to this number or pass False to learn model\n",
      "        \"\"\"\n",
      "        if not use_linear_svc:\n",
      "            base_cls = partial(SVC, class_weight='auto', kernel='linear', C=C)\n",
      "\n",
      "            MR2Learner.__init__(self, fixed_prediction=fixed_prediction, activation=activation, recurrent=recurrent, depth=depth, \\\n",
      "                               seed=seed, beta=beta, scale=scale, fit_c=fit_c, use_prev=use_prev, base_cls=base_cls,\n",
      "                               is_base_multiclass=False)\n",
      "        else:\n",
      "            base_cls = partial(LinearSVC, loss='l1', C=C, class_weight='auto')\n",
      "\n",
      "            MR2Learner.__init__(self, fixed_prediction=fixed_prediction, activation=activation, recurrent=recurrent, depth=depth, \\\n",
      "                               seed=seed, beta=beta, fit_c=fit_c, scale=scale, use_prev=use_prev, base_cls=base_cls,\n",
      "                               is_base_multiclass=True)"
     ],
     "language": "python",
     "metadata": {},
     "outputs": [],
     "prompt_number": 3
    }
   ],
   "metadata": {}
  }
 ]
}