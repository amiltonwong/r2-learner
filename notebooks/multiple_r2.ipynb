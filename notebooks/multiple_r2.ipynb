{
 "metadata": {
  "name": "",
  "signature": "sha256:76cc7a6563d66c15ef098ef984e5c8bb9c1f14943e32de63881c37a33969d949"
 },
 "nbformat": 3,
 "nbformat_minor": 0,
 "worksheets": [
  {
   "cells": [
    {
     "cell_type": "code",
     "collapsed": false,
     "input": [
      "%load_ext autoreload\n",
      "%autoreload 2\n",
      "\n",
      "import sys\n",
      "import os\n",
      "sys.path.append(\"..\")\n",
      "\n",
      "from sklearn import svm, datasets\n",
      "from sklearn.grid_search import ParameterGrid, GridSearchCV\n",
      "from sklearn.base import BaseEstimator, clone \n",
      "from sklearn.cross_validation import KFold\n",
      "from sklearn.svm import SVC\n",
      "import os\n",
      "import math\n",
      "import numpy as np\n",
      "import sklearn.metrics\n",
      "from multiprocessing import Pool\n",
      "from functools import partial\n",
      "\n",
      "import sklearn\n",
      "from sklearn.preprocessing import MinMaxScaler, LabelBinarizer\n",
      "from sklearn.metrics import accuracy_score\n",
      "from sklearn.cross_validation import KFold\n",
      "from sklearn.preprocessing import MinMaxScaler\n",
      "\n",
      "from data_api import *\n",
      "\n",
      "from r2 import *\n",
      "\n",
      "\n",
      "\n",
      "%matplotlib inline"
     ],
     "language": "python",
     "metadata": {},
     "outputs": [
      {
       "output_type": "stream",
       "stream": "stdout",
       "text": [
        "The autoreload extension is already loaded. To reload it, use:\n",
        "  %reload_ext autoreload\n"
       ]
      }
     ],
     "prompt_number": 40
    },
    {
     "cell_type": "code",
     "collapsed": false,
     "input": [
      "X_moon, Y_moon = sklearn.datasets.make_moons(n_samples=1000, noise=0.04)\n",
      "X_spiral, Y_spiral = np.loadtxt(\"../data/two_spirals.x\", skiprows=1), np.loadtxt(\"../data/two_spirals.y\", skiprows=1)"
     ],
     "language": "python",
     "metadata": {},
     "outputs": [],
     "prompt_number": 41
    },
    {
     "cell_type": "code",
     "collapsed": false,
     "input": [
      "import sklearn"
     ],
     "language": "python",
     "metadata": {},
     "outputs": [],
     "prompt_number": 20
    },
    {
     "cell_type": "code",
     "collapsed": false,
     "input": [
      "print sklearn.metrics.accuracy_score(R2SVMLearner(beta=0.9, depth=3, fit_c='random').fit(X_spiral, Y_spiral).predict(X_spiral), Y_spiral)"
     ],
     "language": "python",
     "metadata": {},
     "outputs": [
      {
       "output_type": "stream",
       "stream": "stdout",
       "text": [
        "0.506666666667\n"
       ]
      }
     ],
     "prompt_number": 3
    },
    {
     "cell_type": "code",
     "collapsed": false,
     "input": [
      "m = R2SVMLearner(beta=0.9, depth=3, fit_c='random').fit(X_spiral, Y_spiral)"
     ],
     "language": "python",
     "metadata": {},
     "outputs": [],
     "prompt_number": 4
    },
    {
     "cell_type": "code",
     "collapsed": false,
     "input": [
      "from r2 import _r2_compress_model"
     ],
     "language": "python",
     "metadata": {},
     "outputs": [],
     "prompt_number": 15
    },
    {
     "cell_type": "code",
     "collapsed": false,
     "input": [
      "m2 =LinearSVC().fit(X_spiral, Y_spiral)"
     ],
     "language": "python",
     "metadata": {},
     "outputs": [],
     "prompt_number": 3
    },
    {
     "cell_type": "code",
     "collapsed": false,
     "input": [
      "m2.get_params()"
     ],
     "language": "python",
     "metadata": {},
     "outputs": [
      {
       "metadata": {},
       "output_type": "pyout",
       "prompt_number": 4,
       "text": [
        "{'C': 1.0,\n",
        " 'class_weight': None,\n",
        " 'dual': True,\n",
        " 'fit_intercept': True,\n",
        " 'intercept_scaling': 1,\n",
        " 'loss': 'l2',\n",
        " 'multi_class': 'ovr',\n",
        " 'penalty': 'l2',\n",
        " 'random_state': None,\n",
        " 'tol': 0.0001,\n",
        " 'verbose': 0}"
       ]
      }
     ],
     "prompt_number": 4
    },
    {
     "cell_type": "code",
     "collapsed": false,
     "input": [
      "m = _r2_compress_model(m)"
     ],
     "language": "python",
     "metadata": {},
     "outputs": [],
     "prompt_number": 48
    },
    {
     "cell_type": "code",
     "collapsed": false,
     "input": [
      "m.models_[0]"
     ],
     "language": "python",
     "metadata": {},
     "outputs": [
      {
       "metadata": {},
       "output_type": "pyout",
       "prompt_number": 49,
       "text": [
        "{'b': array([  1.89312370e-06]),\n",
        " 'params': {'C': 1,\n",
        "  'class_weight': 'auto',\n",
        "  'dual': True,\n",
        "  'fit_intercept': True,\n",
        "  'intercept_scaling': 1,\n",
        "  'loss': 'l1',\n",
        "  'multi_class': 'ovr',\n",
        "  'penalty': 'l2',\n",
        "  'random_state': None,\n",
        "  'tol': 0.0001,\n",
        "  'verbose': 0},\n",
        " 'w': array([[ 0.09624959,  0.74383658]])}"
       ]
      }
     ],
     "prompt_number": 49
    },
    {
     "cell_type": "code",
     "collapsed": false,
     "input": [
      "\n"
     ],
     "language": "python",
     "metadata": {},
     "outputs": []
    },
    {
     "cell_type": "code",
     "collapsed": false,
     "input": [
      "print sklearn.metrics.accuracy_score(m.predict(X_spiral), Y_spiral)"
     ],
     "language": "python",
     "metadata": {},
     "outputs": [
      {
       "output_type": "stream",
       "stream": "stdout",
       "text": [
        "0.516666666667\n"
       ]
      }
     ],
     "prompt_number": 47
    },
    {
     "cell_type": "code",
     "collapsed": false,
     "input": [
      "m = R2SVMLearner(beta=0.9, depth=3, fit_c='random').fit(X_spiral, Y_spiral)"
     ],
     "language": "python",
     "metadata": {},
     "outputs": [],
     "prompt_number": 46
    },
    {
     "cell_type": "code",
     "collapsed": false,
     "input": [
      "print sklearn.metrics.accuracy_score(m.predict(X_spiral), Y_spiral)"
     ],
     "language": "python",
     "metadata": {},
     "outputs": [
      {
       "output_type": "stream",
       "stream": "stdout",
       "text": [
        "0.303333333333\n"
       ]
      }
     ],
     "prompt_number": 39
    },
    {
     "cell_type": "code",
     "collapsed": false,
     "input": [
      "m = SVC()"
     ],
     "language": "python",
     "metadata": {},
     "outputs": [],
     "prompt_number": 126
    },
    {
     "cell_type": "code",
     "collapsed": false,
     "input": [
      "m.coef0"
     ],
     "language": "python",
     "metadata": {},
     "outputs": [
      {
       "metadata": {},
       "output_type": "pyout",
       "prompt_number": 127,
       "text": [
        "0.0"
       ]
      }
     ],
     "prompt_number": 127
    },
    {
     "cell_type": "code",
     "collapsed": false,
     "input": [
      "m.coef_"
     ],
     "language": "python",
     "metadata": {},
     "outputs": [
      {
       "ename": "ValueError",
       "evalue": "coef_ is only available when using a linear kernel",
       "output_type": "pyerr",
       "traceback": [
        "\u001b[1;31m---------------------------------------------------------------------------\u001b[0m\n\u001b[1;31mValueError\u001b[0m                                Traceback (most recent call last)",
        "\u001b[1;32m<ipython-input-129-f1255feecc89>\u001b[0m in \u001b[0;36m<module>\u001b[1;34m()\u001b[0m\n\u001b[1;32m----> 1\u001b[1;33m \u001b[0mm\u001b[0m\u001b[1;33m.\u001b[0m\u001b[0mcoef_\u001b[0m\u001b[1;33m\u001b[0m\u001b[0m\n\u001b[0m",
        "\u001b[1;32m/lhome/home/czarnecki/staszek_tmp/tradeshift/local/lib/python2.7/site-packages/sklearn/svm/base.pyc\u001b[0m in \u001b[0;36mcoef_\u001b[1;34m(self)\u001b[0m\n\u001b[0;32m    409\u001b[0m     \u001b[1;32mdef\u001b[0m \u001b[0mcoef_\u001b[0m\u001b[1;33m(\u001b[0m\u001b[0mself\u001b[0m\u001b[1;33m)\u001b[0m\u001b[1;33m:\u001b[0m\u001b[1;33m\u001b[0m\u001b[0m\n\u001b[0;32m    410\u001b[0m         \u001b[1;32mif\u001b[0m \u001b[0mself\u001b[0m\u001b[1;33m.\u001b[0m\u001b[0mkernel\u001b[0m \u001b[1;33m!=\u001b[0m \u001b[1;34m'linear'\u001b[0m\u001b[1;33m:\u001b[0m\u001b[1;33m\u001b[0m\u001b[0m\n\u001b[1;32m--> 411\u001b[1;33m             raise ValueError('coef_ is only available when using a '\n\u001b[0m\u001b[0;32m    412\u001b[0m                              'linear kernel')\n\u001b[0;32m    413\u001b[0m \u001b[1;33m\u001b[0m\u001b[0m\n",
        "\u001b[1;31mValueError\u001b[0m: coef_ is only available when using a linear kernel"
       ]
      }
     ],
     "prompt_number": 129
    },
    {
     "cell_type": "code",
     "collapsed": false,
     "input": [
      "m.coefs_"
     ],
     "language": "python",
     "metadata": {},
     "outputs": [
      {
       "ename": "AttributeError",
       "evalue": "'SVC' object has no attribute 'coefs_'",
       "output_type": "pyerr",
       "traceback": [
        "\u001b[1;31m---------------------------------------------------------------------------\u001b[0m\n\u001b[1;31mAttributeError\u001b[0m                            Traceback (most recent call last)",
        "\u001b[1;32m<ipython-input-128-c2bf64d3dbe9>\u001b[0m in \u001b[0;36m<module>\u001b[1;34m()\u001b[0m\n\u001b[1;32m----> 1\u001b[1;33m \u001b[0mm\u001b[0m\u001b[1;33m.\u001b[0m\u001b[0mcoefs_\u001b[0m\u001b[1;33m\u001b[0m\u001b[0m\n\u001b[0m",
        "\u001b[1;31mAttributeError\u001b[0m: 'SVC' object has no attribute 'coefs_'"
       ]
      }
     ],
     "prompt_number": 128
    },
    {
     "cell_type": "code",
     "collapsed": false,
     "input": [
      "def test(X, Y, cv=True, fit_c='random'):\n",
      "    model = R2SVMLearner(depth=5, beta=0.8, fit_c=fit_c, use_prev=False, scale=True, activation='sigmoid')\n",
      "    if cv:\n",
      "        ac = np.mean(cross_val_score(model, X, Y, scoring='accuracy', cv=3, n_jobs=1))\n",
      "    else:\n",
      "        model.fit(X, Y)\n",
      "        ac = sklearn.metrics.accuracy_score(Y, model.predict(X))\n",
      "    print ac\n",
      "    return ac"
     ],
     "language": "python",
     "metadata": {},
     "outputs": [],
     "prompt_number": 121
    },
    {
     "cell_type": "code",
     "collapsed": false,
     "input": [
      "import time\n",
      "s=time.time()\n",
      "results_fit_c = [test(X_spiral, Y_spiral, cv=True, fit_c='random') for _ in xrange(20)]\n",
      "print max(results_fit_c)\n",
      "print time.time() - s"
     ],
     "language": "python",
     "metadata": {},
     "outputs": [
      {
       "output_type": "stream",
       "stream": "stdout",
       "text": [
        "0.35\n",
        "0.366666666667"
       ]
      },
      {
       "output_type": "stream",
       "stream": "stdout",
       "text": [
        "\n",
        "0.38"
       ]
      },
      {
       "output_type": "stream",
       "stream": "stdout",
       "text": [
        "\n",
        "0.376666666667"
       ]
      },
      {
       "output_type": "stream",
       "stream": "stdout",
       "text": [
        "\n",
        "0.356666666667"
       ]
      },
      {
       "output_type": "stream",
       "stream": "stdout",
       "text": [
        "\n",
        "0.39"
       ]
      },
      {
       "output_type": "stream",
       "stream": "stdout",
       "text": [
        "\n",
        "0.363333333333"
       ]
      },
      {
       "output_type": "stream",
       "stream": "stdout",
       "text": [
        "\n",
        "0.346666666667"
       ]
      },
      {
       "output_type": "stream",
       "stream": "stdout",
       "text": [
        "\n",
        "0.396666666667"
       ]
      },
      {
       "output_type": "stream",
       "stream": "stdout",
       "text": [
        "\n",
        "0.38"
       ]
      },
      {
       "output_type": "stream",
       "stream": "stdout",
       "text": [
        "\n",
        "0.356666666667"
       ]
      },
      {
       "output_type": "stream",
       "stream": "stdout",
       "text": [
        "\n",
        "0.416666666667"
       ]
      },
      {
       "output_type": "stream",
       "stream": "stdout",
       "text": [
        "\n",
        "0.356666666667"
       ]
      },
      {
       "output_type": "stream",
       "stream": "stdout",
       "text": [
        "\n",
        "0.37"
       ]
      },
      {
       "output_type": "stream",
       "stream": "stdout",
       "text": [
        "\n",
        "0.373333333333"
       ]
      },
      {
       "output_type": "stream",
       "stream": "stdout",
       "text": [
        "\n",
        "0.36"
       ]
      },
      {
       "output_type": "stream",
       "stream": "stdout",
       "text": [
        "\n",
        "0.36"
       ]
      },
      {
       "output_type": "stream",
       "stream": "stdout",
       "text": [
        "\n",
        "0.353333333333"
       ]
      },
      {
       "output_type": "stream",
       "stream": "stdout",
       "text": [
        "\n",
        "0.366666666667"
       ]
      },
      {
       "output_type": "stream",
       "stream": "stdout",
       "text": [
        "\n",
        "0.336666666667"
       ]
      },
      {
       "output_type": "stream",
       "stream": "stdout",
       "text": [
        "\n",
        "0.416666666667\n",
        "642.780731201\n"
       ]
      }
     ],
     "prompt_number": 122
    },
    {
     "cell_type": "code",
     "collapsed": false,
     "input": [
      "import time\n",
      "s=time.time()\n",
      "results_random_cls = [test(X_spiral, Y_spiral, cv=True, fit_c='random_cls') for _ in xrange(20)]\n",
      "print max(results_random_cls)\n",
      "print time.time() - s"
     ],
     "language": "python",
     "metadata": {},
     "outputs": [
      {
       "output_type": "stream",
       "stream": "stdout",
       "text": [
        "0.343333333333\n",
        "0.446666666667\n",
        "0.386666666667\n",
        "0.463333333333\n",
        "0.31"
       ]
      },
      {
       "output_type": "stream",
       "stream": "stdout",
       "text": [
        "\n",
        "0.353333333333\n",
        "0.356666666667\n",
        "0.366666666667\n",
        "0.453333333333"
       ]
      },
      {
       "output_type": "stream",
       "stream": "stdout",
       "text": [
        "\n",
        "0.386666666667\n",
        "0.426666666667\n",
        "0.436666666667\n",
        "0.376666666667"
       ]
      },
      {
       "output_type": "stream",
       "stream": "stdout",
       "text": [
        "\n",
        "0.38\n",
        "0.38\n",
        "0.39\n",
        "0.373333333333"
       ]
      },
      {
       "output_type": "stream",
       "stream": "stdout",
       "text": [
        "\n",
        "0.42\n",
        "0.386666666667\n",
        "0.36\n",
        "0.416666666667\n",
        "0.285797119141\n"
       ]
      }
     ],
     "prompt_number": 123
    },
    {
     "cell_type": "code",
     "collapsed": false,
     "input": [
      "print max(results_random_cls), max(results_fit_c)"
     ],
     "language": "python",
     "metadata": {},
     "outputs": [
      {
       "output_type": "stream",
       "stream": "stdout",
       "text": [
        "0.463333333333 0.416666666667\n"
       ]
      }
     ],
     "prompt_number": 124
    },
    {
     "cell_type": "code",
     "collapsed": false,
     "input": [
      "import numpy as np\n",
      "import scipy\n",
      "\n",
      "import sklearn\n",
      "from sklearn.svm import SVC, LinearSVC\n",
      "from sklearn.preprocessing import MinMaxScaler, Normalizer, StandardScaler\n",
      "from sklearn.multiclass import OneVsRestClassifier\n",
      "from sklearn.cross_validation import KFold, cross_val_score\n",
      "\n",
      "from functools import partial\n",
      "from elm import ELM\n",
      "\n",
      "from sklearn.base import BaseEstimator, clone\n",
      "\n",
      "\n",
      "class MR2Learner(BaseEstimator):\n",
      "    def __init__(self, activation='sigmoid', recurrent=True, depth=7, \\\n",
      "                 seed=None, beta=0.1, scale=False, use_prev=False, M=3, base_cls=None, \n",
      "\t\t\t\tfixed_prediction=False,\n",
      "\t\t\t\tis_base_multiclass=False):\n",
      "        self.name = 'r2svm'\n",
      "        self.fixed_prediction = fixed_prediction\n",
      "        self.use_prev = use_prev\n",
      "        self.M = M\n",
      "        self.depth = depth\n",
      "        self.beta = beta\n",
      "        self.base_cls = base_cls\n",
      "        self.seed = seed\n",
      "        self.scale = scale\n",
      "        self.recurrent = recurrent\n",
      "        self.C = C\n",
      "        self.X_tr = []\n",
      "        self.layer_predictions_ = []\n",
      "        self.activation = activation  # Minor hack to pickle functions, we will call it by getattr\n",
      "        self.is_base_multiclass = is_base_multiclass  # Minor hack to know when to wrap in OneVsRest\n",
      "\n",
      "        # Used in _feed_forward for keeping state\n",
      "        self._o = []\n",
      "        self._delta = []\n",
      "        self._fitted = False\n",
      "        self._X_moved = []\n",
      "        self._X_tr = []\n",
      "        self._prev_C = None\n",
      "\n",
      "    def _feed_forward(self, X, i, Y=None):\n",
      "        # Modifies state (_o, _delta, _fitted, _X_tr, _X_moved)\n",
      "        # Assumes scaled data passed to it (so you have to scale data)\n",
      "\n",
      "        if i == 0:\n",
      "            self._o = []\n",
      "            self._delta = np.zeros(shape=X.shape)\n",
      "            self._X_tr = [X]\n",
      "            self._X_moved = [X]\n",
      "\n",
      "        # Always fit last layer\n",
      "        if not self._fitted:\n",
      "            if i != self.depth - 1:\n",
      "                c = np.random.uniform(size=self.M)\n",
      "                c = MinMaxScaler((-2, 10)).fit_transform(c)\n",
      "                c = [np.exp(x) for x in c]\n",
      "                # Add one and previous\n",
      "                c = list(set(c).union([1]).union([self._prev_C])) if self._prev_C else list(set(c).union([1]))\n",
      "\n",
      "                for j in xrange(fit_size):\n",
      "                    self.models_[i][j] = self.models_[i][j].set_params(estimator__C=c[j]) if not self.is_base_multiclass \\\n",
      "                                                                                    and self.K > 2 else \\\n",
      "                        self.models_[i][j].set_params(C=c[j])\n",
      "                    self.models_[i].fit(X, Y)\n",
      "            else:\n",
      "                best_C = None\n",
      "                best_score = 0.\n",
      "                fit_size = 7\n",
      "                if type(self.base_cls) == ELM:\n",
      "                    c = [10**i for i in xrange(0, fit_size)]\n",
      "                else :\n",
      "                    c = np.random.uniform(size=fit_size)\n",
      "                    c = MinMaxScaler((-2, 10)).fit_transform(c)\n",
      "                    c = [np.exp(x) for x in c]\n",
      "                    # Add one and previous\n",
      "                    c = list(set(c).union([1]).union([self._prev_C])) if self._prev_C else list(set(c).union([1]))\n",
      "\n",
      "                for j in xrange(fit_size):\n",
      "                    model = clone(self.models_[i]).set_params(estimator__C=c[j]) if not self.is_base_multiclass \\\n",
      "                                                                                    and self.K > 2 else \\\n",
      "                        clone(self.models_[i]).set_params(C=c[j])\n",
      "                    scores = cross_val_score(model, X, Y, scoring='accuracy', \\\n",
      "                                             cv=KFold(X.shape[0], shuffle=True, random_state=self.random_state))\n",
      "                    score = scores.mean()\n",
      "                    if score > best_score:\n",
      "                        best_score = score\n",
      "                        best_C = c[j]\n",
      "                assert best_C is not None\n",
      "                self.models_[i][0].set_params(estimator__C=best_C) if not self.is_base_multiclass and self.K > 2\\\n",
      "                    else self.models_[i][0].set_params(C=best_C)\n",
      "                self._prev_C = best_C\n",
      "                self.models_[i][0].fit(X, Y)                \n",
      "\n",
      "        if i != self.depth - 1:\n",
      "            \n",
      "            if not self.fixed_prediction:\n",
      "                self._o.append(np.hstack([\\\n",
      "                                          self.models_[i][j].decision_function(X) if self.K > 2 else \\\n",
      "                                            np.vstack([\\\n",
      "                                                    -self.models_[i][j].decision_function(X).reshape(1, -1),\\\n",
      "                                                    self.models_[i][j].decision_function(X).reshape(1, -1)]).T) \\\n",
      "                                   for j in range(self.M)]\n",
      "            else: \n",
      "                self._o.append(np.ones(shape=(X.shape[0], self.K)) * self.fixed_prediction)\n",
      "\n",
      "            if self.recurrent:\n",
      "                self._delta += np.dot(self._o[i], self.W[i])\n",
      "            else:\n",
      "                self._delta = np.dot(self._o[i], self.W[i])\n",
      "\n",
      "            if self.use_prev:\n",
      "                self._X_moved.append(X + self.beta * self._delta)\n",
      "                X = getattr(self, \"_\" + self.activation)(self._X_moved[-1])\n",
      "            else:\n",
      "                self._X_moved.append(self._X_tr[0] + self.beta * self._delta)\n",
      "                X = getattr(self, \"_\" + self.activation)(self._X_moved[-1])\n",
      "\n",
      "            if self.scale:\n",
      "                if not self._fitted:\n",
      "                    X = self.scalers_[i + 1].fit_transform(X)\n",
      "                else:\n",
      "                    X = self.scalers_[i + 1].transform(X)\n",
      "\n",
      "            self._X_tr.append(X)\n",
      "        else:\n",
      "            self._fitted = True\n",
      "\n",
      "        return X\n",
      "\n",
      "    def fit(self, X, Y, W=None):\n",
      "        self.K = len(set(Y))  # Class number\n",
      "\n",
      "        # Seed\n",
      "        if self.seed is None:\n",
      "            self.seed = np.random.randint(0, np.iinfo(np.int32).max)\n",
      "        else:\n",
      "            np.random.seed(self.seed)\n",
      "            # print(\"WARNING: seeding whole numpy (forced by bug in SVC)\")\n",
      "        self.random_state = np.random.RandomState(self.seed)\n",
      "\n",
      "        # Models and scalers\n",
      "        if type(X) == np.ndarray:\n",
      "            self.scalers_ = [MinMaxScaler((-1.2, 1.2)) for _ in xrange(self.depth)]\n",
      "        elif type(X) == scipy.sparse.csr.csr_matrix:\n",
      "            self.scalers_ = [Normalizer(norm='l2') for _ in xrange(self.depth)]\n",
      "        else:\n",
      "            raise \"Wrong data type, got:\", type(X)\n",
      "\n",
      "        if self.K <= 2:\n",
      "            self.models_ = [[self.base_cls() for _ in xrange(self.depth) for _ in self.M]]\n",
      "        # for m in self.models_:\n",
      "        #    m.set_params(random_state=self.random_state)    # is this necessary?\n",
      "        # else :\n",
      "        else:\n",
      "            if self.is_base_multiclass:\n",
      "                self.models_ = [[self.base_cls().set_params(random_state=self.random_state) for _ in xrange(self.depth) for _ in self.M]]\n",
      "            else:\n",
      "                self.models_ = [[OneVsRestClassifier(self.base_cls().set_params(random_state=self.random_state), \\\n",
      "                                                    n_jobs=1) for _ in xrange(self.depth)]\n",
      "\n",
      "        self.W = W if W else [self.random_state.normal(size=(self.K*self.M, X.shape[1])) for _ in range(self.depth - 1)]\n",
      "\n",
      "        # Prepare data\n",
      "        if self.scale:\n",
      "            X = self.scalers_[0].fit_transform(X)\n",
      "        self._fitted = False\n",
      "\n",
      "        # Fit\n",
      "        for i in xrange(self.depth):\n",
      "            X = self._feed_forward(X, i, Y)\n",
      "\n",
      "        return self\n",
      "\n",
      "    def predict(self, X):\n",
      "        # Prepare data\n",
      "        if self.scale:\n",
      "            X = self.scalers_[0].transform(X)\n",
      "\t\t\n",
      "        _X = [X]\n",
      "        # Predict\n",
      "        for i in xrange(self.depth):\n",
      "            X = self._feed_forward(X, i)\n",
      "            if all_layers and i != self.depth-1: # Last layer is  \n",
      "                _X.append(X)\n",
      "\t\t\n",
      "  \n",
      "        return self.models_[-1][0].predict(X)\n",
      "\n",
      "    @staticmethod\n",
      "    def _tanh(x):\n",
      "        return 2. / (1. + np.exp(x)) - 1.\n",
      "\n",
      "    @staticmethod\n",
      "    def _sigmoid(x):\n",
      "        return 1.0 / (1.0 + np.exp(-x))\n",
      "\n",
      "    @staticmethod\n",
      "    def _rbf(x):\n",
      "        return np.exp(-np.power((x - np.mean(x, axis=0)), 2))\n",
      "\n",
      "\n",
      "def score_all_depths_r2(model, X, Y):\n",
      "    \"\"\"\n",
      "    @returns depth, score_for_this_depth\n",
      "    \"\"\"\n",
      "    scores = [sklearn.metrics.accuracy_score(Y_pred, Y) for Y_pred in model.predict(X, all_layers=True)]\n",
      "    return np.argmax(scores)+1, scores[np.argmax(scores)]\n",
      "\n",
      "\n",
      "class MR2ELMLearner(R2Learner):\n",
      "    def __init__(self, activation='sigmoid', recurrent=True, depth=10, \\\n",
      "                 seed=None, beta=0.1, scale=False, fit_c=None, use_prev=False, max_h=100, h=10,\n",
      "                 fit_h=None, C=100, fixed_prediction=False):\n",
      "        \"\"\"\n",
      "        @param fixed_prediction pass float to fix prediction to this number or pass False to learn model\n",
      "        \"\"\"\n",
      "        self.h = h\n",
      "        self.max_h = max_h\n",
      "\n",
      "        if fit_h == None:\n",
      "            base_cls = partial(ELM, h=self.h, activation='linear', C=C)\n",
      "        else:\n",
      "            raise NotImplementedError()\n",
      "\n",
      "        MR2Learner.__init__(self, fixed_prediction=fixed_prediction, activation=activation, recurrent=recurrent, depth=depth, \\\n",
      "                           seed=seed, beta=beta, scale=scale, use_prev=use_prev, base_cls=base_cls,\n",
      "                           is_base_multiclass=True, fit_c=fit_c, C=C)\n",
      "\n",
      "\n",
      "class mR2SVMLearner(R2Learner):\n",
      "    def __init__(self, activation='sigmoid', recurrent=True, depth=10, \\\n",
      "                 seed=None, beta=0.1, scale=False, fixed_prediction=False, use_prev=False, fit_c=None, C=1, use_linear_svc=True):\n",
      "        \"\"\"\n",
      "        @param fixed_prediction pass float to fix prediction to this number or pass False to learn model\n",
      "        \"\"\"\n",
      "        if not use_linear_svc:\n",
      "            base_cls = partial(SVC, class_weight='auto', kernel='linear', C=C)\n",
      "\n",
      "            MR2Learner.__init__(self, fixed_prediction=fixed_prediction, activation=activation, recurrent=recurrent, depth=depth, \\\n",
      "                               seed=seed, beta=beta, scale=scale, fit_c=fit_c, use_prev=use_prev, base_cls=base_cls,\n",
      "                               is_base_multiclass=False)\n",
      "        else:\n",
      "            base_cls = partial(LinearSVC, loss='l1', C=C, class_weight='auto')\n",
      "\n",
      "            MR2Learner.__init__(self, fixed_prediction=fixed_prediction, activation=activation, recurrent=recurrent, depth=depth, \\\n",
      "                               seed=seed, beta=beta, fit_c=fit_c, scale=scale, use_prev=use_prev, base_cls=base_cls,\n",
      "                               is_base_multiclass=True)"
     ],
     "language": "python",
     "metadata": {},
     "outputs": [],
     "prompt_number": 3
    }
   ],
   "metadata": {}
  }
 ]
}