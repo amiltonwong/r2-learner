{
 "metadata": {
  "name": "",
  "signature": "sha256:a001ab9b7e96006fc5003ef98cfe1c63ee7ea047db5ab8806f6c4d80cb53cb3a"
 },
 "nbformat": 3,
 "nbformat_minor": 0,
 "worksheets": [
  {
   "cells": [
    {
     "cell_type": "heading",
     "level": 1,
     "metadata": {},
     "source": [
      "Runs tests comparing model fitting C and not fitting C by random runs"
     ]
    },
    {
     "cell_type": "code",
     "collapsed": false,
     "input": [
      "%load_ext autoreload\n",
      "%autoreload 2\n",
      "\n",
      "import sys\n",
      "import os\n",
      "sys.path.append(\"..\")\n",
      "\n",
      "from sklearn import svm, datasets\n",
      "from sklearn.grid_search import ParameterGrid, GridSearchCV\n",
      "from sklearn.base import BaseEstimator, clone \n",
      "from sklearn.cross_validation import KFold\n",
      "from sklearn.svm import SVC\n",
      "import os\n",
      "import math\n",
      "import numpy as np\n",
      "import sklearn.metrics\n",
      "from multiprocessing import Pool\n",
      "from functools import partial\n",
      "\n",
      "import sklearn\n",
      "from sklearn.preprocessing import MinMaxScaler, LabelBinarizer\n",
      "from sklearn.metrics import accuracy_score\n",
      "from sklearn.cross_validation import KFold\n",
      "from sklearn.preprocessing import MinMaxScaler\n",
      "\n",
      "from data_api import *\n",
      "\n",
      "from r2 import *\n",
      "from lmao import *\n",
      "\n",
      "\n",
      "\n",
      "%matplotlib inline"
     ],
     "language": "python",
     "metadata": {},
     "outputs": [
      {
       "output_type": "stream",
       "stream": "stdout",
       "text": [
        "The autoreload extension is already loaded. To reload it, use:\n",
        "  %reload_ext autoreload\n"
       ]
      }
     ],
     "prompt_number": 20
    },
    {
     "cell_type": "code",
     "collapsed": false,
     "input": [
      "X_moon, Y_moon = sklearn.datasets.make_moons(n_samples=1000, noise=0.04)\n",
      "X_spiral, Y_spiral = np.loadtxt(\"../data/two_spirals.x\", skiprows=1), np.loadtxt(\"../data/two_spirals.y\", skiprows=1)"
     ],
     "language": "python",
     "metadata": {},
     "outputs": [],
     "prompt_number": 21
    },
    {
     "cell_type": "code",
     "collapsed": false,
     "input": [
      "help(cross_val_score)"
     ],
     "language": "python",
     "metadata": {},
     "outputs": [
      {
       "output_type": "stream",
       "stream": "stdout",
       "text": [
        "Help on function cross_val_score in module sklearn.cross_validation:\n",
        "\n",
        "cross_val_score(estimator, X, y=None, scoring=None, cv=None, n_jobs=1, verbose=0, fit_params=None, score_func=None, pre_dispatch='2*n_jobs')\n",
        "    Evaluate a score by cross-validation\n",
        "    \n",
        "    Parameters\n",
        "    ----------\n",
        "    estimator : estimator object implementing 'fit'\n",
        "        The object to use to fit the data.\n",
        "    \n",
        "    X : array-like\n",
        "        The data to fit. Can be, for example a list, or an array at least 2d.\n",
        "    \n",
        "    y : array-like, optional, default: None\n",
        "        The target variable to try to predict in the case of\n",
        "        supervised learning.\n",
        "    \n",
        "    scoring : string, callable or None, optional, default: None\n",
        "        A string (see model evaluation documentation) or\n",
        "        a scorer callable object / function with signature\n",
        "        ``scorer(estimator, X, y)``.\n",
        "    \n",
        "    cv : cross-validation generator or int, optional, default: None\n",
        "        A cross-validation generator to use. If int, determines\n",
        "        the number of folds in StratifiedKFold if y is binary\n",
        "        or multiclass and estimator is a classifier, or the number\n",
        "        of folds in KFold otherwise. If None, it is equivalent to cv=3.\n",
        "    \n",
        "    n_jobs : integer, optional\n",
        "        The number of CPUs to use to do the computation. -1 means\n",
        "        'all CPUs'.\n",
        "    \n",
        "    verbose : integer, optional\n",
        "        The verbosity level.\n",
        "    \n",
        "    fit_params : dict, optional\n",
        "        Parameters to pass to the fit method of the estimator.\n",
        "    \n",
        "    pre_dispatch : int, or string, optional\n",
        "        Controls the number of jobs that get dispatched during parallel\n",
        "        execution. Reducing this number can be useful to avoid an\n",
        "        explosion of memory consumption when more jobs get dispatched\n",
        "        than CPUs can process. This parameter can be:\n",
        "    \n",
        "            - None, in which case all the jobs are immediately\n",
        "              created and spawned. Use this for lightweight and\n",
        "              fast-running jobs, to avoid delays due to on-demand\n",
        "              spawning of the jobs\n",
        "    \n",
        "            - An int, giving the exact number of total jobs that are\n",
        "              spawned\n",
        "    \n",
        "            - A string, giving an expression as a function of n_jobs,\n",
        "              as in '2*n_jobs'\n",
        "    \n",
        "    Returns\n",
        "    -------\n",
        "    scores : array of float, shape=(len(list(cv)),)\n",
        "        Array of scores of the estimator for each run of the cross validation.\n",
        "\n"
       ]
      }
     ],
     "prompt_number": 90
    },
    {
     "cell_type": "code",
     "collapsed": false,
     "input": [
      "def test(X, Y, cv=True, fit_c='random'):\n",
      "    model = R2SVMLearner2(depth=3, beta=0.8, fit_c=fit_c, use_prev=False, scale=True, activation='sigmoid')\n",
      "    if cv:\n",
      "        ac = np.mean(cross_val_score(model, X, Y, scoring='accuracy', cv=3, n_jobs=1))\n",
      "    else:\n",
      "        model.fit(X, Y)\n",
      "        ac = sklearn.metrics.accuracy_score(Y, model.predict(X))\n",
      "    print ac\n",
      "    return ac"
     ],
     "language": "python",
     "metadata": {},
     "outputs": [],
     "prompt_number": 113
    },
    {
     "cell_type": "code",
     "collapsed": false,
     "input": [
      "test(X_spiral, Y_spiral, True, 'random')"
     ],
     "language": "python",
     "metadata": {},
     "outputs": [
      {
       "output_type": "stream",
       "stream": "stdout",
       "text": [
        "[ 0.41  0.34  0.34]\n"
       ]
      },
      {
       "metadata": {},
       "output_type": "pyout",
       "prompt_number": 109,
       "text": [
        "array([ 0.41,  0.34,  0.34])"
       ]
      }
     ],
     "prompt_number": 109
    },
    {
     "cell_type": "code",
     "collapsed": false,
     "input": [
      "from r2 import *"
     ],
     "language": "python",
     "metadata": {},
     "outputs": [],
     "prompt_number": 34
    },
    {
     "cell_type": "code",
     "collapsed": false,
     "input": [
      "\n",
      "class R2Learner2(BaseEstimator):\n",
      "    def __init__(self, C=1, activation='sigmoid', recurrent=True, depth=7, \\\n",
      "                 seed=None, beta=0.1, scale=False, use_prev=False, fit_c=None, base_cls=None, is_base_multiclass=False):\n",
      "        self.name = 'r2svm'\n",
      "        self.use_prev = use_prev\n",
      "        self.fit_c = fit_c\n",
      "        self.depth = depth\n",
      "        self.beta = beta\n",
      "        self.base_cls = base_cls\n",
      "        self.seed = seed\n",
      "        self.scale = scale\n",
      "        self.recurrent = recurrent\n",
      "        self.C = C\n",
      "        self.X_tr = []\n",
      "        self.layer_predictions_ = []\n",
      "        self.activation = activation  # Minor hack to pickle functions, we will call it by getattr\n",
      "        self.is_base_multiclass = is_base_multiclass  # Minor hack to know when to wrap in OneVsRest\n",
      "\n",
      "        # Used in _feed_forward for keeping state\n",
      "        self._o = []\n",
      "        self._delta = []\n",
      "        self._fitted = False\n",
      "        self._X_moved = []\n",
      "        self._X_tr = []\n",
      "        self._prev_C = None\n",
      "\n",
      "    def _feed_forward(self, X, i, Y=None):\n",
      "        # Modifies state (_o, _delta, _fitted, _X_tr, _X_moved)\n",
      "        # Assumes scaled data passed to it (so you have to scale data)\n",
      "\n",
      "        if i == 0:\n",
      "            self._o = []\n",
      "            self._delta = np.zeros(shape=X.shape)\n",
      "            self._X_tr = [X]\n",
      "            self._X_moved = [X]\n",
      "\n",
      "        if not self._fitted:\n",
      "            if self.fit_c is None:\n",
      "                self.models_[i].fit(X, Y)\n",
      "            elif self.fit_c == 'random':\n",
      "                best_C = None\n",
      "                best_score = 0.\n",
      "                fit_size = 7\n",
      "                if type(self.base_cls) == ELM :\n",
      "                    c = [10^i for i in xrange(0,fit_size)]\n",
      "                else :\n",
      "                    c = np.random.uniform(size=fit_size)\n",
      "                    c = MinMaxScaler((-2, 10)).fit_transform(c)\n",
      "                    c = [np.exp(x) for x in c]\n",
      "                    # Add one and previous\n",
      "                    c = list(set(c).union([1]).union([self._prev_C])) if self._prev_C else list(set(c).union([1]))\n",
      "    \n",
      "                for j in xrange(fit_size):\n",
      "                    model = clone(self.models_[i]).set_params(estimator__C=c[j]) if not self.is_base_multiclass and self.K > 2 else \\\n",
      "                        clone(self.models_[i]).set_params(C=c[j])\n",
      "                    scores = cross_val_score(model, X, Y, scoring='accuracy', \\\n",
      "                                             cv=KFold( X.shape[0],n_folds=3, shuffle=True, random_state=self.random_state))\n",
      "#                     score = sklearn.metrics.accuracy_score(model.fit(X,Y).predict(X),Y)  #scores.mean()\n",
      "                    score = scores.mean()\n",
      "                    if score > best_score:\n",
      "                        best_score = score\n",
      "                        best_C = c[j]\n",
      "                assert best_C is not None\n",
      "                self.models_[i].set_params(estimator__C=best_C) if not self.is_base_multiclass and self.K > 2 else self.models_[i].set_params(C=best_C)\n",
      "                self._prev_C = best_C\n",
      "                self.models_[i].fit(X, Y)\n",
      "\n",
      "        if i != self.depth - 1:\n",
      "            self._o.append(self.models_[i].decision_function(X) if self.K > 2 else \\\n",
      "                               np.vstack([-self.models_[i].decision_function(X).reshape(1, -1),\n",
      "                                          self.models_[i].decision_function(X).reshape(1, -1)]).T)\n",
      "\n",
      "            if self.recurrent:\n",
      "                self._delta += np.dot(self._o[i], self.W[i])\n",
      "            else:\n",
      "                self._delta = np.dot(self._o[i], self.W[i])\n",
      "\n",
      "            if self.use_prev:\n",
      "                self._X_moved.append(X + self.beta * self._delta)\n",
      "                X = getattr(self, \"_\" + self.activation)(self._X_moved[-1])\n",
      "            else:\n",
      "                self._X_moved.append(self._X_tr[0] + self.beta * self._delta)\n",
      "                X = getattr(self, \"_\" + self.activation)(self._X_moved[-1])\n",
      "\n",
      "            if self.scale:\n",
      "                if not self._fitted:\n",
      "                    X = self.scalers_[i + 1].fit_transform(X)\n",
      "                else:\n",
      "                    X = self.scalers_[i + 1].transform(X)\n",
      "\n",
      "            self._X_tr.append(X)\n",
      "        else:\n",
      "            self._fitted = True\n",
      "\n",
      "        return X\n",
      "\n",
      "    def fit(self, X, Y, W=None):\n",
      "        self.K = len(set(Y))  # Class number\n",
      "\n",
      "        # Seed\n",
      "        if self.seed is None:\n",
      "            self.seed = np.random.randint(0, np.iinfo(np.int32).max)\n",
      "        else:\n",
      "            np.random.seed(self.seed)\n",
      "            # print(\"WARNING: seeding whole numpy (forced by bug in SVC)\")\n",
      "        self.random_state = np.random.RandomState(self.seed)\n",
      "\n",
      "        # Models and scalers\n",
      "        if type(X) == np.ndarray:\n",
      "            self.scalers_ = [MinMaxScaler((-1.2, 1.2)) for _ in xrange(self.depth)]\n",
      "        elif type(X) == scipy.sparse.csr.csr_matrix:\n",
      "            self.scalers_ = [Normalizer(norm='l2') for _ in xrange(self.depth)]\n",
      "        else:\n",
      "            raise \"Wrong data type, got:\", type(X)\n",
      "\n",
      "        if self.K <= 2:\n",
      "            self.models_ = [self.base_cls() for _ in xrange(self.depth)]\n",
      "        # for m in self.models_:\n",
      "        #    m.set_params(random_state=self.random_state)    # is this necessary?\n",
      "        # else :\n",
      "        else:\n",
      "            if self.is_base_multiclass:\n",
      "                self.models_ = [self.base_cls().set_params(random_state=self.random_state) for _ in xrange(self.depth)]\n",
      "            else:\n",
      "                self.models_ = [OneVsRestClassifier(self.base_cls().set_params(random_state=self.random_state), \\\n",
      "                                                    n_jobs=1) for _ in xrange(self.depth)]\n",
      "\n",
      "        self.W = W if W else [self.random_state.normal(size=(self.K, X.shape[1])) for _ in range(self.depth - 1)]\n",
      "\n",
      "        # Prepare data\n",
      "        if self.scale:\n",
      "            X = self.scalers_[0].fit_transform(X)\n",
      "        self._fitted = False\n",
      "\n",
      "        # Fit\n",
      "        for i in xrange(self.depth):\n",
      "            X = self._feed_forward(X, i, Y)\n",
      "\n",
      "        return self\n",
      "\n",
      "    def predict(self, X):\n",
      "        # Prepare data\n",
      "        if self.scale:\n",
      "            X = self.scalers_[0].transform(X)\n",
      "\n",
      "        # Predict\n",
      "        for i in xrange(self.depth):\n",
      "            X = self._feed_forward(X, i)\n",
      "\n",
      "        return self.models_[-1].predict(X)\n",
      "\n",
      "    @staticmethod\n",
      "    def _tanh(x):\n",
      "        return 2. / (1. + np.exp(x)) - 1.\n",
      "\n",
      "    @staticmethod\n",
      "    def _sigmoid(x):\n",
      "        return 1.0 / (1.0 + np.exp(-x))\n",
      "\n",
      "    @staticmethod\n",
      "    def _rbf(x):\n",
      "        return np.exp(-np.power((x - np.mean(x, axis=0)), 2))\n",
      "\n",
      "\n",
      "class R2ELMLearner2(R2Learner2):\n",
      "    def __init__(self, activation='sigmoid', recurrent=True, depth=7, \\\n",
      "                 seed=None, beta=0.1, scale=False, fit_c=None, use_prev=False, max_h=100, h=10,\n",
      "                 fit_h=None, C=100):\n",
      "        self.h = h\n",
      "        self.max_h = max_h\n",
      "\n",
      "        if fit_h == None:\n",
      "            base_cls = partial(ELM, h=self.h, activation='linear', C=C)\n",
      "        else:\n",
      "            raise NotImplementedError()\n",
      "\n",
      "        R2Learner2.__init__(self, activation=activation, recurrent=recurrent, depth=depth, \\\n",
      "                           seed=seed, beta=beta, scale=scale, use_prev=use_prev, base_cls=base_cls,\n",
      "                           is_base_multiclass=True, fit_c=fit_c, C=C)\n",
      "\n",
      "\n",
      "class R2SVMLearner2(R2Learner2):\n",
      "    def __init__(self, activation='sigmoid', recurrent=True, depth=7, \\\n",
      "                 seed=None, beta=0.1, scale=False, use_prev=False, fit_c=None, C=1, use_linear_svc=True):\n",
      "\n",
      "        if not use_linear_svc:\n",
      "            base_cls = partial(SVC, class_weight='auto', kernel='linear', C=C)\n",
      "\n",
      "            R2Learner2.__init__(self, activation=activation, recurrent=recurrent, depth=depth, \\\n",
      "                               seed=seed, beta=beta, scale=scale, fit_c=fit_c, use_prev=use_prev, base_cls=base_cls,\n",
      "                               is_base_multiclass=False)\n",
      "        else:\n",
      "            base_cls = partial(LinearSVC, loss='l1', C=C, class_weight='auto')\n",
      "\n",
      "            R2Learner2.__init__(self, activation=activation, recurrent=recurrent, depth=depth, \\\n",
      "                               seed=seed, beta=beta, fit_c=fit_c, scale=scale, use_prev=use_prev, base_cls=base_cls,\n",
      "                               is_base_multiclass=True)\n"
     ],
     "language": "python",
     "metadata": {},
     "outputs": [],
     "prompt_number": 108
    },
    {
     "cell_type": "code",
     "collapsed": false,
     "input": [
      "R2SVMLearner2"
     ],
     "language": "python",
     "metadata": {},
     "outputs": [
      {
       "metadata": {},
       "output_type": "pyout",
       "prompt_number": 68,
       "text": [
        "__main__.R2SVMLearner2"
       ]
      }
     ],
     "prompt_number": 68
    },
    {
     "cell_type": "heading",
     "level": 3,
     "metadata": {},
     "source": [
      "for tr, ts in KFold(10, n_folds=3):\n",
      "    print tr, ts"
     ]
    },
    {
     "cell_type": "code",
     "collapsed": false,
     "input": [
      "from sklearn import metrics"
     ],
     "language": "python",
     "metadata": {},
     "outputs": [],
     "prompt_number": 77
    },
    {
     "cell_type": "code",
     "collapsed": false,
     "input": [
      "ac, model = test(X_spiral, Y_spiral)"
     ],
     "language": "python",
     "metadata": {},
     "outputs": [],
     "prompt_number": 83
    },
    {
     "cell_type": "code",
     "collapsed": false,
     "input": [
      "print ac"
     ],
     "language": "python",
     "metadata": {},
     "outputs": [
      {
       "output_type": "stream",
       "stream": "stdout",
       "text": [
        "0.516666666667\n"
       ]
      }
     ],
     "prompt_number": 84
    },
    {
     "cell_type": "code",
     "collapsed": false,
     "input": [
      "model.models_[1]"
     ],
     "language": "python",
     "metadata": {},
     "outputs": [
      {
       "metadata": {},
       "output_type": "pyout",
       "prompt_number": 37,
       "text": [
        "LinearSVC(C=6.0236723286937215, class_weight='auto', dual=True,\n",
        "     fit_intercept=True, intercept_scaling=1, loss='l1', multi_class='ovr',\n",
        "     penalty='l2', random_state=None, tol=0.0001, verbose=0)"
       ]
      }
     ],
     "prompt_number": 37
    },
    {
     "cell_type": "code",
     "collapsed": false,
     "input": [
      "import time\n",
      "s=time.time()\n",
      "results_fit_c = [test(X_spiral, Y_spiral, cv=False, fit_c='random') for _ in xrange(50)]\n",
      "print max(results_fit_c)\n",
      "print time.time() - s"
     ],
     "language": "python",
     "metadata": {},
     "outputs": [
      {
       "output_type": "stream",
       "stream": "stdout",
       "text": [
        "0.503333333333\n",
        "0.513333333333"
       ]
      },
      {
       "output_type": "stream",
       "stream": "stdout",
       "text": [
        "\n",
        "0.523333333333"
       ]
      },
      {
       "output_type": "stream",
       "stream": "stdout",
       "text": [
        "\n",
        "0.5"
       ]
      },
      {
       "output_type": "stream",
       "stream": "stdout",
       "text": [
        "\n",
        "0.506666666667"
       ]
      },
      {
       "output_type": "stream",
       "stream": "stdout",
       "text": [
        "\n",
        "0.5"
       ]
      },
      {
       "output_type": "stream",
       "stream": "stdout",
       "text": [
        "\n",
        "0.506666666667"
       ]
      },
      {
       "output_type": "stream",
       "stream": "stdout",
       "text": [
        "\n",
        "0.516666666667"
       ]
      },
      {
       "output_type": "stream",
       "stream": "stdout",
       "text": [
        "\n",
        "0.513333333333"
       ]
      },
      {
       "output_type": "stream",
       "stream": "stdout",
       "text": [
        "\n",
        "0.476666666667"
       ]
      },
      {
       "output_type": "stream",
       "stream": "stdout",
       "text": [
        "\n",
        "0.54"
       ]
      },
      {
       "output_type": "stream",
       "stream": "stdout",
       "text": [
        "\n",
        "0.506666666667"
       ]
      },
      {
       "output_type": "stream",
       "stream": "stdout",
       "text": [
        "\n",
        "0.476666666667"
       ]
      },
      {
       "output_type": "stream",
       "stream": "stdout",
       "text": [
        "\n",
        "0.486666666667"
       ]
      },
      {
       "output_type": "stream",
       "stream": "stdout",
       "text": [
        "\n",
        "0.51"
       ]
      },
      {
       "output_type": "stream",
       "stream": "stdout",
       "text": [
        "\n",
        "0.543333333333"
       ]
      },
      {
       "output_type": "stream",
       "stream": "stdout",
       "text": [
        "\n",
        "0.513333333333"
       ]
      },
      {
       "output_type": "stream",
       "stream": "stdout",
       "text": [
        "\n",
        "0.51"
       ]
      },
      {
       "output_type": "stream",
       "stream": "stdout",
       "text": [
        "\n",
        "0.533333333333"
       ]
      },
      {
       "output_type": "stream",
       "stream": "stdout",
       "text": [
        "\n",
        "0.456666666667"
       ]
      },
      {
       "output_type": "stream",
       "stream": "stdout",
       "text": [
        "\n",
        "0.48"
       ]
      },
      {
       "output_type": "stream",
       "stream": "stdout",
       "text": [
        "\n",
        "0.573333333333"
       ]
      },
      {
       "output_type": "stream",
       "stream": "stdout",
       "text": [
        "\n",
        "0.503333333333"
       ]
      },
      {
       "output_type": "stream",
       "stream": "stdout",
       "text": [
        "\n",
        "0.53"
       ]
      },
      {
       "output_type": "stream",
       "stream": "stdout",
       "text": [
        "\n",
        "0.493333333333"
       ]
      },
      {
       "output_type": "stream",
       "stream": "stdout",
       "text": [
        "\n",
        "0.52"
       ]
      },
      {
       "output_type": "stream",
       "stream": "stdout",
       "text": [
        "\n",
        "0.506666666667"
       ]
      },
      {
       "output_type": "stream",
       "stream": "stdout",
       "text": [
        "\n",
        "0.52"
       ]
      },
      {
       "output_type": "stream",
       "stream": "stdout",
       "text": [
        "\n",
        "0.493333333333"
       ]
      },
      {
       "output_type": "stream",
       "stream": "stdout",
       "text": [
        "\n",
        "0.53"
       ]
      },
      {
       "output_type": "stream",
       "stream": "stdout",
       "text": [
        "\n",
        "0.503333333333"
       ]
      },
      {
       "output_type": "stream",
       "stream": "stdout",
       "text": [
        "\n",
        "0.503333333333"
       ]
      },
      {
       "output_type": "stream",
       "stream": "stdout",
       "text": [
        "\n",
        "0.5"
       ]
      },
      {
       "output_type": "stream",
       "stream": "stdout",
       "text": [
        "\n",
        "0.52"
       ]
      },
      {
       "output_type": "stream",
       "stream": "stdout",
       "text": [
        "\n",
        "0.53"
       ]
      },
      {
       "output_type": "stream",
       "stream": "stdout",
       "text": [
        "\n",
        "0.516666666667"
       ]
      },
      {
       "output_type": "stream",
       "stream": "stdout",
       "text": [
        "\n",
        "0.52"
       ]
      },
      {
       "output_type": "stream",
       "stream": "stdout",
       "text": [
        "\n",
        "0.526666666667"
       ]
      },
      {
       "output_type": "stream",
       "stream": "stdout",
       "text": [
        "\n",
        "0.533333333333"
       ]
      },
      {
       "output_type": "stream",
       "stream": "stdout",
       "text": [
        "\n",
        "0.516666666667"
       ]
      },
      {
       "output_type": "stream",
       "stream": "stdout",
       "text": [
        "\n",
        "0.566666666667"
       ]
      },
      {
       "output_type": "stream",
       "stream": "stdout",
       "text": [
        "\n",
        "0.446666666667"
       ]
      },
      {
       "output_type": "stream",
       "stream": "stdout",
       "text": [
        "\n",
        "0.5"
       ]
      },
      {
       "output_type": "stream",
       "stream": "stdout",
       "text": [
        "\n",
        "0.533333333333"
       ]
      },
      {
       "output_type": "stream",
       "stream": "stdout",
       "text": [
        "\n",
        "0.54"
       ]
      },
      {
       "output_type": "stream",
       "stream": "stdout",
       "text": [
        "\n",
        "0.5"
       ]
      },
      {
       "output_type": "stream",
       "stream": "stdout",
       "text": [
        "\n",
        "0.523333333333"
       ]
      },
      {
       "output_type": "stream",
       "stream": "stdout",
       "text": [
        "\n",
        "0.496666666667"
       ]
      },
      {
       "output_type": "stream",
       "stream": "stdout",
       "text": [
        "\n",
        "0.5"
       ]
      },
      {
       "output_type": "stream",
       "stream": "stdout",
       "text": [
        "\n",
        "0.496666666667"
       ]
      },
      {
       "output_type": "stream",
       "stream": "stdout",
       "text": [
        "\n",
        "0.573333333333\n",
        "18.6061348915\n"
       ]
      }
     ],
     "prompt_number": 115
    },
    {
     "cell_type": "code",
     "collapsed": false,
     "input": [
      "import time\n",
      "s=time.time()\n",
      "results_non_fit_c = [test_without_fit_C(X_spiral, Y_spiral) for _ in xrange(50)]\n",
      "print max(results_non_fit_c)\n",
      "print time.time() - s"
     ],
     "language": "python",
     "metadata": {},
     "outputs": [
      {
       "output_type": "stream",
       "stream": "stdout",
       "text": [
        "0.553333333333\n",
        "0.186093091965\n"
       ]
      }
     ],
     "prompt_number": 114
    },
    {
     "cell_type": "code",
     "collapsed": false,
     "input": [
      "max(results_non_fit_c)"
     ],
     "language": "python",
     "metadata": {},
     "outputs": [
      {
       "metadata": {},
       "output_type": "pyout",
       "prompt_number": 30,
       "text": [
        "0.6333333333333333"
       ]
      }
     ],
     "prompt_number": 30
    },
    {
     "cell_type": "code",
     "collapsed": false,
     "input": [
      "max(results_fit_c)"
     ],
     "language": "python",
     "metadata": {},
     "outputs": [
      {
       "metadata": {},
       "output_type": "pyout",
       "prompt_number": 31,
       "text": [
        "0.59999999999999998"
       ]
      }
     ],
     "prompt_number": 31
    },
    {
     "cell_type": "markdown",
     "metadata": {},
     "source": [
      "# Wyniki:\n",
      "\n",
      "## With fit_c='random' 7 times * 3 folds = 21\n",
      "mean = , std = , max = \n",
      "\n",
      "## Withf fit_c=None\n",
      "\n",
      "mean=, std=, max="
     ]
    },
    {
     "cell_type": "code",
     "collapsed": false,
     "input": [],
     "language": "python",
     "metadata": {},
     "outputs": [
      {
       "ename": "SyntaxError",
       "evalue": "non-keyword arg after keyword arg (<ipython-input-50-d805ad13eaae>, line 55)",
       "output_type": "pyerr",
       "traceback": [
        "\u001b[1;36m  File \u001b[1;32m\"<ipython-input-50-d805ad13eaae>\"\u001b[1;36m, line \u001b[1;32m55\u001b[0m\n\u001b[1;33m    scores = cross_val_score(model, n_folds=1, X, Y, scoring='accuracy',                                              cv=KFold(X.shape[0], shuffle=True, random_state=self.random_state))\u001b[0m\n\u001b[1;31mSyntaxError\u001b[0m\u001b[1;31m:\u001b[0m non-keyword arg after keyword arg\n"
       ]
      }
     ],
     "prompt_number": 50
    }
   ],
   "metadata": {}
  }
 ]
}