{
 "metadata": {
  "name": "",
  "signature": "sha256:77d4783e5a407da3dcad199663ea6e4d6662e70271ec5dc9b015fe26f4506c7c"
 },
 "nbformat": 3,
 "nbformat_minor": 0,
 "worksheets": [
  {
   "cells": [
    {
     "cell_type": "code",
     "collapsed": false,
     "input": [
      "import os\n",
      "import re\n",
      "import pandas as pd\n",
      "import numpy as np\n",
      "\n",
      "log_dir = '../scripts'"
     ],
     "language": "python",
     "metadata": {},
     "outputs": []
    },
    {
     "cell_type": "code",
     "collapsed": false,
     "input": [
      "def process_model_name(name) :\n",
      "    if name[:5] == 'R2SVM':\n",
      "        return name[:5]\n",
      "    elif name[:5] == 'R2ELM':\n",
      "        return name[:5]\n",
      "    elif name == \"ELM+RBF\":\n",
      "        return 'ELM+RBF'\n",
      "    elif name == \"ELM+SIG\":\n",
      "        return 'ELM+SIG'\n",
      "    elif name[:3] == \"SVC\":\n",
      "        return 'SVM'\n",
      "    else:\n",
      "        print \"bad name: \", name"
     ],
     "language": "python",
     "metadata": {},
     "outputs": []
    },
    {
     "cell_type": "code",
     "collapsed": false,
     "input": [
      "models = ['R2SVM', 'R2ELM', 'ELM+RBF', 'ELM+SIG', 'SVM']\n",
      "datasets = ['iris', 'liver', 'heart'] #, 'satimage', 'segment']\n",
      "acc = {m: {d: 0. for d in datasets} for m in models}\n",
      "\n",
      "for log in os.listdir(log_dir):\n",
      "    if 'grid' in log and log[-3:] == 'log':\n",
      "        model = process_model_name(log[:7])\n",
      "        f = open(os.path.join(log_dir, log), 'r')\n",
      "        s = f.read()\n",
      "        score = re.search(\"'best_score': (0\\.\\d+)\", s).group(1)\n",
      "        name = re.search(\"'data_name': '(\\w+)'\", s).group(1)\n",
      "        acc[model][name] = score\n",
      "\n",
      "pd.options.display.float_format = '{:,.4f}'.format       \n",
      "acc = pd.DataFrame.from_dict(acc, dtype=np.float64)\n",
      "\n",
      "print acc"
     ],
     "language": "python",
     "metadata": {},
     "outputs": []
    },
    {
     "cell_type": "code",
     "collapsed": false,
     "input": [
      "class Bunch(dict):\n",
      "    \"\"\"Container object for datasets: dictionary-like object that exposes its keys as attributes.\"\"\"\n",
      "\n",
      "    def __init__(self, **kwargs):\n",
      "        dict.__init__(self, kwargs)\n",
      "        self.__dict__ = self\n",
      "\n",
      "\n",
      "def shuffle_data(data, seed=None) :\n",
      "\n",
      "    X, Y = data.data, data.target\n",
      "    assert X.shape[0] == Y.shape[0]\n",
      "\n",
      "    if seed is not None:\n",
      "        np.random.seed(seed)\n",
      "    p = np.random.permutation(len(X))\n",
      "\n",
      "    data.data = X[p]    # Copying data here!\n",
      "    data.target = Y[p]\n",
      "\n",
      "    return data\n",
      "\n",
      "data = Bunch(**{'data': np.array([[1,1],[2,2],[3,3],[4,4]]), 'target': np.array([1,2,3,4])})\n",
      "print data\n",
      "print shuffle_data(data)"
     ],
     "language": "python",
     "metadata": {},
     "outputs": []
    }
   ],
   "metadata": {}
  }
 ]
}