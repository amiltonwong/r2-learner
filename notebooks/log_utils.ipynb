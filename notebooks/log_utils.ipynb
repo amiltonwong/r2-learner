{
 "metadata": {
  "name": ""
 },
 "nbformat": 3,
 "nbformat_minor": 0,
 "worksheets": [
  {
   "cells": [
    {
     "cell_type": "code",
     "collapsed": false,
     "input": [
      "import os\n",
      "import re\n",
      "import pandas as pd\n",
      "import numpy as np\n",
      "\n",
      "log_dir = '../scripts'"
     ],
     "language": "python",
     "metadata": {},
     "outputs": [],
     "prompt_number": 15
    },
    {
     "cell_type": "code",
     "collapsed": false,
     "input": [
      "def process_model_name(name) :\n",
      "    if name[:5] == 'R2SVM':\n",
      "        return name[:5]\n",
      "    elif name[:5] == 'R2ELM':\n",
      "        return name[:5]\n",
      "    elif name == \"ELM+RBF\":\n",
      "        return 'ELM+RBF'\n",
      "    elif name == \"ELM+SIG\":\n",
      "        return 'ELM+SIG'\n",
      "    elif name[:3] == \"SVC\":\n",
      "        return 'SVM'\n",
      "    else:\n",
      "        print \"bad name: \", name"
     ],
     "language": "python",
     "metadata": {},
     "outputs": [],
     "prompt_number": 24
    },
    {
     "cell_type": "code",
     "collapsed": false,
     "input": [
      "models = ['R2SVM', 'R2ELM', 'ELM+RBF', 'ELM+SIG', 'SVM']\n",
      "datasets = ['iris', 'liver', 'heart'] #, 'satimage', 'segment']\n",
      "acc = {m: {d: 0. for d in datasets} for m in models}\n",
      "\n",
      "for log in os.listdir(log_dir):\n",
      "    if 'fold' in log and log[-3:] == 'log':\n",
      "        model = process_model_name(log[:7])\n",
      "        f = open(os.path.join(log_dir, log), 'r')\n",
      "        s = f.read()\n",
      "        score = re.search(\"'mean_acc': (0\\.\\d+)\", s).group(1)\n",
      "        name = re.search(\"'data_name': '(\\w+)'\", s).group(1)\n",
      "        acc[model][name] = score\n",
      "\n",
      "pd.options.display.float_format = '{:,.4f}'.format       \n",
      "acc = pd.DataFrame.from_dict(acc, dtype=np.float64)\n",
      "\n",
      "print acc"
     ],
     "language": "python",
     "metadata": {},
     "outputs": [
      {
       "output_type": "stream",
       "stream": "stdout",
       "text": [
        "       ELM+RBF  ELM+SIG  R2ELM  R2SVM    SVM\n",
        "heart   0.5593   0.8074 0.8370 0.8370 0.8370\n",
        "iris    0.9533   0.9600 0.8267 0.7000 0.9733\n",
        "liver   0.7130   0.6986 0.6464 0.5884 0.7188\n"
       ]
      }
     ],
     "prompt_number": 29
    },
    {
     "cell_type": "code",
     "collapsed": false,
     "input": [
      "s = \"R2SVM k-fold_testing_on_liver1425860200.48 \\\n",
      "{'mean_acc': 0.59420289855072461} 2015-03-09 01:16:40,869 \\\n",
      "R2SVM k-fold_testing_on_liver1425860200.48  {'std': 0.027498066610159824, \\\n",
      "'test_time': 0.016769886016845703, 'n_dim': 6, 'acc_fold': array([ 0.5942029 ,  \\\n",
      "0.60869565,  0.63768116,  0.56521739,  0.56521739]), 'cm': [array([[18, 15],[13, 23]]), array([[30,  2],\"\n",
      "score = re.search(\"'mean_acc': (0\\.\\d+)\", s).group(1)\n",
      "print score"
     ],
     "language": "python",
     "metadata": {},
     "outputs": [
      {
       "output_type": "stream",
       "stream": "stdout",
       "text": [
        "0.59420289855072461\n"
       ]
      }
     ],
     "prompt_number": 5
    },
    {
     "cell_type": "code",
     "collapsed": false,
     "input": [
      "s = \"use_prev=False), R2SVMLearner(C=0.1353352832366127, activation=<function _sigmoid at 0x7fb44161cde8>, beta=0.05,\\\n",
      "     depth=10, fit_c=None, recurrent=True, scale=True, seed=42,use_prev=False)], 'data_name': 'liver', 'n_class': 2}\"\n",
      "name = re.search(\"'data_name': '(\\w+)'\", s).group(1)\n",
      "print name"
     ],
     "language": "python",
     "metadata": {},
     "outputs": [
      {
       "output_type": "stream",
       "stream": "stdout",
       "text": [
        "liver\n"
       ]
      }
     ],
     "prompt_number": 29
    },
    {
     "cell_type": "code",
     "collapsed": false,
     "input": [
      "range(20,200,10)"
     ],
     "language": "python",
     "metadata": {},
     "outputs": [
      {
       "metadata": {},
       "output_type": "pyout",
       "prompt_number": 22,
       "text": [
        "[20,\n",
        " 30,\n",
        " 40,\n",
        " 50,\n",
        " 60,\n",
        " 70,\n",
        " 80,\n",
        " 90,\n",
        " 100,\n",
        " 110,\n",
        " 120,\n",
        " 130,\n",
        " 140,\n",
        " 150,\n",
        " 160,\n",
        " 170,\n",
        " 180,\n",
        " 190]"
       ]
      }
     ],
     "prompt_number": 22
    }
   ],
   "metadata": {}
  }
 ]
}