{
 "metadata": {
  "name": ""
 },
 "nbformat": 3,
 "nbformat_minor": 0,
 "worksheets": [
  {
   "cells": [
    {
     "cell_type": "markdown",
     "metadata": {},
     "source": [
      "w pliku .pkl jest s\u0142ownik, kt\u00f3rego kluczami s\u0105 nazwy 3 zbior\u00f3w danych: iris, liver, heart.\n",
      "\n",
      "Na ka\u017cdym z tych zbior\u00f3w by\u0142y robione 3 rzeczy, najpierw GridSearchCV, potem raz 5-foldCV z logowaniem wynik\u00f3w i w ko\u0144cu 50 razy 5-fold CV, z kt\u00f3rego zapisana jest tylko \u015brednia dok\u0142adno\u015b\u0107.\n",
      "\n",
      "Ka\u017cda warto\u015b\u0107 w s\u0142owniku to DataFrame z pandas. Ka\u017cdy DataFrame ma kolumny z wynikami z 5 modeli: r2svm, r2elm, elm+rbfm, eml+sig, svm.\n",
      "\n",
      "Opis *cz\u0119\u015bci* nazw p\u00f3l:\n",
      "\n",
      "* Pola og\u00f3lne:\n",
      "  * n_dim           - wymiarowo\u015b\u0107 danych\n",
      "  * n_class         - ilo\u015bc klas\n",
      "  * 50x5-fold_mean  - srednia accuracy z 50 5-fold\u00f3w\n",
      "  * 50x5-fold_std   - odchylenie standardowe z jw.\n",
      "\n",
      "* Pola z informacji z GridSearchCV:\n",
      "  * grid_time        - czas wywo\u0142ania metody .fit(X,Y) na obekcie GridSearchCV z sklearn\n",
      "  * fold_params      - lista wszystkich parametr\u00f3w modelu w gridzie\n",
      "  * mean_fold_scores - \u015bredni wynkich dla danych parametr\u00f3w (len(mean_fold_scores) == len(fold_params))\n",
      "  * std_fold_scores  - odchylenie standardowe dla danych parametr\u00f3w (jw.)\n",
      "  * best_std         - odchylenie standardwo dla najlepszych parametr\u00f3w\t\n",
      "\n",
      "* Pola z infomacji z pojedynczego 5-fold dla najlepszych parametr\u00f3w:\n",
      "  * acc_fold - dok\u0142adno\u015b\u0107 w danych foldzie\n",
      "  * cm       - confusion matrix w danym foldzie\n",
      "  * mean_acc - \u015brednia dok\u0142adno\u015b\u0107 z 5-fold\u00f3w\n",
      "  * std      - odchylenie strandardowe z 5-fold\u00f3w\n",
      "\n",
      "Grid paramters dla modeli:"
     ]
    },
    {
     "cell_type": "code",
     "collapsed": false,
     "input": [
      "# this code is not used in this notebook, no need to run it\n",
      "\n",
      "r2svm_params = {'C': [np.exp(i) for i in xrange(-2,6)],\n",
      "                'beta': [0.04 * i for i in xrange(1,6)],\n",
      "                'depth': [i for i in xrange(1,11)],\n",
      "                'fit_c': [None],\n",
      "                'scale': [True, False],       # skalowanie danych co warstwe\n",
      "                'recurrent': [True, False],   # korzystanie z odpowiedzi poprzedniej warstwy \n",
      "                                              # 'o' z publikacji, true - d+=oi; false - d = oi \n",
      "                'use_prev': [True, False],    # true - modyfikowanie danych z poprzedniej warstwy \n",
      "                                              # false - modyfikowanie za ka\u017cdym razem oryginalnych\n",
      "                'seed': [seed]}\n",
      "\n",
      "r2elm_params = {'h': [i for i in xrange(20,201,10)],\n",
      "                'beta': [0.04 * i for i in xrange(1,6)],\n",
      "                'fit_h': [None], # 'grid', 'random' or None\n",
      "                'depth': [i for i in xrange(1,11)],\n",
      "                'scale': [True, False],\n",
      "                'recurrent': [True, False],\n",
      "                'use_prev': [True, False],\n",
      "                'seed': [seed]}\n",
      "\n",
      "elmrbf_params = {'h': [i for i in xrange(20, 201, 10)],\n",
      "                 'activation' : ['rbf'],\n",
      "                 'seed': [seed]}\n",
      "\n",
      "elmsig_params = {'h': [i for i in xrange(20, 201, 10)],\n",
      "                 'activation' : ['sigmoid'],\n",
      "                 'seed': [seed]}\n",
      "\n",
      "svmrbf_params = {'C': [np.exp(i) for i in xrange(-2,6)],\n",
      "                 'kernel': ['rbf'],\n",
      "                 'gamma': [np.exp(i) for i in xrange(-10,11,2)],\n",
      "                 'class_weight': ['auto']}"
     ],
     "language": "python",
     "metadata": {},
     "outputs": []
    },
    {
     "cell_type": "code",
     "collapsed": false,
     "input": [
      "import cPickle\n",
      "import os\n",
      "import pandas as pd\n",
      "import numpy as np\n",
      "\n",
      "cache_path = '../cache'\n",
      "file_name = 'all_models_iris_liver_heart.res'\n",
      "\n",
      "pd.options.display.float_format = '{:,.4f}'.format"
     ],
     "language": "python",
     "metadata": {},
     "outputs": []
    },
    {
     "cell_type": "code",
     "collapsed": false,
     "input": [
      "f = open(os.path.join(cache_path, file_name))\n",
      "results = cPickle.load(f)\n",
      "f.close()"
     ],
     "language": "python",
     "metadata": {},
     "outputs": []
    },
    {
     "cell_type": "code",
     "collapsed": false,
     "input": [
      "def disp(d) :\n",
      "    \"\"\"better dictionary display\"\"\"\n",
      "    assert type(d) == dict \n",
      "    for k, v in d.iteritems():\n",
      "        print str(k)+':'\n",
      "        print v \n",
      "        print '\\n\\n' \n",
      "    \n",
      "def get_datasets(results):\n",
      "    return results.keys()\n",
      "\n",
      "def get_models(results):\n",
      "    return results.values()[0].columns.values.tolist()\n",
      "\n",
      "def get_columns(results):\n",
      "    return results.values()[0].index.values.tolist()\n",
      "    \n",
      "def get_results(results, column, model=None, data=None):\n",
      "    if data is None:\n",
      "        data = get_datasets(results)\n",
      "    if model is None:\n",
      "        model = get_models(results)\n",
      "    return { d: results[d].loc[column, model] for d in data }"
     ],
     "language": "python",
     "metadata": {},
     "outputs": []
    },
    {
     "cell_type": "code",
     "collapsed": false,
     "input": [
      "print 'Experiment data sets: ', get_datasets(results)\n",
      "print\n",
      "print 'Experiment models: ', get_models(results)\n",
      "print\n",
      "print 'All logged things: ', get_columns(results)\n",
      "print\n",
      "print 'Display some things: '\n",
      "disp(get_results(results, column=['std', 'mean_acc']))"
     ],
     "language": "python",
     "metadata": {},
     "outputs": []
    }
   ],
   "metadata": {}
  }
 ]
}