{
 "metadata": {
  "name": "",
  "signature": "sha256:735df96590d864bf7d23a76748ee5327c4c905055dd31c04b926b219ffdc2173"
 },
 "nbformat": 3,
 "nbformat_minor": 0,
 "worksheets": [
  {
   "cells": [
    {
     "cell_type": "code",
     "collapsed": false,
     "input": [
      "import sys, os\n",
      "sys.path.append('..')\n",
      "\n",
      "from misc.config import c\n",
      "from data_api import *\n",
      "import cPickle"
     ],
     "language": "python",
     "metadata": {},
     "outputs": [],
     "prompt_number": 93
    },
    {
     "cell_type": "code",
     "collapsed": false,
     "input": [
      "all_results = {}\n",
      "results_dir = c['RESULTS_DIR']\n",
      "datasets = ['iris', 'wine', 'heart', 'liver', 'glass']\n",
      "exps = ['test', 'lmao']\n",
      "models = ['r2svm']\n",
      "\n",
      "paths = [ os.path.join(results_dir, test + '_' + model + '_' + dataset) \\\n",
      "         for test in exps for model in models for dataset in datasets ]\n",
      "paths"
     ],
     "language": "python",
     "metadata": {},
     "outputs": [
      {
       "metadata": {},
       "output_type": "pyout",
       "prompt_number": 91,
       "text": [
        "['/mnt/users/czarnecki/local/r2-learner/results/test_r2svm_iris',\n",
        " '/mnt/users/czarnecki/local/r2-learner/results/test_r2svm_wine',\n",
        " '/mnt/users/czarnecki/local/r2-learner/results/test_r2svm_heart',\n",
        " '/mnt/users/czarnecki/local/r2-learner/results/test_r2svm_liver',\n",
        " '/mnt/users/czarnecki/local/r2-learner/results/test_r2svm_glass',\n",
        " '/mnt/users/czarnecki/local/r2-learner/results/lmao_r2svm_iris',\n",
        " '/mnt/users/czarnecki/local/r2-learner/results/lmao_r2svm_wine',\n",
        " '/mnt/users/czarnecki/local/r2-learner/results/lmao_r2svm_heart',\n",
        " '/mnt/users/czarnecki/local/r2-learner/results/lmao_r2svm_liver',\n",
        " '/mnt/users/czarnecki/local/r2-learner/results/lmao_r2svm_glass']"
       ]
      }
     ],
     "prompt_number": 91
    },
    {
     "cell_type": "code",
     "collapsed": false,
     "input": [
      "new_datasets = fetch_new_datasets()"
     ],
     "language": "python",
     "metadata": {},
     "outputs": [],
     "prompt_number": 96
    },
    {
     "cell_type": "code",
     "collapsed": false,
     "input": [
      "for data in new_datasets:\n",
      "    print data.name, data.n_dim, data.n_class"
     ],
     "language": "python",
     "metadata": {},
     "outputs": [
      {
       "output_type": "stream",
       "stream": "stdout",
       "text": [
        "australian 14 2\n",
        "bank 4 2\n",
        "breast_cancer 10 2\n",
        "crashes 20 2\n",
        "bank 8 2\n",
        "bank 2 2\n",
        "german 24 2\n",
        "indian 10 2\n",
        "ionosphere 34 2\n",
        "bank 112 2\n",
        "bank 60 2\n",
        "splice 60 2\n"
       ]
      }
     ],
     "prompt_number": 97
    },
    {
     "cell_type": "code",
     "collapsed": false,
     "input": [
      "for path in paths:\n",
      "    if os.path.isdir(path):\n",
      "        for exp in os.listdir(os.path.join(path)):\n",
      "            name = exp[:-11]\n",
      "            results = {}\n",
      "            results[name] = cPickle.load(open(os.path.join(path,exp),'r'))\n",
      "        name = path.split('/')[-1]\n",
      "        all_results[name] = results"
     ],
     "language": "python",
     "metadata": {},
     "outputs": [],
     "prompt_number": 92
    },
    {
     "cell_type": "code",
     "collapsed": false,
     "input": [
      "all_results.values()[0]"
     ],
     "language": "python",
     "metadata": {},
     "outputs": [
      {
       "metadata": {},
       "output_type": "pyout",
       "prompt_number": 89,
       "text": [
        "{'test_r2svm_satimage_C54.5981500331_uT_rF_b1.50_sF_': {'config': {'experiment_name': 'test_r2svm_satimage_C54.5981500331_uT_rF_b1.50_sF_',\n",
        "   'n_folds': 5,\n",
        "   'params': {'C': 54.598150033144236,\n",
        "    'activation': 'sigmoid',\n",
        "    'beta': 1.5,\n",
        "    'fit_c': 'random',\n",
        "    'recurrent': False,\n",
        "    'scale': False,\n",
        "    'seed': 681,\n",
        "    'use_prev': True},\n",
        "   'seed': None,\n",
        "   'store_clf': True},\n",
        "  'monitors': {'acc_fold': array([[ 0.8787322 ,  0.88883785,  0.88654111],\n",
        "          [ 0.86850575,  0.87172414,  0.86942529],\n",
        "          [ 0.87390704,  0.87942936,  0.87390704],\n",
        "          [ 0.85826047,  0.86654395,  0.8697653 ],\n",
        "          [ 0.8752302 ,  0.87430939,  0.87661142]]),\n",
        "   'best_depth': [2, 5, 10, 2, 5],\n",
        "   'clf': [R2SVMLearner(C=54.598150033144236, activation='sigmoid', beta=1.5, depth=10,\n",
        "           fit_c='random', fixed_prediction=False, recurrent=False,\n",
        "           scale=False, seed=681, use_linear_svc=None, use_prev=True),\n",
        "    R2SVMLearner(C=54.598150033144236, activation='sigmoid', beta=1.5, depth=10,\n",
        "           fit_c='random', fixed_prediction=False, recurrent=False,\n",
        "           scale=False, seed=681, use_linear_svc=None, use_prev=True),\n",
        "    R2SVMLearner(C=54.598150033144236, activation='sigmoid', beta=1.5, depth=10,\n",
        "           fit_c='random', fixed_prediction=False, recurrent=False,\n",
        "           scale=False, seed=681, use_linear_svc=None, use_prev=True),\n",
        "    R2SVMLearner(C=54.598150033144236, activation='sigmoid', beta=1.5, depth=10,\n",
        "           fit_c='random', fixed_prediction=False, recurrent=False,\n",
        "           scale=False, seed=681, use_linear_svc=None, use_prev=True),\n",
        "    R2SVMLearner(C=54.598150033144236, activation='sigmoid', beta=1.5, depth=10,\n",
        "           fit_c='random', fixed_prediction=False, recurrent=False,\n",
        "           scale=False, seed=681, use_linear_svc=None, use_prev=True),\n",
        "    R2SVMLearner(C=54.598150033144236, activation='sigmoid', beta=1.5, depth=10,\n",
        "           fit_c='random', fixed_prediction=False, recurrent=False,\n",
        "           scale=False, seed=681, use_linear_svc=None, use_prev=True),\n",
        "    R2SVMLearner(C=54.598150033144236, activation='sigmoid', beta=1.5, depth=10,\n",
        "           fit_c='random', fixed_prediction=False, recurrent=False,\n",
        "           scale=False, seed=681, use_linear_svc=None, use_prev=True),\n",
        "    R2SVMLearner(C=54.598150033144236, activation='sigmoid', beta=1.5, depth=10,\n",
        "           fit_c='random', fixed_prediction=False, recurrent=False,\n",
        "           scale=False, seed=681, use_linear_svc=None, use_prev=True),\n",
        "    R2SVMLearner(C=54.598150033144236, activation='sigmoid', beta=1.5, depth=10,\n",
        "           fit_c='random', fixed_prediction=False, recurrent=False,\n",
        "           scale=False, seed=681, use_linear_svc=None, use_prev=True),\n",
        "    R2SVMLearner(C=54.598150033144236, activation='sigmoid', beta=1.5, depth=10,\n",
        "           fit_c='random', fixed_prediction=False, recurrent=False,\n",
        "           scale=False, seed=681, use_linear_svc=None, use_prev=True),\n",
        "    R2SVMLearner(C=54.598150033144236, activation='sigmoid', beta=1.5, depth=10,\n",
        "           fit_c='random', fixed_prediction=False, recurrent=False,\n",
        "           scale=False, seed=681, use_linear_svc=None, use_prev=True),\n",
        "    R2SVMLearner(C=54.598150033144236, activation='sigmoid', beta=1.5, depth=10,\n",
        "           fit_c='random', fixed_prediction=False, recurrent=False,\n",
        "           scale=False, seed=681, use_linear_svc=None, use_prev=True),\n",
        "    R2SVMLearner(C=54.598150033144236, activation='sigmoid', beta=1.5, depth=10,\n",
        "           fit_c='random', fixed_prediction=False, recurrent=False,\n",
        "           scale=False, seed=681, use_linear_svc=None, use_prev=True),\n",
        "    R2SVMLearner(C=54.598150033144236, activation='sigmoid', beta=1.5, depth=10,\n",
        "           fit_c='random', fixed_prediction=False, recurrent=False,\n",
        "           scale=False, seed=681, use_linear_svc=None, use_prev=True),\n",
        "    R2SVMLearner(C=54.598150033144236, activation='sigmoid', beta=1.5, depth=10,\n",
        "           fit_c='random', fixed_prediction=False, recurrent=False,\n",
        "           scale=False, seed=681, use_linear_svc=None, use_prev=True)],\n",
        "   'data_name': 'satimage',\n",
        "   'n_class': 6,\n",
        "   'n_dim': 36,\n",
        "   'std': 0.0073716202538295543,\n",
        "   'test_time': [[0.06226801872253418, 0.0610349178314209, 0.0635528564453125],\n",
        "    [0.06049704551696777, 0.06130194664001465, 0.06205916404724121],\n",
        "    [0.061434030532836914, 0.0622708797454834, 0.06195712089538574],\n",
        "    [0.06228017807006836, 0.06158900260925293, 0.06189084053039551],\n",
        "    [0.06160402297973633, 0.06020998954772949, 0.06064200401306152]],\n",
        "   'train_time': [[508.496680021286, 409.95294404029846, 474.50446701049805],\n",
        "    [456.4222779273987, 449.20144486427307, 404.11788296699524],\n",
        "    [365.15528297424316, 418.13526701927185, 507.7377610206604],\n",
        "    [471.51942586898804, 394.785306930542, 479.3112840652466],\n",
        "    [428.7553060054779, 439.2764928340912, 479.1458909511566]]},\n",
        "  'results': {'mean_acc': 0.87411536726551498}}}"
       ]
      }
     ],
     "prompt_number": 89
    },
    {
     "cell_type": "code",
     "collapsed": false,
     "input": [
      "def to_frame(all_results):\n",
      "    for v, k in results.iteritems:\n",
      "        \n",
      "    "
     ],
     "language": "python",
     "metadata": {},
     "outputs": []
    },
    {
     "cell_type": "code",
     "collapsed": false,
     "input": [
      "for exp in results.values():\n",
      "    print len(exp['monitors']['clf'][0].models_)\n",
      "#     for model in exp['monitors']['clf']:\n",
      "#         print model.models_"
     ],
     "language": "python",
     "metadata": {},
     "outputs": [
      {
       "output_type": "stream",
       "stream": "stdout",
       "text": [
        "10\n",
        "10\n",
        "10\n",
        "10\n"
       ]
      }
     ],
     "prompt_number": 63
    },
    {
     "cell_type": "code",
     "collapsed": false,
     "input": [
      "len(results)"
     ],
     "language": "python",
     "metadata": {},
     "outputs": [
      {
       "metadata": {},
       "output_type": "pyout",
       "prompt_number": 71,
       "text": [
        "1006"
       ]
      }
     ],
     "prompt_number": 71
    },
    {
     "cell_type": "code",
     "collapsed": false,
     "input": [
      "d = {'a': 4, 'b':5}\n",
      "print d\n",
      "v = d['a']\n",
      "v = 9\n",
      "print d"
     ],
     "language": "python",
     "metadata": {},
     "outputs": [
      {
       "output_type": "stream",
       "stream": "stdout",
       "text": [
        "{'a': 4, 'b': 5}\n",
        "{'a': 4, 'b': 5}\n"
       ]
      }
     ],
     "prompt_number": 86
    }
   ],
   "metadata": {}
  }
 ]
}