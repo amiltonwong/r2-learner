{
 "metadata": {
  "name": "",
  "signature": "sha256:eadd99fc1b2f1d70889a5b9e686f780809d661011cbbc3e049f085234655e261"
 },
 "nbformat": 3,
 "nbformat_minor": 0,
 "worksheets": [
  {
   "cells": [
    {
     "cell_type": "code",
     "collapsed": false,
     "input": [
      "import sys, os\n",
      "sys.path.append('..')\n",
      "\n",
      "from misc.config"
     ],
     "language": "python",
     "metadata": {},
     "outputs": [],
     "prompt_number": 1
    },
    {
     "cell_type": "code",
     "collapsed": false,
     "input": [
      "liver['r2svm'][3]"
     ],
     "language": "python",
     "metadata": {},
     "outputs": []
    }
   ],
   "metadata": {}
  }
 ]
}