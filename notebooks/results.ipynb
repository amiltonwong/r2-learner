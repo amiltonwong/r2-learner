{
 "metadata": {
  "name": "",
  "signature": "sha256:575ebd6061e04f2b5f20ec45442e8ce4e58742774f7c7291eeb8a77e8b6c2a36"
 },
 "nbformat": 3,
 "nbformat_minor": 0,
 "worksheets": [
  {
   "cells": [
    {
     "cell_type": "code",
     "collapsed": false,
     "input": [
      "import sys, os\n",
      "sys.path.append('..')\n",
      "\n",
      "from misc.config import c\n",
      "import cPickle"
     ],
     "language": "python",
     "metadata": {},
     "outputs": [],
     "prompt_number": 56
    },
    {
     "cell_type": "code",
     "collapsed": false,
     "input": [
      "results = {}\n",
      "results_dir = c['RESULTS_DIR']\n",
      "for exp in os.listdir(os.path.join(results_dir,'test_r2svm_iris/')):\n",
      "    results[exp[:-11]] = cPickle.load(open(os.path.join(results_dir,'test_r2svm_iris/',exp),'r'))"
     ],
     "language": "python",
     "metadata": {},
     "outputs": [],
     "prompt_number": 57
    },
    {
     "cell_type": "code",
     "collapsed": false,
     "input": [
      "for exp in results.values():\n",
      "    print len(exp['monitors']['clf'][0].models_)\n",
      "#     for model in exp['monitors']['clf']:\n",
      "#         print model.models_"
     ],
     "language": "python",
     "metadata": {},
     "outputs": [
      {
       "output_type": "stream",
       "stream": "stdout",
       "text": [
        "10\n",
        "10\n",
        "10\n",
        "10\n"
       ]
      }
     ],
     "prompt_number": 63
    },
    {
     "cell_type": "code",
     "collapsed": false,
     "input": [
      "type(True)"
     ],
     "language": "python",
     "metadata": {},
     "outputs": [
      {
       "metadata": {},
       "output_type": "pyout",
       "prompt_number": 55,
       "text": [
        "bool"
       ]
      }
     ],
     "prompt_number": 55
    }
   ],
   "metadata": {}
  }
 ]
}