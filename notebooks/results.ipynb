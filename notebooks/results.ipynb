{
 "metadata": {
  "name": "",
  "signature": "sha256:d7c5bc5070a0a0b58e8136b8b26798994299340744ceab8e1777ed904dc575ee"
 },
 "nbformat": 3,
 "nbformat_minor": 0,
 "worksheets": [
  {
   "cells": [
    {
     "cell_type": "markdown",
     "metadata": {},
     "source": [
      "w pliku .pkl jest s\u0142ownik, kt\u00f3rego kluczami s\u0105 nazwy 3 zbior\u00f3w danych: iris, liver, heart.\n",
      "\n",
      "Na ka\u017cdym z tych zbior\u00f3w by\u0142y robione 3 rzeczy, najpierw GridSearchCV, potem raz 5-foldCV z logowaniem wynik\u00f3w i w ko\u0144cu 50 razy 5-fold CV, z kt\u00f3rego zapisana jest tylko \u015brednia dok\u0142adno\u015b\u0107.\n",
      "\n",
      "Ka\u017cda warto\u015b\u0107 w s\u0142owniku to DataFrame z pandas. Ka\u017cdy DataFrame ma kolumny z wynikami z 5 modeli: r2svm, r2elm, elm+rbfm, eml+sig, svm.\n",
      "\n",
      "Opis *cz\u0119\u015bci* nazw p\u00f3l:\n",
      "\n",
      "* Pola og\u00f3lne:\n",
      "  * n_dim           - wymiarowo\u015b\u0107 danych\n",
      "  * n_class         - ilo\u015bc klas\n",
      "  * 50x5-fold_mean  - srednia accuracy z 50 5-fold\u00f3w\n",
      "  * 50x5-fold_std   - odchylenie standardowe z jw.\n",
      "\n",
      "* Pola z informacji z GridSearchCV:\n",
      "  * grid_time        - czas wywo\u0142ania metody .fit(X,Y) na obekcie GridSearchCV z sklearn\n",
      "  * fold_params      - lista wszystkich parametr\u00f3w modelu w gridzie\n",
      "  * mean_fold_scores - \u015bredni wynkich dla danych parametr\u00f3w (len(mean_fold_scores) == len(fold_params))\n",
      "  * std_fold_scores  - odchylenie standardowe dla danych parametr\u00f3w (jw.)\n",
      "  * best_std         - odchylenie standardwo dla najlepszych parametr\u00f3w\t\n",
      "\n",
      "* Pola z infomacji z pojedynczego 5-fold dla najlepszych parametr\u00f3w:\n",
      "  * acc_fold - dok\u0142adno\u015b\u0107 w danych foldzie\n",
      "  * cm       - confusion matrix w danym foldzie\n",
      "  * mean_acc - \u015brednia dok\u0142adno\u015b\u0107 z 5-fold\u00f3w\n",
      "  * std      - odchylenie strandardowe z 5-fold\u00f3w\n",
      "\n",
      "Grid paramters dla modeli:"
     ]
    },
    {
     "cell_type": "code",
     "collapsed": false,
     "input": [
      "import sys\n",
      "sys.path.append(\"..\")"
     ],
     "language": "python",
     "metadata": {},
     "outputs": []
    },
    {
     "cell_type": "code",
     "collapsed": false,
     "input": [
      "from pandas import DataFrame"
     ],
     "language": "python",
     "metadata": {},
     "outputs": []
    },
    {
     "cell_type": "code",
     "collapsed": false,
     "input": [
      "import cPickle\n",
      "import os\n",
      "import pandas as pd\n",
      "import numpy as np\n",
      "from misc.config import c\n",
      "\n",
      "results_dir = c['RESULTS_DIR']\n",
      "file_name = 'ilh.res'\n",
      "\n",
      "pd.options.display.float_format = '{:,.4f}'.format"
     ],
     "language": "python",
     "metadata": {},
     "outputs": []
    },
    {
     "cell_type": "code",
     "collapsed": false,
     "input": [
      "iris = pd.io.parsers.read_csv(os.path.join(results_dir, \"iris_results.csv\"))\n",
      "liver = pd.io.parsers.read_csv(os.path.join(results_dir, \"liver_results.csv\"))\n",
      "heart = pd.io.parsers.read_csv(os.path.join(results_dir, \"heart_results.csv\"))\n",
      "results = {\"iris\":iris, \"liver\":liver, \"heart\":heart}"
     ],
     "language": "python",
     "metadata": {},
     "outputs": []
    },
    {
     "cell_type": "code",
     "collapsed": false,
     "input": [
      "def disp(d) :\n",
      "    \"\"\"better dictionary display\"\"\"\n",
      "    assert type(d) == dict \n",
      "    for k, v in d.iteritems():\n",
      "        print str(k)+':'\n",
      "        print v \n",
      "        print '\\n\\n' \n",
      "    \n",
      "def get_datasets(results):\n",
      "    return results.keys()\n",
      "\n",
      "def get_models(results):\n",
      "    return results.values()[0].columns.values.tolist()\n",
      "\n",
      "def get_columns(results):\n",
      "    return results.values()[0].index.values.tolist()\n",
      "    \n",
      "def get_results(results, column, model=None, data=None):\n",
      "    if data is None:\n",
      "        data = get_datasets(results)\n",
      "    if model is None:\n",
      "        model = get_models(results)\n",
      "    return { d: results[d].loc[column, model] for d in data }"
     ],
     "language": "python",
     "metadata": {},
     "outputs": []
    },
    {
     "cell_type": "code",
     "collapsed": false,
     "input": [
      "iris[\"r2svm\"][3]"
     ],
     "language": "python",
     "metadata": {},
     "outputs": []
    },
    {
     "cell_type": "code",
     "collapsed": false,
     "input": [
      "iris"
     ],
     "language": "python",
     "metadata": {},
     "outputs": []
    },
    {
     "cell_type": "code",
     "collapsed": false,
     "input": [
      "liver"
     ],
     "language": "python",
     "metadata": {},
     "outputs": []
    },
    {
     "cell_type": "code",
     "collapsed": false,
     "input": [
      "heart"
     ],
     "language": "python",
     "metadata": {},
     "outputs": []
    },
    {
     "cell_type": "code",
     "collapsed": false,
     "input": [
      "print 'Experiment data sets: ', get_datasets(results)\n",
      "print\n",
      "print 'Experiment models: ', get_models(results)\n",
      "print\n",
      "print 'All logged things: ', get_columns(results)\n",
      "print\n",
      "print 'Display some things: '\n",
      "disp(get_results(results, column=['std', 'mean_acc']))"
     ],
     "language": "python",
     "metadata": {},
     "outputs": []
    },
    {
     "cell_type": "code",
     "collapsed": false,
     "input": [
      "liver['r2svm'][3]"
     ],
     "language": "python",
     "metadata": {},
     "outputs": []
    }
   ],
   "metadata": {}
  }
 ]
}