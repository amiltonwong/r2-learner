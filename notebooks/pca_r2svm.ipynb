{
 "metadata": {
  "name": "",
  "signature": "sha256:fde8dc66060a518d73f12c802dc465434c695b6d777c745935a9ff02c9137c17"
 },
 "nbformat": 3,
 "nbformat_minor": 0,
 "worksheets": [
  {
   "cells": [
    {
     "cell_type": "markdown",
     "metadata": {},
     "source": [
      "# Trying out pca r2svm if has competitive performance"
     ]
    },
    {
     "cell_type": "code",
     "collapsed": false,
     "input": [
      "%load_ext autoreload\n",
      "%autoreload 2\n",
      "\n",
      "import sys\n",
      "import os\n",
      "sys.path.append(\"..\")\n",
      "\n",
      "from sklearn import svm, datasets\n",
      "from sklearn.grid_search import ParameterGrid, GridSearchCV\n",
      "from sklearn.base import BaseEstimator, clone \n",
      "from sklearn.cross_validation import KFold\n",
      "from sklearn.svm import SVC\n",
      "import os\n",
      "import math\n",
      "import numpy as np\n",
      "import sklearn.metrics\n",
      "from multiprocessing import Pool\n",
      "from functools import partial\n",
      "\n",
      "import sklearn\n",
      "from sklearn.preprocessing import MinMaxScaler, LabelBinarizer\n",
      "from sklearn.metrics import accuracy_score\n",
      "from sklearn.cross_validation import KFold\n",
      "from sklearn.preprocessing import MinMaxScaler\n",
      "\n",
      "from data_api import *\n",
      "\n",
      "from r2 import *\n",
      "\n",
      "\n",
      "from misc.config import c\n",
      "from data_api import *\n",
      "import cPickle\n",
      "import pandas as pd\n",
      "from data_api import *\n",
      "results_dir = c['RESULTS_DIR']\n",
      "\n",
      "from scripts.fit_models import *\n",
      "\n",
      "%matplotlib inline"
     ],
     "language": "python",
     "metadata": {},
     "outputs": [
      {
       "output_type": "stream",
       "stream": "stdout",
       "text": [
        "The autoreload extension is already loaded. To reload it, use:\n",
        "  %reload_ext autoreload\n"
       ]
      }
     ],
     "prompt_number": 12
    },
    {
     "cell_type": "code",
     "collapsed": false,
     "input": [
      "all_results = {}\n",
      "\n",
      "datasets = ['fourclass']\n",
      "models = ['test_svc']\n",
      "\n",
      "paths = [ os.path.join(results_dir, model + '_' + dataset) for model in models for dataset in datasets ]"
     ],
     "language": "python",
     "metadata": {},
     "outputs": [],
     "prompt_number": 2
    },
    {
     "cell_type": "code",
     "collapsed": false,
     "input": [
      "csv_results = {}\n",
      "csv_dir = os.path.join(results_dir, 'csv')\n",
      "\n",
      "for csv_file in os.listdir(csv_dir):\n",
      "    csv_results[csv_file] = pd.DataFrame.from_csv(os.path.join(csv_dir, csv_file))"
     ],
     "language": "python",
     "metadata": {},
     "outputs": [],
     "prompt_number": 3
    },
    {
     "cell_type": "code",
     "collapsed": false,
     "input": [
      "f = csv_results['test_r2svm_glass']"
     ],
     "language": "python",
     "metadata": {},
     "outputs": [],
     "prompt_number": 4
    },
    {
     "cell_type": "code",
     "collapsed": false,
     "input": [
      "h1 = f[f.index == \"test_r2svm_glass_uF_rF_b0.10_sF_\"]"
     ],
     "language": "python",
     "metadata": {},
     "outputs": [],
     "prompt_number": 79
    },
    {
     "cell_type": "code",
     "collapsed": false,
     "input": [
      "h1['seed']"
     ],
     "language": "python",
     "metadata": {},
     "outputs": [
      {
       "metadata": {},
       "output_type": "pyout",
       "prompt_number": 80,
       "text": [
        "test_r2svm_glass_uF_rF_b0.10_sF_    681\n",
        "Name: seed, dtype: int64"
       ]
      }
     ],
     "prompt_number": 80
    },
    {
     "cell_type": "code",
     "collapsed": false,
     "input": [
      "h = f[f.index == \"test_r2svm_glass_uF_rF_b0.10_sT_\"]"
     ],
     "language": "python",
     "metadata": {},
     "outputs": [],
     "prompt_number": 5
    },
    {
     "cell_type": "code",
     "collapsed": false,
     "input": [
      "e = cPickle.load(open(\"/mnt/users/czarnecki/local/r2-learner/results/test_r2svm_glass/test_r2svm_glass_uF_rF_b0.10_sT_.experiment\"))"
     ],
     "language": "python",
     "metadata": {},
     "outputs": [],
     "prompt_number": 54
    },
    {
     "cell_type": "code",
     "collapsed": false,
     "input": [
      "[m.random_state for m in e['monitors']['clf']]"
     ],
     "language": "python",
     "metadata": {},
     "outputs": [
      {
       "metadata": {},
       "output_type": "pyout",
       "prompt_number": 81,
       "text": [
        "[<mtrand.RandomState at 0x7f1a27bce090>,\n",
        " <mtrand.RandomState at 0x7f1a27bce090>,\n",
        " <mtrand.RandomState at 0x7f1a27bce090>,\n",
        " <mtrand.RandomState at 0x7f1a27bce090>,\n",
        " <mtrand.RandomState at 0x7f1a27bce090>,\n",
        " <mtrand.RandomState at 0x7f1a27bce090>,\n",
        " <mtrand.RandomState at 0x7f1a27bce090>,\n",
        " <mtrand.RandomState at 0x7f1a27bce090>,\n",
        " <mtrand.RandomState at 0x7f1a27bce090>,\n",
        " <mtrand.RandomState at 0x7f1a27bce090>,\n",
        " <mtrand.RandomState at 0x7f1a27bce090>,\n",
        " <mtrand.RandomState at 0x7f1a27bce090>,\n",
        " <mtrand.RandomState at 0x7f1a27bce090>,\n",
        " <mtrand.RandomState at 0x7f1a27bce090>,\n",
        " <mtrand.RandomState at 0x7f1a27bce090>]"
       ]
      }
     ],
     "prompt_number": 81
    },
    {
     "cell_type": "code",
     "collapsed": false,
     "input": [
      "h['seed']"
     ],
     "language": "python",
     "metadata": {},
     "outputs": [
      {
       "metadata": {},
       "output_type": "pyout",
       "prompt_number": 85,
       "text": [
        "test_r2svm_glass_uF_rF_b0.10_sT_    681\n",
        "Name: seed, dtype: int64"
       ]
      }
     ],
     "prompt_number": 85
    },
    {
     "cell_type": "code",
     "collapsed": false,
     "input": [
      "for path in paths:\n",
      "    if os.path.isdir(path):\n",
      "        print path\n",
      "        results = {}\n",
      "        for exp in os.listdir(path):\n",
      "            \n",
      "            name = exp[:-11]\n",
      "            \n",
      "            if not name.startswith(\"test_r2svm_glass\"):\n",
      "                pass\n",
      "            \n",
      "            try:\n",
      "                exp_res = cPickle.load(open(os.path.join(path, exp),'r'))\n",
      "            except:\n",
      "                print exp\n",
      "                continue\n",
      "            merged_res = exp_res['monitors']\n",
      "            merged_res.update(exp_res['results'])\n",
      "            merged_res.update(exp_res['config']['params'])\n",
      "            results[name] = merged_res\n",
      "        name = path.split('/')[-1]\n",
      "        all_results[name] = results"
     ],
     "language": "python",
     "metadata": {},
     "outputs": [],
     "prompt_number": 20
    },
    {
     "cell_type": "code",
     "collapsed": false,
     "input": [
      "model = R2SVMLearner()"
     ],
     "language": "python",
     "metadata": {},
     "outputs": [],
     "prompt_number": 7
    },
    {
     "cell_type": "code",
     "collapsed": false,
     "input": [
      "glass = fetch_uci_datasets([\"glass\"])[0]"
     ],
     "language": "python",
     "metadata": {},
     "outputs": [],
     "prompt_number": 8
    },
    {
     "cell_type": "code",
     "collapsed": false,
     "input": [
      "help(extern_k_fold)"
     ],
     "language": "python",
     "metadata": {},
     "outputs": [
      {
       "output_type": "stream",
       "stream": "stdout",
       "text": [
        "Help on function extern_k_fold in module scripts.fit_models:\n",
        "\n",
        "extern_k_fold(base_model, params, data, exp_name, model_name, n_folds=5, seed=None, store_clf=False, log=True, save_model=True)\n",
        "\n"
       ]
      }
     ],
     "prompt_number": 13
    },
    {
     "cell_type": "code",
     "collapsed": false,
     "input": [
      "h['clf'][0]"
     ],
     "language": "python",
     "metadata": {},
     "outputs": [
      {
       "metadata": {},
       "output_type": "pyout",
       "prompt_number": 88,
       "text": [
        "\"[R2SVMLearner(C=1, activation='sigmoid', beta=0.1, depth=10, fit_c='random',\\n       fixed_prediction=False, recurrent=False, scale=True, seed=681,\\n       switched=False, use_linear_svc=None, use_prev=False), R2SVMLearner(C=1, activation='sigmoid', beta=0.1, depth=10, fit_c='random',\\n       fixed_prediction=False, recurrent=False, scale=True, seed=681,\\n       switched=False, use_linear_svc=None, use_prev=False), R2SVMLearner(C=1, activation='sigmoid', beta=0.1, depth=10, fit_c='random',\\n       fixed_prediction=False, recurrent=False, scale=True, seed=681,\\n       switched=False, use_linear_svc=None, use_prev=False), R2SVMLearner(C=1, activation='sigmoid', beta=0.1, depth=10, fit_c='random',\\n       fixed_prediction=False, recurrent=False, scale=True, seed=681,\\n       switched=False, use_linear_svc=None, use_prev=False), R2SVMLearner(C=1, activation='sigmoid', beta=0.1, depth=10, fit_c='random',\\n       fixed_prediction=False, recurrent=False, scale=True, seed=681,\\n       switched=False, use_linear_svc=None, use_prev=False), R2SVMLearner(C=1, activation='sigmoid', beta=0.1, depth=10, fit_c='random',\\n       fixed_prediction=False, recurrent=False, scale=True, seed=681,\\n       switched=False, use_linear_svc=None, use_prev=False), R2SVMLearner(C=1, activation='sigmoid', beta=0.1, depth=10, fit_c='random',\\n       fixed_prediction=False, recurrent=False, scale=True, seed=681,\\n       switched=False, use_linear_svc=None, use_prev=False), R2SVMLearner(C=1, activation='sigmoid', beta=0.1, depth=10, fit_c='random',\\n       fixed_prediction=False, recurrent=False, scale=True, seed=681,\\n       switched=False, use_linear_svc=None, use_prev=False), R2SVMLearner(C=1, activation='sigmoid', beta=0.1, depth=10, fit_c='random',\\n       fixed_prediction=False, recurrent=False, scale=True, seed=681,\\n       switched=False, use_linear_svc=None, use_prev=False), R2SVMLearner(C=1, activation='sigmoid', beta=0.1, depth=10, fit_c='random',\\n       fixed_prediction=False, recurrent=False, scale=True, seed=681,\\n       switched=False, use_linear_svc=None, use_prev=False), R2SVMLearner(C=1, activation='sigmoid', beta=0.1, depth=10, fit_c='random',\\n       fixed_prediction=False, recurrent=False, scale=True, seed=681,\\n       switched=False, use_linear_svc=None, use_prev=False), R2SVMLearner(C=1, activation='sigmoid', beta=0.1, depth=10, fit_c='random',\\n       fixed_prediction=False, recurrent=False, scale=True, seed=681,\\n       switched=False, use_linear_svc=None, use_prev=False), R2SVMLearner(C=1, activation='sigmoid', beta=0.1, depth=10, fit_c='random',\\n       fixed_prediction=False, recurrent=False, scale=True, seed=681,\\n       switched=False, use_linear_svc=None, use_prev=False), R2SVMLearner(C=1, activation='sigmoid', beta=0.1, depth=10, fit_c='random',\\n       fixed_prediction=False, recurrent=False, scale=True, seed=681,\\n       switched=False, use_linear_svc=None, use_prev=False), R2SVMLearner(C=1, activation='sigmoid', beta=0.1, depth=10, fit_c='random',\\n       fixed_prediction=False, recurrent=False, scale=True, seed=681,\\n       switched=False, use_linear_svc=None, use_prev=False)]\""
       ]
      }
     ],
     "prompt_number": 88
    },
    {
     "cell_type": "code",
     "collapsed": false,
     "input": [
      "type(h)"
     ],
     "language": "python",
     "metadata": {},
     "outputs": [
      {
       "metadata": {},
       "output_type": "pyout",
       "prompt_number": 87,
       "text": [
        "pandas.core.frame.DataFrame"
       ]
      }
     ],
     "prompt_number": 87
    },
    {
     "cell_type": "code",
     "collapsed": false,
     "input": [
      "e['monitors']['acc_fold']"
     ],
     "language": "python",
     "metadata": {},
     "outputs": [
      {
       "metadata": {},
       "output_type": "pyout",
       "prompt_number": 78,
       "text": [
        "array([[ 0.73333333,  0.75555556,  0.66666667],\n",
        "       [ 0.56818182,  0.63636364,  0.59090909],\n",
        "       [ 0.60465116,  0.65116279,  0.65116279],\n",
        "       [ 0.64285714,  0.69047619,  0.71428571],\n",
        "       [ 0.575     ,  0.625     ,  0.6       ]])"
       ]
      }
     ],
     "prompt_number": 78
    },
    {
     "cell_type": "code",
     "collapsed": false,
     "input": [
      "e['config']"
     ],
     "language": "python",
     "metadata": {},
     "outputs": [
      {
       "metadata": {},
       "output_type": "pyout",
       "prompt_number": 93,
       "text": [
        "{'experiment_name': 'test_r2svm_glass_uF_rF_b0.10_sT_',\n",
        " 'n_folds': 5,\n",
        " 'params': {'beta': 0.1,\n",
        "  'fit_c': 'random',\n",
        "  'recurrent': False,\n",
        "  'scale': True,\n",
        "  'seed': 681,\n",
        "  'use_prev': False},\n",
        " 'seed': None,\n",
        " 'store_clf': True}"
       ]
      }
     ],
     "prompt_number": 93
    },
    {
     "cell_type": "code",
     "collapsed": false,
     "input": [
      "e['results']"
     ],
     "language": "python",
     "metadata": {},
     "outputs": [
      {
       "metadata": {},
       "output_type": "pyout",
       "prompt_number": 72,
       "text": [
        "{'mean_acc': 0.64704039285434634}"
       ]
      }
     ],
     "prompt_number": 72
    },
    {
     "cell_type": "code",
     "collapsed": false,
     "input": [
      "params_glass_r2svm = e['config']['params']\n",
      "params_glass_r2svm['seed'] = 666\n",
      "k_fold(model, params=params_glass_r2svm, seed=666, data=glass, exp_name=\"check_cons\", model_name=\"r2svm\", save_model=False)"
     ],
     "language": "python",
     "metadata": {},
     "outputs": [
      {
       "metadata": {},
       "output_type": "pyout",
       "prompt_number": 102,
       "text": [
        "{'config': {'experiment_name': 'check_cons_r2svm_glass_uF_rF_b0.10_sT_',\n",
        "  'n_folds': 5,\n",
        "  'params': {'beta': 0.1,\n",
        "   'fit_c': 'random',\n",
        "   'recurrent': False,\n",
        "   'scale': True,\n",
        "   'seed': 681,\n",
        "   'use_prev': False},\n",
        "  'seed': 666,\n",
        "  'store_clf': True},\n",
        " 'monitors': {'acc_fold': array([[ 0.66666667,  0.71111111,  0.57777778],\n",
        "         [ 0.68181818,  0.56818182,  0.59090909],\n",
        "         [ 0.62790698,  0.62790698,  0.62790698],\n",
        "         [ 0.57142857,  0.54761905,  0.54761905],\n",
        "         [ 0.525     ,  0.625     ,  0.575     ]]),\n",
        "  'best_depth': [3, 6, 1, 9, 8],\n",
        "  'clf': [R2SVMLearner(C=1, activation='sigmoid', beta=0.1, depth=10, fit_c='random',\n",
        "          fixed_prediction=False, recurrent=False, scale=True, seed=681,\n",
        "          switched=False, use_linear_svc=None, use_prev=False),\n",
        "   R2SVMLearner(C=1, activation='sigmoid', beta=0.1, depth=10, fit_c='random',\n",
        "          fixed_prediction=False, recurrent=False, scale=True, seed=681,\n",
        "          switched=False, use_linear_svc=None, use_prev=False),\n",
        "   R2SVMLearner(C=1, activation='sigmoid', beta=0.1, depth=10, fit_c='random',\n",
        "          fixed_prediction=False, recurrent=False, scale=True, seed=681,\n",
        "          switched=False, use_linear_svc=None, use_prev=False),\n",
        "   R2SVMLearner(C=1, activation='sigmoid', beta=0.1, depth=10, fit_c='random',\n",
        "          fixed_prediction=False, recurrent=False, scale=True, seed=681,\n",
        "          switched=False, use_linear_svc=None, use_prev=False),\n",
        "   R2SVMLearner(C=1, activation='sigmoid', beta=0.1, depth=10, fit_c='random',\n",
        "          fixed_prediction=False, recurrent=False, scale=True, seed=681,\n",
        "          switched=False, use_linear_svc=None, use_prev=False),\n",
        "   R2SVMLearner(C=1, activation='sigmoid', beta=0.1, depth=10, fit_c='random',\n",
        "          fixed_prediction=False, recurrent=False, scale=True, seed=681,\n",
        "          switched=False, use_linear_svc=None, use_prev=False),\n",
        "   R2SVMLearner(C=1, activation='sigmoid', beta=0.1, depth=10, fit_c='random',\n",
        "          fixed_prediction=False, recurrent=False, scale=True, seed=681,\n",
        "          switched=False, use_linear_svc=None, use_prev=False),\n",
        "   R2SVMLearner(C=1, activation='sigmoid', beta=0.1, depth=10, fit_c='random',\n",
        "          fixed_prediction=False, recurrent=False, scale=True, seed=681,\n",
        "          switched=False, use_linear_svc=None, use_prev=False),\n",
        "   R2SVMLearner(C=1, activation='sigmoid', beta=0.1, depth=10, fit_c='random',\n",
        "          fixed_prediction=False, recurrent=False, scale=True, seed=681,\n",
        "          switched=False, use_linear_svc=None, use_prev=False),\n",
        "   R2SVMLearner(C=1, activation='sigmoid', beta=0.1, depth=10, fit_c='random',\n",
        "          fixed_prediction=False, recurrent=False, scale=True, seed=681,\n",
        "          switched=False, use_linear_svc=None, use_prev=False),\n",
        "   R2SVMLearner(C=1, activation='sigmoid', beta=0.1, depth=10, fit_c='random',\n",
        "          fixed_prediction=False, recurrent=False, scale=True, seed=681,\n",
        "          switched=False, use_linear_svc=None, use_prev=False),\n",
        "   R2SVMLearner(C=1, activation='sigmoid', beta=0.1, depth=10, fit_c='random',\n",
        "          fixed_prediction=False, recurrent=False, scale=True, seed=681,\n",
        "          switched=False, use_linear_svc=None, use_prev=False),\n",
        "   R2SVMLearner(C=1, activation='sigmoid', beta=0.1, depth=10, fit_c='random',\n",
        "          fixed_prediction=False, recurrent=False, scale=True, seed=681,\n",
        "          switched=False, use_linear_svc=None, use_prev=False),\n",
        "   R2SVMLearner(C=1, activation='sigmoid', beta=0.1, depth=10, fit_c='random',\n",
        "          fixed_prediction=False, recurrent=False, scale=True, seed=681,\n",
        "          switched=False, use_linear_svc=None, use_prev=False),\n",
        "   R2SVMLearner(C=1, activation='sigmoid', beta=0.1, depth=10, fit_c='random',\n",
        "          fixed_prediction=False, recurrent=False, scale=True, seed=681,\n",
        "          switched=False, use_linear_svc=None, use_prev=False)],\n",
        "  'data_name': 'glass',\n",
        "  'n_class': 6,\n",
        "  'n_dim': 9,\n",
        "  'std': 0.051797217912519004,\n",
        "  'test_time': [[0.003813028335571289,\n",
        "    0.0035991668701171875,\n",
        "    0.003880023956298828],\n",
        "   [0.003595113754272461, 0.003592967987060547, 0.0035109519958496094],\n",
        "   [0.0036389827728271484, 0.0035190582275390625, 0.003786802291870117],\n",
        "   [0.003782987594604492, 0.003648042678833008, 0.003632068634033203],\n",
        "   [0.003798961639404297, 0.0034990310668945312, 0.003749847412109375]],\n",
        "  'train_time': [[2.7551920413970947, 2.5033020973205566, 2.704087972640991],\n",
        "   [2.434943199157715, 2.709568977355957, 2.449786901473999],\n",
        "   [2.3011748790740967, 2.3688669204711914, 2.920699119567871],\n",
        "   [2.874178886413574, 2.4606380462646484, 2.708120107650757],\n",
        "   [2.9173190593719482, 2.3985979557037354, 2.798006057739258]]},\n",
        " 'results': {'mean_acc': 0.60479014955759136}}"
       ]
      }
     ],
     "prompt_number": 102
    },
    {
     "cell_type": "code",
     "collapsed": false,
     "input": [
      "X, Y = glass.data, glass.target"
     ],
     "language": "python",
     "metadata": {},
     "outputs": [],
     "prompt_number": 31
    },
    {
     "cell_type": "code",
     "collapsed": false,
     "input": [
      "z = np.random.uniform()"
     ],
     "language": "python",
     "metadata": {},
     "outputs": [],
     "prompt_number": 33
    },
    {
     "cell_type": "code",
     "collapsed": false,
     "input": [
      "sklearn.metrics.accuracy_score(R2SVMLearner(seed=10, beta=0.8, depth=3).fit(X, Y).predict(X), Y)"
     ],
     "language": "python",
     "metadata": {},
     "outputs": [
      {
       "metadata": {},
       "output_type": "pyout",
       "prompt_number": 52,
       "text": [
        "0.49065420560747663"
       ]
      }
     ],
     "prompt_number": 52
    },
    {
     "cell_type": "code",
     "collapsed": false,
     "input": [
      "glass = fetch_uci_datasets([\"glass\"])[0]\n",
      "X, Y = glass.data, glass.target\n",
      "assert(sklearn.metrics.accuracy_score(R2SVMLearner(seed=3, beta=0.8).fit(X, Y).predict(X), Y) == sklearn.metrics.accuracy_score(R2SVMLearner(seed=3, beta=0.8).fit(X, Y).predict(X), Y))"
     ],
     "language": "python",
     "metadata": {},
     "outputs": [],
     "prompt_number": 103
    }
   ],
   "metadata": {}
  }
 ]
}