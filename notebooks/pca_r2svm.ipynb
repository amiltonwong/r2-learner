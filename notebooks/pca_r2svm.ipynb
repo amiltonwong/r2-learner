{
 "metadata": {
  "name": "",
  "signature": "sha256:4ece1f3dcc1d205ecaded5f29ddeba427d2e1f739753934d4d1c26bbdc9e2642"
 },
 "nbformat": 3,
 "nbformat_minor": 0,
 "worksheets": [
  {
   "cells": [
    {
     "cell_type": "markdown",
     "metadata": {},
     "source": [
      "# Trying out pca r2svm if has competitive performance"
     ]
    },
    {
     "cell_type": "code",
     "collapsed": false,
     "input": [
      "%load_ext autoreload\n",
      "%autoreload 2\n",
      "\n",
      "import sys\n",
      "import os\n",
      "sys.path.append(\"..\")\n",
      "\n",
      "from sklearn import svm, datasets\n",
      "from sklearn.grid_search import ParameterGrid, GridSearchCV\n",
      "from sklearn.base import BaseEstimator, clone \n",
      "from sklearn.cross_validation import KFold\n",
      "from sklearn.svm import SVC\n",
      "import os\n",
      "import math\n",
      "import numpy as np\n",
      "import sklearn.metrics\n",
      "from multiprocessing import Pool\n",
      "from functools import partial\n",
      "\n",
      "import sklearn\n",
      "from sklearn.preprocessing import MinMaxScaler, LabelBinarizer\n",
      "from sklearn.metrics import accuracy_score\n",
      "from sklearn.cross_validation import KFold\n",
      "from sklearn.preprocessing import MinMaxScaler\n",
      "\n",
      "from data_api import *\n",
      "\n",
      "from r2 import *\n",
      "\n",
      "\n",
      "from misc.config import c\n",
      "from data_api import *\n",
      "import cPickle\n",
      "import pandas as pd\n",
      "from data_api import *\n",
      "results_dir = c['RESULTS_DIR']\n",
      "\n",
      "from scripts.fit_models import *\n",
      "\n",
      "%matplotlib inline"
     ],
     "language": "python",
     "metadata": {},
     "outputs": [
      {
       "output_type": "stream",
       "stream": "stdout",
       "text": [
        "The autoreload extension is already loaded. To reload it, use:\n",
        "  %reload_ext autoreload\n"
       ]
      }
     ],
     "prompt_number": 12
    },
    {
     "cell_type": "code",
     "collapsed": false,
     "input": [],
     "language": "python",
     "metadata": {},
     "outputs": [],
     "prompt_number": 694
    },
    {
     "cell_type": "code",
     "collapsed": false,
     "input": [
      "diabetes_exp = cPickle.load(open(os.path.join(results_dir, \n",
      "                                           'unit_test_r2svm_diabetes', \n",
      "                                           'unit_test_r2svm_diabetes_uT_rT_b0.10_d10_sT_fra_.experiment')))\n",
      "diabetes_params = diabetes_exp['config']['params']\n",
      "print diabetes_params\n",
      "\n",
      "indian_exp = cPickle.load(open(os.path.join(results_dir, \n",
      "                                           'unit_test_r2svm_indian', \n",
      "                                           'unit_test_r2svm_indian_uF_rT_b1.00_d10_sF_fra_.experiment')))\n",
      "indian_params = indian_exp['config']['params']\n",
      "print indian_params"
     ],
     "language": "python",
     "metadata": {},
     "outputs": [
      {
       "output_type": "stream",
       "stream": "stdout",
       "text": [
        "{'use_prev': True, 'recurrent': True, 'beta': 0.1, 'depth': 10, 'scale': True, 'fit_c': 'random', 'seed': 666}\n",
        "{'use_prev': False, 'recurrent': True, 'beta': 1.0, 'depth': 10, 'scale': False, 'fit_c': 'random', 'seed': 666}\n"
       ]
      }
     ],
     "prompt_number": 108
    },
    {
     "cell_type": "code",
     "collapsed": false,
     "input": [
      "indians = fetch_uci_datasets(['indian'])[0]"
     ],
     "language": "python",
     "metadata": {},
     "outputs": [],
     "prompt_number": 117
    },
    {
     "cell_type": "code",
     "collapsed": false,
     "input": [
      "from r2 import *"
     ],
     "language": "python",
     "metadata": {},
     "outputs": [],
     "prompt_number": 120
    },
    {
     "cell_type": "code",
     "collapsed": false,
     "input": [
      "indian_params_random = dict(indian_params)"
     ],
     "language": "python",
     "metadata": {},
     "outputs": [],
     "prompt_number": 126
    },
    {
     "cell_type": "code",
     "collapsed": false,
     "input": [
      "indian_params_random"
     ],
     "language": "python",
     "metadata": {},
     "outputs": [
      {
       "metadata": {},
       "output_type": "pyout",
       "prompt_number": 134,
       "text": [
        "{'beta': 1.0,\n",
        " 'depth': 10,\n",
        " 'fit_c': 'random_cls',\n",
        " 'recurrent': True,\n",
        " 'scale': False,\n",
        " 'seed': 666,\n",
        " 'use_prev': False}"
       ]
      }
     ],
     "prompt_number": 134
    },
    {
     "cell_type": "code",
     "collapsed": false,
     "input": [
      "set(indians.target)"
     ],
     "language": "python",
     "metadata": {},
     "outputs": [
      {
       "metadata": {},
       "output_type": "pyout",
       "prompt_number": 162,
       "text": [
        "{1.0, 2.0}"
       ]
      }
     ],
     "prompt_number": 162
    },
    {
     "cell_type": "code",
     "collapsed": false,
     "input": [
      "indians.data.shape"
     ],
     "language": "python",
     "metadata": {},
     "outputs": [
      {
       "metadata": {},
       "output_type": "pyout",
       "prompt_number": 170,
       "text": [
        "(583, 10)"
       ]
      }
     ],
     "prompt_number": 170
    },
    {
     "cell_type": "code",
     "collapsed": false,
     "input": [
      "np.random.normal(size=(1,10)) * w.components_[0]"
     ],
     "language": "python",
     "metadata": {},
     "outputs": [
      {
       "metadata": {},
       "output_type": "pyout",
       "prompt_number": 297,
       "text": [
        "array([[  1.36372976e-04,   1.23298817e-04,   9.91365244e-05,\n",
        "         -2.49529046e-02,  -8.78536733e-01,  -2.60259416e-01,\n",
        "          1.31158200e-03,  -1.45207312e-03,  -1.69830011e-05,\n",
        "         -4.13527279e-04]])"
       ]
      }
     ],
     "prompt_number": 297
    },
    {
     "cell_type": "code",
     "collapsed": false,
     "input": [],
     "language": "python",
     "metadata": {},
     "outputs": [],
     "prompt_number": 298
    },
    {
     "cell_type": "code",
     "collapsed": false,
     "input": [
      "w.components_"
     ],
     "language": "python",
     "metadata": {},
     "outputs": [
      {
       "metadata": {},
       "output_type": "pyout",
       "prompt_number": 296,
       "text": [
        "array([[ -1.07953621e-04,  -2.59948381e-04,  -3.08675483e-04,\n",
        "          8.44842447e-01,   4.74723694e-01,   2.46670680e-01,\n",
        "          2.46936252e-03,   5.00833498e-03,  -3.31592994e-04,\n",
        "         -8.74348312e-04],\n",
        "       [ -3.78422195e-04,  -5.80755326e-04,  -1.09998532e-03,\n",
        "         -2.02414722e-01,  -1.43168136e-01,   9.68737348e-01,\n",
        "          1.71357121e-03,   3.29021093e-03,  -1.22772337e-03,\n",
        "          7.88394479e-03],\n",
        "       [  4.77878527e-04,   8.19217097e-04,   2.07185269e-03,\n",
        "         -4.95157165e-01,   8.68161160e-01,   2.50244012e-02,\n",
        "          4.08275908e-04,   4.78197288e-04,   3.48355185e-03,\n",
        "         -2.17172397e-02]])"
       ]
      }
     ],
     "prompt_number": 296
    },
    {
     "cell_type": "code",
     "collapsed": false,
     "input": [
      "indian_params_random['fit_c'] = 'random_cls'\n",
      "indian_params_random['use_prev'] = True\n",
      "indian_params_random['recurrent'] = False\n",
      "indian_params_random['depth'] = 3\n",
      "indian_params_random['seed'] = 697\n",
      "indian_params_random['beta'] = 0.1\n",
      "indian_params_random['scale'] = True\n",
      "indian_params_random['random_hyperplanes'] = 2\n",
      "indian_params_random['fixed_prediction'] = None"
     ],
     "language": "python",
     "metadata": {},
     "outputs": [],
     "prompt_number": 609
    },
    {
     "cell_type": "code",
     "collapsed": false,
     "input": [
      "m = R2SVMLearner(**indian_params_random).fit(indians.data, indians.target)"
     ],
     "language": "python",
     "metadata": {},
     "outputs": [],
     "prompt_number": 610
    },
    {
     "cell_type": "code",
     "collapsed": false,
     "input": [
      "X_pca = sklearn.decomposition.RandomizedPCA(n_components=2).fit_transform(m._X_tr[1])\n",
      "plt.scatter(X_pca[:,0], X_pca[:,1])"
     ],
     "language": "python",
     "metadata": {},
     "outputs": [
      {
       "metadata": {},
       "output_type": "pyout",
       "prompt_number": 611,
       "text": [
        "<matplotlib.collections.PathCollection at 0x7f1a24328590>"
       ]
      },
      {
       "metadata": {},
       "output_type": "display_data",
       "png": "[encoded data removed]",
       "text": [
        "<matplotlib.figure.Figure at 0x7f1a243c8e10>"
       ]
      }
     ],
     "prompt_number": 611
    },
    {
     "cell_type": "code",
     "collapsed": false,
     "input": [
      "X_pca = sklearn.decomposition.RandomizedPCA(n_components=2).fit_transform(m._X_tr[0])\n",
      "plt.scatter(X_pca[:,0], X_pca[:,1])"
     ],
     "language": "python",
     "metadata": {},
     "outputs": [
      {
       "output_type": "stream",
       "stream": "stderr",
       "text": [
        "[autoreload of scripts.fit_models failed: Traceback (most recent call last):\n",
        "  File \"/lhome/home/czarnecki/staszek_tmp/tradeshift/local/lib/python2.7/site-packages/IPython/extensions/autoreload.py\", line 247, in check\n",
        "    superreload(m, reload, self.old_objects)\n",
        "  File \"../scripts/fit_models.py\", line 168\n",
        "    results[\"mean_acc\"] =\n",
        "                        ^\n",
        "SyntaxError: invalid syntax\n",
        "]\n"
       ]
      },
      {
       "metadata": {},
       "output_type": "pyout",
       "prompt_number": 463,
       "text": [
        "<matplotlib.collections.PathCollection at 0x7f1a24bec750>"
       ]
      },
      {
       "metadata": {},
       "output_type": "display_data",
       "png": "[encoded data removed]",
       "text": [
        "<matplotlib.figure.Figure at 0x7f1a24c47750>"
       ]
      }
     ],
     "prompt_number": 463
    },
    {
     "cell_type": "code",
     "collapsed": false,
     "input": [
      "m._X_tr[1]"
     ],
     "language": "python",
     "metadata": {},
     "outputs": [
      {
       "metadata": {},
       "output_type": "pyout",
       "prompt_number": 453,
       "text": [
        "array([[  1.00000000e+00,   4.51407081e-75,   2.23941435e-76, ...,\n",
        "          4.26786209e-69,   1.00000000e+00,   1.00000000e+00],\n",
        "       [  1.00000000e+00,   5.36339457e-76,   5.49007418e-77, ...,\n",
        "          1.82381497e-65,   1.00000000e+00,   1.00000000e+00],\n",
        "       [  1.00000000e+00,   1.09918405e-75,   6.31871469e-77, ...,\n",
        "          8.72119512e-67,   1.00000000e+00,   1.00000000e+00],\n",
        "       ..., \n",
        "       [  1.00000000e+00,   1.91101061e-75,   6.82724544e-77, ...,\n",
        "          2.36969425e-69,   1.00000000e+00,   1.00000000e+00],\n",
        "       [  1.00000000e+00,   3.27649699e-75,   1.44790772e-76, ...,\n",
        "          5.31273324e-69,   1.00000000e+00,   1.00000000e+00],\n",
        "       [  1.00000000e+00,   9.42827480e-75,   2.53243192e-76, ...,\n",
        "          4.14418573e-69,   1.00000000e+00,   1.00000000e+00]])"
       ]
      }
     ],
     "prompt_number": 453
    },
    {
     "cell_type": "code",
     "collapsed": false,
     "input": [
      "\n",
      "segment_exp = cPickle.load(open(os.path.join(results_dir, \n",
      "                                           'unit_test_r2svm_segment', \n",
      "                                           'unit_test_r2svm_segment_uF_rF_b0.10_sT_fra_.experiment')))\n",
      "segment_params = segment_exp['config']['params']\n",
      "print segment_params"
     ],
     "language": "python",
     "metadata": {},
     "outputs": [
      {
       "ename": "IOError",
       "evalue": "[Errno 2] No such file or directory: '/mnt/users/czarnecki/local/r2-learner/results/unit_test_r2svm_segment/unit_test_r2svm_segment_uF_rF_b0.10_sT_fra_.experiment'",
       "output_type": "pyerr",
       "traceback": [
        "\u001b[1;31m---------------------------------------------------------------------------\u001b[0m\n\u001b[1;31mIOError\u001b[0m                                   Traceback (most recent call last)",
        "\u001b[1;32m<ipython-input-707-24d404e5596f>\u001b[0m in \u001b[0;36m<module>\u001b[1;34m()\u001b[0m\n\u001b[0;32m      2\u001b[0m segment_exp = cPickle.load(open(os.path.join(results_dir, \n\u001b[0;32m      3\u001b[0m                                            \u001b[1;34m'unit_test_r2svm_segment'\u001b[0m\u001b[1;33m,\u001b[0m\u001b[1;33m\u001b[0m\u001b[0m\n\u001b[1;32m----> 4\u001b[1;33m                                            'unit_test_r2svm_segment_uF_rF_b0.10_sT_fra_.experiment')))\n\u001b[0m\u001b[0;32m      5\u001b[0m \u001b[0msegment_params\u001b[0m \u001b[1;33m=\u001b[0m \u001b[0msegment_exp\u001b[0m\u001b[1;33m[\u001b[0m\u001b[1;34m'config'\u001b[0m\u001b[1;33m]\u001b[0m\u001b[1;33m[\u001b[0m\u001b[1;34m'params'\u001b[0m\u001b[1;33m]\u001b[0m\u001b[1;33m\u001b[0m\u001b[0m\n\u001b[0;32m      6\u001b[0m \u001b[1;32mprint\u001b[0m \u001b[0msegment_params\u001b[0m\u001b[1;33m\u001b[0m\u001b[0m\n",
        "\u001b[1;31mIOError\u001b[0m: [Errno 2] No such file or directory: '/mnt/users/czarnecki/local/r2-learner/results/unit_test_r2svm_segment/unit_test_r2svm_segment_uF_rF_b0.10_sT_fra_.experiment'"
       ]
      }
     ],
     "prompt_number": 707
    },
    {
     "cell_type": "code",
     "collapsed": false,
     "input": [
      "def plot_pca(model, Y, l=2):\n",
      "    colors=[\"red\", \"blue\", \"green\", \"yellow\", \"white\", \"black\", \"orange\", \"gray\"]\n",
      "    X_pca = sklearn.decomposition.RandomizedPCA(n_components=2).fit_transform(model._X_tr[l])\n",
      "    plt.scatter(X_pca[:,0], X_pca[:,1], c=[colors[int(i)] for i in Y.reshape(-1,1)-1])"
     ],
     "language": "python",
     "metadata": {},
     "outputs": [],
     "prompt_number": 758
    },
    {
     "cell_type": "code",
     "collapsed": false,
     "input": [
      "plot_pca(r['monitors']['clf'][0], segment.target, l=3)"
     ],
     "language": "python",
     "metadata": {},
     "outputs": [
      {
       "metadata": {},
       "output_type": "display_data",
       "png": "[encoded data removed]",
       "text": [
        "<matplotlib.figure.Figure at 0x7f1a23c72790>"
       ]
      }
     ],
     "prompt_number": 760
    },
    {
     "cell_type": "code",
     "collapsed": false,
     "input": [
      "len(r['monitors']['clf'][0]._X_tr)"
     ],
     "language": "python",
     "metadata": {},
     "outputs": [
      {
       "metadata": {},
       "output_type": "pyout",
       "prompt_number": 717,
       "text": [
        "6"
       ]
      }
     ],
     "prompt_number": 717
    },
    {
     "cell_type": "code",
     "collapsed": false,
     "input": [
      "from r2 import R2SVMLearner, R2Learner\n",
      "from scripts.fit_models import *"
     ],
     "language": "python",
     "metadata": {},
     "outputs": [],
     "prompt_number": 772
    },
    {
     "cell_type": "code",
     "collapsed": false,
     "input": [
      "segment = fetch_uci_datasets([\"segment\"])[0]\n",
      "indian_params_random = {}\n",
      "indian_params_random['fit_c'] = 'random_cls'\n",
      "indian_params_random['use_prev'] = True\n",
      "indian_params_random['recurrent'] = False\n",
      "indian_params_random['depth'] = 4\n",
      "indian_params_random['seed'] = 666\n",
      "indian_params_random['beta'] = 0.4\n",
      "indian_params_random['scale'] = True\n",
      "indian_params_random['random_hyperplanes'] = 5\n",
      "print indian_params_random\n",
      "r = k_fold(R2SVMLearner, params=indian_params_random, all_layers=False, \\\n",
      "       data=segment, exp_name=\"check\", model_name=\"pca_r2svm\", store_clf=True, save_model=False)\n",
      "print r['monitors']['clf'][0]._X_tr[2]\n",
      "print r['results']"
     ],
     "language": "python",
     "metadata": {},
     "outputs": [
      {
       "output_type": "stream",
       "stream": "stdout",
       "text": [
        "{'use_prev': True, 'recurrent': False, 'depth': 4, 'beta': 0.4, 'seed': 666, 'scale': True, 'fit_c': 'random_cls', 'random_hyperplanes': 5}\n",
        "[[-0.72764062 -0.14387255  1.65356458 ..., -0.87415275 -0.11035847\n",
        "  -0.40026692]\n",
        " [ 0.13182656  0.20630434  1.74539157 ..., -0.94886315 -1.0732164\n",
        "  -0.74026712]\n",
        " [-0.29870747  0.40547242  1.16474492 ..., -0.10853661 -0.63878066\n",
        "  -0.53919868]\n",
        " ..., \n",
        " [ 0.26609958  0.17462782  1.67543717 ..., -0.88138935 -0.03510414\n",
        "  -0.50790053]\n",
        " [ 0.65087725  0.34265468  1.3037527  ..., -0.23372676 -0.73323228\n",
        "  -0.52747836]\n",
        " [-0.80418387  0.10519842  1.62107767 ..., -0.88355397  0.25468107\n",
        "  -0.51701043]]"
       ]
      },
      {
       "output_type": "stream",
       "stream": "stdout",
       "text": [
        "\n",
        "{'std': 0.060356457080416669, 'mean_acc': 0.42712842712842713, 'best_depth': 4}\n"
       ]
      }
     ],
     "prompt_number": 791
    },
    {
     "cell_type": "code",
     "collapsed": false,
     "input": [
      "segment = fetch_uci_datasets([\"segment\"])[0]\n",
      "indian_params_random['fit_c'] = 'pca_cls_centered'\n",
      "indian_params_random['use_prev'] = True\n",
      "indian_params_random['recurrent'] = False\n",
      "indian_params_random['depth'] = 6\n",
      "indian_params_random['seed'] = 666\n",
      "indian_params_random['beta'] = 0.3\n",
      "indian_params_random['scale'] = True\n",
      "indian_params_random['random_hyperplanes'] = 2\n",
      "indian_params_random['fixed_prediction'] = None\n",
      "print indian_params_random\n",
      "r = k_fold(R2SVMLearner, params=p, all_layers=False, \\\n",
      "       data=segment, exp_name=\"check\", model_name=\"pca_r2svm\", store_clf=True, save_model=False)\n",
      "print r['monitors']['clf'][0]._X_tr[2]\n",
      "print r['results']"
     ],
     "language": "python",
     "metadata": {},
     "outputs": [
      {
       "output_type": "stream",
       "stream": "stdout",
       "text": [
        "{'beta': 0.3, 'use_prev': True, 'scale': True, 'fit_c': 'pca_cls_centered', 'fixed_prediction': None, 'recurrent': False, 'seed': 666, 'depth': 6, 'random_hyperplanes': 2}\n",
        "[[-0.73559003 -0.3956187  -0.43038495 ...,  0.31791854  0.05695874\n",
        "  -0.46164562]\n",
        " [ 0.23412129 -0.22988657 -0.43877468 ...,  0.06526944 -1.13968033\n",
        "  -0.72908617]\n",
        " [-0.36526695  0.32182259  0.60055836 ...,  1.03011901 -0.89623606\n",
        "  -0.9608164 ]\n",
        " ..., \n",
        " [ 0.29164865 -0.06450184 -0.10570589 ...,  0.28612745  0.19119249\n",
        "  -0.7668559 ]\n",
        " [ 0.64931822  0.19525559  0.5980911  ...,  0.9830101  -0.79153432\n",
        "  -0.94845535]\n",
        " [-0.82386746 -0.02964723 -0.40984312 ...,  0.33965527  0.44277673\n",
        "  -0.73303034]]"
       ]
      },
      {
       "output_type": "stream",
       "stream": "stdout",
       "text": [
        "\n",
        "{'std': 0.043811196822730318, 'mean_acc': 0.42712842712842713, 'best_depth': 4}\n"
       ]
      }
     ],
     "prompt_number": 754
    },
    {
     "cell_type": "code",
     "collapsed": false,
     "input": [
      "set(vowel.target)"
     ],
     "language": "python",
     "metadata": {},
     "outputs": [
      {
       "metadata": {},
       "output_type": "pyout",
       "prompt_number": 746,
       "text": [
        "{0.0, 1.0, 2.0, 3.0, 4.0, 5.0, 6.0, 7.0, 8.0, 9.0, 10.0}"
       ]
      }
     ],
     "prompt_number": 746
    },
    {
     "cell_type": "code",
     "collapsed": false,
     "input": [],
     "language": "python",
     "metadata": {},
     "outputs": [],
     "prompt_number": 751
    },
    {
     "cell_type": "code",
     "collapsed": false,
     "input": [
      "params = {'beta': [0.3, 0.5, 1.0, 1.5, 2.0],\n",
      "                     'depth': [i for i in xrange(4,11)],\n",
      "                     'fit_c': ['pca_cls_centered'],\n",
      "                     'scale': [True],\n",
      "                     'recurrent': [True, False],\n",
      "                     'use_prev': [True, False],\n",
      "                     'seed': [666]}\n",
      "param_list = ParameterGrid(params)\n",
      "res = []\n",
      "for p in param_list:\n",
      "    print p\n",
      "    sys.stdout.flush()\n",
      "    r = k_fold(R2SVMLearner, params=p, all_layers=False, \\\n",
      "       data=vowel, exp_name=\"check\", model_name=\"pca_r2svm\", store_clf=True, save_model=False)\n",
      "    res.append(r['results']['mean_acc'])\n",
      "    print max(res)"
     ],
     "language": "python",
     "metadata": {},
     "outputs": [
      {
       "output_type": "stream",
       "stream": "stdout",
       "text": [
        "{'scale': True, 'recurrent': True, 'depth': 4, 'use_prev': True, 'beta': 0.3, 'seed': 666, 'fit_c': 'pca_cls_centered'}\n"
       ]
      },
      {
       "output_type": "stream",
       "stream": "stdout",
       "text": [
        "0.161279461279\n",
        "{'scale': True, 'recurrent': True, 'depth': 4, 'use_prev': False, 'beta': 0.3, 'seed': 666, 'fit_c': 'pca_cls_centered'}\n"
       ]
      },
      {
       "output_type": "stream",
       "stream": "stdout",
       "text": [
        "0.179124579125\n",
        "{'scale': True, 'recurrent': False, 'depth': 4, 'use_prev': True, 'beta': 0.3, 'seed': 666, 'fit_c': 'pca_cls_centered'}\n"
       ]
      },
      {
       "ename": "KeyboardInterrupt",
       "evalue": "",
       "output_type": "pyerr",
       "traceback": [
        "\u001b[1;31m---------------------------------------------------------------------------\u001b[0m\n\u001b[1;31mKeyboardInterrupt\u001b[0m                         Traceback (most recent call last)",
        "\u001b[1;32m<ipython-input-747-1a45b0d574ba>\u001b[0m in \u001b[0;36m<module>\u001b[1;34m()\u001b[0m\n\u001b[0;32m     11\u001b[0m     \u001b[1;32mprint\u001b[0m \u001b[0mp\u001b[0m\u001b[1;33m\u001b[0m\u001b[0m\n\u001b[0;32m     12\u001b[0m     \u001b[0msys\u001b[0m\u001b[1;33m.\u001b[0m\u001b[0mstdout\u001b[0m\u001b[1;33m.\u001b[0m\u001b[0mflush\u001b[0m\u001b[1;33m(\u001b[0m\u001b[1;33m)\u001b[0m\u001b[1;33m\u001b[0m\u001b[0m\n\u001b[1;32m---> 13\u001b[1;33m     \u001b[0mr\u001b[0m \u001b[1;33m=\u001b[0m \u001b[0mk_fold\u001b[0m\u001b[1;33m(\u001b[0m\u001b[0mR2SVMLearner\u001b[0m\u001b[1;33m,\u001b[0m \u001b[0mparams\u001b[0m\u001b[1;33m=\u001b[0m\u001b[0mp\u001b[0m\u001b[1;33m,\u001b[0m \u001b[0mall_layers\u001b[0m\u001b[1;33m=\u001b[0m\u001b[0mFalse\u001b[0m\u001b[1;33m,\u001b[0m        \u001b[0mdata\u001b[0m\u001b[1;33m=\u001b[0m\u001b[0mvowel\u001b[0m\u001b[1;33m,\u001b[0m \u001b[0mexp_name\u001b[0m\u001b[1;33m=\u001b[0m\u001b[1;34m\"check\"\u001b[0m\u001b[1;33m,\u001b[0m \u001b[0mmodel_name\u001b[0m\u001b[1;33m=\u001b[0m\u001b[1;34m\"pca_r2svm\"\u001b[0m\u001b[1;33m,\u001b[0m \u001b[0mstore_clf\u001b[0m\u001b[1;33m=\u001b[0m\u001b[0mTrue\u001b[0m\u001b[1;33m,\u001b[0m \u001b[0msave_model\u001b[0m\u001b[1;33m=\u001b[0m\u001b[0mFalse\u001b[0m\u001b[1;33m)\u001b[0m\u001b[1;33m\u001b[0m\u001b[0m\n\u001b[0m\u001b[0;32m     14\u001b[0m     \u001b[0mres\u001b[0m\u001b[1;33m.\u001b[0m\u001b[0mappend\u001b[0m\u001b[1;33m(\u001b[0m\u001b[0mr\u001b[0m\u001b[1;33m[\u001b[0m\u001b[1;34m'results'\u001b[0m\u001b[1;33m]\u001b[0m\u001b[1;33m[\u001b[0m\u001b[1;34m'mean_acc'\u001b[0m\u001b[1;33m]\u001b[0m\u001b[1;33m)\u001b[0m\u001b[1;33m\u001b[0m\u001b[0m\n\u001b[0;32m     15\u001b[0m     \u001b[1;32mprint\u001b[0m \u001b[0mmax\u001b[0m\u001b[1;33m(\u001b[0m\u001b[0mres\u001b[0m\u001b[1;33m)\u001b[0m\u001b[1;33m\u001b[0m\u001b[0m\n",
        "\u001b[1;32m<ipython-input-689-14ae5aa56bca>\u001b[0m in \u001b[0;36mk_fold\u001b[1;34m(base_model, params, data, exp_name, model_name, n_folds, seed, store_clf, log, n_tries, save_model, all_layers)\u001b[0m\n\u001b[0;32m     53\u001b[0m             \u001b[0mtrain_start\u001b[0m \u001b[1;33m=\u001b[0m \u001b[0mtime\u001b[0m\u001b[1;33m.\u001b[0m\u001b[0mtime\u001b[0m\u001b[1;33m(\u001b[0m\u001b[1;33m)\u001b[0m\u001b[1;33m\u001b[0m\u001b[0m\n\u001b[0;32m     54\u001b[0m             \u001b[0mmodel\u001b[0m \u001b[1;33m=\u001b[0m \u001b[0mbase_model\u001b[0m\u001b[1;33m(\u001b[0m\u001b[1;33m**\u001b[0m\u001b[0mfold_params\u001b[0m\u001b[1;33m)\u001b[0m\u001b[1;33m\u001b[0m\u001b[0m\n\u001b[1;32m---> 55\u001b[1;33m             \u001b[0mmodel\u001b[0m\u001b[1;33m.\u001b[0m\u001b[0mfit\u001b[0m\u001b[1;33m(\u001b[0m\u001b[0mX_train\u001b[0m\u001b[1;33m,\u001b[0m \u001b[0mY_train\u001b[0m\u001b[1;33m)\u001b[0m\u001b[1;33m\u001b[0m\u001b[0m\n\u001b[0m\u001b[0;32m     56\u001b[0m             \u001b[0mfold_train_times\u001b[0m\u001b[1;33m.\u001b[0m\u001b[0mappend\u001b[0m\u001b[1;33m(\u001b[0m\u001b[0mtime\u001b[0m\u001b[1;33m.\u001b[0m\u001b[0mtime\u001b[0m\u001b[1;33m(\u001b[0m\u001b[1;33m)\u001b[0m \u001b[1;33m-\u001b[0m \u001b[0mtrain_start\u001b[0m\u001b[1;33m)\u001b[0m\u001b[1;33m\u001b[0m\u001b[0m\n\u001b[0;32m     57\u001b[0m \u001b[1;33m\u001b[0m\u001b[0m\n",
        "\u001b[1;32m<ipython-input-701-6c608027f8c2>\u001b[0m in \u001b[0;36mfit\u001b[1;34m(self, X, Y, W)\u001b[0m\n\u001b[0;32m    270\u001b[0m         \u001b[1;31m# Fit\u001b[0m\u001b[1;33m\u001b[0m\u001b[1;33m\u001b[0m\u001b[0m\n\u001b[0;32m    271\u001b[0m         \u001b[1;32mfor\u001b[0m \u001b[0mi\u001b[0m \u001b[1;32min\u001b[0m \u001b[0mxrange\u001b[0m\u001b[1;33m(\u001b[0m\u001b[0mself\u001b[0m\u001b[1;33m.\u001b[0m\u001b[0mdepth\u001b[0m\u001b[1;33m)\u001b[0m\u001b[1;33m:\u001b[0m\u001b[1;33m\u001b[0m\u001b[0m\n\u001b[1;32m--> 272\u001b[1;33m             \u001b[0mX\u001b[0m \u001b[1;33m=\u001b[0m \u001b[0mself\u001b[0m\u001b[1;33m.\u001b[0m\u001b[0m_feed_forward\u001b[0m\u001b[1;33m(\u001b[0m\u001b[0mX\u001b[0m\u001b[1;33m,\u001b[0m \u001b[0mi\u001b[0m\u001b[1;33m,\u001b[0m \u001b[0mY\u001b[0m\u001b[1;33m)\u001b[0m\u001b[1;33m\u001b[0m\u001b[0m\n\u001b[0m\u001b[0;32m    273\u001b[0m \u001b[1;33m\u001b[0m\u001b[0m\n\u001b[0;32m    274\u001b[0m         \u001b[1;32mreturn\u001b[0m \u001b[0mself\u001b[0m\u001b[1;33m\u001b[0m\u001b[0m\n",
        "\u001b[1;32m<ipython-input-701-6c608027f8c2>\u001b[0m in \u001b[0;36m_feed_forward\u001b[1;34m(self, X, i, Y)\u001b[0m\n\u001b[0;32m    108\u001b[0m                 \u001b[0mpca_vec\u001b[0m \u001b[1;33m=\u001b[0m \u001b[0mget_pca_vec\u001b[0m\u001b[1;33m(\u001b[0m\u001b[1;36m3\u001b[0m\u001b[1;33m,\u001b[0m \u001b[0mX\u001b[0m\u001b[1;33m)\u001b[0m\u001b[1;33m\u001b[0m\u001b[0m\n\u001b[0;32m    109\u001b[0m                 \u001b[0mA\u001b[0m \u001b[1;33m=\u001b[0m \u001b[1;33m[\u001b[0m\u001b[0mmake_rand_vector\u001b[0m\u001b[1;33m(\u001b[0m\u001b[0mX\u001b[0m\u001b[1;33m.\u001b[0m\u001b[0mshape\u001b[0m\u001b[1;33m[\u001b[0m\u001b[1;36m1\u001b[0m\u001b[1;33m]\u001b[0m\u001b[1;33m)\u001b[0m \u001b[1;32mfor\u001b[0m \u001b[0m_\u001b[0m \u001b[1;32min\u001b[0m \u001b[0mrange\u001b[0m\u001b[1;33m(\u001b[0m\u001b[1;36m1000\u001b[0m\u001b[1;33m)\u001b[0m\u001b[1;33m]\u001b[0m\u001b[1;33m\u001b[0m\u001b[0m\n\u001b[1;32m--> 110\u001b[1;33m                 \u001b[0mA_sorted\u001b[0m \u001b[1;33m=\u001b[0m \u001b[0msorted\u001b[0m\u001b[1;33m(\u001b[0m\u001b[0mA\u001b[0m\u001b[1;33m,\u001b[0m \u001b[0mkey\u001b[0m\u001b[1;33m=\u001b[0m\u001b[1;32mlambda\u001b[0m \u001b[0mw\u001b[0m\u001b[1;33m:\u001b[0m \u001b[0msum\u001b[0m\u001b[1;33m(\u001b[0m\u001b[0mnp\u001b[0m\u001b[1;33m.\u001b[0m\u001b[0mabs\u001b[0m\u001b[1;33m(\u001b[0m\u001b[0mnp\u001b[0m\u001b[1;33m.\u001b[0m\u001b[0minner\u001b[0m\u001b[1;33m(\u001b[0m\u001b[0mw\u001b[0m\u001b[1;33m,\u001b[0m \u001b[0ma\u001b[0m\u001b[1;33m)\u001b[0m\u001b[1;33m)\u001b[0m \u001b[1;32mfor\u001b[0m \u001b[0ma\u001b[0m \u001b[1;32min\u001b[0m \u001b[0mpca_vec\u001b[0m\u001b[1;33m)\u001b[0m\u001b[1;33m)\u001b[0m\u001b[1;33m\u001b[0m\u001b[0m\n\u001b[0m\u001b[0;32m    111\u001b[0m                 \u001b[0mself\u001b[0m\u001b[1;33m.\u001b[0m\u001b[0mW\u001b[0m\u001b[1;33m[\u001b[0m\u001b[0mi\u001b[0m\u001b[1;33m]\u001b[0m \u001b[1;33m=\u001b[0m \u001b[0mnp\u001b[0m\u001b[1;33m.\u001b[0m\u001b[0mvstack\u001b[0m\u001b[1;33m(\u001b[0m\u001b[1;33m[\u001b[0m\u001b[0ma\u001b[0m\u001b[1;33m.\u001b[0m\u001b[0mreshape\u001b[0m\u001b[1;33m(\u001b[0m\u001b[1;33m-\u001b[0m\u001b[1;36m1\u001b[0m\u001b[1;33m)\u001b[0m \u001b[1;32mfor\u001b[0m \u001b[0ma\u001b[0m \u001b[1;32min\u001b[0m \u001b[0mA_sorted\u001b[0m\u001b[1;33m[\u001b[0m\u001b[1;36m0\u001b[0m\u001b[1;33m:\u001b[0m\u001b[0mself\u001b[0m\u001b[1;33m.\u001b[0m\u001b[0mK\u001b[0m\u001b[1;33m]\u001b[0m\u001b[1;33m]\u001b[0m\u001b[1;33m)\u001b[0m\u001b[1;33m\u001b[0m\u001b[0m\n\u001b[0;32m    112\u001b[0m \u001b[1;33m\u001b[0m\u001b[0m\n",
        "\u001b[1;32m<ipython-input-701-6c608027f8c2>\u001b[0m in \u001b[0;36m<lambda>\u001b[1;34m(w)\u001b[0m\n\u001b[0;32m    108\u001b[0m                 \u001b[0mpca_vec\u001b[0m \u001b[1;33m=\u001b[0m \u001b[0mget_pca_vec\u001b[0m\u001b[1;33m(\u001b[0m\u001b[1;36m3\u001b[0m\u001b[1;33m,\u001b[0m \u001b[0mX\u001b[0m\u001b[1;33m)\u001b[0m\u001b[1;33m\u001b[0m\u001b[0m\n\u001b[0;32m    109\u001b[0m                 \u001b[0mA\u001b[0m \u001b[1;33m=\u001b[0m \u001b[1;33m[\u001b[0m\u001b[0mmake_rand_vector\u001b[0m\u001b[1;33m(\u001b[0m\u001b[0mX\u001b[0m\u001b[1;33m.\u001b[0m\u001b[0mshape\u001b[0m\u001b[1;33m[\u001b[0m\u001b[1;36m1\u001b[0m\u001b[1;33m]\u001b[0m\u001b[1;33m)\u001b[0m \u001b[1;32mfor\u001b[0m \u001b[0m_\u001b[0m \u001b[1;32min\u001b[0m \u001b[0mrange\u001b[0m\u001b[1;33m(\u001b[0m\u001b[1;36m1000\u001b[0m\u001b[1;33m)\u001b[0m\u001b[1;33m]\u001b[0m\u001b[1;33m\u001b[0m\u001b[0m\n\u001b[1;32m--> 110\u001b[1;33m                 \u001b[0mA_sorted\u001b[0m \u001b[1;33m=\u001b[0m \u001b[0msorted\u001b[0m\u001b[1;33m(\u001b[0m\u001b[0mA\u001b[0m\u001b[1;33m,\u001b[0m \u001b[0mkey\u001b[0m\u001b[1;33m=\u001b[0m\u001b[1;32mlambda\u001b[0m \u001b[0mw\u001b[0m\u001b[1;33m:\u001b[0m \u001b[0msum\u001b[0m\u001b[1;33m(\u001b[0m\u001b[0mnp\u001b[0m\u001b[1;33m.\u001b[0m\u001b[0mabs\u001b[0m\u001b[1;33m(\u001b[0m\u001b[0mnp\u001b[0m\u001b[1;33m.\u001b[0m\u001b[0minner\u001b[0m\u001b[1;33m(\u001b[0m\u001b[0mw\u001b[0m\u001b[1;33m,\u001b[0m \u001b[0ma\u001b[0m\u001b[1;33m)\u001b[0m\u001b[1;33m)\u001b[0m \u001b[1;32mfor\u001b[0m \u001b[0ma\u001b[0m \u001b[1;32min\u001b[0m \u001b[0mpca_vec\u001b[0m\u001b[1;33m)\u001b[0m\u001b[1;33m)\u001b[0m\u001b[1;33m\u001b[0m\u001b[0m\n\u001b[0m\u001b[0;32m    111\u001b[0m                 \u001b[0mself\u001b[0m\u001b[1;33m.\u001b[0m\u001b[0mW\u001b[0m\u001b[1;33m[\u001b[0m\u001b[0mi\u001b[0m\u001b[1;33m]\u001b[0m \u001b[1;33m=\u001b[0m \u001b[0mnp\u001b[0m\u001b[1;33m.\u001b[0m\u001b[0mvstack\u001b[0m\u001b[1;33m(\u001b[0m\u001b[1;33m[\u001b[0m\u001b[0ma\u001b[0m\u001b[1;33m.\u001b[0m\u001b[0mreshape\u001b[0m\u001b[1;33m(\u001b[0m\u001b[1;33m-\u001b[0m\u001b[1;36m1\u001b[0m\u001b[1;33m)\u001b[0m \u001b[1;32mfor\u001b[0m \u001b[0ma\u001b[0m \u001b[1;32min\u001b[0m \u001b[0mA_sorted\u001b[0m\u001b[1;33m[\u001b[0m\u001b[1;36m0\u001b[0m\u001b[1;33m:\u001b[0m\u001b[0mself\u001b[0m\u001b[1;33m.\u001b[0m\u001b[0mK\u001b[0m\u001b[1;33m]\u001b[0m\u001b[1;33m]\u001b[0m\u001b[1;33m)\u001b[0m\u001b[1;33m\u001b[0m\u001b[0m\n\u001b[0;32m    112\u001b[0m \u001b[1;33m\u001b[0m\u001b[0m\n",
        "\u001b[1;32m<ipython-input-701-6c608027f8c2>\u001b[0m in \u001b[0;36m<genexpr>\u001b[1;34m((a,))\u001b[0m\n\u001b[0;32m    108\u001b[0m                 \u001b[0mpca_vec\u001b[0m \u001b[1;33m=\u001b[0m \u001b[0mget_pca_vec\u001b[0m\u001b[1;33m(\u001b[0m\u001b[1;36m3\u001b[0m\u001b[1;33m,\u001b[0m \u001b[0mX\u001b[0m\u001b[1;33m)\u001b[0m\u001b[1;33m\u001b[0m\u001b[0m\n\u001b[0;32m    109\u001b[0m                 \u001b[0mA\u001b[0m \u001b[1;33m=\u001b[0m \u001b[1;33m[\u001b[0m\u001b[0mmake_rand_vector\u001b[0m\u001b[1;33m(\u001b[0m\u001b[0mX\u001b[0m\u001b[1;33m.\u001b[0m\u001b[0mshape\u001b[0m\u001b[1;33m[\u001b[0m\u001b[1;36m1\u001b[0m\u001b[1;33m]\u001b[0m\u001b[1;33m)\u001b[0m \u001b[1;32mfor\u001b[0m \u001b[0m_\u001b[0m \u001b[1;32min\u001b[0m \u001b[0mrange\u001b[0m\u001b[1;33m(\u001b[0m\u001b[1;36m1000\u001b[0m\u001b[1;33m)\u001b[0m\u001b[1;33m]\u001b[0m\u001b[1;33m\u001b[0m\u001b[0m\n\u001b[1;32m--> 110\u001b[1;33m                 \u001b[0mA_sorted\u001b[0m \u001b[1;33m=\u001b[0m \u001b[0msorted\u001b[0m\u001b[1;33m(\u001b[0m\u001b[0mA\u001b[0m\u001b[1;33m,\u001b[0m \u001b[0mkey\u001b[0m\u001b[1;33m=\u001b[0m\u001b[1;32mlambda\u001b[0m \u001b[0mw\u001b[0m\u001b[1;33m:\u001b[0m \u001b[0msum\u001b[0m\u001b[1;33m(\u001b[0m\u001b[0mnp\u001b[0m\u001b[1;33m.\u001b[0m\u001b[0mabs\u001b[0m\u001b[1;33m(\u001b[0m\u001b[0mnp\u001b[0m\u001b[1;33m.\u001b[0m\u001b[0minner\u001b[0m\u001b[1;33m(\u001b[0m\u001b[0mw\u001b[0m\u001b[1;33m,\u001b[0m \u001b[0ma\u001b[0m\u001b[1;33m)\u001b[0m\u001b[1;33m)\u001b[0m \u001b[1;32mfor\u001b[0m \u001b[0ma\u001b[0m \u001b[1;32min\u001b[0m \u001b[0mpca_vec\u001b[0m\u001b[1;33m)\u001b[0m\u001b[1;33m)\u001b[0m\u001b[1;33m\u001b[0m\u001b[0m\n\u001b[0m\u001b[0;32m    111\u001b[0m                 \u001b[0mself\u001b[0m\u001b[1;33m.\u001b[0m\u001b[0mW\u001b[0m\u001b[1;33m[\u001b[0m\u001b[0mi\u001b[0m\u001b[1;33m]\u001b[0m \u001b[1;33m=\u001b[0m \u001b[0mnp\u001b[0m\u001b[1;33m.\u001b[0m\u001b[0mvstack\u001b[0m\u001b[1;33m(\u001b[0m\u001b[1;33m[\u001b[0m\u001b[0ma\u001b[0m\u001b[1;33m.\u001b[0m\u001b[0mreshape\u001b[0m\u001b[1;33m(\u001b[0m\u001b[1;33m-\u001b[0m\u001b[1;36m1\u001b[0m\u001b[1;33m)\u001b[0m \u001b[1;32mfor\u001b[0m \u001b[0ma\u001b[0m \u001b[1;32min\u001b[0m \u001b[0mA_sorted\u001b[0m\u001b[1;33m[\u001b[0m\u001b[1;36m0\u001b[0m\u001b[1;33m:\u001b[0m\u001b[0mself\u001b[0m\u001b[1;33m.\u001b[0m\u001b[0mK\u001b[0m\u001b[1;33m]\u001b[0m\u001b[1;33m]\u001b[0m\u001b[1;33m)\u001b[0m\u001b[1;33m\u001b[0m\u001b[0m\n\u001b[0;32m    112\u001b[0m \u001b[1;33m\u001b[0m\u001b[0m\n",
        "\u001b[1;31mKeyboardInterrupt\u001b[0m: "
       ]
      }
     ],
     "prompt_number": 747
    },
    {
     "cell_type": "code",
     "collapsed": false,
     "input": [
      "res = k_fold(R2SVMLearner, params=indian_params_random, all_layers=False, \\\n",
      "       data=indians, exp_name=\"check_cons\", model_name=\"r2svm\", store_clf=True, save_model=False)\n",
      "print res['results']['mean_acc']\n",
      "\n",
      "mod = res['monitors']['clf'][0]\n",
      "\n",
      "print res['monitors']['fold_scores']"
     ],
     "language": "python",
     "metadata": {},
     "outputs": [
      {
       "output_type": "stream",
       "stream": "stdout",
       "text": [
        "0.572405134533\n",
        "[ 0.53954802  0.59259259  0.70689655  0.57471264  0.44827586]\n"
       ]
      }
     ],
     "prompt_number": 692
    },
    {
     "cell_type": "code",
     "collapsed": false,
     "input": [
      "X = model[0]._X_tr[0]\n",
      "X_pca = sklearn.decomposition.RandomizedPCA(n_components=2).fit_transform(X)\n",
      "plt.scatter(X_pca[:,0], X_pca[:,1])"
     ],
     "language": "python",
     "metadata": {},
     "outputs": [
      {
       "metadata": {},
       "output_type": "pyout",
       "prompt_number": 606,
       "text": [
        "<matplotlib.collections.PathCollection at 0x7f1a24409950>"
       ]
      },
      {
       "metadata": {},
       "output_type": "display_data",
       "png": "[encoded data removed]",
       "text": [
        "<matplotlib.figure.Figure at 0x7f1a244fd690>"
       ]
      }
     ],
     "prompt_number": 606
    },
    {
     "cell_type": "code",
     "collapsed": false,
     "input": [
      "\n",
      "def k_fold(base_model, params, data, exp_name, model_name,  n_folds=5, seed=None, store_clf=False, log=True, n_tries=3, save_model=True, all_layers=True):\n",
      "\n",
      "    assert hasattr(data, 'name')\n",
      "    assert hasattr(data, 'data')\n",
      "    assert hasattr(data, 'target')\n",
      "\n",
      "    if seed is None:\n",
      "        seed = params['seed']\n",
      "\n",
      "    results = {}\n",
      "    monitors = {}\n",
      "    config = {}\n",
      "    experiment = {\"config\": config, \"results\": results, \"monitors\": monitors}\n",
      "\n",
      "    config['n_folds'] = n_folds\n",
      "    config['seed'] = seed\n",
      "    config['store_clf'] = store_clf\n",
      "    config['params'] = params\n",
      "\n",
      "    short_params = shorten_params(params)\n",
      "\n",
      "    # change it!\n",
      "    config['experiment_name'] = exp_name + '_' + model_name + '_' + data.name + '_' + short_params\n",
      "    dir_name = exp_name + '_' + model_name + '_' + data.name\n",
      "\n",
      "    if save_model and exp_done(experiment, dir_name):\n",
      "        print \"exp already done\"\n",
      "        return\n",
      "\n",
      "    monitors[\"fold_scores\"] = []\n",
      "    monitors[\"train_time\"] = []\n",
      "    monitors[\"test_time\"] = []\n",
      "    monitors[\"clf\"] = []\n",
      "\n",
      "    if log:\n",
      "        logger = get_exp_logger(config, dir_name, to_file=True, to_std=False)\n",
      "\n",
      "    X, Y = data.data, data.target\n",
      "    folds = StratifiedKFold(y=Y, n_folds=n_folds, shuffle=True, random_state=seed)\n",
      "\n",
      "    for train_index, test_index in folds:\n",
      "\n",
      "        X_train, X_test, Y_train, Y_test = X[train_index], X[test_index], Y[train_index], Y[test_index]\n",
      "\n",
      "        fold_scores = []\n",
      "        fold_train_times = []\n",
      "        fold_test_times = []\n",
      "\n",
      "        for seed_bias in xrange(n_tries):\n",
      "            fold_params = copy(params)\n",
      "            fold_params['seed'] += seed_bias\n",
      "            train_start = time.time()\n",
      "            model = base_model(**fold_params)\n",
      "            model.fit(X_train, Y_train)\n",
      "            fold_train_times.append(time.time() - train_start)\n",
      "\n",
      "            test_start = time.time()\n",
      "\n",
      "            if all_layers:\n",
      "                fold_scores.append(score_all_depths_r2(model, X_test, Y_test))\n",
      "            else:\n",
      "                Y_pred = model.predict(X_test)\n",
      "                fold_scores.append(accuracy_score(Y_test, Y_pred))\n",
      "\n",
      "            fold_test_times.append(time.time() - test_start)\n",
      "\n",
      "            if store_clf :\n",
      "                monitors['clf'].append(model)\n",
      "\n",
      "        monitors['train_time'].append(fold_train_times)\n",
      "        monitors['test_time'].append(fold_test_times)\n",
      "        monitors['fold_scores'].append(np.mean(np.array(fold_scores), axis=0))\n",
      "\n",
      "    monitors['n_dim'] = data.n_dim\n",
      "    monitors['n_class'] = data.n_class\n",
      "    monitors['data_name'] = data.name\n",
      "\n",
      "    monitors['fold_scores'] = np.array(monitors['fold_scores'])\n",
      "\n",
      "    if all_layers:\n",
      "        results['best_depth'] = np.argmax(np.mean(monitors['fold_scores'], axis=0)) + 1\n",
      "        results['mean_acc'] = np.max(np.mean(monitors['fold_scores'], axis=0))\n",
      "        # results['std'] = monitors['fold_scores'][results['best_depth'] - 1, :].std()\n",
      "    else:\n",
      "        results['mean_acc'] = monitors['fold_scores'].mean()\n",
      "        results['std'] = monitors['fold_scores'].std()\n",
      "        results['best_depth'] = params['depth']\n",
      "\n",
      "    if log:\n",
      "        logger.info(config)\n",
      "        logger.info(results)\n",
      "        logger.info(monitors)\n",
      "\n",
      "    if save_model:\n",
      "        save_exp(experiment, dir_name)\n",
      "\n",
      "    return experiment"
     ],
     "language": "python",
     "metadata": {},
     "outputs": [],
     "prompt_number": 689
    },
    {
     "cell_type": "code",
     "collapsed": false,
     "input": [
      "k_fold(R2SVMLearner, params=indian_params_random, all_layers=False, \\\n",
      "       data=indians, exp_name=\"check_cons\", model_name=\"r2svm\", store_clf=True, save_model=False)['results']"
     ],
     "language": "python",
     "metadata": {},
     "outputs": [
      {
       "metadata": {},
       "output_type": "pyout",
       "prompt_number": 594,
       "text": [
        "{'best_depth': 8,\n",
        " 'mean_acc': 0.71356356806386034,\n",
        " 'std': 0.0025162962808042769}"
       ]
      }
     ],
     "prompt_number": 594
    },
    {
     "cell_type": "code",
     "collapsed": false,
     "input": [
      "k_fold(R2SVMLearner, params=indian_params, seed=666, data=indians, exp_name=\"check_cons\", model_name=\"r2svm\", save_model=False)[\"mean_acc\"]"
     ],
     "language": "python",
     "metadata": {},
     "outputs": [
      {
       "output_type": "stream",
       "stream": "stdout",
       "text": [
        "0 9\n",
        "LinearSVC(C=1, class_weight='auto', dual=True, fit_intercept=True,\n",
        "     intercept_scaling=1, loss='l1', multi_class='ovr', penalty='l2',\n",
        "     random_state=None, tol=0.0001, verbose=0)\n",
        "1"
       ]
      },
      {
       "output_type": "stream",
       "stream": "stdout",
       "text": [
        " 9\n",
        "LinearSVC(C=1, class_weight='auto', dual=True, fit_intercept=True,\n",
        "     intercept_scaling=1, loss='l1', multi_class='ovr', penalty='l2',\n",
        "     random_state=None, tol=0.0001, verbose=0)\n",
        "2 9\n",
        "LinearSVC(C=1, class_weight='auto', dual=True, fit_intercept=True,\n",
        "     intercept_scaling=1, loss='l1', multi_class='ovr', penalty='l2',\n",
        "     random_state=None, tol=0.0001, verbose=0)\n",
        "3"
       ]
      },
      {
       "output_type": "stream",
       "stream": "stdout",
       "text": [
        " 9\n",
        "LinearSVC(C=1, class_weight='auto', dual=True, fit_intercept=True,\n",
        "     intercept_scaling=1, loss='l1', multi_class='ovr', penalty='l2',\n",
        "     random_state=None, tol=0.0001, verbose=0)\n",
        "4 9\n",
        "LinearSVC(C=1, class_weight='auto', dual=True, fit_intercept=True,\n",
        "     intercept_scaling=1, loss='l1', multi_class='ovr', penalty='l2',\n",
        "     random_state=None, tol=0.0001, verbose=0)\n",
        "5"
       ]
      },
      {
       "output_type": "stream",
       "stream": "stdout",
       "text": [
        " 9\n",
        "LinearSVC(C=1, class_weight='auto', dual=True, fit_intercept=True,\n",
        "     intercept_scaling=1, loss='l1', multi_class='ovr', penalty='l2',\n",
        "     random_state=None, tol=0.0001, verbose=0)\n",
        "6"
       ]
      },
      {
       "output_type": "stream",
       "stream": "stdout",
       "text": [
        " 9\n",
        "LinearSVC(C=1, class_weight='auto', dual=True, fit_intercept=True,\n",
        "     intercept_scaling=1, loss='l1', multi_class='ovr', penalty='l2',\n",
        "     random_state=None, tol=0.0001, verbose=0)\n",
        "7"
       ]
      },
      {
       "output_type": "stream",
       "stream": "stdout",
       "text": [
        " 9\n",
        "LinearSVC(C=1, class_weight='auto', dual=True, fit_intercept=True,\n",
        "     intercept_scaling=1, loss='l1', multi_class='ovr', penalty='l2',\n",
        "     random_state=None, tol=0.0001, verbose=0)\n",
        "8 9\n",
        "LinearSVC(C=1, class_weight='auto', dual=True, fit_intercept=True,\n",
        "     intercept_scaling=1, loss='l1', multi_class='ovr', penalty='l2',\n",
        "     random_state=None, tol=0.0001, verbose=0)\n",
        "9"
       ]
      },
      {
       "output_type": "stream",
       "stream": "stdout",
       "text": [
        " 9\n",
        "LinearSVC(C=1, class_weight='auto', dual=True, fit_intercept=True,\n",
        "     intercept_scaling=1, loss='l1', multi_class='ovr', penalty='l2',\n",
        "     random_state=None, tol=0.0001, verbose=0)\n",
        "0"
       ]
      },
      {
       "output_type": "stream",
       "stream": "stdout",
       "text": [
        " 9\n",
        "LinearSVC(C=1, class_weight='auto', dual=True, fit_intercept=True,\n",
        "     intercept_scaling=1, loss='l1', multi_class='ovr', penalty='l2',\n",
        "     random_state=None, tol=0.0001, verbose=0)\n",
        "1"
       ]
      },
      {
       "output_type": "stream",
       "stream": "stdout",
       "text": [
        " 9\n",
        "LinearSVC(C=1, class_weight='auto', dual=True, fit_intercept=True,\n",
        "     intercept_scaling=1, loss='l1', multi_class='ovr', penalty='l2',\n",
        "     random_state=None, tol=0.0001, verbose=0)\n",
        "2"
       ]
      },
      {
       "output_type": "stream",
       "stream": "stdout",
       "text": [
        " 9\n",
        "LinearSVC(C=1, class_weight='auto', dual=True, fit_intercept=True,\n",
        "     intercept_scaling=1, loss='l1', multi_class='ovr', penalty='l2',\n",
        "     random_state=None, tol=0.0001, verbose=0)\n",
        "3"
       ]
      },
      {
       "output_type": "stream",
       "stream": "stdout",
       "text": [
        " 9\n",
        "LinearSVC(C=1, class_weight='auto', dual=True, fit_intercept=True,\n",
        "     intercept_scaling=1, loss='l1', multi_class='ovr', penalty='l2',\n",
        "     random_state=None, tol=0.0001, verbose=0)\n",
        "4"
       ]
      },
      {
       "output_type": "stream",
       "stream": "stdout",
       "text": [
        " 9\n",
        "LinearSVC(C=1, class_weight='auto', dual=True, fit_intercept=True,\n",
        "     intercept_scaling=1, loss='l1', multi_class='ovr', penalty='l2',\n",
        "     random_state=None, tol=0.0001, verbose=0)\n",
        "5 9\n",
        "LinearSVC(C=1, class_weight='auto', dual=True, fit_intercept=True,\n",
        "     intercept_scaling=1, loss='l1', multi_class='ovr', penalty='l2',\n",
        "     random_state=None, tol=0.0001, verbose=0)\n",
        "6"
       ]
      },
      {
       "output_type": "stream",
       "stream": "stdout",
       "text": [
        " 9\n",
        "LinearSVC(C=1, class_weight='auto', dual=True, fit_intercept=True,\n",
        "     intercept_scaling=1, loss='l1', multi_class='ovr', penalty='l2',\n",
        "     random_state=None, tol=0.0001, verbose=0)\n",
        "7"
       ]
      },
      {
       "output_type": "stream",
       "stream": "stdout",
       "text": [
        " 9\n",
        "LinearSVC(C=1, class_weight='auto', dual=True, fit_intercept=True,\n",
        "     intercept_scaling=1, loss='l1', multi_class='ovr', penalty='l2',\n",
        "     random_state=None, tol=0.0001, verbose=0)\n",
        "8"
       ]
      },
      {
       "output_type": "stream",
       "stream": "stdout",
       "text": [
        " 9\n",
        "LinearSVC(C=1, class_weight='auto', dual=True, fit_intercept=True,\n",
        "     intercept_scaling=1, loss='l1', multi_class='ovr', penalty='l2',\n",
        "     random_state=None, tol=0.0001, verbose=0)\n",
        "9"
       ]
      },
      {
       "output_type": "stream",
       "stream": "stdout",
       "text": [
        " 9\n",
        "LinearSVC(C=1, class_weight='auto', dual=True, fit_intercept=True,\n",
        "     intercept_scaling=1, loss='l1', multi_class='ovr', penalty='l2',\n",
        "     random_state=None, tol=0.0001, verbose=0)\n",
        "0"
       ]
      },
      {
       "output_type": "stream",
       "stream": "stdout",
       "text": [
        " 9\n",
        "LinearSVC(C=1, class_weight='auto', dual=True, fit_intercept=True,\n",
        "     intercept_scaling=1, loss='l1', multi_class='ovr', penalty='l2',\n",
        "     random_state=None, tol=0.0001, verbose=0)\n",
        "1"
       ]
      },
      {
       "output_type": "stream",
       "stream": "stdout",
       "text": [
        " 9\n",
        "LinearSVC(C=1, class_weight='auto', dual=True, fit_intercept=True,\n",
        "     intercept_scaling=1, loss='l1', multi_class='ovr', penalty='l2',\n",
        "     random_state=None, tol=0.0001, verbose=0)\n",
        "2"
       ]
      },
      {
       "output_type": "stream",
       "stream": "stdout",
       "text": [
        " 9\n",
        "LinearSVC(C=1, class_weight='auto', dual=True, fit_intercept=True,\n",
        "     intercept_scaling=1, loss='l1', multi_class='ovr', penalty='l2',\n",
        "     random_state=None, tol=0.0001, verbose=0)\n",
        "3"
       ]
      },
      {
       "output_type": "stream",
       "stream": "stdout",
       "text": [
        " 9\n",
        "LinearSVC(C=1, class_weight='auto', dual=True, fit_intercept=True,\n",
        "     intercept_scaling=1, loss='l1', multi_class='ovr', penalty='l2',\n",
        "     random_state=None, tol=0.0001, verbose=0)\n",
        "4"
       ]
      },
      {
       "output_type": "stream",
       "stream": "stdout",
       "text": [
        " 9\n",
        "LinearSVC(C=1, class_weight='auto', dual=True, fit_intercept=True,\n",
        "     intercept_scaling=1, loss='l1', multi_class='ovr', penalty='l2',\n",
        "     random_state=None, tol=0.0001, verbose=0)\n",
        "5"
       ]
      },
      {
       "output_type": "stream",
       "stream": "stdout",
       "text": [
        " 9\n",
        "LinearSVC(C=1, class_weight='auto', dual=True, fit_intercept=True,\n",
        "     intercept_scaling=1, loss='l1', multi_class='ovr', penalty='l2',\n",
        "     random_state=None, tol=0.0001, verbose=0)\n",
        "6"
       ]
      },
      {
       "output_type": "stream",
       "stream": "stdout",
       "text": [
        " 9\n",
        "LinearSVC(C=1, class_weight='auto', dual=True, fit_intercept=True,\n",
        "     intercept_scaling=1, loss='l1', multi_class='ovr', penalty='l2',\n",
        "     random_state=None, tol=0.0001, verbose=0)\n",
        "7"
       ]
      },
      {
       "output_type": "stream",
       "stream": "stdout",
       "text": [
        " 9\n",
        "LinearSVC(C=1, class_weight='auto', dual=True, fit_intercept=True,\n",
        "     intercept_scaling=1, loss='l1', multi_class='ovr', penalty='l2',\n",
        "     random_state=None, tol=0.0001, verbose=0)\n",
        "8"
       ]
      },
      {
       "output_type": "stream",
       "stream": "stdout",
       "text": [
        " 9\n",
        "LinearSVC(C=1, class_weight='auto', dual=True, fit_intercept=True,\n",
        "     intercept_scaling=1, loss='l1', multi_class='ovr', penalty='l2',\n",
        "     random_state=None, tol=0.0001, verbose=0)\n",
        "9"
       ]
      },
      {
       "output_type": "stream",
       "stream": "stdout",
       "text": [
        " 9\n",
        "LinearSVC(C=1, class_weight='auto', dual=True, fit_intercept=True,\n",
        "     intercept_scaling=1, loss='l1', multi_class='ovr', penalty='l2',\n",
        "     random_state=None, tol=0.0001, verbose=0)\n",
        "0 9\n",
        "LinearSVC(C=1, class_weight='auto', dual=True, fit_intercept=True,\n",
        "     intercept_scaling=1, loss='l1', multi_class='ovr', penalty='l2',\n",
        "     random_state=None, tol=0.0001, verbose=0)\n",
        "1"
       ]
      },
      {
       "output_type": "stream",
       "stream": "stdout",
       "text": [
        " 9\n",
        "LinearSVC(C=1, class_weight='auto', dual=True, fit_intercept=True,\n",
        "     intercept_scaling=1, loss='l1', multi_class='ovr', penalty='l2',\n",
        "     random_state=None, tol=0.0001, verbose=0)\n",
        "2 9\n",
        "LinearSVC(C=1, class_weight='auto', dual=True, fit_intercept=True,\n",
        "     intercept_scaling=1, loss='l1', multi_class='ovr', penalty='l2',\n",
        "     random_state=None, tol=0.0001, verbose=0)\n"
       ]
      },
      {
       "ename": "KeyboardInterrupt",
       "evalue": "",
       "output_type": "pyerr",
       "traceback": [
        "\u001b[1;31m---------------------------------------------------------------------------\u001b[0m\n\u001b[1;31mKeyboardInterrupt\u001b[0m                         Traceback (most recent call last)",
        "\u001b[1;32m<ipython-input-521-d6f56ee54cb9>\u001b[0m in \u001b[0;36m<module>\u001b[1;34m()\u001b[0m\n\u001b[1;32m----> 1\u001b[1;33m \u001b[0mk_fold\u001b[0m\u001b[1;33m(\u001b[0m\u001b[0mR2SVMLearner\u001b[0m\u001b[1;33m,\u001b[0m \u001b[0mparams\u001b[0m\u001b[1;33m=\u001b[0m\u001b[0mindian_params\u001b[0m\u001b[1;33m,\u001b[0m \u001b[0mseed\u001b[0m\u001b[1;33m=\u001b[0m\u001b[1;36m666\u001b[0m\u001b[1;33m,\u001b[0m \u001b[0mdata\u001b[0m\u001b[1;33m=\u001b[0m\u001b[0mindians\u001b[0m\u001b[1;33m,\u001b[0m \u001b[0mexp_name\u001b[0m\u001b[1;33m=\u001b[0m\u001b[1;34m\"check_cons\"\u001b[0m\u001b[1;33m,\u001b[0m \u001b[0mmodel_name\u001b[0m\u001b[1;33m=\u001b[0m\u001b[1;34m\"r2svm\"\u001b[0m\u001b[1;33m,\u001b[0m \u001b[0msave_model\u001b[0m\u001b[1;33m=\u001b[0m\u001b[0mFalse\u001b[0m\u001b[1;33m)\u001b[0m\u001b[1;33m[\u001b[0m\u001b[1;34m\"mean_acc\"\u001b[0m\u001b[1;33m]\u001b[0m\u001b[1;33m\u001b[0m\u001b[0m\n\u001b[0m",
        "\u001b[1;32m<ipython-input-516-33f470e50f12>\u001b[0m in \u001b[0;36mk_fold\u001b[1;34m(base_model, params, data, exp_name, model_name, n_folds, seed, store_clf, log, n_tries, save_model, all_layers)\u001b[0m\n\u001b[0;32m     52\u001b[0m             \u001b[0mtrain_start\u001b[0m \u001b[1;33m=\u001b[0m \u001b[0mtime\u001b[0m\u001b[1;33m.\u001b[0m\u001b[0mtime\u001b[0m\u001b[1;33m(\u001b[0m\u001b[1;33m)\u001b[0m\u001b[1;33m\u001b[0m\u001b[0m\n\u001b[0;32m     53\u001b[0m             \u001b[0mmodel\u001b[0m \u001b[1;33m=\u001b[0m \u001b[0mbase_model\u001b[0m\u001b[1;33m(\u001b[0m\u001b[1;33m**\u001b[0m\u001b[0mfold_params\u001b[0m\u001b[1;33m)\u001b[0m\u001b[1;33m\u001b[0m\u001b[0m\n\u001b[1;32m---> 54\u001b[1;33m             \u001b[0mmodel\u001b[0m\u001b[1;33m.\u001b[0m\u001b[0mfit\u001b[0m\u001b[1;33m(\u001b[0m\u001b[0mX_train\u001b[0m\u001b[1;33m,\u001b[0m \u001b[0mY_train\u001b[0m\u001b[1;33m)\u001b[0m\u001b[1;33m\u001b[0m\u001b[0m\n\u001b[0m\u001b[0;32m     55\u001b[0m             \u001b[0mfold_train_times\u001b[0m\u001b[1;33m.\u001b[0m\u001b[0mappend\u001b[0m\u001b[1;33m(\u001b[0m\u001b[0mtime\u001b[0m\u001b[1;33m.\u001b[0m\u001b[0mtime\u001b[0m\u001b[1;33m(\u001b[0m\u001b[1;33m)\u001b[0m \u001b[1;33m-\u001b[0m \u001b[0mtrain_start\u001b[0m\u001b[1;33m)\u001b[0m\u001b[1;33m\u001b[0m\u001b[0m\n\u001b[0;32m     56\u001b[0m \u001b[1;33m\u001b[0m\u001b[0m\n",
        "\u001b[1;32m<ipython-input-520-b7a39dc34c51>\u001b[0m in \u001b[0;36mfit\u001b[1;34m(self, X, Y, W)\u001b[0m\n\u001b[0;32m    258\u001b[0m         \u001b[1;31m# Fit\u001b[0m\u001b[1;33m\u001b[0m\u001b[1;33m\u001b[0m\u001b[0m\n\u001b[0;32m    259\u001b[0m         \u001b[1;32mfor\u001b[0m \u001b[0mi\u001b[0m \u001b[1;32min\u001b[0m \u001b[0mxrange\u001b[0m\u001b[1;33m(\u001b[0m\u001b[0mself\u001b[0m\u001b[1;33m.\u001b[0m\u001b[0mdepth\u001b[0m\u001b[1;33m)\u001b[0m\u001b[1;33m:\u001b[0m\u001b[1;33m\u001b[0m\u001b[0m\n\u001b[1;32m--> 260\u001b[1;33m             \u001b[0mX\u001b[0m \u001b[1;33m=\u001b[0m \u001b[0mself\u001b[0m\u001b[1;33m.\u001b[0m\u001b[0m_feed_forward\u001b[0m\u001b[1;33m(\u001b[0m\u001b[0mX\u001b[0m\u001b[1;33m,\u001b[0m \u001b[0mi\u001b[0m\u001b[1;33m,\u001b[0m \u001b[0mY\u001b[0m\u001b[1;33m)\u001b[0m\u001b[1;33m\u001b[0m\u001b[0m\n\u001b[0m\u001b[0;32m    261\u001b[0m \u001b[1;33m\u001b[0m\u001b[0m\n\u001b[0;32m    262\u001b[0m         \u001b[1;32mreturn\u001b[0m \u001b[0mself\u001b[0m\u001b[1;33m\u001b[0m\u001b[0m\n",
        "\u001b[1;32m<ipython-input-520-b7a39dc34c51>\u001b[0m in \u001b[0;36m_feed_forward\u001b[1;34m(self, X, i, Y)\u001b[0m\n\u001b[0;32m    161\u001b[0m                     \u001b[1;32mfor\u001b[0m \u001b[0mj\u001b[0m \u001b[1;32min\u001b[0m \u001b[0mxrange\u001b[0m\u001b[1;33m(\u001b[0m\u001b[0mfit_size\u001b[0m\u001b[1;33m)\u001b[0m\u001b[1;33m:\u001b[0m\u001b[1;33m\u001b[0m\u001b[0m\n\u001b[0;32m    162\u001b[0m                         \u001b[0mmodel\u001b[0m \u001b[1;33m=\u001b[0m \u001b[0mclone\u001b[0m\u001b[1;33m(\u001b[0m\u001b[0mself\u001b[0m\u001b[1;33m.\u001b[0m\u001b[0mmodels_\u001b[0m\u001b[1;33m[\u001b[0m\u001b[0mi\u001b[0m\u001b[1;33m]\u001b[0m\u001b[1;33m)\u001b[0m\u001b[1;33m.\u001b[0m\u001b[0mset_params\u001b[0m\u001b[1;33m(\u001b[0m\u001b[0mestimator__C\u001b[0m\u001b[1;33m=\u001b[0m\u001b[0mc\u001b[0m\u001b[1;33m[\u001b[0m\u001b[0mj\u001b[0m\u001b[1;33m]\u001b[0m\u001b[1;33m)\u001b[0m \u001b[1;32mif\u001b[0m \u001b[1;32mnot\u001b[0m \u001b[0mself\u001b[0m\u001b[1;33m.\u001b[0m\u001b[0mis_base_multiclass\u001b[0m                                                                                         \u001b[1;32mand\u001b[0m \u001b[0mself\u001b[0m\u001b[1;33m.\u001b[0m\u001b[0mK\u001b[0m \u001b[1;33m>\u001b[0m \u001b[1;36m2\u001b[0m \u001b[1;32melse\u001b[0m                             \u001b[0mclone\u001b[0m\u001b[1;33m(\u001b[0m\u001b[0mself\u001b[0m\u001b[1;33m.\u001b[0m\u001b[0mmodels_\u001b[0m\u001b[1;33m[\u001b[0m\u001b[0mi\u001b[0m\u001b[1;33m]\u001b[0m\u001b[1;33m)\u001b[0m\u001b[1;33m.\u001b[0m\u001b[0mset_params\u001b[0m\u001b[1;33m(\u001b[0m\u001b[0mC\u001b[0m\u001b[1;33m=\u001b[0m\u001b[0mc\u001b[0m\u001b[1;33m[\u001b[0m\u001b[0mj\u001b[0m\u001b[1;33m]\u001b[0m\u001b[1;33m)\u001b[0m\u001b[1;33m\u001b[0m\u001b[0m\n\u001b[1;32m--> 163\u001b[1;33m                         \u001b[0mscore\u001b[0m \u001b[1;33m=\u001b[0m \u001b[0msklearn\u001b[0m\u001b[1;33m.\u001b[0m\u001b[0mmetrics\u001b[0m\u001b[1;33m.\u001b[0m\u001b[0maccuracy_score\u001b[0m\u001b[1;33m(\u001b[0m\u001b[0mmodel\u001b[0m\u001b[1;33m.\u001b[0m\u001b[0mfit\u001b[0m\u001b[1;33m(\u001b[0m\u001b[0mX\u001b[0m\u001b[1;33m,\u001b[0m\u001b[0mY\u001b[0m\u001b[1;33m)\u001b[0m\u001b[1;33m.\u001b[0m\u001b[0mpredict\u001b[0m\u001b[1;33m(\u001b[0m\u001b[0mX\u001b[0m\u001b[1;33m)\u001b[0m\u001b[1;33m,\u001b[0m \u001b[0mY\u001b[0m\u001b[1;33m)\u001b[0m\u001b[1;33m\u001b[0m\u001b[0m\n\u001b[0m\u001b[0;32m    164\u001b[0m                         \u001b[1;31m#scores = cross_val_score(model, X, Y, scoring='accuracy', \\\u001b[0m\u001b[1;33m\u001b[0m\u001b[1;33m\u001b[0m\u001b[0m\n\u001b[0;32m    165\u001b[0m                         \u001b[1;31m#                         cv=KFold(X.shape[0], shuffle=True, random_state=self.random_state))\u001b[0m\u001b[1;33m\u001b[0m\u001b[1;33m\u001b[0m\u001b[0m\n",
        "\u001b[1;32m/lhome/home/czarnecki/staszek_tmp/tradeshift/local/lib/python2.7/site-packages/sklearn/svm/base.pyc\u001b[0m in \u001b[0;36mfit\u001b[1;34m(self, X, y)\u001b[0m\n\u001b[0;32m    701\u001b[0m                                               \u001b[0mself\u001b[0m\u001b[1;33m.\u001b[0m\u001b[0mC\u001b[0m\u001b[1;33m,\u001b[0m\u001b[1;33m\u001b[0m\u001b[0m\n\u001b[0;32m    702\u001b[0m                                               \u001b[0mself\u001b[0m\u001b[1;33m.\u001b[0m\u001b[0mclass_weight_\u001b[0m\u001b[1;33m,\u001b[0m\u001b[1;33m\u001b[0m\u001b[0m\n\u001b[1;32m--> 703\u001b[1;33m                                               rnd.randint(np.iinfo('i').max))\n\u001b[0m\u001b[0;32m    704\u001b[0m         \u001b[1;31m# Regarding rnd.randint(..) in the above signature:\u001b[0m\u001b[1;33m\u001b[0m\u001b[1;33m\u001b[0m\u001b[0m\n\u001b[0;32m    705\u001b[0m         \u001b[1;31m# seed for srand in range [0..INT_MAX); due to limitations in Numpy\u001b[0m\u001b[1;33m\u001b[0m\u001b[1;33m\u001b[0m\u001b[0m\n",
        "\u001b[1;31mKeyboardInterrupt\u001b[0m: "
       ]
      }
     ],
     "prompt_number": 521
    },
    {
     "cell_type": "code",
     "collapsed": false,
     "input": [
      "def get_pca_vec(K, data):\n",
      "    return sklearn.decomposition.RandomizedPCA(n_components=K).fit(data).components_"
     ],
     "language": "python",
     "metadata": {},
     "outputs": [],
     "prompt_number": 633
    },
    {
     "cell_type": "code",
     "collapsed": false,
     "input": [],
     "language": "python",
     "metadata": {},
     "outputs": []
    },
    {
     "cell_type": "code",
     "collapsed": false,
     "input": [
      "pca_vec = get_pca_vec(5, indians.data)\n",
      "A = [make_rand_vector(10) for _ in range(10000)]\n",
      "A_sorted = sorted(A, key=lambda w: sum(np.abs(np.inner(w, a)) for a in pca_vec))"
     ],
     "language": "python",
     "metadata": {},
     "outputs": [],
     "prompt_number": 656
    },
    {
     "cell_type": "code",
     "collapsed": false,
     "input": [
      "(lambda w: sum(np.abs(np.inner(w, a)) for a in pca_vec))(A_sorted[1])"
     ],
     "language": "python",
     "metadata": {},
     "outputs": [
      {
       "metadata": {},
       "output_type": "pyout",
       "prompt_number": 657,
       "text": [
        "array([ 0.26015431])"
       ]
      }
     ],
     "prompt_number": 657
    },
    {
     "cell_type": "code",
     "collapsed": false,
     "input": [
      "(lambda w: sum(np.abs(np.inner(w, a)) for a in pca_vec))(A_sorted[0])"
     ],
     "language": "python",
     "metadata": {},
     "outputs": [
      {
       "metadata": {},
       "output_type": "pyout",
       "prompt_number": 658,
       "text": [
        "array([ 0.17685509])"
       ]
      }
     ],
     "prompt_number": 658
    },
    {
     "cell_type": "code",
     "collapsed": false,
     "input": [
      "make_pca_vec(3, indians.data)[0]"
     ],
     "language": "python",
     "metadata": {},
     "outputs": [
      {
       "metadata": {},
       "output_type": "pyout",
       "prompt_number": 318,
       "text": [
        "array([ -7.11609229e-05,  -1.99148343e-04,  -1.68605288e-04,\n",
        "         8.26460514e-01,   5.21066556e-01,   2.13114443e-01,\n",
        "         2.42399648e-03,   4.90591023e-03,  -1.18452255e-04,\n",
        "        -2.20595169e-03])"
       ]
      }
     ],
     "prompt_number": 318
    },
    {
     "cell_type": "code",
     "collapsed": false,
     "input": [
      "comp = sklearn.decomposition.RandomizedPCA(n_components=3).fit(indians.data).components_"
     ],
     "language": "python",
     "metadata": {},
     "outputs": [],
     "prompt_number": 315
    },
    {
     "cell_type": "code",
     "collapsed": false,
     "input": [
      "sum(np.random.normal(0, 1)*c for c in comp)"
     ],
     "language": "python",
     "metadata": {},
     "outputs": [
      {
       "metadata": {},
       "output_type": "pyout",
       "prompt_number": 316,
       "text": [
        "array([ -7.77031918e-04,  -1.38935517e-03,  -3.21453544e-03,\n",
        "         1.36937766e+00,  -8.43832811e-01,   2.09882080e-01,\n",
        "         1.50230631e-03,   3.53014841e-03,  -5.22403036e-03,\n",
        "         3.02015736e-02])"
       ]
      }
     ],
     "prompt_number": 316
    },
    {
     "cell_type": "code",
     "collapsed": false,
     "input": [
      "def make_pca_vec(K, data):\n",
      "    comp = sklearn.decomposition.RandomizedPCA(n_components=K).fit(data).components_\n",
      "    vec = [sum(np.random.normal(0, 1)*c for c in comp) for _ in xrange(K)]\n",
      "    vec_out = []\n",
      "    for v in vec:\n",
      "        mag = sum(x**2 for x in v) ** .5\n",
      "        vec_out.append(np.array([x/mag for x in v]).reshape(-1))\n",
      "    return np.vstack(vec_out)"
     ],
     "language": "python",
     "metadata": {},
     "outputs": [],
     "prompt_number": 317
    },
    {
     "cell_type": "code",
     "collapsed": false,
     "input": [
      "import numpy as np\n",
      "import scipy\n",
      "\n",
      "import sklearn\n",
      "from sklearn.svm import SVC, LinearSVC\n",
      "from sklearn.preprocessing import MinMaxScaler, Normalizer, StandardScaler\n",
      "from sklearn.multiclass import OneVsRestClassifier\n",
      "from sklearn.cross_validation import KFold, cross_val_score\n",
      "from sklearn.linear_model import LogisticRegression\n",
      "\n",
      "from functools import partial\n",
      "from elm import ELM\n",
      "\n",
      "from sklearn.base import BaseEstimator, clone\n",
      "\n",
      "\n",
      "class MyLinModel(BaseEstimator):\n",
      "    def __init__(self,w,b):\n",
      "        assert isinstance(b, (int, long, float)) or len(b.shape) == 1\n",
      "        self.w=w\n",
      "        self.b=b\n",
      "\n",
      "    def fit(self, X, Y):\n",
      "        pass\n",
      "\n",
      "    def predict(self, X):\n",
      "        return np.argmax(self.decision_function(X), axis=1)\n",
      "\n",
      "    def decision_function(self, X):\n",
      "        return X.dot(self.w.T) + self.b\n",
      "\n",
      "\n",
      "\n",
      "    \n",
      "def make_rand_vector(dims):\n",
      "    vec = [np.random.normal(0, 1) for i in range(dims)]\n",
      "    mag = sum(x**2 for x in vec) ** .5\n",
      "    return np.array([[x/mag for x in vec]])\n",
      "\n",
      "\n",
      "def _r2_compress_model(r2):\n",
      "    \"\"\"\n",
      "    If models are LinearMixins <=> have coefs_ and coef0_ it rewrites to dicts (nope, idk why)//those to MyLinModel. It is still functional model :)\n",
      "    \"\"\"\n",
      "    # #\n",
      "    #MyLinModel(r2.models_[id].coef_, r2.models_[id].intercept_)\n",
      "    r2._X_tr = []\n",
      "    r2._X_moved = []\n",
      "    r2.X_tr = []\n",
      "    for id, m in enumerate(r2.models_):\n",
      "        # I know it should be class testing ok?\n",
      "        if hasattr(r2.models_[id], 'coef_'):\n",
      "            if hasattr(r2.models_[id], 'intercept_'):\n",
      "                r2.models_[id] = {\"w\": r2.models_[id].coef_, \"b\":  r2.models_[id].intercept_, \"params\": r2.models_[id].get_params()}\n",
      "            elif hasattr(r2.models_[id], 'coef0'):\n",
      "                r2.models_[id] = {\"w\": r2.models_[id].coef_, \"b\":  r2.models_[id].coef0, \"params\": r2.models_[id].get_params()}\n",
      "    return r2\n",
      "\n",
      "class R2Learner(BaseEstimator):\n",
      "    def __init__(self, C=1, activation='sigmoid', recurrent=True, depth=7, \\\n",
      "                 seed=None, beta=0.1, scale=False, use_prev=False, fit_c=None, base_cls=None,\n",
      "\t\t\t\tfixed_prediction=False, is_base_multiclass=False, switched=False, random_hyperplanes=None):\n",
      "        self.name = 'r2svm'\n",
      "        self.fixed_prediction = fixed_prediction\n",
      "        self.use_prev = use_prev\n",
      "        self.fit_c = fit_c\n",
      "        self.depth = depth\n",
      "        self.beta = beta\n",
      "        self.base_cls = base_cls\n",
      "        self.seed = seed\n",
      "        self.scale = scale\n",
      "        self.recurrent = recurrent\n",
      "        self.C = C\n",
      "        self.X_tr = []\n",
      "        self.layer_predictions_ = []\n",
      "        self.activation = activation  # Minor hack to pickle functions, we will call it by getattr\n",
      "        self.is_base_multiclass = is_base_multiclass  # Minor hack to know when to wrap in OneVsRest\n",
      "        self.random_hyperplanes = random_hyperplanes\n",
      "        \n",
      "        # Used in _feed_forward for keeping state\n",
      "        self._o = []\n",
      "        self._delta = []\n",
      "        self._fitted = False\n",
      "        self._X_moved = []\n",
      "        self._X_tr = []\n",
      "        self._prev_C = None\n",
      "        self.switched = switched\n",
      "\n",
      "\n",
      "    def _feed_forward(self, X, i, Y=None):\n",
      "        # Modifies state (_o, _delta, _fitted, _X_tr, _X_moved)\n",
      "        # Assumes scaled data passed to it (so you have to scale data)\n",
      "\n",
      "        if i == 0:\n",
      "            self._o = []\n",
      "            self._delta = np.zeros(shape=X.shape)\n",
      "            self._X_tr = [X]\n",
      "            self._X_moved = [X]\n",
      "\n",
      "        if i != self.depth - 1:\n",
      "            if self.recurrent:\n",
      "                self.W[i] = []\n",
      "                for _ in range(i+1):\n",
      "                    pca_vec = get_pca_vec(3, X)\n",
      "                    A = [make_rand_vector(X.shape[1]) for _ in range(300)]\n",
      "                    A_sorted = sorted(A, key=lambda w: sum(np.abs(np.inner(w, a)) for a in pca_vec))\n",
      "                    self.W[i].append(np.vstack([a.reshape(-1) for a in A_sorted[0:self.K]]))\n",
      "            else:\n",
      "                pca_vec = get_pca_vec(3, X)\n",
      "                A = [make_rand_vector(X.shape[1]) for _ in range(1000)]\n",
      "                A_sorted = sorted(A, key=lambda w: sum(np.abs(np.inner(w, a)) for a in pca_vec))\n",
      "                self.W[i] = np.vstack([a.reshape(-1) for a in A_sorted[0:self.K]])\n",
      "            \n",
      "        if not self._fitted:\n",
      "            \n",
      "            if self.fit_c is None:\n",
      "                self.models_[i].fit(X, Y)\n",
      "            elif self.fit_c == 'random_cls' or self.fit_c == 'random_cls_centered' or self.fit_c == 'pca_cls_centered':\n",
      "                if i != self.depth - 1:\n",
      "                    if self.K <= 2:\n",
      "                        \n",
      "                        if self.fit_c == \"pca_cls_centered\":\n",
      "                            w = make_pca_vec(1, X).reshape(1, -1)\n",
      "                        else:\n",
      "                            w = make_rand_vector(X.shape[1])\n",
      "                            \n",
      "                        if self.fit_c == 'random_cls':\n",
      "                            b = np.random.uniform(X.min(), X.max())\n",
      "                        elif self.fit_c == 'random_cls_centered' or self.fit_c == \"pca_cls_centered\":\n",
      "                            p = w.dot(X.T)\n",
      "                            if np.std(p) != 0:\n",
      "                                b = np.random.normal(p.mean(), np.std(p)*2)\n",
      "                            else:\n",
      "                                b = np.random.normal(p.mean(), 1)\n",
      "\n",
      "                        self.models_[i] = MyLinModel(w, b)\n",
      "                    else:\n",
      "                        if self.fit_c == \"pca_cls_centered\" :\n",
      "                            w = np.hstack([make_rand_vector(X.shape[1]).T for _ in range(self.K)]).T\n",
      "                        else:\n",
      "                            w = make_pca_vec(self.K, X)\n",
      "                            \n",
      "                        p = w.dot(X.T)\n",
      "\n",
      "                        if self.fit_c == 'random_cls':\n",
      "                            b = np.array([np.random.uniform(X.min(), X.max()) for _ in range(self.K)])\n",
      "                        elif self.fit_c == 'random_cls_centered' or self.fit_c == \"pca_cls_centered\":\n",
      "                            b = []\n",
      "                            for pi in p:\n",
      "                                if np.std(pi) != 0:\n",
      "                                    b.append(np.random.normal(pi.mean(), np.std(pi)*2))\n",
      "                                else:\n",
      "                                    b.append(np.random.normal(pi.mean(), 1))\n",
      "                            b = np.array(b)\n",
      "\n",
      "                        self.models_[i] = MyLinModel(w, b)\n",
      "                else:\n",
      "                    self.models_[i].fit(X, Y)\n",
      "                \n",
      "            elif self.fit_c == 'random':\n",
      "                if not self.fixed_prediction or i == self.depth - 1:\n",
      "                    best_C = None\n",
      "                    best_score = 0.\n",
      "                    fit_size = 4\n",
      "                    if type(self.models_[i]) == ELM:\n",
      "                        c = [10**j for j in xrange(0, fit_size)]\n",
      "                    elif type(self.models_[i]) == LinearSVC or type(self.models_[i] == SVC) :\n",
      "                        c = np.random.uniform(size=fit_size)\n",
      "                        c = MinMaxScaler((-2, 8)).fit_transform(c)\n",
      "                        c = [np.exp(x) for x in c]\n",
      "                        # Add one and previous\n",
      "                        c = list(set(c).union([1]).union([self._prev_C])) if self._prev_C else list(set(c).union([1]))\n",
      "\n",
      "                    for j in xrange(fit_size):\n",
      "                        model = clone(self.models_[i]).set_params(estimator__C=c[j]) if not self.is_base_multiclass \\\n",
      "                                                                                        and self.K > 2 else \\\n",
      "                            clone(self.models_[i]).set_params(C=c[j])\n",
      "                        score = sklearn.metrics.accuracy_score(model.fit(X,Y).predict(X), Y)\n",
      "                        #scores = cross_val_score(model, X, Y, scoring='accuracy', \\\n",
      "                        #                         cv=KFold(X.shape[0], shuffle=True, random_state=self.random_state))\n",
      "                        #score = scores.mean()\n",
      "                        if score > best_score:\n",
      "                            best_score = score\n",
      "                            best_C = c[j]\n",
      "                    assert best_C is not None\n",
      "                    self.models_[i].set_params(estimator__C=best_C) if not self.is_base_multiclass and self.K > 2 \\\n",
      "                        else self.models_[i].set_params(C=best_C)\n",
      "                    self._prev_C = best_C\n",
      "                    self.models_[i].fit(X, Y)\n",
      "\n",
      "        if i != self.depth - 1:\n",
      "\n",
      "            if not self.fixed_prediction:\n",
      "                self._o.append(self.models_[i].decision_function(X) if self.K > 2 else \\\n",
      "\t\t                           np.vstack([-self.models_[i].decision_function(X).reshape(1, -1),\n",
      "\t\t                                      self.models_[i].decision_function(X).reshape(1, -1)]).T)\n",
      "            elif isinstance(self.fixed_prediction, (int, long, float, complex)):\n",
      "                self._o.append(np.ones(shape=(X.shape[0], self.K)) * self.fixed_prediction)\n",
      "            else:\n",
      "                raise NotImplementedError(\"self.fixed_prediction is wut?\")\n",
      "\n",
      "            if self.recurrent:\n",
      "                self._delta = sum(np.dot(self._o[j], self.W[i][j]) for j in range(i+1))\n",
      "            else:\n",
      "                self._delta = np.dot(self._o[i], self.W[i])\n",
      "\n",
      "            if self.use_prev:\n",
      "                self._X_moved.append(X + self.beta * self._delta)\n",
      "                X = getattr(self, \"_\" + self.activation)(self._X_moved[-1])\n",
      "            else:\n",
      "                self._X_moved.append(self._X_tr[0] + self.beta * self._delta)\n",
      "                X = getattr(self, \"_\" + self.activation)(self._X_moved[-1])\n",
      "\n",
      "            if self.scale:\n",
      "                if not self._fitted:\n",
      "                    X = self.scalers_[i + 1].fit_transform(X)\n",
      "                else:\n",
      "                    X = self.scalers_[i + 1].transform(X)\n",
      "\n",
      "            self._X_tr.append(X)\n",
      "        else:\n",
      "            self._fitted = True\n",
      "\n",
      "        return X\n",
      "\n",
      "    def fit(self, X, Y, W=None):\n",
      "        \n",
      "        if self.random_hyperplanes:\n",
      "            self.K = self.random_hyperplanes\n",
      "        else:\n",
      "            self.K = len(set(Y))  # Class number\n",
      "            \n",
      "        # Seed\n",
      "        if self.seed is None:\n",
      "            self.seed = np.random.randint(0, np.iinfo(np.int32).max)\n",
      "        else:\n",
      "            np.random.seed(self.seed)\n",
      "            # print(\"WARNING: seeding whole numpy (forced by bug in SVC)\")\n",
      "        self.random_state = np.random.RandomState(self.seed)\n",
      "\n",
      "        # Models and scalers\n",
      "        self.scalers_ = [MinMaxScaler((-1, 1)) for _ in xrange(self.depth)]\n",
      "\n",
      "        if self.K <= 2:\n",
      "            self.models_ = [self.base_cls() for _ in xrange(self.depth)]\n",
      "            # for m in self.models_:\n",
      "            #    m.set_params(random_state=self.random_state)    # is this necessary?\n",
      "            # else :\n",
      "        else:\n",
      "            if self.is_base_multiclass:\n",
      "                if self.base_cls.func != LogisticRegression:\n",
      "                    self.models_ = [self.base_cls().set_params(random_state=self.random_state) for _ in xrange(self.depth)]\n",
      "                else:\n",
      "                    self.models_ = [self.base_cls() for _ in xrange(self.depth)]\n",
      "            else:\n",
      "                raise NotImplementedError, \"None base mutliclass models are deprecated.\"\n",
      "                # self.models_ = [OneVsRestClassifier(self.base_cls().set_params(random_state=self.random_state), \\\n",
      "                #                                     n_jobs=1) for _ in xrange(self.depth)]\n",
      "\n",
      "        if self.switched:\n",
      "            if self.base_cls.func != ELM:\n",
      "                raise NotImplementedError, \"Only switching from ELM to LinearSVC is supported\"\n",
      "            self.models_[-1] = LinearSVC( loss='l1', C=1, class_weight='auto', ).set_params(random_state=self.random_state)\n",
      "\n",
      "        if self.recurrent:\n",
      "            self.W = W if W else [[self.random_state.normal(size=(self.K, X.shape[1])) for _ in range(i+1)] \\\n",
      "                                  for i in range(self.depth - 1)]\n",
      "        else:\n",
      "            self.W = W if W else [self.random_state.normal(size=(self.K, X.shape[1])) for _ in range(self.depth - 1)]\n",
      "\n",
      "        # Prepare data\n",
      "        if self.scale:\n",
      "            X = self.scalers_[0].fit_transform(X)\n",
      "        self._fitted = False\n",
      "\n",
      "        # Fit\n",
      "        for i in xrange(self.depth):\n",
      "            X = self._feed_forward(X, i, Y)\n",
      "\n",
      "        return self\n",
      "\n",
      "    def predict(self, X, all_layers=False):\n",
      "        # Prepare data\n",
      "        if self.scale:\n",
      "            X = self.scalers_[0].transform(X)\n",
      "\n",
      "        _X = [X]\n",
      "        # Predict\n",
      "        for i in xrange(self.depth):\n",
      "            X = self._feed_forward(X, i)\n",
      "            if all_layers and i != self.depth-1: # Last layer is\n",
      "                _X.append(X)\n",
      "\n",
      "        if all_layers:\n",
      "            return [m.predict(X_tr) for m, X_tr in zip(self.models_, _X)]\n",
      "        else:\n",
      "            return self.models_[-1].predict(X)\n",
      "\n",
      "    @staticmethod\n",
      "    def _tanh(x):\n",
      "        return 2. / (1. + np.exp(x)) - 1.\n",
      "\n",
      "    @staticmethod\n",
      "    def _sigmoid(x):\n",
      "        return 1.0 / (1.0 + np.exp(-x))\n",
      "\n",
      "    @staticmethod\n",
      "    def _rbf(x):\n",
      "        return np.exp(-np.power((x - np.mean(x, axis=0)), 2))\n",
      "\n",
      "    @staticmethod\n",
      "    def _01_rbf(x):\n",
      "        return np.exp(-(np.power(x,2)/2))\n",
      "\n",
      "\n",
      "def score_all_depths_r2(model, X, Y):\n",
      "    \"\"\"\n",
      "    @returns depth, score_for_this_depth\n",
      "    \"\"\"\n",
      "    scores = [sklearn.metrics.accuracy_score(Y_pred, Y) for Y_pred in model.predict(X, all_layers=True)]\n",
      "    return np.argmax(scores)+1, scores[np.argmax(scores)]\n",
      "\n",
      "\n",
      "class R2ELMLearner(R2Learner):\n",
      "    def __init__(self, activation='sigmoid', recurrent=True, depth=10, \\\n",
      "                 seed=None, beta=0.1, scale=False, fit_c=None, use_prev=False, max_h=100, h=10,\n",
      "                 fit_h=None, C=100, fixed_prediction=False, switched=False):\n",
      "        \"\"\"\n",
      "        @param fixed_prediction pass float to fix prediction to this number or pass False to learn model\n",
      "        \"\"\"\n",
      "        self.h = h\n",
      "        self.max_h = max_h\n",
      "\n",
      "        if fit_h == None:\n",
      "            base_cls = partial(ELM, h=self.h, activation='linear', C=C)\n",
      "        else:\n",
      "            raise NotImplementedError()\n",
      "\n",
      "        R2Learner.__init__(self, fixed_prediction=fixed_prediction, activation=activation, recurrent=recurrent, depth=depth, \\\n",
      "                           seed=seed, beta=beta, scale=scale, use_prev=use_prev, base_cls=base_cls,\n",
      "                           is_base_multiclass=True, fit_c=fit_c, C=C, switched=switched)\n",
      "\n",
      "\n",
      "class R2SVMLearner(R2Learner):\n",
      "    def __init__(self, activation='sigmoid', recurrent=True, depth=10, seed=None, beta=0.1, scale=False,\n",
      "                 fixed_prediction=False, use_prev=False, fit_c=None, C=1, use_linear_svc=True, switched=False, \n",
      "                 random_hyperplanes=None):\n",
      "        \"\"\"\n",
      "        @param fixed_prediction pass float to fix prediction to this number or pass False to learn model\n",
      "        \"\"\"\n",
      "        if not use_linear_svc:\n",
      "            raise NotImplementedError(\"Deprecated. SVC seems much slower for it has to be wrapped as multiclass\")            \n",
      "\n",
      "            base_cls = partial(SVC, class_weight='auto', kernel='linear', C=C)\n",
      "\n",
      "            R2Learner.__init__(self, fixed_prediction=fixed_prediction, activation=activation, recurrent=recurrent, depth=depth, \\\n",
      "                               seed=seed, beta=beta, scale=scale, fit_c=fit_c, use_prev=use_prev, base_cls=base_cls,\n",
      "                               is_base_multiclass=False, random_hyperplanes=random_hyperplanes)\n",
      "        else:\n",
      "            base_cls = partial(LinearSVC, loss='l1', C=C, class_weight='auto')\n",
      "\n",
      "            R2Learner.__init__(self, fixed_prediction=fixed_prediction, activation=activation, recurrent=recurrent, depth=depth, \\\n",
      "                               seed=seed, beta=beta, fit_c=fit_c, scale=scale, use_prev=use_prev, base_cls=base_cls,\n",
      "                               is_base_multiclass=True, switched=switched, random_hyperplanes=random_hyperplanes)\n",
      "\n",
      "\n",
      "class R2LRLearner(R2Learner):\n",
      "    def __init__(self, activation='sigmoid', recurrent=True, depth=10, seed=None, beta=0.1, scale=False, \\\n",
      "                 fixed_prediction=False, use_prev=False, logger=None):\n",
      "\n",
      "        base_cls =  partial(LogisticRegression, fit_intercept=True)\n",
      "\n",
      "        R2Learner.__init__(self, fixed_prediction=fixed_prediction, activation=activation, recurrent=recurrent, depth=depth, \\\n",
      "                               seed=seed, beta=beta, scale=scale, use_prev=use_prev, base_cls=base_cls,\n",
      "                               is_base_multiclass=True)"
     ],
     "language": "python",
     "metadata": {},
     "outputs": [],
     "prompt_number": 789
    }
   ],
   "metadata": {}
  }
 ]
}