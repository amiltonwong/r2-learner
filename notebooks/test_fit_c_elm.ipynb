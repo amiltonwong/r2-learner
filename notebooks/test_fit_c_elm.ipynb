{
 "metadata": {
  "name": "",
  "signature": "sha256:4bdc307b62416710b97fdf2f35df3aac3ffc2606a8e63550935317cfabd8cdd0"
 },
 "nbformat": 3,
 "nbformat_minor": 0,
 "worksheets": [
  {
   "cells": [
    {
     "cell_type": "code",
     "collapsed": false,
     "input": [
      "%load_ext autoreload\n",
      "%autoreload 2\n",
      "\n",
      "import sys\n",
      "sys.path.append('..')\n",
      "\n",
      "import numpy as np\n",
      "import scipy\n",
      "\n",
      "from sklearn import datasets\n",
      "from sklearn.svm import SVC, LinearSVC\n",
      "from sklearn.preprocessing import MinMaxScaler, Normalizer, StandardScaler\n",
      "from sklearn.multiclass import OneVsRestClassifier\n",
      "from sklearn.cross_validation import KFold, cross_val_score\n",
      "\n",
      "from functools import partial\n",
      "from elm import ELM\n",
      "from r2 import *\n",
      "\n",
      "from sklearn.base import BaseEstimator, clone"
     ],
     "language": "python",
     "metadata": {},
     "outputs": [
      {
       "output_type": "stream",
       "stream": "stdout",
       "text": [
        "The autoreload extension is already loaded. To reload it, use:\n",
        "  %reload_ext autoreload\n"
       ]
      }
     ],
     "prompt_number": 121
    },
    {
     "cell_type": "code",
     "collapsed": false,
     "input": [
      "X_moon, Y_moon = datasets.make_moons(n_samples=1000, noise=0.04)\n",
      "X_spiral, Y_spiral = np.loadtxt(\"../data/two_spirals.x\", skiprows=1), np.loadtxt(\"../data/two_spirals.y\", skiprows=1)\n",
      "iris = sklearn.datasets.load_iris()\n",
      "X_iris = iris.data\n",
      "Y_iris = iris.target"
     ],
     "language": "python",
     "metadata": {},
     "outputs": [],
     "prompt_number": 117
    },
    {
     "cell_type": "code",
     "collapsed": false,
     "input": [
      "def test(X, Y):\n",
      "    model = R2ELMLearner(depth=3, h=20, C=100, beta=0.8, fit_c='random', use_prev=False, scale=True, activation='sigmoid')\n",
      "    model.fit(X, Y)\n",
      "    ac = sklearn.metrics.accuracy_score(Y, model.predict(X))\n",
      "    return ac"
     ],
     "language": "python",
     "metadata": {},
     "outputs": [],
     "prompt_number": 109
    },
    {
     "cell_type": "code",
     "collapsed": false,
     "input": [
      "def test_without_fit_C(X, Y):\n",
      "    model = R2ELMLearner(depth=3, h=20, beta=0.8, C=100, fit_c=None, use_prev=False, scale=True, activation='sigmoid')\n",
      "    model.fit(X, Y)\n",
      "    ac = sklearn.metrics.accuracy_score(Y, model.predict(X))\n",
      "    return ac"
     ],
     "language": "python",
     "metadata": {},
     "outputs": [],
     "prompt_number": 110
    },
    {
     "cell_type": "code",
     "collapsed": false,
     "input": [
      "import time\n",
      "print 'fitting C'\n",
      "s=time.time()\n",
      "results_fit_c = [test(X_moon, Y_moon) for _ in xrange(100)]\n",
      "print 'time:', time.time() - s\n",
      "print 'max acc:', max(results_fit_c)\n",
      "print 'mean acc', np.mean(results_fit_c)\n",
      "print 'std:', np.std(results_fit_c)"
     ],
     "language": "python",
     "metadata": {},
     "outputs": [
      {
       "output_type": "stream",
       "stream": "stdout",
       "text": [
        "fitting C\n",
        "time:"
       ]
      },
      {
       "output_type": "stream",
       "stream": "stdout",
       "text": [
        " 71.8149399757\n",
        "max acc: 0.67\n",
        "mean acc 0.60961\n",
        "std: 0.029108725496\n"
       ]
      }
     ],
     "prompt_number": 132
    },
    {
     "cell_type": "code",
     "collapsed": false,
     "input": [
      "print 'not fitting C'\n",
      "s=time.time()\n",
      "results = [test_without_fit_C(X_moon, Y_moon) for _ in xrange(100)]\n",
      "print 'time:', time.time() - s\n",
      "print 'max acc:', max(results)\n",
      "print 'mean acc', np.mean(results)\n",
      "print 'std:', np.std(results)"
     ],
     "language": "python",
     "metadata": {},
     "outputs": [
      {
       "output_type": "stream",
       "stream": "stdout",
       "text": [
        "not fitting C\n",
        "time:"
       ]
      },
      {
       "output_type": "stream",
       "stream": "stdout",
       "text": [
        " 3.85890102386\n",
        "max acc: 0.72\n",
        "mean acc 0.61311\n",
        "std: 0.0355398072589\n"
       ]
      }
     ],
     "prompt_number": 133
    },
    {
     "cell_type": "code",
     "collapsed": false,
     "input": [],
     "language": "python",
     "metadata": {},
     "outputs": []
    }
   ],
   "metadata": {}
  }
 ]
}