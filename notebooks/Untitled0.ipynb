{
 "metadata": {
  "name": "",
  "signature": "sha256:11e62881966a2075e9e7411493008c12f65c509d3a31ee38722ad04c62b09693"
 },
 "nbformat": 3,
 "nbformat_minor": 0,
 "worksheets": [
  {
   "cells": [
    {
     "cell_type": "code",
     "collapsed": false,
     "input": [
      "%load_ext autoreload\n",
      "%autoreload 2"
     ],
     "language": "python",
     "metadata": {},
     "outputs": [
      {
       "output_type": "stream",
       "stream": "stdout",
       "text": [
        "The autoreload extension is already loaded. To reload it, use:\n",
        "  %reload_ext autoreload\n"
       ]
      }
     ],
     "prompt_number": 24
    },
    {
     "cell_type": "code",
     "collapsed": false,
     "input": [
      "import sys\n",
      "import os\n",
      "sys.path.append('..')\n",
      "\n",
      "import pandas as pd\n",
      "import numpy as np\n",
      "import pickle\n",
      "from misc.config import c"
     ],
     "language": "python",
     "metadata": {},
     "outputs": [],
     "prompt_number": 50
    },
    {
     "cell_type": "code",
     "collapsed": false,
     "input": [
      "files = ['R2SVM_grid_16:58:34.pkl', 'R2ELM_grid_18:31:29.pkl']"
     ],
     "language": "python",
     "metadata": {},
     "outputs": [],
     "prompt_number": 51
    },
    {
     "cell_type": "code",
     "collapsed": false,
     "input": [
      "svm_file = open(os.path.join(c['RESULTS_DIR'], files[0]))\n",
      "svm_results = pickle.load(svm_file)"
     ],
     "language": "python",
     "metadata": {},
     "outputs": [],
     "prompt_number": 52
    },
    {
     "cell_type": "code",
     "collapsed": false,
     "input": [
      "elm_file = open(os.path.join(c['RESULTS_DIR'], files[1]))\n",
      "elm_results = pickle.load(elm_file)"
     ],
     "language": "python",
     "metadata": {},
     "outputs": [],
     "prompt_number": 53
    },
    {
     "cell_type": "code",
     "collapsed": false,
     "input": [
      "svm_results"
     ],
     "language": "python",
     "metadata": {},
     "outputs": [
      {
       "html": [
        "<div style=\"max-height:1000px;max-width:1500px;overflow:auto;\">\n",
        "<table border=\"1\" class=\"dataframe\">\n",
        "  <thead>\n",
        "    <tr style=\"text-align: right;\">\n",
        "      <th></th>\n",
        "      <th>pendigits</th>\n",
        "      <th>satimage</th>\n",
        "      <th>segment</th>\n",
        "    </tr>\n",
        "  </thead>\n",
        "  <tbody>\n",
        "    <tr>\n",
        "      <th>best_params</th>\n",
        "      <td> {u'C': 0.135335283237, u'use_prev': True, u'ac...</td>\n",
        "      <td> {u'C': 0.135335283237, u'use_prev': True, u'ac...</td>\n",
        "      <td> {u'C': 0.135335283237, u'use_prev': False, u'a...</td>\n",
        "    </tr>\n",
        "    <tr>\n",
        "      <th>best_score</th>\n",
        "      <td>                                         0.8929221</td>\n",
        "      <td>                                         0.8896044</td>\n",
        "      <td>                                         0.9597403</td>\n",
        "    </tr>\n",
        "    <tr>\n",
        "      <th>best_std</th>\n",
        "      <td>                                [0.00345909873639]</td>\n",
        "      <td>                                [0.00771688935561]</td>\n",
        "      <td>                                [0.00557753191633]</td>\n",
        "    </tr>\n",
        "    <tr>\n",
        "      <th>grid_time</th>\n",
        "      <td>                                          3763.482</td>\n",
        "      <td>                                          1683.536</td>\n",
        "      <td>                                          118.0458</td>\n",
        "    </tr>\n",
        "  </tbody>\n",
        "</table>\n",
        "</div>"
       ],
       "metadata": {},
       "output_type": "pyout",
       "prompt_number": 54,
       "text": [
        "                                                     pendigits  \\\n",
        "best_params  {u'C': 0.135335283237, u'use_prev': True, u'ac...   \n",
        "best_score                                           0.8929221   \n",
        "best_std                                    [0.00345909873639]   \n",
        "grid_time                                             3763.482   \n",
        "\n",
        "                                                      satimage  \\\n",
        "best_params  {u'C': 0.135335283237, u'use_prev': True, u'ac...   \n",
        "best_score                                           0.8896044   \n",
        "best_std                                    [0.00771688935561]   \n",
        "grid_time                                             1683.536   \n",
        "\n",
        "                                                       segment  \n",
        "best_params  {u'C': 0.135335283237, u'use_prev': False, u'a...  \n",
        "best_score                                           0.9597403  \n",
        "best_std                                    [0.00557753191633]  \n",
        "grid_time                                             118.0458  "
       ]
      }
     ],
     "prompt_number": 54
    },
    {
     "cell_type": "code",
     "collapsed": false,
     "input": [
      "elm_results"
     ],
     "language": "python",
     "metadata": {},
     "outputs": [
      {
       "html": [
        "<div style=\"max-height:1000px;max-width:1500px;overflow:auto;\">\n",
        "<table border=\"1\" class=\"dataframe\">\n",
        "  <thead>\n",
        "    <tr style=\"text-align: right;\">\n",
        "      <th></th>\n",
        "      <th>pendigits</th>\n",
        "      <th>satimage</th>\n",
        "      <th>segment</th>\n",
        "    </tr>\n",
        "  </thead>\n",
        "  <tbody>\n",
        "    <tr>\n",
        "      <th>best_params</th>\n",
        "      <td> {u'use_prev': False, u'h': 20, u'recurrent': T...</td>\n",
        "      <td> {u'use_prev': False, u'h': 20, u'recurrent': T...</td>\n",
        "      <td> {u'use_prev': False, u'h': 20, u'recurrent': T...</td>\n",
        "    </tr>\n",
        "    <tr>\n",
        "      <th>best_score</th>\n",
        "      <td>                                         0.5960699</td>\n",
        "      <td>                                         0.7413063</td>\n",
        "      <td>                                         0.8398268</td>\n",
        "    </tr>\n",
        "    <tr>\n",
        "      <th>best_std</th>\n",
        "      <td>                                [0.00706688231092]</td>\n",
        "      <td>                                [0.00313298070922]</td>\n",
        "      <td>                                 [0.0192141480703]</td>\n",
        "    </tr>\n",
        "    <tr>\n",
        "      <th>grid_time</th>\n",
        "      <td>                                          35.71104</td>\n",
        "      <td>                                          45.85821</td>\n",
        "      <td>                                            13.831</td>\n",
        "    </tr>\n",
        "  </tbody>\n",
        "</table>\n",
        "</div>"
       ],
       "metadata": {},
       "output_type": "pyout",
       "prompt_number": 55,
       "text": [
        "                                                     pendigits  \\\n",
        "best_params  {u'use_prev': False, u'h': 20, u'recurrent': T...   \n",
        "best_score                                           0.5960699   \n",
        "best_std                                    [0.00706688231092]   \n",
        "grid_time                                             35.71104   \n",
        "\n",
        "                                                      satimage  \\\n",
        "best_params  {u'use_prev': False, u'h': 20, u'recurrent': T...   \n",
        "best_score                                           0.7413063   \n",
        "best_std                                    [0.00313298070922]   \n",
        "grid_time                                             45.85821   \n",
        "\n",
        "                                                       segment  \n",
        "best_params  {u'use_prev': False, u'h': 20, u'recurrent': T...  \n",
        "best_score                                           0.8398268  \n",
        "best_std                                     [0.0192141480703]  \n",
        "grid_time                                               13.831  "
       ]
      }
     ],
     "prompt_number": 55
    },
    {
     "cell_type": "code",
     "collapsed": false,
     "input": [
      "svm2_results"
     ],
     "language": "python",
     "metadata": {},
     "outputs": []
    },
    {
     "cell_type": "code",
     "collapsed": false,
     "input": [
      "svm2_results['liver']['best_params']"
     ],
     "language": "python",
     "metadata": {},
     "outputs": []
    },
    {
     "cell_type": "code",
     "collapsed": false,
     "input": [
      "svm3_file = open(os.path.join(c['RESULTS_DIR'], 'R2SVM_grid_16:45:30.pkl'))\n",
      "svm3_results = pickle.load(svm3_file)\n",
      "svm3_results['iris']['best_params']"
     ],
     "language": "python",
     "metadata": {},
     "outputs": []
    },
    {
     "cell_type": "code",
     "collapsed": false,
     "input": [
      "from data_api import fetch_uci_datasets\n",
      "\n",
      "glass = fetch_uci_datasets(['glass'])[0]\n",
      "x = glass.data"
     ],
     "language": "python",
     "metadata": {},
     "outputs": [],
     "prompt_number": 2
    },
    {
     "cell_type": "code",
     "collapsed": false,
     "input": [
      "type(glass.data)"
     ],
     "language": "python",
     "metadata": {},
     "outputs": [
      {
       "metadata": {},
       "output_type": "pyout",
       "prompt_number": 4,
       "text": [
        "scipy.sparse.csr.csr_matrix"
       ]
      }
     ],
     "prompt_number": 4
    },
    {
     "cell_type": "code",
     "collapsed": false,
     "input": [
      "mnist = fetch_uci_datasets(['mnist'])[0]"
     ],
     "language": "python",
     "metadata": {},
     "outputs": [
      {
       "output_type": "stream",
       "stream": "stdout",
       "text": [
        "/mnt/users/czarnecki/local/r2-learner/data\n"
       ]
      }
     ],
     "prompt_number": 37
    },
    {
     "cell_type": "code",
     "collapsed": false,
     "input": [
      "from sklearn.preprocessing import MinMaxScaler, scale"
     ],
     "language": "python",
     "metadata": {},
     "outputs": []
    },
    {
     "cell_type": "code",
     "collapsed": false,
     "input": [
      "type(mnist.data)"
     ],
     "language": "python",
     "metadata": {},
     "outputs": [
      {
       "metadata": {},
       "output_type": "pyout",
       "prompt_number": 40,
       "text": [
        "numpy.ndarray"
       ]
      }
     ],
     "prompt_number": 40
    },
    {
     "cell_type": "code",
     "collapsed": false,
     "input": [
      "datas = fetch_uci_datasets(['glass','aloi', 'covtype', 'news20', 'pendigits'])"
     ],
     "language": "python",
     "metadata": {},
     "outputs": [],
     "prompt_number": 44
    },
    {
     "cell_type": "code",
     "collapsed": false,
     "input": [
      "for d in datas:\n",
      "    print d.name, d.data.shape[0], d.data.max(), d.data.min()"
     ],
     "language": "python",
     "metadata": {},
     "outputs": [
      {
       "output_type": "stream",
       "stream": "stdout",
       "text": [
        "glass 214 1.0 -1.0\n",
        "aloi 108000 1.0 0.0\n",
        "pendigits 10992 100.0 0.0\n",
        "news20 19928 1.0 0.0\n",
        "covtype 581012 9.51252 "
       ]
      },
      {
       "output_type": "stream",
       "stream": "stdout",
       "text": [
        "-11.2959\n"
       ]
      }
     ],
     "prompt_number": 46
    },
    {
     "cell_type": "code",
     "collapsed": false,
     "input": [
      "def scale(X):\n",
      "    X_std = (X - X.min()) / max(X.max() - X.min(),1)\n",
      "    X_scaled = X_std * (max - min) + min\n",
      "    return X_scaled"
     ],
     "language": "python",
     "metadata": {},
     "outputs": []
    },
    {
     "cell_type": "code",
     "collapsed": false,
     "input": [
      "xc = np.copy(glass.data)"
     ],
     "language": "python",
     "metadata": {},
     "outputs": [],
     "prompt_number": 48
    },
    {
     "cell_type": "code",
     "collapsed": false,
     "input": [
      "xc"
     ],
     "language": "python",
     "metadata": {},
     "outputs": [
      {
       "metadata": {},
       "output_type": "pyout",
       "prompt_number": 49,
       "text": [
        "array(<214x9 sparse matrix of type '<type 'numpy.float64'>'\n",
        "\twith 1923 stored elements in Compressed Sparse Row format>, dtype=object)"
       ]
      }
     ],
     "prompt_number": 49
    }
   ],
   "metadata": {}
  }
 ]
}