{
 "metadata": {
  "name": "",
  "signature": "sha256:413ad32df647b266ae86792e246c379511e5df504cf1eae3a948c7eaf11a3ca0"
 },
 "nbformat": 3,
 "nbformat_minor": 0,
 "worksheets": [
  {
   "cells": [
    {
     "cell_type": "code",
     "collapsed": false,
     "input": [
      "%load_ext autoreload\n",
      "%autoreload 2"
     ],
     "language": "python",
     "metadata": {},
     "outputs": [
      {
       "output_type": "stream",
       "stream": "stdout",
       "text": [
        "The autoreload extension is already loaded. To reload it, use:\n",
        "  %reload_ext autoreload\n"
       ]
      }
     ],
     "prompt_number": 24
    },
    {
     "cell_type": "code",
     "collapsed": false,
     "input": [
      "import sys\n",
      "import os\n",
      "sys.path.append('..')\n",
      "\n",
      "import pandas as pd\n",
      "import numpy as np\n",
      "import pickle\n",
      "from misc.config import c"
     ],
     "language": "python",
     "metadata": {},
     "outputs": [],
     "prompt_number": 1
    },
    {
     "cell_type": "code",
     "collapsed": false,
     "input": [
      "files = ['R2SVM_grid_15:41:15.pkl', 'R2ELM_grid_15:46:50.pkl']"
     ],
     "language": "python",
     "metadata": {},
     "outputs": []
    },
    {
     "cell_type": "code",
     "collapsed": false,
     "input": [
      "svm_file = open(os.path.join(c['RESULTS_DIR'], files[0]))\n",
      "svm_results = pickle.load(svm_file)"
     ],
     "language": "python",
     "metadata": {},
     "outputs": []
    },
    {
     "cell_type": "code",
     "collapsed": false,
     "input": [
      "elm_file = open(os.path.join(c['RESULTS_DIR'], files[1]))\n",
      "elm_results = pickle.load(elm_file)"
     ],
     "language": "python",
     "metadata": {},
     "outputs": []
    },
    {
     "cell_type": "code",
     "collapsed": false,
     "input": [
      "svm2_file = open(os.path.join(c['RESULTS_DIR'], 'R2SVM_grid_16:03:00.pkl'))\n",
      "svm2_results = pickle.load(svm2_file)"
     ],
     "language": "python",
     "metadata": {},
     "outputs": []
    },
    {
     "cell_type": "code",
     "collapsed": false,
     "input": [
      "svm_results"
     ],
     "language": "python",
     "metadata": {},
     "outputs": []
    },
    {
     "cell_type": "code",
     "collapsed": false,
     "input": [
      "elm_results"
     ],
     "language": "python",
     "metadata": {},
     "outputs": []
    },
    {
     "cell_type": "code",
     "collapsed": false,
     "input": [
      "svm2_results"
     ],
     "language": "python",
     "metadata": {},
     "outputs": []
    },
    {
     "cell_type": "code",
     "collapsed": false,
     "input": [
      "svm2_results['liver']['best_params']"
     ],
     "language": "python",
     "metadata": {},
     "outputs": []
    },
    {
     "cell_type": "code",
     "collapsed": false,
     "input": [
      "svm3_file = open(os.path.join(c['RESULTS_DIR'], 'R2SVM_grid_16:45:30.pkl'))\n",
      "svm3_results = pickle.load(svm3_file)\n",
      "svm3_results['iris']['best_params']"
     ],
     "language": "python",
     "metadata": {},
     "outputs": []
    },
    {
     "cell_type": "code",
     "collapsed": false,
     "input": [
      "from data_api import fetch_uci_datasets\n",
      "\n",
      "glass = fetch_uci_datasets(['glass'])[0]\n",
      "x = glass.data"
     ],
     "language": "python",
     "metadata": {},
     "outputs": [],
     "prompt_number": 2
    },
    {
     "cell_type": "code",
     "collapsed": false,
     "input": [
      "type(glass.data)"
     ],
     "language": "python",
     "metadata": {},
     "outputs": [
      {
       "metadata": {},
       "output_type": "pyout",
       "prompt_number": 4,
       "text": [
        "scipy.sparse.csr.csr_matrix"
       ]
      }
     ],
     "prompt_number": 4
    },
    {
     "cell_type": "code",
     "collapsed": false,
     "input": [
      "mnist = fetch_uci_datasets(['mnist'])[0]"
     ],
     "language": "python",
     "metadata": {},
     "outputs": [
      {
       "output_type": "stream",
       "stream": "stdout",
       "text": [
        "/mnt/users/czarnecki/local/r2-learner/data\n"
       ]
      }
     ],
     "prompt_number": 37
    },
    {
     "cell_type": "code",
     "collapsed": false,
     "input": [
      "from sklearn.preprocessing import MinMaxScaler, scale"
     ],
     "language": "python",
     "metadata": {},
     "outputs": []
    },
    {
     "cell_type": "code",
     "collapsed": false,
     "input": [
      "type(mnist.data)"
     ],
     "language": "python",
     "metadata": {},
     "outputs": [
      {
       "metadata": {},
       "output_type": "pyout",
       "prompt_number": 40,
       "text": [
        "numpy.ndarray"
       ]
      }
     ],
     "prompt_number": 40
    },
    {
     "cell_type": "code",
     "collapsed": false,
     "input": [
      "datas = fetch_uci_datasets(['glass','aloi', 'covtype', 'news20', 'pendigits'])"
     ],
     "language": "python",
     "metadata": {},
     "outputs": [],
     "prompt_number": 44
    },
    {
     "cell_type": "code",
     "collapsed": false,
     "input": [
      "for d in datas:\n",
      "    print d.name, d.data.shape[0], d.data.max(), d.data.min()"
     ],
     "language": "python",
     "metadata": {},
     "outputs": [
      {
       "output_type": "stream",
       "stream": "stdout",
       "text": [
        "glass 214 1.0 -1.0\n",
        "aloi 108000 1.0 0.0\n",
        "pendigits 10992 100.0 0.0\n",
        "news20 19928 1.0 0.0\n",
        "covtype 581012 9.51252 "
       ]
      },
      {
       "output_type": "stream",
       "stream": "stdout",
       "text": [
        "-11.2959\n"
       ]
      }
     ],
     "prompt_number": 46
    },
    {
     "cell_type": "code",
     "collapsed": false,
     "input": [
      "def scale(X):\n",
      "    X_std = (X - X.min()) / max(X.max() - X.min(),1)\n",
      "    X_scaled = X_std * (max - min) + min\n",
      "    return X_scaled"
     ],
     "language": "python",
     "metadata": {},
     "outputs": []
    },
    {
     "cell_type": "code",
     "collapsed": false,
     "input": [
      "xc = np.copy(glass.data)"
     ],
     "language": "python",
     "metadata": {},
     "outputs": [],
     "prompt_number": 48
    },
    {
     "cell_type": "code",
     "collapsed": false,
     "input": [
      "xc"
     ],
     "language": "python",
     "metadata": {},
     "outputs": [
      {
       "metadata": {},
       "output_type": "pyout",
       "prompt_number": 49,
       "text": [
        "array(<214x9 sparse matrix of type '<type 'numpy.float64'>'\n",
        "\twith 1923 stored elements in Compressed Sparse Row format>, dtype=object)"
       ]
      }
     ],
     "prompt_number": 49
    }
   ],
   "metadata": {}
  }
 ]
}