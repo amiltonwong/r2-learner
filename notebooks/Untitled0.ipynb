{
 "metadata": {
  "name": "",
  "signature": "sha256:5d5d0a02be125182c451d6f8cadb11d318d7270a32c25f3ee9a40de448e04e5f"
 },
 "nbformat": 3,
 "nbformat_minor": 0,
 "worksheets": [
  {
   "cells": [
    {
     "cell_type": "code",
     "collapsed": false,
     "input": [
      "%load_ext autoreload\n",
      "%autoreload 2"
     ],
     "language": "python",
     "metadata": {},
     "outputs": []
    },
    {
     "cell_type": "code",
     "collapsed": false,
     "input": [
      "import sys\n",
      "import os\n",
      "sys.path.append('..')\n",
      "\n",
      "import pandas as pd\n",
      "import numpy as np\n",
      "import pickle\n",
      "from misc.config import c"
     ],
     "language": "python",
     "metadata": {},
     "outputs": []
    },
    {
     "cell_type": "code",
     "collapsed": false,
     "input": [
      "files = ['R2SVM_grid_15:41:15.pkl', 'R2ELM_grid_15:46:50.pkl']"
     ],
     "language": "python",
     "metadata": {},
     "outputs": []
    },
    {
     "cell_type": "code",
     "collapsed": false,
     "input": [
      "svm_file = open(os.path.join(c['RESULTS_DIR'], files[0]))\n",
      "svm_results = pickle.load(svm_file)"
     ],
     "language": "python",
     "metadata": {},
     "outputs": []
    },
    {
     "cell_type": "code",
     "collapsed": false,
     "input": [
      "elm_file = open(os.path.join(c['RESULTS_DIR'], files[1]))\n",
      "elm_results = pickle.load(elm_file)"
     ],
     "language": "python",
     "metadata": {},
     "outputs": []
    },
    {
     "cell_type": "code",
     "collapsed": false,
     "input": [
      "svm2_file = open(os.path.join(c['RESULTS_DIR'], 'R2SVM_grid_16:03:00.pkl'))\n",
      "svm2_results = pickle.load(svm2_file)"
     ],
     "language": "python",
     "metadata": {},
     "outputs": []
    },
    {
     "cell_type": "code",
     "collapsed": false,
     "input": [
      "svm_results"
     ],
     "language": "python",
     "metadata": {},
     "outputs": []
    },
    {
     "cell_type": "code",
     "collapsed": false,
     "input": [
      "elm_results"
     ],
     "language": "python",
     "metadata": {},
     "outputs": []
    },
    {
     "cell_type": "code",
     "collapsed": false,
     "input": [
      "svm2_results"
     ],
     "language": "python",
     "metadata": {},
     "outputs": []
    },
    {
     "cell_type": "code",
     "collapsed": false,
     "input": [
      "svm2_results['liver']['best_params']"
     ],
     "language": "python",
     "metadata": {},
     "outputs": []
    },
    {
     "cell_type": "code",
     "collapsed": false,
     "input": [
      "svm3_file = open(os.path.join(c['RESULTS_DIR'], 'R2SVM_grid_16:45:30.pkl'))\n",
      "svm3_results = pickle.load(svm3_file)\n",
      "svm3_results['iris']['best_params']"
     ],
     "language": "python",
     "metadata": {},
     "outputs": []
    },
    {
     "cell_type": "code",
     "collapsed": false,
     "input": [
      "from data_api import fetch_uci_datasets\n",
      "\n",
      "glass = fetch_uci_datasets(['glass'])[0]\n",
      "x = glass.data"
     ],
     "language": "python",
     "metadata": {},
     "outputs": []
    },
    {
     "cell_type": "code",
     "collapsed": false,
     "input": [
      "type(glass.data)"
     ],
     "language": "python",
     "metadata": {},
     "outputs": []
    },
    {
     "cell_type": "code",
     "collapsed": false,
     "input": [
      "from sklearn.preprocessing import MinMaxScaler, scale"
     ],
     "language": "python",
     "metadata": {},
     "outputs": []
    },
    {
     "cell_type": "code",
     "collapsed": false,
     "input": [
      "print scale(x)"
     ],
     "language": "python",
     "metadata": {},
     "outputs": []
    },
    {
     "cell_type": "code",
     "collapsed": false,
     "input": [
      "datas = fetch_uci_datasets(['aloi', 'covtype', 'news20', 'pendigits'])"
     ],
     "language": "python",
     "metadata": {},
     "outputs": []
    },
    {
     "cell_type": "code",
     "collapsed": false,
     "input": [
      "for d in datas:\n",
      "    print d.name, type(d.data), d.data.max(), d.data.min()"
     ],
     "language": "python",
     "metadata": {},
     "outputs": []
    },
    {
     "cell_type": "code",
     "collapsed": false,
     "input": [
      "def scale(X):\n",
      "    X_std = (X - X.min()) / max(X.max() - X.min(),1)\n",
      "    X_scaled = X_std * (max - min) + min\n",
      "    return X_scaled"
     ],
     "language": "python",
     "metadata": {},
     "outputs": []
    },
    {
     "cell_type": "code",
     "collapsed": false,
     "input": [
      "print scale(x)"
     ],
     "language": "python",
     "metadata": {},
     "outputs": []
    }
   ],
   "metadata": {}
  }
 ]
}