{
 "metadata": {
  "name": "",
  "signature": "sha256:716c8d2e063a9c7bc0512e754a9d0e2691c8795e1682d75adb51a4ae14ef3097"
 },
 "nbformat": 3,
 "nbformat_minor": 0,
 "worksheets": [
  {
   "cells": [
    {
     "cell_type": "markdown",
     "metadata": {},
     "source": [
      "# Basic unit tests"
     ]
    },
    {
     "cell_type": "code",
     "collapsed": false,
     "input": [
      "%load_ext autoreload\n",
      "%autoreload 2\n",
      "\n",
      "import sys\n",
      "import os\n",
      "sys.path.append(\"..\")\n",
      "\n",
      "from sklearn import svm, datasets\n",
      "from sklearn.grid_search import ParameterGrid, GridSearchCV\n",
      "from sklearn.base import BaseEstimator, clone \n",
      "from sklearn.cross_validation import KFold\n",
      "from sklearn.svm import SVC\n",
      "import os\n",
      "import math\n",
      "import numpy as np\n",
      "import sklearn.metrics\n",
      "from multiprocessing import Pool\n",
      "from functools import partial\n",
      "\n",
      "import sklearn\n",
      "from sklearn.preprocessing import MinMaxScaler, LabelBinarizer\n",
      "from sklearn.metrics import accuracy_score\n",
      "from sklearn.cross_validation import KFold\n",
      "from sklearn.preprocessing import MinMaxScaler\n",
      "\n",
      "from data_api import *\n",
      "\n",
      "from r2 import *\n",
      "\n",
      "\n",
      "from misc.config import c\n",
      "from data_api import *\n",
      "import cPickle\n",
      "import pandas as pd\n",
      "from data_api import *\n",
      "results_dir = c['RESULTS_DIR']\n",
      "\n",
      "from scripts.fit_models import *\n",
      "\n",
      "%matplotlib inline"
     ],
     "language": "python",
     "metadata": {},
     "outputs": [
      {
       "output_type": "stream",
       "stream": "stdout",
       "text": [
        "The autoreload extension is already loaded. To reload it, use:\n",
        "  %reload_ext autoreload\n"
       ]
      }
     ],
     "prompt_number": 45
    },
    {
     "cell_type": "markdown",
     "metadata": {},
     "source": [
      "##1. Seed R2 models"
     ]
    },
    {
     "cell_type": "code",
     "collapsed": false,
     "input": [
      "glass = fetch_uci_datasets([\"glass\"])[0]\n",
      "X, Y = glass.data, glass.target\n",
      "assert(sklearn.metrics.accuracy_score(R2SVMLearner(seed=3, beta=0.8).fit(X, Y).predict(X), Y) == sklearn.metrics.accuracy_score(R2SVMLearner(seed=3, beta=0.8).fit(X, Y).predict(X), Y))"
     ],
     "language": "python",
     "metadata": {},
     "outputs": [],
     "prompt_number": 30
    },
    {
     "cell_type": "code",
     "collapsed": false,
     "input": [
      "glass = fetch_uci_datasets([\"glass\"])[0]\n",
      "X, Y = glass.data, glass.target\n",
      "assert(sklearn.metrics.accuracy_score(R2ELMLearner(seed=3, beta=0.8).fit(X, Y).predict(X), Y) == sklearn.metrics.accuracy_score(R2ELMLearner(seed=3, beta=0.8).fit(X, Y).predict(X), Y))"
     ],
     "language": "python",
     "metadata": {},
     "outputs": [],
     "prompt_number": 31
    },
    {
     "cell_type": "markdown",
     "metadata": {},
     "source": [
      "## 2. Reproduce results"
     ]
    },
    {
     "cell_type": "code",
     "collapsed": false,
     "input": [
      "fourclass = fetch_uci_datasets(['fourclass'])[0]\n",
      "r2svm_exp = cPickle.load(open(os.path.join(results_dir, \n",
      "                                           'unit_test_r2svm_fourclass', \n",
      "                                           'unit_test_r2svm_fourclass_uF_rT_b0.10_d7_sT_fNo_.experiment')))\n",
      "r2svm_params = r2svm_exp['config']['params']\n",
      "rep_exp = k_fold(R2SVMLearner, r2svm_params, fourclass, exp_name='unit_test', model_name='r2svm', save_model=False)\n",
      "\n",
      "assert r2svm_exp['config'] == rep_exp['config']\n",
      "assert r2svm_exp['results'] == rep_exp['results']"
     ],
     "language": "python",
     "metadata": {},
     "outputs": [],
     "prompt_number": 47
    },
    {
     "cell_type": "code",
     "collapsed": false,
     "input": [
      "fourclass = fetch_uci_datasets(['fourclass'])[0]\n",
      "svm_exp = cPickle.load(open(os.path.join(results_dir, \n",
      "                                           'unit_test_svc_fourclass', \n",
      "                                           'unit_test_svc_fourclass_C1_g0_.experiment')))\n",
      "svm_params = svm_exp['config']['params']\n",
      "rep_exp = extern_k_fold(SVC(), svm_params, fourclass, exp_name='unit_test', model_name='svc', save_model=False)\n",
      "\n",
      "\n",
      "assert svm_exp['config'] == rep_exp['config']\n",
      "assert svm_exp['results'] == rep_exp['results']"
     ],
     "language": "python",
     "metadata": {},
     "outputs": [],
     "prompt_number": 49
    },
    {
     "cell_type": "markdown",
     "metadata": {},
     "source": [
      "# 3. Depth checking"
     ]
    },
    {
     "cell_type": "code",
     "collapsed": false,
     "input": [
      "indians = fetch_uci_datasets(['indian'])[0]\n",
      "indian_params_random = {}\n",
      "indian_params_random['fit_c'] = 'random'\n",
      "indian_params_random['use_prev'] = True\n",
      "indian_params_random['recurrent'] = False\n",
      "indian_params_random['seed'] = 697\n",
      "indian_params_random['beta'] = 0.1\n",
      "indian_params_random['scale'] = True\n",
      "indian_params_random['fixed_prediction'] = None"
     ],
     "language": "python",
     "metadata": {},
     "outputs": [],
     "prompt_number": 63
    },
    {
     "cell_type": "code",
     "collapsed": false,
     "input": [
      "D = 10\n",
      "\n",
      "print \"1\"\n",
      "sys.stdout.flush()\n",
      "results_layer_wise = [k_fold(R2SVMLearner, params=dict({\"depth\":i+1}, **indian_params_random), all_layers=False, \\\n",
      "       data=indians, exp_name=\"check_cons\", model_name=\"r2svm\", store_clf=True, save_model=False)['results']['mean_acc'] \\\n",
      "           for i in range(D)]\n",
      "\n",
      "print \"2\"\n",
      "sys.stdout.flush()\n",
      "results_all_layers = [k_fold(R2SVMLearner, params=dict({\"depth\":i+1}, **indian_params_random), all_layers=True, \\\n",
      "       data=indians, exp_name=\"check_cons\", model_name=\"r2svm\", store_clf=True, save_model=False)['results']['mean_acc'] \\\n",
      "           for i in range(D)]\n",
      "\n",
      "assert(all(max(results_layer_wise[0:i+1]) == results_all_layers[i] for i in range(D) ) )"
     ],
     "language": "python",
     "metadata": {},
     "outputs": [
      {
       "output_type": "stream",
       "stream": "stdout",
       "text": [
        "1\n"
       ]
      }
     ]
    }
   ],
   "metadata": {}
  }
 ]
}