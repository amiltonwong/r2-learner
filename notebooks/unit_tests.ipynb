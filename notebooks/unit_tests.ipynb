{
 "metadata": {
  "name": "",
  "signature": "sha256:9c1696e6e93df4624fd81cc22eb67676d37ca78351557168664c75abcc2ee973"
 },
 "nbformat": 3,
 "nbformat_minor": 0,
 "worksheets": [
  {
   "cells": [
    {
     "cell_type": "markdown",
     "metadata": {},
     "source": [
      "# Basic unit tests"
     ]
    },
    {
     "cell_type": "code",
     "collapsed": false,
     "input": [
      "%load_ext autoreload\n",
      "%autoreload 2\n",
      "\n",
      "import sys\n",
      "import os\n",
      "sys.path.append(\"..\")\n",
      "\n",
      "from sklearn import svm, datasets\n",
      "from sklearn.grid_search import ParameterGrid, GridSearchCV\n",
      "from sklearn.base import BaseEstimator, clone \n",
      "from sklearn.cross_validation import KFold\n",
      "from sklearn.svm import SVC\n",
      "import os\n",
      "import math\n",
      "import numpy as np\n",
      "import sklearn.metrics\n",
      "from multiprocessing import Pool\n",
      "from functools import partial\n",
      "\n",
      "import sklearn\n",
      "from sklearn.preprocessing import MinMaxScaler, LabelBinarizer\n",
      "from sklearn.metrics import accuracy_score\n",
      "from sklearn.cross_validation import KFold\n",
      "from sklearn.preprocessing import MinMaxScaler\n",
      "\n",
      "from data_api import *\n",
      "\n",
      "from r2 import *\n",
      "\n",
      "\n",
      "from misc.config import c\n",
      "from data_api import *\n",
      "import cPickle\n",
      "import pandas as pd\n",
      "from data_api import *\n",
      "results_dir = c['RESULTS_DIR']\n",
      "\n",
      "from scripts.fit_models import *\n",
      "\n",
      "%matplotlib inline"
     ],
     "language": "python",
     "metadata": {},
     "outputs": [
      {
       "output_type": "stream",
       "stream": "stdout",
       "text": [
        "The autoreload extension is already loaded. To reload it, use:\n",
        "  %reload_ext autoreload\n"
       ]
      }
     ],
     "prompt_number": 45
    },
    {
     "cell_type": "markdown",
     "metadata": {},
     "source": [
      "##1. Seed R2 models"
     ]
    },
    {
     "cell_type": "code",
     "collapsed": false,
     "input": [
      "glass = fetch_uci_datasets([\"glass\"])[0]\n",
      "X, Y = glass.data, glass.target\n",
      "assert(sklearn.metrics.accuracy_score(R2SVMLearner(seed=3, beta=0.8).fit(X, Y).predict(X), Y) == sklearn.metrics.accuracy_score(R2SVMLearner(seed=3, beta=0.8).fit(X, Y).predict(X), Y))"
     ],
     "language": "python",
     "metadata": {},
     "outputs": [],
     "prompt_number": 30
    },
    {
     "cell_type": "code",
     "collapsed": false,
     "input": [
      "glass = fetch_uci_datasets([\"glass\"])[0]\n",
      "X, Y = glass.data, glass.target\n",
      "assert(sklearn.metrics.accuracy_score(R2ELMLearner(seed=3, beta=0.8).fit(X, Y).predict(X), Y) == sklearn.metrics.accuracy_score(R2ELMLearner(seed=3, beta=0.8).fit(X, Y).predict(X), Y))"
     ],
     "language": "python",
     "metadata": {},
     "outputs": [],
     "prompt_number": 31
    },
    {
     "cell_type": "markdown",
     "metadata": {},
     "source": [
      "## 2. Reproduce results"
     ]
    },
    {
     "cell_type": "code",
     "collapsed": false,
     "input": [
      "fourclass = fetch_uci_datasets(['fourclass'])[0]\n",
      "r2svm_exp = cPickle.load(open(os.path.join(results_dir, \n",
      "                                           'unit_test_r2svm_fourclass', \n",
      "                                           'unit_test_r2svm_fourclass_uF_rT_b0.10_d7_sT_fNo_.experiment')))\n",
      "r2svm_params = r2svm_exp['config']['params']\n",
      "rep_exp = k_fold(R2SVMLearner, r2svm_params, fourclass, exp_name='unit_test', model_name='r2svm', save_model=False)\n",
      "\n",
      "assert r2svm_exp['config'] == rep_exp['config']\n",
      "assert r2svm_exp['results'] == rep_exp['results']"
     ],
     "language": "python",
     "metadata": {},
     "outputs": [],
     "prompt_number": 47
    },
    {
     "cell_type": "code",
     "collapsed": false,
     "input": [
      "fourclass = fetch_uci_datasets(['fourclass'])[0]\n",
      "svm_exp = cPickle.load(open(os.path.join(results_dir, \n",
      "                                           'unit_test_svc_fourclass', \n",
      "                                           'unit_test_svc_fourclass_C1_g0_.experiment')))\n",
      "svm_params = svm_exp['config']['params']\n",
      "rep_exp = extern_k_fold(SVC(), svm_params, fourclass, exp_name='unit_test', model_name='svc', save_model=False)\n",
      "\n",
      "\n",
      "assert svm_exp['config'] == rep_exp['config']\n",
      "assert svm_exp['results'] == rep_exp['results']"
     ],
     "language": "python",
     "metadata": {},
     "outputs": [],
     "prompt_number": 49
    },
    {
     "cell_type": "markdown",
     "metadata": {},
     "source": [
      "# 3. Depth checking"
     ]
    },
    {
     "cell_type": "code",
     "collapsed": false,
     "input": [
      "indians = fetch_uci_datasets(['indian'])[0]\n",
      "indian_params_random = {}\n",
      "indian_params_random['fit_c'] = 'random'\n",
      "indian_params_random['use_prev'] = True\n",
      "indian_params_random['recurrent'] = False\n",
      "indian_params_random['seed'] = 697\n",
      "indian_params_random['beta'] = 0.1\n",
      "indian_params_random['scale'] = True\n",
      "indian_params_random['fixed_prediction'] = None"
     ],
     "language": "python",
     "metadata": {},
     "outputs": [],
     "prompt_number": 63
    },
    {
     "cell_type": "code",
     "collapsed": false,
     "input": [
      "D = 10\n",
      "\n",
      "print \"1\"\n",
      "sys.stdout.flush()\n",
      "results_layer_wise = [k_fold(R2SVMLearner, params=dict({\"depth\":i+1}, **indian_params_random), all_layers=False, \\\n",
      "       data=indians, exp_name=\"check_cons\", model_name=\"r2svm\", store_clf=True, save_model=False)['results']['mean_acc'] \\\n",
      "           for i in range(D)]\n",
      "\n",
      "print \"2\"\n",
      "sys.stdout.flush()\n",
      "results_all_layers = [k_fold(R2SVMLearner, params=dict({\"depth\":i+1}, **indian_params_random), all_layers=True, \\\n",
      "       data=indians, exp_name=\"check_cons\", model_name=\"r2svm\", store_clf=True, save_model=False)['results']['mean_acc'] \\\n",
      "           for i in range(D)]\n",
      "\n",
      "assert(all(max(results_layer_wise[0:i+1]) == results_all_layers[i] for i in range(D) ) )"
     ],
     "language": "python",
     "metadata": {},
     "outputs": [
      {
       "output_type": "stream",
       "stream": "stdout",
       "text": [
        "1\n"
       ]
      },
      {
       "output_type": "stream",
       "stream": "stdout",
       "text": [
        "2\n"
       ]
      },
      {
       "ename": "IndexError",
       "evalue": "index 6 is out of bounds for axis 0 with size 5",
       "output_type": "pyerr",
       "traceback": [
        "\u001b[1;31m---------------------------------------------------------------------------\u001b[0m\n\u001b[1;31mIndexError\u001b[0m                                Traceback (most recent call last)",
        "\u001b[1;32m<ipython-input-72-9bd24cff68f2>\u001b[0m in \u001b[0;36m<module>\u001b[1;34m()\u001b[0m\n\u001b[0;32m      7\u001b[0m \u001b[1;32mprint\u001b[0m \u001b[1;34m\"2\"\u001b[0m\u001b[1;33m\u001b[0m\u001b[0m\n\u001b[0;32m      8\u001b[0m \u001b[0msys\u001b[0m\u001b[1;33m.\u001b[0m\u001b[0mstdout\u001b[0m\u001b[1;33m.\u001b[0m\u001b[0mflush\u001b[0m\u001b[1;33m(\u001b[0m\u001b[1;33m)\u001b[0m\u001b[1;33m\u001b[0m\u001b[0m\n\u001b[1;32m----> 9\u001b[1;33m \u001b[0mresults_all_layers\u001b[0m \u001b[1;33m=\u001b[0m \u001b[1;33m[\u001b[0m\u001b[0mk_fold\u001b[0m\u001b[1;33m(\u001b[0m\u001b[0mR2SVMLearner\u001b[0m\u001b[1;33m,\u001b[0m \u001b[0mparams\u001b[0m\u001b[1;33m=\u001b[0m\u001b[0mdict\u001b[0m\u001b[1;33m(\u001b[0m\u001b[1;33m{\u001b[0m\u001b[1;34m\"depth\"\u001b[0m\u001b[1;33m:\u001b[0m\u001b[0mi\u001b[0m\u001b[1;33m+\u001b[0m\u001b[1;36m1\u001b[0m\u001b[1;33m}\u001b[0m\u001b[1;33m,\u001b[0m \u001b[1;33m**\u001b[0m\u001b[0mindian_params_random\u001b[0m\u001b[1;33m)\u001b[0m\u001b[1;33m,\u001b[0m \u001b[0mall_layers\u001b[0m\u001b[1;33m=\u001b[0m\u001b[0mTrue\u001b[0m\u001b[1;33m,\u001b[0m        \u001b[0mdata\u001b[0m\u001b[1;33m=\u001b[0m\u001b[0mindians\u001b[0m\u001b[1;33m,\u001b[0m \u001b[0mexp_name\u001b[0m\u001b[1;33m=\u001b[0m\u001b[1;34m\"check_cons\"\u001b[0m\u001b[1;33m,\u001b[0m \u001b[0mmodel_name\u001b[0m\u001b[1;33m=\u001b[0m\u001b[1;34m\"r2svm\"\u001b[0m\u001b[1;33m,\u001b[0m \u001b[0mstore_clf\u001b[0m\u001b[1;33m=\u001b[0m\u001b[0mTrue\u001b[0m\u001b[1;33m,\u001b[0m \u001b[0msave_model\u001b[0m\u001b[1;33m=\u001b[0m\u001b[0mFalse\u001b[0m\u001b[1;33m)\u001b[0m\u001b[1;33m[\u001b[0m\u001b[1;34m'results'\u001b[0m\u001b[1;33m]\u001b[0m\u001b[1;33m[\u001b[0m\u001b[1;34m'mean_acc'\u001b[0m\u001b[1;33m]\u001b[0m            \u001b[1;32mfor\u001b[0m \u001b[0mi\u001b[0m \u001b[1;32min\u001b[0m \u001b[0mrange\u001b[0m\u001b[1;33m(\u001b[0m\u001b[0mD\u001b[0m\u001b[1;33m)\u001b[0m\u001b[1;33m]\u001b[0m\u001b[1;33m\u001b[0m\u001b[0m\n\u001b[0m\u001b[0;32m     10\u001b[0m \u001b[1;33m\u001b[0m\u001b[0m\n\u001b[0;32m     11\u001b[0m \u001b[1;32massert\u001b[0m\u001b[1;33m(\u001b[0m\u001b[0mall\u001b[0m\u001b[1;33m(\u001b[0m\u001b[0mmax\u001b[0m\u001b[1;33m(\u001b[0m\u001b[0mresults_layer_wise\u001b[0m\u001b[1;33m[\u001b[0m\u001b[1;36m0\u001b[0m\u001b[1;33m:\u001b[0m\u001b[0mi\u001b[0m\u001b[1;33m+\u001b[0m\u001b[1;36m1\u001b[0m\u001b[1;33m]\u001b[0m\u001b[1;33m)\u001b[0m \u001b[1;33m==\u001b[0m \u001b[0mresults_all_layers\u001b[0m\u001b[1;33m[\u001b[0m\u001b[0mi\u001b[0m\u001b[1;33m]\u001b[0m \u001b[1;32mfor\u001b[0m \u001b[0mi\u001b[0m \u001b[1;32min\u001b[0m \u001b[0mrange\u001b[0m\u001b[1;33m(\u001b[0m\u001b[0mD\u001b[0m\u001b[1;33m)\u001b[0m \u001b[1;33m)\u001b[0m \u001b[1;33m)\u001b[0m\u001b[1;33m\u001b[0m\u001b[0m\n",
        "\u001b[1;32m/lhome/home/czarnecki/st/r2-learner/r2-learner/scripts/fit_models.py\u001b[0m in \u001b[0;36mk_fold\u001b[1;34m(base_model, params, data, exp_name, model_name, n_folds, seed, store_clf, log, n_tries, save_model, all_layers)\u001b[0m\n\u001b[0;32m    161\u001b[0m         \u001b[0mresults\u001b[0m\u001b[1;33m[\u001b[0m\u001b[1;34m'best_depth'\u001b[0m\u001b[1;33m]\u001b[0m \u001b[1;33m=\u001b[0m \u001b[0mnp\u001b[0m\u001b[1;33m.\u001b[0m\u001b[0margmax\u001b[0m\u001b[1;33m(\u001b[0m\u001b[0mnp\u001b[0m\u001b[1;33m.\u001b[0m\u001b[0mmean\u001b[0m\u001b[1;33m(\u001b[0m\u001b[0mmonitors\u001b[0m\u001b[1;33m[\u001b[0m\u001b[1;34m'fold_scores'\u001b[0m\u001b[1;33m]\u001b[0m\u001b[1;33m,\u001b[0m \u001b[0maxis\u001b[0m\u001b[1;33m=\u001b[0m\u001b[1;36m0\u001b[0m\u001b[1;33m)\u001b[0m\u001b[1;33m)\u001b[0m \u001b[1;33m+\u001b[0m \u001b[1;36m1\u001b[0m\u001b[1;33m\u001b[0m\u001b[0m\n\u001b[0;32m    162\u001b[0m         \u001b[0mresults\u001b[0m\u001b[1;33m[\u001b[0m\u001b[1;34m'mean_acc'\u001b[0m\u001b[1;33m]\u001b[0m \u001b[1;33m=\u001b[0m \u001b[0mnp\u001b[0m\u001b[1;33m.\u001b[0m\u001b[0mmax\u001b[0m\u001b[1;33m(\u001b[0m\u001b[0mnp\u001b[0m\u001b[1;33m.\u001b[0m\u001b[0mmean\u001b[0m\u001b[1;33m(\u001b[0m\u001b[0mmonitors\u001b[0m\u001b[1;33m[\u001b[0m\u001b[1;34m'fold_scores'\u001b[0m\u001b[1;33m]\u001b[0m\u001b[1;33m,\u001b[0m \u001b[0maxis\u001b[0m\u001b[1;33m=\u001b[0m\u001b[1;36m0\u001b[0m\u001b[1;33m)\u001b[0m\u001b[1;33m)\u001b[0m\u001b[1;33m\u001b[0m\u001b[0m\n\u001b[1;32m--> 163\u001b[1;33m         \u001b[0mresults\u001b[0m\u001b[1;33m[\u001b[0m\u001b[1;34m'std'\u001b[0m\u001b[1;33m]\u001b[0m \u001b[1;33m=\u001b[0m \u001b[0mmonitors\u001b[0m\u001b[1;33m[\u001b[0m\u001b[1;34m'fold_scores'\u001b[0m\u001b[1;33m]\u001b[0m\u001b[1;33m[\u001b[0m\u001b[0mresults\u001b[0m\u001b[1;33m[\u001b[0m\u001b[1;34m'best_depth'\u001b[0m\u001b[1;33m]\u001b[0m \u001b[1;33m-\u001b[0m \u001b[1;36m1\u001b[0m\u001b[1;33m,\u001b[0m \u001b[1;33m:\u001b[0m\u001b[1;33m]\u001b[0m\u001b[1;33m.\u001b[0m\u001b[0mstd\u001b[0m\u001b[1;33m(\u001b[0m\u001b[1;33m)\u001b[0m\u001b[1;33m\u001b[0m\u001b[0m\n\u001b[0m\u001b[0;32m    164\u001b[0m     \u001b[1;32melse\u001b[0m\u001b[1;33m:\u001b[0m\u001b[1;33m\u001b[0m\u001b[0m\n\u001b[0;32m    165\u001b[0m         \u001b[0mresults\u001b[0m\u001b[1;33m[\u001b[0m\u001b[1;34m'mean_acc'\u001b[0m\u001b[1;33m]\u001b[0m \u001b[1;33m=\u001b[0m \u001b[0mmonitors\u001b[0m\u001b[1;33m[\u001b[0m\u001b[1;34m'fold_scores'\u001b[0m\u001b[1;33m]\u001b[0m\u001b[1;33m.\u001b[0m\u001b[0mmean\u001b[0m\u001b[1;33m(\u001b[0m\u001b[1;33m)\u001b[0m\u001b[1;33m\u001b[0m\u001b[0m\n",
        "\u001b[1;31mIndexError\u001b[0m: index 6 is out of bounds for axis 0 with size 5"
       ]
      }
     ],
     "prompt_number": 72
    },
    {
     "cell_type": "code",
     "collapsed": false,
     "input": [
      "results_layer_wise"
     ],
     "language": "python",
     "metadata": {},
     "outputs": [
      {
       "metadata": {},
       "output_type": "pyout",
       "prompt_number": 76,
       "text": [
        "[0.62508462920502672,\n",
        " 0.62848370107283025,\n",
        " 0.62371915592254568,\n",
        " 0.6054551494352779,\n",
        " 0.62886742562370856,\n",
        " 0.59320110696498773,\n",
        " 0.64663065034193035,\n",
        " 0.59975264794084204,\n",
        " 0.64909434678575528,\n",
        " 0.61543490170024362]"
       ]
      }
     ],
     "prompt_number": 76
    }
   ],
   "metadata": {}
  }
 ]
}