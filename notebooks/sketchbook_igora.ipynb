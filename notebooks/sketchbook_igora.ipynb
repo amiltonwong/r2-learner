{
 "metadata": {
  "name": "",
  "signature": "sha256:88e83fc1d75342a78867bc357caee87aa9c7d9d2589228832a2dca54fbdf35d9"
 },
 "nbformat": 3,
 "nbformat_minor": 0,
 "worksheets": [
  {
   "cells": [
    {
     "cell_type": "code",
     "collapsed": false,
     "input": [
      "%load_ext autoreload\n",
      "%autoreload 2\n",
      "import sys, os\n",
      "sys.path.append('..')\n",
      "\n",
      "from misc.config import c\n",
      "from data_api import *\n",
      "import cPickle\n",
      "import pandas as pd\n",
      "import numpy as np"
     ],
     "language": "python",
     "metadata": {},
     "outputs": [],
     "prompt_number": 1
    },
    {
     "cell_type": "code",
     "collapsed": false,
     "input": [
      "d1 = np.arange(10)\n",
      "d2 = np.arange(10)\n",
      "d3 = np.arange(10)\n",
      "\n",
      "d = [d1,d2,d3]\n",
      "d = np.array(d)\n",
      "\n",
      "np.mean(d, axis=0)"
     ],
     "language": "python",
     "metadata": {},
     "outputs": [
      {
       "metadata": {},
       "output_type": "pyout",
       "prompt_number": 10,
       "text": [
        "array([ 0.,  1.,  2.,  3.,  4.,  5.,  6.,  7.,  8.,  9.])"
       ]
      }
     ],
     "prompt_number": 10
    },
    {
     "cell_type": "code",
     "collapsed": false,
     "input": [
      "'%4.4f' % 0.0012"
     ],
     "language": "python",
     "metadata": {},
     "outputs": [
      {
       "metadata": {},
       "output_type": "pyout",
       "prompt_number": 11,
       "text": [
        "'0.0012'"
       ]
      }
     ],
     "prompt_number": 11
    },
    {
     "cell_type": "code",
     "collapsed": false,
     "input": [
      "from sklearn.svm import SVC\n",
      "from sklearn.cross_validation import StratifiedKFold\n",
      "from sklearn.grid_search import GridSearchCV\n",
      "data = fetch_uci_datasets(['fourclass'])[0]\n",
      "\n",
      "X, Y = data.data, data.target \n",
      "\n",
      "cv = StratifiedKFold(y=Y, n_folds=5)\n",
      "param_grid = {'C': [np.exp(i) for i in xrange(-2,7)],\n",
      "          'kernel': ['rbf'],\n",
      "          'gamma': [np.exp(i) for i in xrange(-10,11)]}\n",
      "model = SVC()\n",
      "grid = GridSearchCV(model, param_grid, scoring='accuracy', cv=cv)\n",
      "grid.fit(X,Y)\n",
      "\n",
      "grid.best_score\n"
     ],
     "language": "python",
     "metadata": {},
     "outputs": [
      {
       "output_type": "stream",
       "stream": "stderr",
       "text": [
        "/lhome/home/czarnecki/.local/lib/python2.7/site-packages/sklearn/datasets/svmlight_format.py:137: DeprecationWarning: using a non-integer number instead of an integer will result in an error in the future\n",
        "  return _load_svmlight_file(f, dtype, multilabel, zero_based, query_id)\n",
        "/lhome/home/czarnecki/.local/lib/python2.7/site-packages/sklearn/datasets/svmlight_format.py:137: DeprecationWarning: using a non-integer number instead of an integer will result in an error in the future\n",
        "  return _load_svmlight_file(f, dtype, multilabel, zero_based, query_id)\n",
        "/lhome/home/czarnecki/.local/lib/python2.7/site-packages/sklearn/datasets/svmlight_format.py:137: DeprecationWarning: using a non-integer number instead of an integer will result in an error in the future\n",
        "  return _load_svmlight_file(f, dtype, multilabel, zero_based, query_id)\n",
        "/lhome/home/czarnecki/.local/lib/python2.7/site-packages/sklearn/datasets/svmlight_format.py:137: DeprecationWarning: using a non-integer number instead of an integer will result in an error in the future\n",
        "  return _load_svmlight_file(f, dtype, multilabel, zero_based, query_id)\n",
        "/lhome/home/czarnecki/.local/lib/python2.7/site-packages/sklearn/datasets/svmlight_format.py:137: DeprecationWarning: using a non-integer number instead of an integer will result in an error in the future\n",
        "  return _load_svmlight_file(f, dtype, multilabel, zero_based, query_id)\n",
        "/lhome/home/czarnecki/.local/lib/python2.7/site-packages/sklearn/datasets/svmlight_format.py:137: DeprecationWarning: using a non-integer number instead of an integer will result in an error in the future\n",
        "  return _load_svmlight_file(f, dtype, multilabel, zero_based, query_id)\n",
        "/lhome/home/czarnecki/.local/lib/python2.7/site-packages/sklearn/datasets/svmlight_format.py:137: DeprecationWarning: using a non-integer number instead of an integer will result in an error in the future\n",
        "  return _load_svmlight_file(f, dtype, multilabel, zero_based, query_id)\n",
        "/lhome/home/czarnecki/.local/lib/python2.7/site-packages/sklearn/datasets/svmlight_format.py:137: DeprecationWarning: using a non-integer number instead of an integer will result in an error in the future\n",
        "  return _load_svmlight_file(f, dtype, multilabel, zero_based, query_id)\n",
        "/lhome/home/czarnecki/.local/lib/python2.7/site-packages/sklearn/datasets/svmlight_format.py:137: DeprecationWarning: using a non-integer number instead of an integer will result in an error in the future\n",
        "  return _load_svmlight_file(f, dtype, multilabel, zero_based, query_id)\n",
        "/lhome/home/czarnecki/.local/lib/python2.7/site-packages/sklearn/datasets/svmlight_format.py:137: DeprecationWarning: using a non-integer number instead of an integer will result in an error in the future\n",
        "  return _load_svmlight_file(f, dtype, multilabel, zero_based, query_id)\n",
        "/lhome/home/czarnecki/.local/lib/python2.7/site-packages/sklearn/datasets/svmlight_format.py:137: DeprecationWarning: using a non-integer number instead of an integer will result in an error in the future\n",
        "  return _load_svmlight_file(f, dtype, multilabel, zero_based, query_id)\n",
        "/lhome/home/czarnecki/.local/lib/python2.7/site-packages/sklearn/datasets/svmlight_format.py:137: DeprecationWarning: using a non-integer number instead of an integer will result in an error in the future\n",
        "  return _load_svmlight_file(f, dtype, multilabel, zero_based, query_id)\n",
        "/lhome/home/czarnecki/.local/lib/python2.7/site-packages/sklearn/datasets/svmlight_format.py:137: DeprecationWarning: using a non-integer number instead of an integer will result in an error in the future\n",
        "  return _load_svmlight_file(f, dtype, multilabel, zero_based, query_id)\n",
        "/lhome/home/czarnecki/.local/lib/python2.7/site-packages/sklearn/datasets/svmlight_format.py:137: DeprecationWarning: using a non-integer number instead of an integer will result in an error in the future\n",
        "  return _load_svmlight_file(f, dtype, multilabel, zero_based, query_id)\n",
        "/lhome/home/czarnecki/.local/lib/python2.7/site-packages/sklearn/datasets/svmlight_format.py:137: DeprecationWarning: using a non-integer number instead of an integer will result in an error in the future\n",
        "  return _load_svmlight_file(f, dtype, multilabel, zero_based, query_id)\n",
        "/lhome/home/czarnecki/.local/lib/python2.7/site-packages/sklearn/datasets/svmlight_format.py:137: DeprecationWarning: using a non-integer number instead of an integer will result in an error in the future\n",
        "  return _load_svmlight_file(f, dtype, multilabel, zero_based, query_id)\n"
       ]
      },
      {
       "ename": "AttributeError",
       "evalue": "'GridSearchCV' object has no attribute 'best_score'",
       "output_type": "pyerr",
       "traceback": [
        "\u001b[1;31m---------------------------------------------------------------------------\u001b[0m\n\u001b[1;31mAttributeError\u001b[0m                            Traceback (most recent call last)",
        "\u001b[1;32m<ipython-input-7-589b743121a4>\u001b[0m in \u001b[0;36m<module>\u001b[1;34m()\u001b[0m\n\u001b[0;32m     14\u001b[0m \u001b[0mgrid\u001b[0m\u001b[1;33m.\u001b[0m\u001b[0mfit\u001b[0m\u001b[1;33m(\u001b[0m\u001b[0mX\u001b[0m\u001b[1;33m,\u001b[0m\u001b[0mY\u001b[0m\u001b[1;33m)\u001b[0m\u001b[1;33m\u001b[0m\u001b[0m\n\u001b[0;32m     15\u001b[0m \u001b[1;33m\u001b[0m\u001b[0m\n\u001b[1;32m---> 16\u001b[1;33m \u001b[0mgrid\u001b[0m\u001b[1;33m.\u001b[0m\u001b[0mbest_score\u001b[0m\u001b[1;33m\u001b[0m\u001b[0m\n\u001b[0m",
        "\u001b[1;31mAttributeError\u001b[0m: 'GridSearchCV' object has no attribute 'best_score'"
       ]
      }
     ],
     "prompt_number": 7
    },
    {
     "cell_type": "code",
     "collapsed": false,
     "input": [
      "grid.best_score_"
     ],
     "language": "python",
     "metadata": {},
     "outputs": [
      {
       "metadata": {},
       "output_type": "pyout",
       "prompt_number": 8,
       "text": [
        "1.0"
       ]
      }
     ],
     "prompt_number": 8
    },
    {
     "cell_type": "code",
     "collapsed": false,
     "input": [
      "grid.best_params_"
     ],
     "language": "python",
     "metadata": {},
     "outputs": [
      {
       "metadata": {},
       "output_type": "pyout",
       "prompt_number": 9,
       "text": [
        "{'C': 0.36787944117144233, 'gamma': 0.0024787521766663585, 'kernel': 'rbf'}"
       ]
      }
     ],
     "prompt_number": 9
    },
    {
     "cell_type": "code",
     "collapsed": false,
     "input": [
      "datasets = fetch_small_datasets()\n",
      "datasets += fetch_new_datasets()\n",
      "datasets += fetch_medium_datasets()\n",
      "sets_pd = pd.DataFrame.from_dict({data.name: data for data in datasets if data.name not in ['pendigits', 'mushrooms']}).transpose()"
     ],
     "language": "python",
     "metadata": {},
     "outputs": [
      {
       "output_type": "stream",
       "stream": "stderr",
       "text": [
        "/lhome/home/czarnecki/.local/lib/python2.7/site-packages/sklearn/datasets/svmlight_format.py:137: DeprecationWarning: using a non-integer number instead of an integer will result in an error in the future\n",
        "  return _load_svmlight_file(f, dtype, multilabel, zero_based, query_id)\n",
        "/lhome/home/czarnecki/.local/lib/python2.7/site-packages/sklearn/datasets/svmlight_format.py:137: DeprecationWarning: using a non-integer number instead of an integer will result in an error in the future\n",
        "  return _load_svmlight_file(f, dtype, multilabel, zero_based, query_id)\n",
        "/lhome/home/czarnecki/.local/lib/python2.7/site-packages/sklearn/datasets/svmlight_format.py:137: DeprecationWarning: using a non-integer number instead of an integer will result in an error in the future\n",
        "  return _load_svmlight_file(f, dtype, multilabel, zero_based, query_id)\n",
        "/lhome/home/czarnecki/.local/lib/python2.7/site-packages/sklearn/datasets/svmlight_format.py:137: DeprecationWarning: using a non-integer number instead of an integer will result in an error in the future\n",
        "  return _load_svmlight_file(f, dtype, multilabel, zero_based, query_id)\n",
        "/lhome/home/czarnecki/.local/lib/python2.7/site-packages/sklearn/datasets/svmlight_format.py:137: DeprecationWarning: using a non-integer number instead of an integer will result in an error in the future\n",
        "  return _load_svmlight_file(f, dtype, multilabel, zero_based, query_id)\n",
        "/lhome/home/czarnecki/.local/lib/python2.7/site-packages/sklearn/datasets/svmlight_format.py:137: DeprecationWarning: using a non-integer number instead of an integer will result in an error in the future\n",
        "  return _load_svmlight_file(f, dtype, multilabel, zero_based, query_id)\n",
        "/lhome/home/czarnecki/.local/lib/python2.7/site-packages/sklearn/datasets/svmlight_format.py:137: DeprecationWarning: using a non-integer number instead of an integer will result in an error in the future\n",
        "  return _load_svmlight_file(f, dtype, multilabel, zero_based, query_id)\n",
        "/lhome/home/czarnecki/.local/lib/python2.7/site-packages/sklearn/datasets/svmlight_format.py:137: DeprecationWarning: using a non-integer number instead of an integer will result in an error in the future\n",
        "  return _load_svmlight_file(f, dtype, multilabel, zero_based, query_id)\n",
        "/lhome/home/czarnecki/.local/lib/python2.7/site-packages/sklearn/datasets/svmlight_format.py:137: DeprecationWarning: using a non-integer number instead of an integer will result in an error in the future\n",
        "  return _load_svmlight_file(f, dtype, multilabel, zero_based, query_id)\n",
        "/lhome/home/czarnecki/.local/lib/python2.7/site-packages/sklearn/datasets/svmlight_format.py:137: DeprecationWarning: using a non-integer number instead of an integer will result in an error in the future\n",
        "  return _load_svmlight_file(f, dtype, multilabel, zero_based, query_id)\n",
        "/lhome/home/czarnecki/.local/lib/python2.7/site-packages/sklearn/datasets/svmlight_format.py:137: DeprecationWarning: using a non-integer number instead of an integer will result in an error in the future\n",
        "  return _load_svmlight_file(f, dtype, multilabel, zero_based, query_id)\n",
        "/lhome/home/czarnecki/.local/lib/python2.7/site-packages/sklearn/datasets/svmlight_format.py:137: DeprecationWarning: using a non-integer number instead of an integer will result in an error in the future\n",
        "  return _load_svmlight_file(f, dtype, multilabel, zero_based, query_id)\n",
        "/lhome/home/czarnecki/.local/lib/python2.7/site-packages/sklearn/datasets/svmlight_format.py:137: DeprecationWarning: using a non-integer number instead of an integer will result in an error in the future\n",
        "  return _load_svmlight_file(f, dtype, multilabel, zero_based, query_id)\n",
        "/lhome/home/czarnecki/.local/lib/python2.7/site-packages/sklearn/datasets/svmlight_format.py:137: DeprecationWarning: using a non-integer number instead of an integer will result in an error in the future\n",
        "  return _load_svmlight_file(f, dtype, multilabel, zero_based, query_id)\n",
        "/lhome/home/czarnecki/.local/lib/python2.7/site-packages/sklearn/datasets/svmlight_format.py:137: DeprecationWarning: using a non-integer number instead of an integer will result in an error in the future\n",
        "  return _load_svmlight_file(f, dtype, multilabel, zero_based, query_id)\n",
        "/lhome/home/czarnecki/.local/lib/python2.7/site-packages/sklearn/datasets/svmlight_format.py:137: DeprecationWarning: using a non-integer number instead of an integer will result in an error in the future\n",
        "  return _load_svmlight_file(f, dtype, multilabel, zero_based, query_id)\n",
        "/lhome/home/czarnecki/.local/lib/python2.7/site-packages/sklearn/datasets/svmlight_format.py:137: DeprecationWarning: using a non-integer number instead of an integer will result in an error in the future\n",
        "  return _load_svmlight_file(f, dtype, multilabel, zero_based, query_id)\n",
        "/lhome/home/czarnecki/.local/lib/python2.7/site-packages/sklearn/datasets/svmlight_format.py:137: DeprecationWarning: using a non-integer number instead of an integer will result in an error in the future\n",
        "  return _load_svmlight_file(f, dtype, multilabel, zero_based, query_id)\n",
        "/lhome/home/czarnecki/.local/lib/python2.7/site-packages/sklearn/datasets/svmlight_format.py:137: DeprecationWarning: using a non-integer number instead of an integer will result in an error in the future\n",
        "  return _load_svmlight_file(f, dtype, multilabel, zero_based, query_id)\n",
        "/lhome/home/czarnecki/.local/lib/python2.7/site-packages/sklearn/datasets/svmlight_format.py:137: DeprecationWarning: using a non-integer number instead of an integer will result in an error in the future\n",
        "  return _load_svmlight_file(f, dtype, multilabel, zero_based, query_id)\n",
        "/lhome/home/czarnecki/.local/lib/python2.7/site-packages/sklearn/datasets/svmlight_format.py:137: DeprecationWarning: using a non-integer number instead of an integer will result in an error in the future\n",
        "  return _load_svmlight_file(f, dtype, multilabel, zero_based, query_id)\n",
        "/lhome/home/czarnecki/.local/lib/python2.7/site-packages/sklearn/datasets/svmlight_format.py:137: DeprecationWarning: using a non-integer number instead of an integer will result in an error in the future\n",
        "  return _load_svmlight_file(f, dtype, multilabel, zero_based, query_id)\n",
        "/lhome/home/czarnecki/.local/lib/python2.7/site-packages/sklearn/datasets/svmlight_format.py:137: DeprecationWarning: using a non-integer number instead of an integer will result in an error in the future\n",
        "  return _load_svmlight_file(f, dtype, multilabel, zero_based, query_id)\n",
        "/lhome/home/czarnecki/.local/lib/python2.7/site-packages/sklearn/datasets/svmlight_format.py:137: DeprecationWarning: using a non-integer number instead of an integer will result in an error in the future\n",
        "  return _load_svmlight_file(f, dtype, multilabel, zero_based, query_id)\n",
        "/lhome/home/czarnecki/.local/lib/python2.7/site-packages/sklearn/datasets/svmlight_format.py:137: DeprecationWarning: using a non-integer number instead of an integer will result in an error in the future\n",
        "  return _load_svmlight_file(f, dtype, multilabel, zero_based, query_id)\n"
       ]
      },
      {
       "output_type": "stream",
       "stream": "stderr",
       "text": [
        "/lhome/home/czarnecki/.local/lib/python2.7/site-packages/sklearn/datasets/svmlight_format.py:137: DeprecationWarning: using a non-integer number instead of an integer will result in an error in the future\n",
        "  return _load_svmlight_file(f, dtype, multilabel, zero_based, query_id)\n",
        "/lhome/home/czarnecki/.local/lib/python2.7/site-packages/sklearn/datasets/svmlight_format.py:137: DeprecationWarning: using a non-integer number instead of an integer will result in an error in the future\n",
        "  return _load_svmlight_file(f, dtype, multilabel, zero_based, query_id)\n",
        "/lhome/home/czarnecki/.local/lib/python2.7/site-packages/sklearn/datasets/svmlight_format.py:137: DeprecationWarning: using a non-integer number instead of an integer will result in an error in the future\n",
        "  return _load_svmlight_file(f, dtype, multilabel, zero_based, query_id)\n",
        "/lhome/home/czarnecki/.local/lib/python2.7/site-packages/sklearn/datasets/svmlight_format.py:137: DeprecationWarning: using a non-integer number instead of an integer will result in an error in the future\n",
        "  return _load_svmlight_file(f, dtype, multilabel, zero_based, query_id)\n",
        "/lhome/home/czarnecki/.local/lib/python2.7/site-packages/sklearn/datasets/svmlight_format.py:137: DeprecationWarning: using a non-integer number instead of an integer will result in an error in the future\n",
        "  return _load_svmlight_file(f, dtype, multilabel, zero_based, query_id)\n",
        "/lhome/home/czarnecki/.local/lib/python2.7/site-packages/sklearn/datasets/svmlight_format.py:137: DeprecationWarning: using a non-integer number instead of an integer will result in an error in the future\n",
        "  return _load_svmlight_file(f, dtype, multilabel, zero_based, query_id)\n",
        "/lhome/home/czarnecki/.local/lib/python2.7/site-packages/sklearn/datasets/svmlight_format.py:137: DeprecationWarning: using a non-integer number instead of an integer will result in an error in the future\n",
        "  return _load_svmlight_file(f, dtype, multilabel, zero_based, query_id)\n",
        "/lhome/home/czarnecki/.local/lib/python2.7/site-packages/sklearn/datasets/svmlight_format.py:137: DeprecationWarning: using a non-integer number instead of an integer will result in an error in the future\n",
        "  return _load_svmlight_file(f, dtype, multilabel, zero_based, query_id)\n",
        "/lhome/home/czarnecki/.local/lib/python2.7/site-packages/sklearn/datasets/svmlight_format.py:137: DeprecationWarning: using a non-integer number instead of an integer will result in an error in the future\n",
        "  return _load_svmlight_file(f, dtype, multilabel, zero_based, query_id)\n",
        "/lhome/home/czarnecki/.local/lib/python2.7/site-packages/sklearn/datasets/svmlight_format.py:137: DeprecationWarning: using a non-integer number instead of an integer will result in an error in the future\n",
        "  return _load_svmlight_file(f, dtype, multilabel, zero_based, query_id)\n",
        "/lhome/home/czarnecki/.local/lib/python2.7/site-packages/sklearn/datasets/svmlight_format.py:137: DeprecationWarning: using a non-integer number instead of an integer will result in an error in the future\n",
        "  return _load_svmlight_file(f, dtype, multilabel, zero_based, query_id)\n",
        "/lhome/home/czarnecki/.local/lib/python2.7/site-packages/sklearn/datasets/svmlight_format.py:137: DeprecationWarning: using a non-integer number instead of an integer will result in an error in the future\n",
        "  return _load_svmlight_file(f, dtype, multilabel, zero_based, query_id)\n",
        "/lhome/home/czarnecki/.local/lib/python2.7/site-packages/sklearn/datasets/svmlight_format.py:137: DeprecationWarning: using a non-integer number instead of an integer will result in an error in the future\n",
        "  return _load_svmlight_file(f, dtype, multilabel, zero_based, query_id)\n",
        "/lhome/home/czarnecki/.local/lib/python2.7/site-packages/sklearn/datasets/svmlight_format.py:137: DeprecationWarning: using a non-integer number instead of an integer will result in an error in the future\n",
        "  return _load_svmlight_file(f, dtype, multilabel, zero_based, query_id)\n",
        "/lhome/home/czarnecki/.local/lib/python2.7/site-packages/sklearn/datasets/svmlight_format.py:137: DeprecationWarning: using a non-integer number instead of an integer will result in an error in the future\n",
        "  return _load_svmlight_file(f, dtype, multilabel, zero_based, query_id)\n",
        "/lhome/home/czarnecki/.local/lib/python2.7/site-packages/sklearn/datasets/svmlight_format.py:137: DeprecationWarning: using a non-integer number instead of an integer will result in an error in the future\n",
        "  return _load_svmlight_file(f, dtype, multilabel, zero_based, query_id)\n",
        "/lhome/home/czarnecki/.local/lib/python2.7/site-packages/sklearn/datasets/svmlight_format.py:137: DeprecationWarning: using a non-integer number instead of an integer will result in an error in the future\n",
        "  return _load_svmlight_file(f, dtype, multilabel, zero_based, query_id)\n",
        "/lhome/home/czarnecki/.local/lib/python2.7/site-packages/sklearn/datasets/svmlight_format.py:137: DeprecationWarning: using a non-integer number instead of an integer will result in an error in the future\n",
        "  return _load_svmlight_file(f, dtype, multilabel, zero_based, query_id)\n",
        "/lhome/home/czarnecki/.local/lib/python2.7/site-packages/sklearn/datasets/svmlight_format.py:137: DeprecationWarning: using a non-integer number instead of an integer will result in an error in the future\n",
        "  return _load_svmlight_file(f, dtype, multilabel, zero_based, query_id)\n",
        "/lhome/home/czarnecki/.local/lib/python2.7/site-packages/sklearn/datasets/svmlight_format.py:137: DeprecationWarning: using a non-integer number instead of an integer will result in an error in the future\n",
        "  return _load_svmlight_file(f, dtype, multilabel, zero_based, query_id)\n"
       ]
      },
      {
       "output_type": "stream",
       "stream": "stderr",
       "text": [
        "/lhome/home/czarnecki/.local/lib/python2.7/site-packages/sklearn/datasets/svmlight_format.py:137: DeprecationWarning: using a non-integer number instead of an integer will result in an error in the future\n",
        "  return _load_svmlight_file(f, dtype, multilabel, zero_based, query_id)\n",
        "/lhome/home/czarnecki/.local/lib/python2.7/site-packages/sklearn/datasets/svmlight_format.py:137: DeprecationWarning: using a non-integer number instead of an integer will result in an error in the future\n",
        "  return _load_svmlight_file(f, dtype, multilabel, zero_based, query_id)\n",
        "/lhome/home/czarnecki/.local/lib/python2.7/site-packages/sklearn/datasets/svmlight_format.py:137: DeprecationWarning: using a non-integer number instead of an integer will result in an error in the future\n",
        "  return _load_svmlight_file(f, dtype, multilabel, zero_based, query_id)\n",
        "/lhome/home/czarnecki/.local/lib/python2.7/site-packages/sklearn/datasets/svmlight_format.py:137: DeprecationWarning: using a non-integer number instead of an integer will result in an error in the future\n",
        "  return _load_svmlight_file(f, dtype, multilabel, zero_based, query_id)\n",
        "/lhome/home/czarnecki/.local/lib/python2.7/site-packages/sklearn/datasets/svmlight_format.py:137: DeprecationWarning: using a non-integer number instead of an integer will result in an error in the future\n",
        "  return _load_svmlight_file(f, dtype, multilabel, zero_based, query_id)\n",
        "/lhome/home/czarnecki/.local/lib/python2.7/site-packages/sklearn/datasets/svmlight_format.py:137: DeprecationWarning: using a non-integer number instead of an integer will result in an error in the future\n",
        "  return _load_svmlight_file(f, dtype, multilabel, zero_based, query_id)\n",
        "/lhome/home/czarnecki/.local/lib/python2.7/site-packages/sklearn/datasets/svmlight_format.py:137: DeprecationWarning: using a non-integer number instead of an integer will result in an error in the future\n",
        "  return _load_svmlight_file(f, dtype, multilabel, zero_based, query_id)\n",
        "/lhome/home/czarnecki/.local/lib/python2.7/site-packages/sklearn/datasets/svmlight_format.py:137: DeprecationWarning: using a non-integer number instead of an integer will result in an error in the future\n",
        "  return _load_svmlight_file(f, dtype, multilabel, zero_based, query_id)\n",
        "/lhome/home/czarnecki/.local/lib/python2.7/site-packages/sklearn/datasets/svmlight_format.py:137: DeprecationWarning: using a non-integer number instead of an integer will result in an error in the future\n",
        "  return _load_svmlight_file(f, dtype, multilabel, zero_based, query_id)\n",
        "/lhome/home/czarnecki/.local/lib/python2.7/site-packages/sklearn/datasets/svmlight_format.py:137: DeprecationWarning: using a non-integer number instead of an integer will result in an error in the future\n",
        "  return _load_svmlight_file(f, dtype, multilabel, zero_based, query_id)\n",
        "/lhome/home/czarnecki/.local/lib/python2.7/site-packages/sklearn/datasets/svmlight_format.py:137: DeprecationWarning: using a non-integer number instead of an integer will result in an error in the future\n",
        "  return _load_svmlight_file(f, dtype, multilabel, zero_based, query_id)\n",
        "/lhome/home/czarnecki/.local/lib/python2.7/site-packages/sklearn/datasets/svmlight_format.py:137: DeprecationWarning: using a non-integer number instead of an integer will result in an error in the future\n",
        "  return _load_svmlight_file(f, dtype, multilabel, zero_based, query_id)\n",
        "/lhome/home/czarnecki/.local/lib/python2.7/site-packages/sklearn/datasets/svmlight_format.py:137: DeprecationWarning: using a non-integer number instead of an integer will result in an error in the future\n",
        "  return _load_svmlight_file(f, dtype, multilabel, zero_based, query_id)\n",
        "/lhome/home/czarnecki/.local/lib/python2.7/site-packages/sklearn/datasets/svmlight_format.py:137: DeprecationWarning: using a non-integer number instead of an integer will result in an error in the future\n",
        "  return _load_svmlight_file(f, dtype, multilabel, zero_based, query_id)\n",
        "/lhome/home/czarnecki/.local/lib/python2.7/site-packages/sklearn/datasets/svmlight_format.py:137: DeprecationWarning: using a non-integer number instead of an integer will result in an error in the future\n",
        "  return _load_svmlight_file(f, dtype, multilabel, zero_based, query_id)\n",
        "/lhome/home/czarnecki/.local/lib/python2.7/site-packages/sklearn/datasets/svmlight_format.py:137: DeprecationWarning: using a non-integer number instead of an integer will result in an error in the future\n",
        "  return _load_svmlight_file(f, dtype, multilabel, zero_based, query_id)\n",
        "/lhome/home/czarnecki/.local/lib/python2.7/site-packages/sklearn/datasets/svmlight_format.py:137: DeprecationWarning: using a non-integer number instead of an integer will result in an error in the future\n",
        "  return _load_svmlight_file(f, dtype, multilabel, zero_based, query_id)\n",
        "/lhome/home/czarnecki/.local/lib/python2.7/site-packages/sklearn/datasets/svmlight_format.py:137: DeprecationWarning: using a non-integer number instead of an integer will result in an error in the future\n",
        "  return _load_svmlight_file(f, dtype, multilabel, zero_based, query_id)\n",
        "/lhome/home/czarnecki/.local/lib/python2.7/site-packages/sklearn/datasets/svmlight_format.py:137: DeprecationWarning: using a non-integer number instead of an integer will result in an error in the future\n",
        "  return _load_svmlight_file(f, dtype, multilabel, zero_based, query_id)\n",
        "/lhome/home/czarnecki/.local/lib/python2.7/site-packages/sklearn/datasets/svmlight_format.py:137: DeprecationWarning: using a non-integer number instead of an integer will result in an error in the future\n",
        "  return _load_svmlight_file(f, dtype, multilabel, zero_based, query_id)\n"
       ]
      },
      {
       "output_type": "stream",
       "stream": "stderr",
       "text": [
        "/lhome/home/czarnecki/.local/lib/python2.7/site-packages/sklearn/datasets/svmlight_format.py:137: DeprecationWarning: using a non-integer number instead of an integer will result in an error in the future\n",
        "  return _load_svmlight_file(f, dtype, multilabel, zero_based, query_id)\n",
        "/lhome/home/czarnecki/.local/lib/python2.7/site-packages/sklearn/datasets/svmlight_format.py:137: DeprecationWarning: using a non-integer number instead of an integer will result in an error in the future\n",
        "  return _load_svmlight_file(f, dtype, multilabel, zero_based, query_id)\n",
        "/lhome/home/czarnecki/.local/lib/python2.7/site-packages/sklearn/datasets/svmlight_format.py:137: DeprecationWarning: using a non-integer number instead of an integer will result in an error in the future\n",
        "  return _load_svmlight_file(f, dtype, multilabel, zero_based, query_id)\n",
        "/lhome/home/czarnecki/.local/lib/python2.7/site-packages/sklearn/datasets/svmlight_format.py:137: DeprecationWarning: using a non-integer number instead of an integer will result in an error in the future\n",
        "  return _load_svmlight_file(f, dtype, multilabel, zero_based, query_id)\n",
        "/lhome/home/czarnecki/.local/lib/python2.7/site-packages/sklearn/datasets/svmlight_format.py:137: DeprecationWarning: using a non-integer number instead of an integer will result in an error in the future\n",
        "  return _load_svmlight_file(f, dtype, multilabel, zero_based, query_id)\n",
        "/lhome/home/czarnecki/.local/lib/python2.7/site-packages/sklearn/datasets/svmlight_format.py:137: DeprecationWarning: using a non-integer number instead of an integer will result in an error in the future\n",
        "  return _load_svmlight_file(f, dtype, multilabel, zero_based, query_id)\n",
        "/lhome/home/czarnecki/.local/lib/python2.7/site-packages/sklearn/datasets/svmlight_format.py:137: DeprecationWarning: using a non-integer number instead of an integer will result in an error in the future\n",
        "  return _load_svmlight_file(f, dtype, multilabel, zero_based, query_id)\n",
        "/lhome/home/czarnecki/.local/lib/python2.7/site-packages/sklearn/datasets/svmlight_format.py:137: DeprecationWarning: using a non-integer number instead of an integer will result in an error in the future\n",
        "  return _load_svmlight_file(f, dtype, multilabel, zero_based, query_id)\n",
        "/lhome/home/czarnecki/.local/lib/python2.7/site-packages/sklearn/datasets/svmlight_format.py:137: DeprecationWarning: using a non-integer number instead of an integer will result in an error in the future\n",
        "  return _load_svmlight_file(f, dtype, multilabel, zero_based, query_id)\n",
        "/lhome/home/czarnecki/.local/lib/python2.7/site-packages/sklearn/datasets/svmlight_format.py:137: DeprecationWarning: using a non-integer number instead of an integer will result in an error in the future\n",
        "  return _load_svmlight_file(f, dtype, multilabel, zero_based, query_id)\n",
        "/lhome/home/czarnecki/.local/lib/python2.7/site-packages/sklearn/datasets/svmlight_format.py:137: DeprecationWarning: using a non-integer number instead of an integer will result in an error in the future\n",
        "  return _load_svmlight_file(f, dtype, multilabel, zero_based, query_id)\n",
        "/lhome/home/czarnecki/.local/lib/python2.7/site-packages/sklearn/datasets/svmlight_format.py:137: DeprecationWarning: using a non-integer number instead of an integer will result in an error in the future\n",
        "  return _load_svmlight_file(f, dtype, multilabel, zero_based, query_id)\n",
        "/lhome/home/czarnecki/.local/lib/python2.7/site-packages/sklearn/datasets/svmlight_format.py:137: DeprecationWarning: using a non-integer number instead of an integer will result in an error in the future\n",
        "  return _load_svmlight_file(f, dtype, multilabel, zero_based, query_id)\n",
        "/lhome/home/czarnecki/.local/lib/python2.7/site-packages/sklearn/datasets/svmlight_format.py:137: DeprecationWarning: using a non-integer number instead of an integer will result in an error in the future\n",
        "  return _load_svmlight_file(f, dtype, multilabel, zero_based, query_id)\n",
        "/lhome/home/czarnecki/.local/lib/python2.7/site-packages/sklearn/datasets/svmlight_format.py:137: DeprecationWarning: using a non-integer number instead of an integer will result in an error in the future\n",
        "  return _load_svmlight_file(f, dtype, multilabel, zero_based, query_id)\n",
        "/lhome/home/czarnecki/.local/lib/python2.7/site-packages/sklearn/datasets/svmlight_format.py:137: DeprecationWarning: using a non-integer number instead of an integer will result in an error in the future\n",
        "  return _load_svmlight_file(f, dtype, multilabel, zero_based, query_id)\n",
        "/lhome/home/czarnecki/.local/lib/python2.7/site-packages/sklearn/datasets/svmlight_format.py:137: DeprecationWarning: using a non-integer number instead of an integer will result in an error in the future\n",
        "  return _load_svmlight_file(f, dtype, multilabel, zero_based, query_id)\n",
        "/lhome/home/czarnecki/.local/lib/python2.7/site-packages/sklearn/datasets/svmlight_format.py:137: DeprecationWarning: using a non-integer number instead of an integer will result in an error in the future\n",
        "  return _load_svmlight_file(f, dtype, multilabel, zero_based, query_id)\n",
        "/lhome/home/czarnecki/.local/lib/python2.7/site-packages/sklearn/datasets/svmlight_format.py:137: DeprecationWarning: using a non-integer number instead of an integer will result in an error in the future\n",
        "  return _load_svmlight_file(f, dtype, multilabel, zero_based, query_id)\n",
        "/lhome/home/czarnecki/.local/lib/python2.7/site-packages/sklearn/datasets/svmlight_format.py:137: DeprecationWarning: using a non-integer number instead of an integer will result in an error in the future\n",
        "  return _load_svmlight_file(f, dtype, multilabel, zero_based, query_id)\n",
        "/lhome/home/czarnecki/.local/lib/python2.7/site-packages/sklearn/datasets/svmlight_format.py:137: DeprecationWarning: using a non-integer number instead of an integer will result in an error in the future\n",
        "  return _load_svmlight_file(f, dtype, multilabel, zero_based, query_id)\n",
        "/lhome/home/czarnecki/.local/lib/python2.7/site-packages/sklearn/datasets/svmlight_format.py:137: DeprecationWarning: using a non-integer number instead of an integer will result in an error in the future\n",
        "  return _load_svmlight_file(f, dtype, multilabel, zero_based, query_id)\n"
       ]
      },
      {
       "output_type": "stream",
       "stream": "stderr",
       "text": [
        "/lhome/home/czarnecki/.local/lib/python2.7/site-packages/sklearn/datasets/svmlight_format.py:137: DeprecationWarning: using a non-integer number instead of an integer will result in an error in the future\n",
        "  return _load_svmlight_file(f, dtype, multilabel, zero_based, query_id)\n",
        "/lhome/home/czarnecki/.local/lib/python2.7/site-packages/sklearn/datasets/svmlight_format.py:137: DeprecationWarning: using a non-integer number instead of an integer will result in an error in the future\n",
        "  return _load_svmlight_file(f, dtype, multilabel, zero_based, query_id)\n",
        "/lhome/home/czarnecki/.local/lib/python2.7/site-packages/sklearn/datasets/svmlight_format.py:137: DeprecationWarning: using a non-integer number instead of an integer will result in an error in the future\n",
        "  return _load_svmlight_file(f, dtype, multilabel, zero_based, query_id)\n",
        "/lhome/home/czarnecki/.local/lib/python2.7/site-packages/sklearn/datasets/svmlight_format.py:137: DeprecationWarning: using a non-integer number instead of an integer will result in an error in the future\n",
        "  return _load_svmlight_file(f, dtype, multilabel, zero_based, query_id)\n",
        "/lhome/home/czarnecki/.local/lib/python2.7/site-packages/sklearn/datasets/svmlight_format.py:137: DeprecationWarning: using a non-integer number instead of an integer will result in an error in the future\n",
        "  return _load_svmlight_file(f, dtype, multilabel, zero_based, query_id)\n",
        "/lhome/home/czarnecki/.local/lib/python2.7/site-packages/sklearn/datasets/svmlight_format.py:137: DeprecationWarning: using a non-integer number instead of an integer will result in an error in the future\n",
        "  return _load_svmlight_file(f, dtype, multilabel, zero_based, query_id)\n",
        "/lhome/home/czarnecki/.local/lib/python2.7/site-packages/sklearn/datasets/svmlight_format.py:137: DeprecationWarning: using a non-integer number instead of an integer will result in an error in the future\n",
        "  return _load_svmlight_file(f, dtype, multilabel, zero_based, query_id)\n",
        "/lhome/home/czarnecki/.local/lib/python2.7/site-packages/sklearn/datasets/svmlight_format.py:137: DeprecationWarning: using a non-integer number instead of an integer will result in an error in the future\n",
        "  return _load_svmlight_file(f, dtype, multilabel, zero_based, query_id)\n",
        "/lhome/home/czarnecki/.local/lib/python2.7/site-packages/sklearn/datasets/svmlight_format.py:137: DeprecationWarning: using a non-integer number instead of an integer will result in an error in the future\n",
        "  return _load_svmlight_file(f, dtype, multilabel, zero_based, query_id)\n",
        "/lhome/home/czarnecki/.local/lib/python2.7/site-packages/sklearn/datasets/svmlight_format.py:137: DeprecationWarning: using a non-integer number instead of an integer will result in an error in the future\n",
        "  return _load_svmlight_file(f, dtype, multilabel, zero_based, query_id)\n",
        "/lhome/home/czarnecki/.local/lib/python2.7/site-packages/sklearn/datasets/svmlight_format.py:137: DeprecationWarning: using a non-integer number instead of an integer will result in an error in the future\n",
        "  return _load_svmlight_file(f, dtype, multilabel, zero_based, query_id)\n",
        "/lhome/home/czarnecki/.local/lib/python2.7/site-packages/sklearn/datasets/svmlight_format.py:137: DeprecationWarning: using a non-integer number instead of an integer will result in an error in the future\n",
        "  return _load_svmlight_file(f, dtype, multilabel, zero_based, query_id)\n",
        "/lhome/home/czarnecki/.local/lib/python2.7/site-packages/sklearn/datasets/svmlight_format.py:137: DeprecationWarning: using a non-integer number instead of an integer will result in an error in the future\n",
        "  return _load_svmlight_file(f, dtype, multilabel, zero_based, query_id)\n",
        "/lhome/home/czarnecki/.local/lib/python2.7/site-packages/sklearn/datasets/svmlight_format.py:137: DeprecationWarning: using a non-integer number instead of an integer will result in an error in the future\n",
        "  return _load_svmlight_file(f, dtype, multilabel, zero_based, query_id)\n",
        "/lhome/home/czarnecki/.local/lib/python2.7/site-packages/sklearn/datasets/svmlight_format.py:137: DeprecationWarning: using a non-integer number instead of an integer will result in an error in the future\n",
        "  return _load_svmlight_file(f, dtype, multilabel, zero_based, query_id)\n",
        "/lhome/home/czarnecki/.local/lib/python2.7/site-packages/sklearn/datasets/svmlight_format.py:137: DeprecationWarning: using a non-integer number instead of an integer will result in an error in the future\n",
        "  return _load_svmlight_file(f, dtype, multilabel, zero_based, query_id)\n",
        "/lhome/home/czarnecki/.local/lib/python2.7/site-packages/sklearn/datasets/svmlight_format.py:137: DeprecationWarning: using a non-integer number instead of an integer will result in an error in the future\n",
        "  return _load_svmlight_file(f, dtype, multilabel, zero_based, query_id)\n",
        "/lhome/home/czarnecki/.local/lib/python2.7/site-packages/sklearn/datasets/svmlight_format.py:137: DeprecationWarning: using a non-integer number instead of an integer will result in an error in the future\n",
        "  return _load_svmlight_file(f, dtype, multilabel, zero_based, query_id)\n",
        "/lhome/home/czarnecki/.local/lib/python2.7/site-packages/sklearn/datasets/svmlight_format.py:137: DeprecationWarning: using a non-integer number instead of an integer will result in an error in the future\n",
        "  return _load_svmlight_file(f, dtype, multilabel, zero_based, query_id)\n",
        "/lhome/home/czarnecki/.local/lib/python2.7/site-packages/sklearn/datasets/svmlight_format.py:137: DeprecationWarning: using a non-integer number instead of an integer will result in an error in the future\n",
        "  return _load_svmlight_file(f, dtype, multilabel, zero_based, query_id)\n",
        "/lhome/home/czarnecki/.local/lib/python2.7/site-packages/sklearn/datasets/svmlight_format.py:137: DeprecationWarning: using a non-integer number instead of an integer will result in an error in the future\n",
        "  return _load_svmlight_file(f, dtype, multilabel, zero_based, query_id)\n",
        "/lhome/home/czarnecki/.local/lib/python2.7/site-packages/sklearn/datasets/svmlight_format.py:137: DeprecationWarning: using a non-integer number instead of an integer will result in an error in the future\n",
        "  return _load_svmlight_file(f, dtype, multilabel, zero_based, query_id)\n",
        "/lhome/home/czarnecki/.local/lib/python2.7/site-packages/sklearn/datasets/svmlight_format.py:137: DeprecationWarning: using a non-integer number instead of an integer will result in an error in the future\n",
        "  return _load_svmlight_file(f, dtype, multilabel, zero_based, query_id)\n",
        "/lhome/home/czarnecki/.local/lib/python2.7/site-packages/sklearn/datasets/svmlight_format.py:137: DeprecationWarning: using a non-integer number instead of an integer will result in an error in the future\n",
        "  return _load_svmlight_file(f, dtype, multilabel, zero_based, query_id)\n",
        "/lhome/home/czarnecki/.local/lib/python2.7/site-packages/sklearn/datasets/svmlight_format.py:137: DeprecationWarning: using a non-integer number instead of an integer will result in an error in the future\n",
        "  return _load_svmlight_file(f, dtype, multilabel, zero_based, query_id)\n",
        "/lhome/home/czarnecki/.local/lib/python2.7/site-packages/sklearn/datasets/svmlight_format.py:137: DeprecationWarning: using a non-integer number instead of an integer will result in an error in the future\n",
        "  return _load_svmlight_file(f, dtype, multilabel, zero_based, query_id)\n",
        "/lhome/home/czarnecki/.local/lib/python2.7/site-packages/sklearn/datasets/svmlight_format.py:137: DeprecationWarning: using a non-integer number instead of an integer will result in an error in the future\n",
        "  return _load_svmlight_file(f, dtype, multilabel, zero_based, query_id)\n",
        "/lhome/home/czarnecki/.local/lib/python2.7/site-packages/sklearn/datasets/svmlight_format.py:137: DeprecationWarning: using a non-integer number instead of an integer will result in an error in the future\n",
        "  return _load_svmlight_file(f, dtype, multilabel, zero_based, query_id)\n"
       ]
      },
      {
       "output_type": "stream",
       "stream": "stderr",
       "text": [
        "/lhome/home/czarnecki/.local/lib/python2.7/site-packages/sklearn/datasets/svmlight_format.py:137: DeprecationWarning: using a non-integer number instead of an integer will result in an error in the future\n",
        "  return _load_svmlight_file(f, dtype, multilabel, zero_based, query_id)\n",
        "/lhome/home/czarnecki/.local/lib/python2.7/site-packages/sklearn/datasets/svmlight_format.py:137: DeprecationWarning: using a non-integer number instead of an integer will result in an error in the future\n",
        "  return _load_svmlight_file(f, dtype, multilabel, zero_based, query_id)\n",
        "/lhome/home/czarnecki/.local/lib/python2.7/site-packages/sklearn/datasets/svmlight_format.py:137: DeprecationWarning: using a non-integer number instead of an integer will result in an error in the future\n",
        "  return _load_svmlight_file(f, dtype, multilabel, zero_based, query_id)\n",
        "/lhome/home/czarnecki/.local/lib/python2.7/site-packages/sklearn/datasets/svmlight_format.py:137: DeprecationWarning: using a non-integer number instead of an integer will result in an error in the future\n",
        "  return _load_svmlight_file(f, dtype, multilabel, zero_based, query_id)\n",
        "/lhome/home/czarnecki/.local/lib/python2.7/site-packages/sklearn/datasets/svmlight_format.py:137: DeprecationWarning: using a non-integer number instead of an integer will result in an error in the future\n",
        "  return _load_svmlight_file(f, dtype, multilabel, zero_based, query_id)\n",
        "/lhome/home/czarnecki/.local/lib/python2.7/site-packages/sklearn/datasets/svmlight_format.py:137: DeprecationWarning: using a non-integer number instead of an integer will result in an error in the future\n",
        "  return _load_svmlight_file(f, dtype, multilabel, zero_based, query_id)\n",
        "/lhome/home/czarnecki/.local/lib/python2.7/site-packages/sklearn/datasets/svmlight_format.py:137: DeprecationWarning: using a non-integer number instead of an integer will result in an error in the future\n",
        "  return _load_svmlight_file(f, dtype, multilabel, zero_based, query_id)\n",
        "/lhome/home/czarnecki/.local/lib/python2.7/site-packages/sklearn/datasets/svmlight_format.py:137: DeprecationWarning: using a non-integer number instead of an integer will result in an error in the future\n",
        "  return _load_svmlight_file(f, dtype, multilabel, zero_based, query_id)\n",
        "/lhome/home/czarnecki/.local/lib/python2.7/site-packages/sklearn/datasets/svmlight_format.py:137: DeprecationWarning: using a non-integer number instead of an integer will result in an error in the future\n",
        "  return _load_svmlight_file(f, dtype, multilabel, zero_based, query_id)\n",
        "/lhome/home/czarnecki/.local/lib/python2.7/site-packages/sklearn/datasets/svmlight_format.py:137: DeprecationWarning: using a non-integer number instead of an integer will result in an error in the future\n",
        "  return _load_svmlight_file(f, dtype, multilabel, zero_based, query_id)\n",
        "/lhome/home/czarnecki/.local/lib/python2.7/site-packages/sklearn/datasets/svmlight_format.py:137: DeprecationWarning: using a non-integer number instead of an integer will result in an error in the future\n",
        "  return _load_svmlight_file(f, dtype, multilabel, zero_based, query_id)\n",
        "/lhome/home/czarnecki/.local/lib/python2.7/site-packages/sklearn/datasets/svmlight_format.py:137: DeprecationWarning: using a non-integer number instead of an integer will result in an error in the future\n",
        "  return _load_svmlight_file(f, dtype, multilabel, zero_based, query_id)\n",
        "/lhome/home/czarnecki/.local/lib/python2.7/site-packages/sklearn/datasets/svmlight_format.py:137: DeprecationWarning: using a non-integer number instead of an integer will result in an error in the future\n",
        "  return _load_svmlight_file(f, dtype, multilabel, zero_based, query_id)\n",
        "/lhome/home/czarnecki/.local/lib/python2.7/site-packages/sklearn/datasets/svmlight_format.py:137: DeprecationWarning: using a non-integer number instead of an integer will result in an error in the future\n",
        "  return _load_svmlight_file(f, dtype, multilabel, zero_based, query_id)\n",
        "/lhome/home/czarnecki/.local/lib/python2.7/site-packages/sklearn/datasets/svmlight_format.py:137: DeprecationWarning: using a non-integer number instead of an integer will result in an error in the future\n",
        "  return _load_svmlight_file(f, dtype, multilabel, zero_based, query_id)\n",
        "/lhome/home/czarnecki/.local/lib/python2.7/site-packages/sklearn/datasets/svmlight_format.py:137: DeprecationWarning: using a non-integer number instead of an integer will result in an error in the future\n",
        "  return _load_svmlight_file(f, dtype, multilabel, zero_based, query_id)\n",
        "/lhome/home/czarnecki/.local/lib/python2.7/site-packages/sklearn/datasets/svmlight_format.py:137: DeprecationWarning: using a non-integer number instead of an integer will result in an error in the future\n",
        "  return _load_svmlight_file(f, dtype, multilabel, zero_based, query_id)\n",
        "/lhome/home/czarnecki/.local/lib/python2.7/site-packages/sklearn/datasets/svmlight_format.py:137: DeprecationWarning: using a non-integer number instead of an integer will result in an error in the future\n",
        "  return _load_svmlight_file(f, dtype, multilabel, zero_based, query_id)\n",
        "/lhome/home/czarnecki/.local/lib/python2.7/site-packages/sklearn/datasets/svmlight_format.py:137: DeprecationWarning: using a non-integer number instead of an integer will result in an error in the future\n",
        "  return _load_svmlight_file(f, dtype, multilabel, zero_based, query_id)\n",
        "/lhome/home/czarnecki/.local/lib/python2.7/site-packages/sklearn/datasets/svmlight_format.py:137: DeprecationWarning: using a non-integer number instead of an integer will result in an error in the future\n",
        "  return _load_svmlight_file(f, dtype, multilabel, zero_based, query_id)\n",
        "/lhome/home/czarnecki/.local/lib/python2.7/site-packages/sklearn/datasets/svmlight_format.py:137: DeprecationWarning: using a non-integer number instead of an integer will result in an error in the future\n",
        "  return _load_svmlight_file(f, dtype, multilabel, zero_based, query_id)\n",
        "/lhome/home/czarnecki/.local/lib/python2.7/site-packages/sklearn/datasets/svmlight_format.py:137: DeprecationWarning: using a non-integer number instead of an integer will result in an error in the future\n",
        "  return _load_svmlight_file(f, dtype, multilabel, zero_based, query_id)\n",
        "/lhome/home/czarnecki/.local/lib/python2.7/site-packages/sklearn/datasets/svmlight_format.py:137: DeprecationWarning: using a non-integer number instead of an integer will result in an error in the future\n",
        "  return _load_svmlight_file(f, dtype, multilabel, zero_based, query_id)\n",
        "/lhome/home/czarnecki/.local/lib/python2.7/site-packages/sklearn/datasets/svmlight_format.py:137: DeprecationWarning: using a non-integer number instead of an integer will result in an error in the future\n",
        "  return _load_svmlight_file(f, dtype, multilabel, zero_based, query_id)\n",
        "/lhome/home/czarnecki/.local/lib/python2.7/site-packages/sklearn/datasets/svmlight_format.py:137: DeprecationWarning: using a non-integer number instead of an integer will result in an error in the future\n",
        "  return _load_svmlight_file(f, dtype, multilabel, zero_based, query_id)\n",
        "/lhome/home/czarnecki/.local/lib/python2.7/site-packages/sklearn/datasets/svmlight_format.py:137: DeprecationWarning: using a non-integer number instead of an integer will result in an error in the future\n",
        "  return _load_svmlight_file(f, dtype, multilabel, zero_based, query_id)\n",
        "/lhome/home/czarnecki/.local/lib/python2.7/site-packages/sklearn/datasets/svmlight_format.py:137: DeprecationWarning: using a non-integer number instead of an integer will result in an error in the future\n",
        "  return _load_svmlight_file(f, dtype, multilabel, zero_based, query_id)\n",
        "/lhome/home/czarnecki/.local/lib/python2.7/site-packages/sklearn/datasets/svmlight_format.py:137: DeprecationWarning: using a non-integer number instead of an integer will result in an error in the future\n",
        "  return _load_svmlight_file(f, dtype, multilabel, zero_based, query_id)\n",
        "/lhome/home/czarnecki/.local/lib/python2.7/site-packages/sklearn/datasets/svmlight_format.py:137: DeprecationWarning: using a non-integer number instead of an integer will result in an error in the future\n",
        "  return _load_svmlight_file(f, dtype, multilabel, zero_based, query_id)\n",
        "/lhome/home/czarnecki/.local/lib/python2.7/site-packages/sklearn/datasets/svmlight_format.py:137: DeprecationWarning: using a non-integer number instead of an integer will result in an error in the future\n",
        "  return _load_svmlight_file(f, dtype, multilabel, zero_based, query_id)\n",
        "/lhome/home/czarnecki/.local/lib/python2.7/site-packages/sklearn/datasets/svmlight_format.py:137: DeprecationWarning: using a non-integer number instead of an integer will result in an error in the future\n",
        "  return _load_svmlight_file(f, dtype, multilabel, zero_based, query_id)\n",
        "/lhome/home/czarnecki/.local/lib/python2.7/site-packages/sklearn/datasets/svmlight_format.py:137: DeprecationWarning: using a non-integer number instead of an integer will result in an error in the future\n",
        "  return _load_svmlight_file(f, dtype, multilabel, zero_based, query_id)\n",
        "/lhome/home/czarnecki/.local/lib/python2.7/site-packages/sklearn/datasets/svmlight_format.py:137: DeprecationWarning: using a non-integer number instead of an integer will result in an error in the future\n",
        "  return _load_svmlight_file(f, dtype, multilabel, zero_based, query_id)\n",
        "/lhome/home/czarnecki/.local/lib/python2.7/site-packages/sklearn/datasets/svmlight_format.py:137: DeprecationWarning: using a non-integer number instead of an integer will result in an error in the future\n",
        "  return _load_svmlight_file(f, dtype, multilabel, zero_based, query_id)\n"
       ]
      },
      {
       "output_type": "stream",
       "stream": "stderr",
       "text": [
        "/lhome/home/czarnecki/.local/lib/python2.7/site-packages/sklearn/datasets/svmlight_format.py:137: DeprecationWarning: using a non-integer number instead of an integer will result in an error in the future\n",
        "  return _load_svmlight_file(f, dtype, multilabel, zero_based, query_id)\n",
        "/lhome/home/czarnecki/.local/lib/python2.7/site-packages/sklearn/datasets/svmlight_format.py:137: DeprecationWarning: using a non-integer number instead of an integer will result in an error in the future\n",
        "  return _load_svmlight_file(f, dtype, multilabel, zero_based, query_id)\n",
        "/lhome/home/czarnecki/.local/lib/python2.7/site-packages/sklearn/datasets/svmlight_format.py:137: DeprecationWarning: using a non-integer number instead of an integer will result in an error in the future\n",
        "  return _load_svmlight_file(f, dtype, multilabel, zero_based, query_id)\n",
        "/lhome/home/czarnecki/.local/lib/python2.7/site-packages/sklearn/datasets/svmlight_format.py:137: DeprecationWarning: using a non-integer number instead of an integer will result in an error in the future\n",
        "  return _load_svmlight_file(f, dtype, multilabel, zero_based, query_id)\n",
        "/lhome/home/czarnecki/.local/lib/python2.7/site-packages/sklearn/datasets/svmlight_format.py:137: DeprecationWarning: using a non-integer number instead of an integer will result in an error in the future\n",
        "  return _load_svmlight_file(f, dtype, multilabel, zero_based, query_id)\n",
        "/lhome/home/czarnecki/.local/lib/python2.7/site-packages/sklearn/datasets/svmlight_format.py:137: DeprecationWarning: using a non-integer number instead of an integer will result in an error in the future\n",
        "  return _load_svmlight_file(f, dtype, multilabel, zero_based, query_id)\n",
        "/lhome/home/czarnecki/.local/lib/python2.7/site-packages/sklearn/datasets/svmlight_format.py:137: DeprecationWarning: using a non-integer number instead of an integer will result in an error in the future\n",
        "  return _load_svmlight_file(f, dtype, multilabel, zero_based, query_id)\n",
        "/lhome/home/czarnecki/.local/lib/python2.7/site-packages/sklearn/datasets/svmlight_format.py:137: DeprecationWarning: using a non-integer number instead of an integer will result in an error in the future\n",
        "  return _load_svmlight_file(f, dtype, multilabel, zero_based, query_id)\n",
        "/lhome/home/czarnecki/.local/lib/python2.7/site-packages/sklearn/datasets/svmlight_format.py:137: DeprecationWarning: using a non-integer number instead of an integer will result in an error in the future\n",
        "  return _load_svmlight_file(f, dtype, multilabel, zero_based, query_id)\n",
        "/lhome/home/czarnecki/.local/lib/python2.7/site-packages/sklearn/datasets/svmlight_format.py:137: DeprecationWarning: using a non-integer number instead of an integer will result in an error in the future\n",
        "  return _load_svmlight_file(f, dtype, multilabel, zero_based, query_id)\n",
        "/lhome/home/czarnecki/.local/lib/python2.7/site-packages/sklearn/datasets/svmlight_format.py:137: DeprecationWarning: using a non-integer number instead of an integer will result in an error in the future\n",
        "  return _load_svmlight_file(f, dtype, multilabel, zero_based, query_id)\n",
        "/lhome/home/czarnecki/.local/lib/python2.7/site-packages/sklearn/datasets/svmlight_format.py:137: DeprecationWarning: using a non-integer number instead of an integer will result in an error in the future\n",
        "  return _load_svmlight_file(f, dtype, multilabel, zero_based, query_id)\n",
        "/lhome/home/czarnecki/.local/lib/python2.7/site-packages/sklearn/datasets/svmlight_format.py:137: DeprecationWarning: using a non-integer number instead of an integer will result in an error in the future\n",
        "  return _load_svmlight_file(f, dtype, multilabel, zero_based, query_id)\n",
        "/lhome/home/czarnecki/.local/lib/python2.7/site-packages/sklearn/datasets/svmlight_format.py:137: DeprecationWarning: using a non-integer number instead of an integer will result in an error in the future\n",
        "  return _load_svmlight_file(f, dtype, multilabel, zero_based, query_id)\n",
        "/lhome/home/czarnecki/.local/lib/python2.7/site-packages/sklearn/datasets/svmlight_format.py:137: DeprecationWarning: using a non-integer number instead of an integer will result in an error in the future\n",
        "  return _load_svmlight_file(f, dtype, multilabel, zero_based, query_id)\n",
        "/lhome/home/czarnecki/.local/lib/python2.7/site-packages/sklearn/datasets/svmlight_format.py:137: DeprecationWarning: using a non-integer number instead of an integer will result in an error in the future\n",
        "  return _load_svmlight_file(f, dtype, multilabel, zero_based, query_id)\n",
        "/lhome/home/czarnecki/.local/lib/python2.7/site-packages/sklearn/datasets/svmlight_format.py:137: DeprecationWarning: using a non-integer number instead of an integer will result in an error in the future\n",
        "  return _load_svmlight_file(f, dtype, multilabel, zero_based, query_id)\n",
        "/lhome/home/czarnecki/.local/lib/python2.7/site-packages/sklearn/datasets/svmlight_format.py:137: DeprecationWarning: using a non-integer number instead of an integer will result in an error in the future\n",
        "  return _load_svmlight_file(f, dtype, multilabel, zero_based, query_id)\n",
        "/lhome/home/czarnecki/.local/lib/python2.7/site-packages/sklearn/datasets/svmlight_format.py:137: DeprecationWarning: using a non-integer number instead of an integer will result in an error in the future\n",
        "  return _load_svmlight_file(f, dtype, multilabel, zero_based, query_id)\n",
        "/lhome/home/czarnecki/.local/lib/python2.7/site-packages/sklearn/datasets/svmlight_format.py:137: DeprecationWarning: using a non-integer number instead of an integer will result in an error in the future\n",
        "  return _load_svmlight_file(f, dtype, multilabel, zero_based, query_id)\n",
        "/lhome/home/czarnecki/.local/lib/python2.7/site-packages/sklearn/datasets/svmlight_format.py:137: DeprecationWarning: using a non-integer number instead of an integer will result in an error in the future\n",
        "  return _load_svmlight_file(f, dtype, multilabel, zero_based, query_id)\n",
        "/lhome/home/czarnecki/.local/lib/python2.7/site-packages/sklearn/datasets/svmlight_format.py:137: DeprecationWarning: using a non-integer number instead of an integer will result in an error in the future\n",
        "  return _load_svmlight_file(f, dtype, multilabel, zero_based, query_id)\n"
       ]
      },
      {
       "output_type": "stream",
       "stream": "stderr",
       "text": [
        "/lhome/home/czarnecki/.local/lib/python2.7/site-packages/sklearn/datasets/svmlight_format.py:137: DeprecationWarning: using a non-integer number instead of an integer will result in an error in the future\n",
        "  return _load_svmlight_file(f, dtype, multilabel, zero_based, query_id)\n",
        "/lhome/home/czarnecki/.local/lib/python2.7/site-packages/sklearn/datasets/svmlight_format.py:137: DeprecationWarning: using a non-integer number instead of an integer will result in an error in the future\n",
        "  return _load_svmlight_file(f, dtype, multilabel, zero_based, query_id)\n",
        "/lhome/home/czarnecki/.local/lib/python2.7/site-packages/sklearn/datasets/svmlight_format.py:137: DeprecationWarning: using a non-integer number instead of an integer will result in an error in the future\n",
        "  return _load_svmlight_file(f, dtype, multilabel, zero_based, query_id)\n",
        "/lhome/home/czarnecki/.local/lib/python2.7/site-packages/sklearn/datasets/svmlight_format.py:137: DeprecationWarning: using a non-integer number instead of an integer will result in an error in the future\n",
        "  return _load_svmlight_file(f, dtype, multilabel, zero_based, query_id)\n",
        "/lhome/home/czarnecki/.local/lib/python2.7/site-packages/sklearn/datasets/svmlight_format.py:137: DeprecationWarning: using a non-integer number instead of an integer will result in an error in the future\n",
        "  return _load_svmlight_file(f, dtype, multilabel, zero_based, query_id)\n",
        "/lhome/home/czarnecki/.local/lib/python2.7/site-packages/sklearn/datasets/svmlight_format.py:137: DeprecationWarning: using a non-integer number instead of an integer will result in an error in the future\n",
        "  return _load_svmlight_file(f, dtype, multilabel, zero_based, query_id)\n",
        "/lhome/home/czarnecki/.local/lib/python2.7/site-packages/sklearn/datasets/svmlight_format.py:137: DeprecationWarning: using a non-integer number instead of an integer will result in an error in the future\n",
        "  return _load_svmlight_file(f, dtype, multilabel, zero_based, query_id)\n",
        "/lhome/home/czarnecki/.local/lib/python2.7/site-packages/sklearn/datasets/svmlight_format.py:137: DeprecationWarning: using a non-integer number instead of an integer will result in an error in the future\n",
        "  return _load_svmlight_file(f, dtype, multilabel, zero_based, query_id)\n",
        "/lhome/home/czarnecki/.local/lib/python2.7/site-packages/sklearn/datasets/svmlight_format.py:137: DeprecationWarning: using a non-integer number instead of an integer will result in an error in the future\n",
        "  return _load_svmlight_file(f, dtype, multilabel, zero_based, query_id)\n",
        "/lhome/home/czarnecki/.local/lib/python2.7/site-packages/sklearn/datasets/svmlight_format.py:137: DeprecationWarning: using a non-integer number instead of an integer will result in an error in the future\n",
        "  return _load_svmlight_file(f, dtype, multilabel, zero_based, query_id)\n",
        "/lhome/home/czarnecki/.local/lib/python2.7/site-packages/sklearn/datasets/svmlight_format.py:137: DeprecationWarning: using a non-integer number instead of an integer will result in an error in the future\n",
        "  return _load_svmlight_file(f, dtype, multilabel, zero_based, query_id)\n",
        "/lhome/home/czarnecki/.local/lib/python2.7/site-packages/sklearn/datasets/svmlight_format.py:137: DeprecationWarning: using a non-integer number instead of an integer will result in an error in the future\n",
        "  return _load_svmlight_file(f, dtype, multilabel, zero_based, query_id)\n",
        "/lhome/home/czarnecki/.local/lib/python2.7/site-packages/sklearn/datasets/svmlight_format.py:137: DeprecationWarning: using a non-integer number instead of an integer will result in an error in the future\n",
        "  return _load_svmlight_file(f, dtype, multilabel, zero_based, query_id)\n",
        "/lhome/home/czarnecki/.local/lib/python2.7/site-packages/sklearn/datasets/svmlight_format.py:137: DeprecationWarning: using a non-integer number instead of an integer will result in an error in the future\n",
        "  return _load_svmlight_file(f, dtype, multilabel, zero_based, query_id)\n"
       ]
      },
      {
       "output_type": "stream",
       "stream": "stderr",
       "text": [
        "/lhome/home/czarnecki/.local/lib/python2.7/site-packages/sklearn/datasets/svmlight_format.py:137: DeprecationWarning: using a non-integer number instead of an integer will result in an error in the future\n",
        "  return _load_svmlight_file(f, dtype, multilabel, zero_based, query_id)\n",
        "/lhome/home/czarnecki/.local/lib/python2.7/site-packages/sklearn/datasets/svmlight_format.py:137: DeprecationWarning: using a non-integer number instead of an integer will result in an error in the future\n",
        "  return _load_svmlight_file(f, dtype, multilabel, zero_based, query_id)\n",
        "/lhome/home/czarnecki/.local/lib/python2.7/site-packages/sklearn/datasets/svmlight_format.py:137: DeprecationWarning: using a non-integer number instead of an integer will result in an error in the future\n",
        "  return _load_svmlight_file(f, dtype, multilabel, zero_based, query_id)\n",
        "/lhome/home/czarnecki/.local/lib/python2.7/site-packages/sklearn/datasets/svmlight_format.py:137: DeprecationWarning: using a non-integer number instead of an integer will result in an error in the future\n",
        "  return _load_svmlight_file(f, dtype, multilabel, zero_based, query_id)\n",
        "/lhome/home/czarnecki/.local/lib/python2.7/site-packages/sklearn/datasets/svmlight_format.py:137: DeprecationWarning: using a non-integer number instead of an integer will result in an error in the future\n",
        "  return _load_svmlight_file(f, dtype, multilabel, zero_based, query_id)\n",
        "/lhome/home/czarnecki/.local/lib/python2.7/site-packages/sklearn/datasets/svmlight_format.py:137: DeprecationWarning: using a non-integer number instead of an integer will result in an error in the future\n",
        "  return _load_svmlight_file(f, dtype, multilabel, zero_based, query_id)\n",
        "/lhome/home/czarnecki/.local/lib/python2.7/site-packages/sklearn/datasets/svmlight_format.py:137: DeprecationWarning: using a non-integer number instead of an integer will result in an error in the future\n",
        "  return _load_svmlight_file(f, dtype, multilabel, zero_based, query_id)\n",
        "/lhome/home/czarnecki/.local/lib/python2.7/site-packages/sklearn/datasets/svmlight_format.py:137: DeprecationWarning: using a non-integer number instead of an integer will result in an error in the future\n",
        "  return _load_svmlight_file(f, dtype, multilabel, zero_based, query_id)\n",
        "/lhome/home/czarnecki/.local/lib/python2.7/site-packages/sklearn/datasets/svmlight_format.py:137: DeprecationWarning: using a non-integer number instead of an integer will result in an error in the future\n",
        "  return _load_svmlight_file(f, dtype, multilabel, zero_based, query_id)\n",
        "/lhome/home/czarnecki/.local/lib/python2.7/site-packages/sklearn/datasets/svmlight_format.py:137: DeprecationWarning: using a non-integer number instead of an integer will result in an error in the future\n",
        "  return _load_svmlight_file(f, dtype, multilabel, zero_based, query_id)\n",
        "/lhome/home/czarnecki/.local/lib/python2.7/site-packages/sklearn/datasets/svmlight_format.py:137: DeprecationWarning: using a non-integer number instead of an integer will result in an error in the future\n",
        "  return _load_svmlight_file(f, dtype, multilabel, zero_based, query_id)\n",
        "/lhome/home/czarnecki/.local/lib/python2.7/site-packages/sklearn/datasets/svmlight_format.py:137: DeprecationWarning: using a non-integer number instead of an integer will result in an error in the future\n",
        "  return _load_svmlight_file(f, dtype, multilabel, zero_based, query_id)\n",
        "/lhome/home/czarnecki/.local/lib/python2.7/site-packages/sklearn/datasets/svmlight_format.py:137: DeprecationWarning: using a non-integer number instead of an integer will result in an error in the future\n",
        "  return _load_svmlight_file(f, dtype, multilabel, zero_based, query_id)\n",
        "/lhome/home/czarnecki/.local/lib/python2.7/site-packages/sklearn/datasets/svmlight_format.py:137: DeprecationWarning: using a non-integer number instead of an integer will result in an error in the future\n",
        "  return _load_svmlight_file(f, dtype, multilabel, zero_based, query_id)\n",
        "/lhome/home/czarnecki/.local/lib/python2.7/site-packages/sklearn/datasets/svmlight_format.py:137: DeprecationWarning: using a non-integer number instead of an integer will result in an error in the future\n",
        "  return _load_svmlight_file(f, dtype, multilabel, zero_based, query_id)\n",
        "/lhome/home/czarnecki/.local/lib/python2.7/site-packages/sklearn/datasets/svmlight_format.py:137: DeprecationWarning: using a non-integer number instead of an integer will result in an error in the future\n",
        "  return _load_svmlight_file(f, dtype, multilabel, zero_based, query_id)\n",
        "/lhome/home/czarnecki/.local/lib/python2.7/site-packages/sklearn/datasets/svmlight_format.py:137: DeprecationWarning: using a non-integer number instead of an integer will result in an error in the future\n",
        "  return _load_svmlight_file(f, dtype, multilabel, zero_based, query_id)\n",
        "/lhome/home/czarnecki/.local/lib/python2.7/site-packages/sklearn/datasets/svmlight_format.py:137: DeprecationWarning: using a non-integer number instead of an integer will result in an error in the future\n",
        "  return _load_svmlight_file(f, dtype, multilabel, zero_based, query_id)\n",
        "/lhome/home/czarnecki/.local/lib/python2.7/site-packages/sklearn/datasets/svmlight_format.py:137: DeprecationWarning: using a non-integer number instead of an integer will result in an error in the future\n",
        "  return _load_svmlight_file(f, dtype, multilabel, zero_based, query_id)\n",
        "/lhome/home/czarnecki/.local/lib/python2.7/site-packages/sklearn/datasets/svmlight_format.py:137: DeprecationWarning: using a non-integer number instead of an integer will result in an error in the future\n",
        "  return _load_svmlight_file(f, dtype, multilabel, zero_based, query_id)\n"
       ]
      },
      {
       "output_type": "stream",
       "stream": "stderr",
       "text": [
        "/lhome/home/czarnecki/.local/lib/python2.7/site-packages/sklearn/datasets/svmlight_format.py:137: DeprecationWarning: using a non-integer number instead of an integer will result in an error in the future\n",
        "  return _load_svmlight_file(f, dtype, multilabel, zero_based, query_id)\n",
        "/lhome/home/czarnecki/.local/lib/python2.7/site-packages/sklearn/datasets/svmlight_format.py:137: DeprecationWarning: using a non-integer number instead of an integer will result in an error in the future\n",
        "  return _load_svmlight_file(f, dtype, multilabel, zero_based, query_id)\n",
        "/lhome/home/czarnecki/.local/lib/python2.7/site-packages/sklearn/datasets/svmlight_format.py:137: DeprecationWarning: using a non-integer number instead of an integer will result in an error in the future\n",
        "  return _load_svmlight_file(f, dtype, multilabel, zero_based, query_id)\n",
        "/lhome/home/czarnecki/.local/lib/python2.7/site-packages/sklearn/datasets/svmlight_format.py:137: DeprecationWarning: using a non-integer number instead of an integer will result in an error in the future\n",
        "  return _load_svmlight_file(f, dtype, multilabel, zero_based, query_id)\n",
        "/lhome/home/czarnecki/.local/lib/python2.7/site-packages/sklearn/datasets/svmlight_format.py:137: DeprecationWarning: using a non-integer number instead of an integer will result in an error in the future\n",
        "  return _load_svmlight_file(f, dtype, multilabel, zero_based, query_id)\n",
        "/lhome/home/czarnecki/.local/lib/python2.7/site-packages/sklearn/datasets/svmlight_format.py:137: DeprecationWarning: using a non-integer number instead of an integer will result in an error in the future\n",
        "  return _load_svmlight_file(f, dtype, multilabel, zero_based, query_id)\n",
        "/lhome/home/czarnecki/.local/lib/python2.7/site-packages/sklearn/datasets/svmlight_format.py:137: DeprecationWarning: using a non-integer number instead of an integer will result in an error in the future\n",
        "  return _load_svmlight_file(f, dtype, multilabel, zero_based, query_id)\n",
        "/lhome/home/czarnecki/.local/lib/python2.7/site-packages/sklearn/datasets/svmlight_format.py:137: DeprecationWarning: using a non-integer number instead of an integer will result in an error in the future\n",
        "  return _load_svmlight_file(f, dtype, multilabel, zero_based, query_id)\n"
       ]
      },
      {
       "output_type": "stream",
       "stream": "stderr",
       "text": [
        "/lhome/home/czarnecki/.local/lib/python2.7/site-packages/sklearn/datasets/svmlight_format.py:137: DeprecationWarning: using a non-integer number instead of an integer will result in an error in the future\n",
        "  return _load_svmlight_file(f, dtype, multilabel, zero_based, query_id)\n",
        "/lhome/home/czarnecki/.local/lib/python2.7/site-packages/sklearn/datasets/svmlight_format.py:137: DeprecationWarning: using a non-integer number instead of an integer will result in an error in the future\n",
        "  return _load_svmlight_file(f, dtype, multilabel, zero_based, query_id)\n",
        "/lhome/home/czarnecki/.local/lib/python2.7/site-packages/sklearn/datasets/svmlight_format.py:137: DeprecationWarning: using a non-integer number instead of an integer will result in an error in the future\n",
        "  return _load_svmlight_file(f, dtype, multilabel, zero_based, query_id)\n",
        "/lhome/home/czarnecki/.local/lib/python2.7/site-packages/sklearn/datasets/svmlight_format.py:137: DeprecationWarning: using a non-integer number instead of an integer will result in an error in the future\n",
        "  return _load_svmlight_file(f, dtype, multilabel, zero_based, query_id)\n",
        "/lhome/home/czarnecki/.local/lib/python2.7/site-packages/sklearn/datasets/svmlight_format.py:137: DeprecationWarning: using a non-integer number instead of an integer will result in an error in the future\n",
        "  return _load_svmlight_file(f, dtype, multilabel, zero_based, query_id)\n",
        "/lhome/home/czarnecki/.local/lib/python2.7/site-packages/sklearn/datasets/svmlight_format.py:137: DeprecationWarning: using a non-integer number instead of an integer will result in an error in the future\n",
        "  return _load_svmlight_file(f, dtype, multilabel, zero_based, query_id)\n",
        "/lhome/home/czarnecki/.local/lib/python2.7/site-packages/sklearn/datasets/svmlight_format.py:137: DeprecationWarning: using a non-integer number instead of an integer will result in an error in the future\n",
        "  return _load_svmlight_file(f, dtype, multilabel, zero_based, query_id)\n",
        "/lhome/home/czarnecki/.local/lib/python2.7/site-packages/sklearn/datasets/svmlight_format.py:137: DeprecationWarning: using a non-integer number instead of an integer will result in an error in the future\n",
        "  return _load_svmlight_file(f, dtype, multilabel, zero_based, query_id)\n",
        "/lhome/home/czarnecki/.local/lib/python2.7/site-packages/sklearn/datasets/svmlight_format.py:137: DeprecationWarning: using a non-integer number instead of an integer will result in an error in the future\n",
        "  return _load_svmlight_file(f, dtype, multilabel, zero_based, query_id)\n",
        "/lhome/home/czarnecki/.local/lib/python2.7/site-packages/sklearn/datasets/svmlight_format.py:137: DeprecationWarning: using a non-integer number instead of an integer will result in an error in the future\n",
        "  return _load_svmlight_file(f, dtype, multilabel, zero_based, query_id)\n",
        "/lhome/home/czarnecki/.local/lib/python2.7/site-packages/sklearn/datasets/svmlight_format.py:137: DeprecationWarning: using a non-integer number instead of an integer will result in an error in the future\n",
        "  return _load_svmlight_file(f, dtype, multilabel, zero_based, query_id)\n",
        "/lhome/home/czarnecki/.local/lib/python2.7/site-packages/sklearn/datasets/svmlight_format.py:137: DeprecationWarning: using a non-integer number instead of an integer will result in an error in the future\n",
        "  return _load_svmlight_file(f, dtype, multilabel, zero_based, query_id)\n",
        "/lhome/home/czarnecki/.local/lib/python2.7/site-packages/sklearn/datasets/svmlight_format.py:137: DeprecationWarning: using a non-integer number instead of an integer will result in an error in the future\n",
        "  return _load_svmlight_file(f, dtype, multilabel, zero_based, query_id)\n",
        "/lhome/home/czarnecki/.local/lib/python2.7/site-packages/sklearn/datasets/svmlight_format.py:137: DeprecationWarning: using a non-integer number instead of an integer will result in an error in the future\n",
        "  return _load_svmlight_file(f, dtype, multilabel, zero_based, query_id)\n",
        "/lhome/home/czarnecki/.local/lib/python2.7/site-packages/sklearn/datasets/svmlight_format.py:137: DeprecationWarning: using a non-integer number instead of an integer will result in an error in the future\n",
        "  return _load_svmlight_file(f, dtype, multilabel, zero_based, query_id)\n",
        "/lhome/home/czarnecki/.local/lib/python2.7/site-packages/sklearn/datasets/svmlight_format.py:137: DeprecationWarning: using a non-integer number instead of an integer will result in an error in the future\n",
        "  return _load_svmlight_file(f, dtype, multilabel, zero_based, query_id)\n",
        "/lhome/home/czarnecki/.local/lib/python2.7/site-packages/sklearn/datasets/svmlight_format.py:137: DeprecationWarning: using a non-integer number instead of an integer will result in an error in the future\n",
        "  return _load_svmlight_file(f, dtype, multilabel, zero_based, query_id)\n",
        "/lhome/home/czarnecki/.local/lib/python2.7/site-packages/sklearn/datasets/svmlight_format.py:137: DeprecationWarning: using a non-integer number instead of an integer will result in an error in the future\n",
        "  return _load_svmlight_file(f, dtype, multilabel, zero_based, query_id)\n",
        "/lhome/home/czarnecki/.local/lib/python2.7/site-packages/sklearn/datasets/svmlight_format.py:137: DeprecationWarning: using a non-integer number instead of an integer will result in an error in the future\n",
        "  return _load_svmlight_file(f, dtype, multilabel, zero_based, query_id)\n",
        "/lhome/home/czarnecki/.local/lib/python2.7/site-packages/sklearn/datasets/svmlight_format.py:137: DeprecationWarning: using a non-integer number instead of an integer will result in an error in the future\n",
        "  return _load_svmlight_file(f, dtype, multilabel, zero_based, query_id)\n"
       ]
      },
      {
       "output_type": "stream",
       "stream": "stderr",
       "text": [
        "/lhome/home/czarnecki/.local/lib/python2.7/site-packages/sklearn/datasets/svmlight_format.py:137: DeprecationWarning: using a non-integer number instead of an integer will result in an error in the future\n",
        "  return _load_svmlight_file(f, dtype, multilabel, zero_based, query_id)\n",
        "/lhome/home/czarnecki/.local/lib/python2.7/site-packages/sklearn/datasets/svmlight_format.py:137: DeprecationWarning: using a non-integer number instead of an integer will result in an error in the future\n",
        "  return _load_svmlight_file(f, dtype, multilabel, zero_based, query_id)\n",
        "/lhome/home/czarnecki/.local/lib/python2.7/site-packages/sklearn/datasets/svmlight_format.py:137: DeprecationWarning: using a non-integer number instead of an integer will result in an error in the future\n",
        "  return _load_svmlight_file(f, dtype, multilabel, zero_based, query_id)\n",
        "/lhome/home/czarnecki/.local/lib/python2.7/site-packages/sklearn/datasets/svmlight_format.py:137: DeprecationWarning: using a non-integer number instead of an integer will result in an error in the future\n",
        "  return _load_svmlight_file(f, dtype, multilabel, zero_based, query_id)\n",
        "/lhome/home/czarnecki/.local/lib/python2.7/site-packages/sklearn/datasets/svmlight_format.py:137: DeprecationWarning: using a non-integer number instead of an integer will result in an error in the future\n",
        "  return _load_svmlight_file(f, dtype, multilabel, zero_based, query_id)\n",
        "/lhome/home/czarnecki/.local/lib/python2.7/site-packages/sklearn/datasets/svmlight_format.py:137: DeprecationWarning: using a non-integer number instead of an integer will result in an error in the future\n",
        "  return _load_svmlight_file(f, dtype, multilabel, zero_based, query_id)\n",
        "/lhome/home/czarnecki/.local/lib/python2.7/site-packages/sklearn/datasets/svmlight_format.py:137: DeprecationWarning: using a non-integer number instead of an integer will result in an error in the future\n",
        "  return _load_svmlight_file(f, dtype, multilabel, zero_based, query_id)\n",
        "/lhome/home/czarnecki/.local/lib/python2.7/site-packages/sklearn/datasets/svmlight_format.py:137: DeprecationWarning: using a non-integer number instead of an integer will result in an error in the future\n",
        "  return _load_svmlight_file(f, dtype, multilabel, zero_based, query_id)\n",
        "/lhome/home/czarnecki/.local/lib/python2.7/site-packages/sklearn/datasets/svmlight_format.py:137: DeprecationWarning: using a non-integer number instead of an integer will result in an error in the future\n",
        "  return _load_svmlight_file(f, dtype, multilabel, zero_based, query_id)\n",
        "/lhome/home/czarnecki/.local/lib/python2.7/site-packages/sklearn/datasets/svmlight_format.py:137: DeprecationWarning: using a non-integer number instead of an integer will result in an error in the future\n",
        "  return _load_svmlight_file(f, dtype, multilabel, zero_based, query_id)\n",
        "/lhome/home/czarnecki/.local/lib/python2.7/site-packages/sklearn/datasets/svmlight_format.py:137: DeprecationWarning: using a non-integer number instead of an integer will result in an error in the future\n",
        "  return _load_svmlight_file(f, dtype, multilabel, zero_based, query_id)\n",
        "/lhome/home/czarnecki/.local/lib/python2.7/site-packages/sklearn/datasets/svmlight_format.py:137: DeprecationWarning: using a non-integer number instead of an integer will result in an error in the future\n",
        "  return _load_svmlight_file(f, dtype, multilabel, zero_based, query_id)\n",
        "/lhome/home/czarnecki/.local/lib/python2.7/site-packages/sklearn/datasets/svmlight_format.py:137: DeprecationWarning: using a non-integer number instead of an integer will result in an error in the future\n",
        "  return _load_svmlight_file(f, dtype, multilabel, zero_based, query_id)\n",
        "/lhome/home/czarnecki/.local/lib/python2.7/site-packages/sklearn/datasets/svmlight_format.py:137: DeprecationWarning: using a non-integer number instead of an integer will result in an error in the future\n",
        "  return _load_svmlight_file(f, dtype, multilabel, zero_based, query_id)\n",
        "/lhome/home/czarnecki/.local/lib/python2.7/site-packages/sklearn/datasets/svmlight_format.py:137: DeprecationWarning: using a non-integer number instead of an integer will result in an error in the future\n",
        "  return _load_svmlight_file(f, dtype, multilabel, zero_based, query_id)\n",
        "/lhome/home/czarnecki/.local/lib/python2.7/site-packages/sklearn/datasets/svmlight_format.py:137: DeprecationWarning: using a non-integer number instead of an integer will result in an error in the future\n",
        "  return _load_svmlight_file(f, dtype, multilabel, zero_based, query_id)\n",
        "/lhome/home/czarnecki/.local/lib/python2.7/site-packages/sklearn/datasets/svmlight_format.py:137: DeprecationWarning: using a non-integer number instead of an integer will result in an error in the future\n",
        "  return _load_svmlight_file(f, dtype, multilabel, zero_based, query_id)\n",
        "/lhome/home/czarnecki/.local/lib/python2.7/site-packages/sklearn/datasets/svmlight_format.py:137: DeprecationWarning: using a non-integer number instead of an integer will result in an error in the future\n",
        "  return _load_svmlight_file(f, dtype, multilabel, zero_based, query_id)\n",
        "/lhome/home/czarnecki/.local/lib/python2.7/site-packages/sklearn/datasets/svmlight_format.py:137: DeprecationWarning: using a non-integer number instead of an integer will result in an error in the future\n",
        "  return _load_svmlight_file(f, dtype, multilabel, zero_based, query_id)\n",
        "/lhome/home/czarnecki/.local/lib/python2.7/site-packages/sklearn/datasets/svmlight_format.py:137: DeprecationWarning: using a non-integer number instead of an integer will result in an error in the future\n",
        "  return _load_svmlight_file(f, dtype, multilabel, zero_based, query_id)\n",
        "/lhome/home/czarnecki/.local/lib/python2.7/site-packages/sklearn/datasets/svmlight_format.py:137: DeprecationWarning: using a non-integer number instead of an integer will result in an error in the future\n",
        "  return _load_svmlight_file(f, dtype, multilabel, zero_based, query_id)\n",
        "/lhome/home/czarnecki/.local/lib/python2.7/site-packages/sklearn/datasets/svmlight_format.py:137: DeprecationWarning: using a non-integer number instead of an integer will result in an error in the future\n",
        "  return _load_svmlight_file(f, dtype, multilabel, zero_based, query_id)\n"
       ]
      },
      {
       "output_type": "stream",
       "stream": "stderr",
       "text": [
        "/lhome/home/czarnecki/.local/lib/python2.7/site-packages/sklearn/datasets/svmlight_format.py:137: DeprecationWarning: using a non-integer number instead of an integer will result in an error in the future\n",
        "  return _load_svmlight_file(f, dtype, multilabel, zero_based, query_id)\n",
        "/lhome/home/czarnecki/.local/lib/python2.7/site-packages/sklearn/datasets/svmlight_format.py:137: DeprecationWarning: using a non-integer number instead of an integer will result in an error in the future\n",
        "  return _load_svmlight_file(f, dtype, multilabel, zero_based, query_id)\n",
        "/lhome/home/czarnecki/.local/lib/python2.7/site-packages/sklearn/datasets/svmlight_format.py:137: DeprecationWarning: using a non-integer number instead of an integer will result in an error in the future\n",
        "  return _load_svmlight_file(f, dtype, multilabel, zero_based, query_id)\n",
        "/lhome/home/czarnecki/.local/lib/python2.7/site-packages/sklearn/datasets/svmlight_format.py:137: DeprecationWarning: using a non-integer number instead of an integer will result in an error in the future\n",
        "  return _load_svmlight_file(f, dtype, multilabel, zero_based, query_id)\n",
        "/lhome/home/czarnecki/.local/lib/python2.7/site-packages/sklearn/datasets/svmlight_format.py:137: DeprecationWarning: using a non-integer number instead of an integer will result in an error in the future\n",
        "  return _load_svmlight_file(f, dtype, multilabel, zero_based, query_id)\n",
        "/lhome/home/czarnecki/.local/lib/python2.7/site-packages/sklearn/datasets/svmlight_format.py:137: DeprecationWarning: using a non-integer number instead of an integer will result in an error in the future\n",
        "  return _load_svmlight_file(f, dtype, multilabel, zero_based, query_id)\n",
        "/lhome/home/czarnecki/.local/lib/python2.7/site-packages/sklearn/datasets/svmlight_format.py:137: DeprecationWarning: using a non-integer number instead of an integer will result in an error in the future\n",
        "  return _load_svmlight_file(f, dtype, multilabel, zero_based, query_id)\n",
        "/lhome/home/czarnecki/.local/lib/python2.7/site-packages/sklearn/datasets/svmlight_format.py:137: DeprecationWarning: using a non-integer number instead of an integer will result in an error in the future\n",
        "  return _load_svmlight_file(f, dtype, multilabel, zero_based, query_id)\n",
        "/lhome/home/czarnecki/.local/lib/python2.7/site-packages/sklearn/datasets/svmlight_format.py:137: DeprecationWarning: using a non-integer number instead of an integer will result in an error in the future\n",
        "  return _load_svmlight_file(f, dtype, multilabel, zero_based, query_id)\n",
        "/lhome/home/czarnecki/.local/lib/python2.7/site-packages/sklearn/datasets/svmlight_format.py:137: DeprecationWarning: using a non-integer number instead of an integer will result in an error in the future\n",
        "  return _load_svmlight_file(f, dtype, multilabel, zero_based, query_id)\n",
        "/lhome/home/czarnecki/.local/lib/python2.7/site-packages/sklearn/datasets/svmlight_format.py:137: DeprecationWarning: using a non-integer number instead of an integer will result in an error in the future\n",
        "  return _load_svmlight_file(f, dtype, multilabel, zero_based, query_id)\n",
        "/lhome/home/czarnecki/.local/lib/python2.7/site-packages/sklearn/datasets/svmlight_format.py:137: DeprecationWarning: using a non-integer number instead of an integer will result in an error in the future\n",
        "  return _load_svmlight_file(f, dtype, multilabel, zero_based, query_id)\n",
        "/lhome/home/czarnecki/.local/lib/python2.7/site-packages/sklearn/datasets/svmlight_format.py:137: DeprecationWarning: using a non-integer number instead of an integer will result in an error in the future\n",
        "  return _load_svmlight_file(f, dtype, multilabel, zero_based, query_id)\n",
        "/lhome/home/czarnecki/.local/lib/python2.7/site-packages/sklearn/datasets/svmlight_format.py:137: DeprecationWarning: using a non-integer number instead of an integer will result in an error in the future\n",
        "  return _load_svmlight_file(f, dtype, multilabel, zero_based, query_id)\n",
        "/lhome/home/czarnecki/.local/lib/python2.7/site-packages/sklearn/datasets/svmlight_format.py:137: DeprecationWarning: using a non-integer number instead of an integer will result in an error in the future\n",
        "  return _load_svmlight_file(f, dtype, multilabel, zero_based, query_id)\n",
        "/lhome/home/czarnecki/.local/lib/python2.7/site-packages/sklearn/datasets/svmlight_format.py:137: DeprecationWarning: using a non-integer number instead of an integer will result in an error in the future\n",
        "  return _load_svmlight_file(f, dtype, multilabel, zero_based, query_id)\n",
        "/lhome/home/czarnecki/.local/lib/python2.7/site-packages/sklearn/datasets/svmlight_format.py:137: DeprecationWarning: using a non-integer number instead of an integer will result in an error in the future\n",
        "  return _load_svmlight_file(f, dtype, multilabel, zero_based, query_id)\n",
        "/lhome/home/czarnecki/.local/lib/python2.7/site-packages/sklearn/datasets/svmlight_format.py:137: DeprecationWarning: using a non-integer number instead of an integer will result in an error in the future\n",
        "  return _load_svmlight_file(f, dtype, multilabel, zero_based, query_id)\n"
       ]
      },
      {
       "output_type": "stream",
       "stream": "stderr",
       "text": [
        "/lhome/home/czarnecki/.local/lib/python2.7/site-packages/sklearn/datasets/svmlight_format.py:137: DeprecationWarning: using a non-integer number instead of an integer will result in an error in the future\n",
        "  return _load_svmlight_file(f, dtype, multilabel, zero_based, query_id)\n",
        "/lhome/home/czarnecki/.local/lib/python2.7/site-packages/sklearn/datasets/svmlight_format.py:137: DeprecationWarning: using a non-integer number instead of an integer will result in an error in the future\n",
        "  return _load_svmlight_file(f, dtype, multilabel, zero_based, query_id)\n",
        "/lhome/home/czarnecki/.local/lib/python2.7/site-packages/sklearn/datasets/svmlight_format.py:137: DeprecationWarning: using a non-integer number instead of an integer will result in an error in the future\n",
        "  return _load_svmlight_file(f, dtype, multilabel, zero_based, query_id)\n",
        "/lhome/home/czarnecki/.local/lib/python2.7/site-packages/sklearn/datasets/svmlight_format.py:137: DeprecationWarning: using a non-integer number instead of an integer will result in an error in the future\n",
        "  return _load_svmlight_file(f, dtype, multilabel, zero_based, query_id)\n",
        "/lhome/home/czarnecki/.local/lib/python2.7/site-packages/sklearn/datasets/svmlight_format.py:137: DeprecationWarning: using a non-integer number instead of an integer will result in an error in the future\n",
        "  return _load_svmlight_file(f, dtype, multilabel, zero_based, query_id)\n",
        "/lhome/home/czarnecki/.local/lib/python2.7/site-packages/sklearn/datasets/svmlight_format.py:137: DeprecationWarning: using a non-integer number instead of an integer will result in an error in the future\n",
        "  return _load_svmlight_file(f, dtype, multilabel, zero_based, query_id)\n"
       ]
      },
      {
       "output_type": "stream",
       "stream": "stderr",
       "text": [
        "/lhome/home/czarnecki/.local/lib/python2.7/site-packages/sklearn/datasets/svmlight_format.py:137: DeprecationWarning: using a non-integer number instead of an integer will result in an error in the future\n",
        "  return _load_svmlight_file(f, dtype, multilabel, zero_based, query_id)\n",
        "/lhome/home/czarnecki/.local/lib/python2.7/site-packages/sklearn/datasets/svmlight_format.py:137: DeprecationWarning: using a non-integer number instead of an integer will result in an error in the future\n",
        "  return _load_svmlight_file(f, dtype, multilabel, zero_based, query_id)\n",
        "/lhome/home/czarnecki/.local/lib/python2.7/site-packages/sklearn/datasets/svmlight_format.py:137: DeprecationWarning: using a non-integer number instead of an integer will result in an error in the future\n",
        "  return _load_svmlight_file(f, dtype, multilabel, zero_based, query_id)\n",
        "/lhome/home/czarnecki/.local/lib/python2.7/site-packages/sklearn/datasets/svmlight_format.py:137: DeprecationWarning: using a non-integer number instead of an integer will result in an error in the future\n",
        "  return _load_svmlight_file(f, dtype, multilabel, zero_based, query_id)\n",
        "/lhome/home/czarnecki/.local/lib/python2.7/site-packages/sklearn/datasets/svmlight_format.py:137: DeprecationWarning: using a non-integer number instead of an integer will result in an error in the future\n",
        "  return _load_svmlight_file(f, dtype, multilabel, zero_based, query_id)\n",
        "/lhome/home/czarnecki/.local/lib/python2.7/site-packages/sklearn/datasets/svmlight_format.py:137: DeprecationWarning: using a non-integer number instead of an integer will result in an error in the future\n",
        "  return _load_svmlight_file(f, dtype, multilabel, zero_based, query_id)\n",
        "/lhome/home/czarnecki/.local/lib/python2.7/site-packages/sklearn/datasets/svmlight_format.py:137: DeprecationWarning: using a non-integer number instead of an integer will result in an error in the future\n",
        "  return _load_svmlight_file(f, dtype, multilabel, zero_based, query_id)\n",
        "/lhome/home/czarnecki/.local/lib/python2.7/site-packages/sklearn/datasets/svmlight_format.py:137: DeprecationWarning: using a non-integer number instead of an integer will result in an error in the future\n",
        "  return _load_svmlight_file(f, dtype, multilabel, zero_based, query_id)\n"
       ]
      },
      {
       "output_type": "stream",
       "stream": "stderr",
       "text": [
        "/lhome/home/czarnecki/.local/lib/python2.7/site-packages/sklearn/datasets/svmlight_format.py:137: DeprecationWarning: using a non-integer number instead of an integer will result in an error in the future\n",
        "  return _load_svmlight_file(f, dtype, multilabel, zero_based, query_id)\n",
        "/lhome/home/czarnecki/.local/lib/python2.7/site-packages/sklearn/datasets/svmlight_format.py:137: DeprecationWarning: using a non-integer number instead of an integer will result in an error in the future\n",
        "  return _load_svmlight_file(f, dtype, multilabel, zero_based, query_id)\n",
        "/lhome/home/czarnecki/.local/lib/python2.7/site-packages/sklearn/datasets/svmlight_format.py:137: DeprecationWarning: using a non-integer number instead of an integer will result in an error in the future\n",
        "  return _load_svmlight_file(f, dtype, multilabel, zero_based, query_id)\n",
        "/lhome/home/czarnecki/.local/lib/python2.7/site-packages/sklearn/datasets/svmlight_format.py:137: DeprecationWarning: using a non-integer number instead of an integer will result in an error in the future\n",
        "  return _load_svmlight_file(f, dtype, multilabel, zero_based, query_id)\n"
       ]
      },
      {
       "output_type": "stream",
       "stream": "stderr",
       "text": [
        "/lhome/home/czarnecki/.local/lib/python2.7/site-packages/sklearn/datasets/svmlight_format.py:137: DeprecationWarning: using a non-integer number instead of an integer will result in an error in the future\n",
        "  return _load_svmlight_file(f, dtype, multilabel, zero_based, query_id)\n",
        "/lhome/home/czarnecki/.local/lib/python2.7/site-packages/sklearn/datasets/svmlight_format.py:137: DeprecationWarning: using a non-integer number instead of an integer will result in an error in the future\n",
        "  return _load_svmlight_file(f, dtype, multilabel, zero_based, query_id)\n",
        "/lhome/home/czarnecki/.local/lib/python2.7/site-packages/sklearn/datasets/svmlight_format.py:137: DeprecationWarning: using a non-integer number instead of an integer will result in an error in the future\n",
        "  return _load_svmlight_file(f, dtype, multilabel, zero_based, query_id)\n",
        "/lhome/home/czarnecki/.local/lib/python2.7/site-packages/sklearn/datasets/svmlight_format.py:137: DeprecationWarning: using a non-integer number instead of an integer will result in an error in the future\n",
        "  return _load_svmlight_file(f, dtype, multilabel, zero_based, query_id)\n"
       ]
      },
      {
       "output_type": "stream",
       "stream": "stderr",
       "text": [
        "/lhome/home/czarnecki/.local/lib/python2.7/site-packages/sklearn/datasets/svmlight_format.py:137: DeprecationWarning: using a non-integer number instead of an integer will result in an error in the future\n",
        "  return _load_svmlight_file(f, dtype, multilabel, zero_based, query_id)\n",
        "/lhome/home/czarnecki/.local/lib/python2.7/site-packages/sklearn/datasets/svmlight_format.py:137: DeprecationWarning: using a non-integer number instead of an integer will result in an error in the future\n",
        "  return _load_svmlight_file(f, dtype, multilabel, zero_based, query_id)\n",
        "/lhome/home/czarnecki/.local/lib/python2.7/site-packages/sklearn/datasets/svmlight_format.py:137: DeprecationWarning: using a non-integer number instead of an integer will result in an error in the future\n",
        "  return _load_svmlight_file(f, dtype, multilabel, zero_based, query_id)\n",
        "/lhome/home/czarnecki/.local/lib/python2.7/site-packages/sklearn/datasets/svmlight_format.py:137: DeprecationWarning: using a non-integer number instead of an integer will result in an error in the future\n",
        "  return _load_svmlight_file(f, dtype, multilabel, zero_based, query_id)\n",
        "/lhome/home/czarnecki/.local/lib/python2.7/site-packages/sklearn/datasets/svmlight_format.py:137: DeprecationWarning: using a non-integer number instead of an integer will result in an error in the future\n",
        "  return _load_svmlight_file(f, dtype, multilabel, zero_based, query_id)\n",
        "/lhome/home/czarnecki/.local/lib/python2.7/site-packages/sklearn/datasets/svmlight_format.py:137: DeprecationWarning: using a non-integer number instead of an integer will result in an error in the future\n",
        "  return _load_svmlight_file(f, dtype, multilabel, zero_based, query_id)\n",
        "/lhome/home/czarnecki/.local/lib/python2.7/site-packages/sklearn/datasets/svmlight_format.py:137: DeprecationWarning: using a non-integer number instead of an integer will result in an error in the future\n",
        "  return _load_svmlight_file(f, dtype, multilabel, zero_based, query_id)\n",
        "/lhome/home/czarnecki/.local/lib/python2.7/site-packages/sklearn/datasets/svmlight_format.py:137: DeprecationWarning: using a non-integer number instead of an integer will result in an error in the future\n",
        "  return _load_svmlight_file(f, dtype, multilabel, zero_based, query_id)\n",
        "/lhome/home/czarnecki/.local/lib/python2.7/site-packages/sklearn/datasets/svmlight_format.py:137: DeprecationWarning: using a non-integer number instead of an integer will result in an error in the future\n",
        "  return _load_svmlight_file(f, dtype, multilabel, zero_based, query_id)\n",
        "/lhome/home/czarnecki/.local/lib/python2.7/site-packages/sklearn/datasets/svmlight_format.py:137: DeprecationWarning: using a non-integer number instead of an integer will result in an error in the future\n",
        "  return _load_svmlight_file(f, dtype, multilabel, zero_based, query_id)\n",
        "/lhome/home/czarnecki/.local/lib/python2.7/site-packages/sklearn/datasets/svmlight_format.py:137: DeprecationWarning: using a non-integer number instead of an integer will result in an error in the future\n",
        "  return _load_svmlight_file(f, dtype, multilabel, zero_based, query_id)\n",
        "/lhome/home/czarnecki/.local/lib/python2.7/site-packages/sklearn/datasets/svmlight_format.py:137: DeprecationWarning: using a non-integer number instead of an integer will result in an error in the future\n",
        "  return _load_svmlight_file(f, dtype, multilabel, zero_based, query_id)\n",
        "/lhome/home/czarnecki/.local/lib/python2.7/site-packages/sklearn/datasets/svmlight_format.py:137: DeprecationWarning: using a non-integer number instead of an integer will result in an error in the future\n",
        "  return _load_svmlight_file(f, dtype, multilabel, zero_based, query_id)\n",
        "/lhome/home/czarnecki/.local/lib/python2.7/site-packages/sklearn/datasets/svmlight_format.py:137: DeprecationWarning: using a non-integer number instead of an integer will result in an error in the future\n",
        "  return _load_svmlight_file(f, dtype, multilabel, zero_based, query_id)\n"
       ]
      },
      {
       "output_type": "stream",
       "stream": "stderr",
       "text": [
        "/lhome/home/czarnecki/.local/lib/python2.7/site-packages/sklearn/datasets/svmlight_format.py:137: DeprecationWarning: using a non-integer number instead of an integer will result in an error in the future\n",
        "  return _load_svmlight_file(f, dtype, multilabel, zero_based, query_id)\n",
        "/lhome/home/czarnecki/.local/lib/python2.7/site-packages/sklearn/datasets/svmlight_format.py:137: DeprecationWarning: using a non-integer number instead of an integer will result in an error in the future\n",
        "  return _load_svmlight_file(f, dtype, multilabel, zero_based, query_id)\n",
        "/lhome/home/czarnecki/.local/lib/python2.7/site-packages/sklearn/datasets/svmlight_format.py:137: DeprecationWarning: using a non-integer number instead of an integer will result in an error in the future\n",
        "  return _load_svmlight_file(f, dtype, multilabel, zero_based, query_id)\n",
        "/lhome/home/czarnecki/.local/lib/python2.7/site-packages/sklearn/datasets/svmlight_format.py:137: DeprecationWarning: using a non-integer number instead of an integer will result in an error in the future\n",
        "  return _load_svmlight_file(f, dtype, multilabel, zero_based, query_id)\n",
        "/lhome/home/czarnecki/.local/lib/python2.7/site-packages/sklearn/datasets/svmlight_format.py:137: DeprecationWarning: using a non-integer number instead of an integer will result in an error in the future\n",
        "  return _load_svmlight_file(f, dtype, multilabel, zero_based, query_id)\n",
        "/lhome/home/czarnecki/.local/lib/python2.7/site-packages/sklearn/datasets/svmlight_format.py:137: DeprecationWarning: using a non-integer number instead of an integer will result in an error in the future\n",
        "  return _load_svmlight_file(f, dtype, multilabel, zero_based, query_id)\n",
        "/lhome/home/czarnecki/.local/lib/python2.7/site-packages/sklearn/datasets/svmlight_format.py:137: DeprecationWarning: using a non-integer number instead of an integer will result in an error in the future\n",
        "  return _load_svmlight_file(f, dtype, multilabel, zero_based, query_id)\n",
        "/lhome/home/czarnecki/.local/lib/python2.7/site-packages/sklearn/datasets/svmlight_format.py:137: DeprecationWarning: using a non-integer number instead of an integer will result in an error in the future\n",
        "  return _load_svmlight_file(f, dtype, multilabel, zero_based, query_id)\n"
       ]
      },
      {
       "output_type": "stream",
       "stream": "stderr",
       "text": [
        "/lhome/home/czarnecki/.local/lib/python2.7/site-packages/sklearn/datasets/svmlight_format.py:137: DeprecationWarning: using a non-integer number instead of an integer will result in an error in the future\n",
        "  return _load_svmlight_file(f, dtype, multilabel, zero_based, query_id)\n",
        "/lhome/home/czarnecki/.local/lib/python2.7/site-packages/sklearn/datasets/svmlight_format.py:137: DeprecationWarning: using a non-integer number instead of an integer will result in an error in the future\n",
        "  return _load_svmlight_file(f, dtype, multilabel, zero_based, query_id)\n",
        "/lhome/home/czarnecki/.local/lib/python2.7/site-packages/sklearn/datasets/svmlight_format.py:137: DeprecationWarning: using a non-integer number instead of an integer will result in an error in the future\n",
        "  return _load_svmlight_file(f, dtype, multilabel, zero_based, query_id)\n",
        "/lhome/home/czarnecki/.local/lib/python2.7/site-packages/sklearn/datasets/svmlight_format.py:137: DeprecationWarning: using a non-integer number instead of an integer will result in an error in the future\n",
        "  return _load_svmlight_file(f, dtype, multilabel, zero_based, query_id)\n",
        "/lhome/home/czarnecki/.local/lib/python2.7/site-packages/sklearn/datasets/svmlight_format.py:137: DeprecationWarning: using a non-integer number instead of an integer will result in an error in the future\n",
        "  return _load_svmlight_file(f, dtype, multilabel, zero_based, query_id)\n",
        "/lhome/home/czarnecki/.local/lib/python2.7/site-packages/sklearn/datasets/svmlight_format.py:137: DeprecationWarning: using a non-integer number instead of an integer will result in an error in the future\n",
        "  return _load_svmlight_file(f, dtype, multilabel, zero_based, query_id)\n"
       ]
      },
      {
       "output_type": "stream",
       "stream": "stderr",
       "text": [
        "/lhome/home/czarnecki/.local/lib/python2.7/site-packages/sklearn/datasets/svmlight_format.py:137: DeprecationWarning: using a non-integer number instead of an integer will result in an error in the future\n",
        "  return _load_svmlight_file(f, dtype, multilabel, zero_based, query_id)\n",
        "/lhome/home/czarnecki/.local/lib/python2.7/site-packages/sklearn/datasets/svmlight_format.py:137: DeprecationWarning: using a non-integer number instead of an integer will result in an error in the future\n",
        "  return _load_svmlight_file(f, dtype, multilabel, zero_based, query_id)\n",
        "/lhome/home/czarnecki/.local/lib/python2.7/site-packages/sklearn/datasets/svmlight_format.py:137: DeprecationWarning: using a non-integer number instead of an integer will result in an error in the future\n",
        "  return _load_svmlight_file(f, dtype, multilabel, zero_based, query_id)\n",
        "/lhome/home/czarnecki/.local/lib/python2.7/site-packages/sklearn/datasets/svmlight_format.py:137: DeprecationWarning: using a non-integer number instead of an integer will result in an error in the future\n",
        "  return _load_svmlight_file(f, dtype, multilabel, zero_based, query_id)\n"
       ]
      },
      {
       "output_type": "stream",
       "stream": "stderr",
       "text": [
        "/lhome/home/czarnecki/.local/lib/python2.7/site-packages/sklearn/datasets/svmlight_format.py:137: DeprecationWarning: using a non-integer number instead of an integer will result in an error in the future\n",
        "  return _load_svmlight_file(f, dtype, multilabel, zero_based, query_id)\n",
        "/lhome/home/czarnecki/.local/lib/python2.7/site-packages/sklearn/datasets/svmlight_format.py:137: DeprecationWarning: using a non-integer number instead of an integer will result in an error in the future\n",
        "  return _load_svmlight_file(f, dtype, multilabel, zero_based, query_id)\n",
        "/lhome/home/czarnecki/.local/lib/python2.7/site-packages/sklearn/datasets/svmlight_format.py:137: DeprecationWarning: using a non-integer number instead of an integer will result in an error in the future\n",
        "  return _load_svmlight_file(f, dtype, multilabel, zero_based, query_id)\n",
        "/lhome/home/czarnecki/.local/lib/python2.7/site-packages/sklearn/datasets/svmlight_format.py:137: DeprecationWarning: using a non-integer number instead of an integer will result in an error in the future\n",
        "  return _load_svmlight_file(f, dtype, multilabel, zero_based, query_id)\n"
       ]
      },
      {
       "output_type": "stream",
       "stream": "stderr",
       "text": [
        "/lhome/home/czarnecki/.local/lib/python2.7/site-packages/sklearn/datasets/svmlight_format.py:137: DeprecationWarning: using a non-integer number instead of an integer will result in an error in the future\n",
        "  return _load_svmlight_file(f, dtype, multilabel, zero_based, query_id)\n",
        "/lhome/home/czarnecki/.local/lib/python2.7/site-packages/sklearn/datasets/svmlight_format.py:137: DeprecationWarning: using a non-integer number instead of an integer will result in an error in the future\n",
        "  return _load_svmlight_file(f, dtype, multilabel, zero_based, query_id)\n",
        "/lhome/home/czarnecki/.local/lib/python2.7/site-packages/sklearn/datasets/svmlight_format.py:137: DeprecationWarning: using a non-integer number instead of an integer will result in an error in the future\n",
        "  return _load_svmlight_file(f, dtype, multilabel, zero_based, query_id)\n",
        "/lhome/home/czarnecki/.local/lib/python2.7/site-packages/sklearn/datasets/svmlight_format.py:137: DeprecationWarning: using a non-integer number instead of an integer will result in an error in the future\n",
        "  return _load_svmlight_file(f, dtype, multilabel, zero_based, query_id)\n"
       ]
      },
      {
       "output_type": "stream",
       "stream": "stderr",
       "text": [
        "/lhome/home/czarnecki/.local/lib/python2.7/site-packages/sklearn/datasets/svmlight_format.py:137: DeprecationWarning: using a non-integer number instead of an integer will result in an error in the future\n",
        "  return _load_svmlight_file(f, dtype, multilabel, zero_based, query_id)\n",
        "/lhome/home/czarnecki/.local/lib/python2.7/site-packages/sklearn/datasets/svmlight_format.py:137: DeprecationWarning: using a non-integer number instead of an integer will result in an error in the future\n",
        "  return _load_svmlight_file(f, dtype, multilabel, zero_based, query_id)\n",
        "/lhome/home/czarnecki/.local/lib/python2.7/site-packages/sklearn/datasets/svmlight_format.py:137: DeprecationWarning: using a non-integer number instead of an integer will result in an error in the future\n",
        "  return _load_svmlight_file(f, dtype, multilabel, zero_based, query_id)\n",
        "/lhome/home/czarnecki/.local/lib/python2.7/site-packages/sklearn/datasets/svmlight_format.py:137: DeprecationWarning: using a non-integer number instead of an integer will result in an error in the future\n",
        "  return _load_svmlight_file(f, dtype, multilabel, zero_based, query_id)\n"
       ]
      },
      {
       "output_type": "stream",
       "stream": "stderr",
       "text": [
        "/lhome/home/czarnecki/.local/lib/python2.7/site-packages/sklearn/datasets/svmlight_format.py:137: DeprecationWarning: using a non-integer number instead of an integer will result in an error in the future\n",
        "  return _load_svmlight_file(f, dtype, multilabel, zero_based, query_id)\n",
        "/lhome/home/czarnecki/.local/lib/python2.7/site-packages/sklearn/datasets/svmlight_format.py:137: DeprecationWarning: using a non-integer number instead of an integer will result in an error in the future\n",
        "  return _load_svmlight_file(f, dtype, multilabel, zero_based, query_id)\n"
       ]
      },
      {
       "output_type": "stream",
       "stream": "stderr",
       "text": [
        "/lhome/home/czarnecki/.local/lib/python2.7/site-packages/sklearn/datasets/svmlight_format.py:137: DeprecationWarning: using a non-integer number instead of an integer will result in an error in the future\n",
        "  return _load_svmlight_file(f, dtype, multilabel, zero_based, query_id)\n",
        "/lhome/home/czarnecki/.local/lib/python2.7/site-packages/sklearn/datasets/svmlight_format.py:137: DeprecationWarning: using a non-integer number instead of an integer will result in an error in the future\n",
        "  return _load_svmlight_file(f, dtype, multilabel, zero_based, query_id)\n"
       ]
      },
      {
       "output_type": "stream",
       "stream": "stderr",
       "text": [
        "/lhome/home/czarnecki/.local/lib/python2.7/site-packages/sklearn/datasets/svmlight_format.py:137: DeprecationWarning: using a non-integer number instead of an integer will result in an error in the future\n",
        "  return _load_svmlight_file(f, dtype, multilabel, zero_based, query_id)\n",
        "/lhome/home/czarnecki/.local/lib/python2.7/site-packages/sklearn/datasets/svmlight_format.py:137: DeprecationWarning: using a non-integer number instead of an integer will result in an error in the future\n",
        "  return _load_svmlight_file(f, dtype, multilabel, zero_based, query_id)\n"
       ]
      },
      {
       "output_type": "stream",
       "stream": "stderr",
       "text": [
        "/lhome/home/czarnecki/.local/lib/python2.7/site-packages/sklearn/datasets/svmlight_format.py:137: DeprecationWarning: using a non-integer number instead of an integer will result in an error in the future\n",
        "  return _load_svmlight_file(f, dtype, multilabel, zero_based, query_id)\n",
        "/lhome/home/czarnecki/.local/lib/python2.7/site-packages/sklearn/datasets/svmlight_format.py:137: DeprecationWarning: using a non-integer number instead of an integer will result in an error in the future\n",
        "  return _load_svmlight_file(f, dtype, multilabel, zero_based, query_id)\n"
       ]
      },
      {
       "output_type": "stream",
       "stream": "stderr",
       "text": [
        "/lhome/home/czarnecki/.local/lib/python2.7/site-packages/sklearn/datasets/svmlight_format.py:137: DeprecationWarning: using a non-integer number instead of an integer will result in an error in the future\n",
        "  return _load_svmlight_file(f, dtype, multilabel, zero_based, query_id)\n",
        "/lhome/home/czarnecki/.local/lib/python2.7/site-packages/sklearn/datasets/svmlight_format.py:137: DeprecationWarning: using a non-integer number instead of an integer will result in an error in the future\n",
        "  return _load_svmlight_file(f, dtype, multilabel, zero_based, query_id)\n",
        "/lhome/home/czarnecki/.local/lib/python2.7/site-packages/sklearn/datasets/svmlight_format.py:137: DeprecationWarning: using a non-integer number instead of an integer will result in an error in the future\n",
        "  return _load_svmlight_file(f, dtype, multilabel, zero_based, query_id)\n",
        "/lhome/home/czarnecki/.local/lib/python2.7/site-packages/sklearn/datasets/svmlight_format.py:137: DeprecationWarning: using a non-integer number instead of an integer will result in an error in the future\n",
        "  return _load_svmlight_file(f, dtype, multilabel, zero_based, query_id)\n",
        "/lhome/home/czarnecki/.local/lib/python2.7/site-packages/sklearn/datasets/svmlight_format.py:137: DeprecationWarning: using a non-integer number instead of an integer will result in an error in the future\n",
        "  return _load_svmlight_file(f, dtype, multilabel, zero_based, query_id)\n",
        "/lhome/home/czarnecki/.local/lib/python2.7/site-packages/sklearn/datasets/svmlight_format.py:137: DeprecationWarning: using a non-integer number instead of an integer will result in an error in the future\n",
        "  return _load_svmlight_file(f, dtype, multilabel, zero_based, query_id)\n",
        "/lhome/home/czarnecki/.local/lib/python2.7/site-packages/sklearn/datasets/svmlight_format.py:137: DeprecationWarning: using a non-integer number instead of an integer will result in an error in the future\n",
        "  return _load_svmlight_file(f, dtype, multilabel, zero_based, query_id)\n",
        "/lhome/home/czarnecki/.local/lib/python2.7/site-packages/sklearn/datasets/svmlight_format.py:137: DeprecationWarning: using a non-integer number instead of an integer will result in an error in the future\n",
        "  return _load_svmlight_file(f, dtype, multilabel, zero_based, query_id)\n",
        "/lhome/home/czarnecki/.local/lib/python2.7/site-packages/sklearn/datasets/svmlight_format.py:137: DeprecationWarning: using a non-integer number instead of an integer will result in an error in the future\n",
        "  return _load_svmlight_file(f, dtype, multilabel, zero_based, query_id)\n",
        "/lhome/home/czarnecki/.local/lib/python2.7/site-packages/sklearn/datasets/svmlight_format.py:137: DeprecationWarning: using a non-integer number instead of an integer will result in an error in the future\n",
        "  return _load_svmlight_file(f, dtype, multilabel, zero_based, query_id)\n",
        "/lhome/home/czarnecki/.local/lib/python2.7/site-packages/sklearn/datasets/svmlight_format.py:137: DeprecationWarning: using a non-integer number instead of an integer will result in an error in the future\n",
        "  return _load_svmlight_file(f, dtype, multilabel, zero_based, query_id)\n",
        "/lhome/home/czarnecki/.local/lib/python2.7/site-packages/sklearn/datasets/svmlight_format.py:137: DeprecationWarning: using a non-integer number instead of an integer will result in an error in the future\n",
        "  return _load_svmlight_file(f, dtype, multilabel, zero_based, query_id)\n",
        "/lhome/home/czarnecki/.local/lib/python2.7/site-packages/sklearn/datasets/svmlight_format.py:137: DeprecationWarning: using a non-integer number instead of an integer will result in an error in the future\n",
        "  return _load_svmlight_file(f, dtype, multilabel, zero_based, query_id)\n",
        "/lhome/home/czarnecki/.local/lib/python2.7/site-packages/sklearn/datasets/svmlight_format.py:137: DeprecationWarning: using a non-integer number instead of an integer will result in an error in the future\n",
        "  return _load_svmlight_file(f, dtype, multilabel, zero_based, query_id)\n",
        "/lhome/home/czarnecki/.local/lib/python2.7/site-packages/sklearn/datasets/svmlight_format.py:137: DeprecationWarning: using a non-integer number instead of an integer will result in an error in the future\n",
        "  return _load_svmlight_file(f, dtype, multilabel, zero_based, query_id)\n",
        "/lhome/home/czarnecki/.local/lib/python2.7/site-packages/sklearn/datasets/svmlight_format.py:137: DeprecationWarning: using a non-integer number instead of an integer will result in an error in the future\n",
        "  return _load_svmlight_file(f, dtype, multilabel, zero_based, query_id)\n",
        "/lhome/home/czarnecki/.local/lib/python2.7/site-packages/sklearn/datasets/svmlight_format.py:137: DeprecationWarning: using a non-integer number instead of an integer will result in an error in the future\n",
        "  return _load_svmlight_file(f, dtype, multilabel, zero_based, query_id)\n",
        "/lhome/home/czarnecki/.local/lib/python2.7/site-packages/sklearn/datasets/svmlight_format.py:137: DeprecationWarning: using a non-integer number instead of an integer will result in an error in the future\n",
        "  return _load_svmlight_file(f, dtype, multilabel, zero_based, query_id)\n",
        "/lhome/home/czarnecki/.local/lib/python2.7/site-packages/sklearn/datasets/svmlight_format.py:137: DeprecationWarning: using a non-integer number instead of an integer will result in an error in the future\n",
        "  return _load_svmlight_file(f, dtype, multilabel, zero_based, query_id)\n",
        "/lhome/home/czarnecki/.local/lib/python2.7/site-packages/sklearn/datasets/svmlight_format.py:137: DeprecationWarning: using a non-integer number instead of an integer will result in an error in the future\n",
        "  return _load_svmlight_file(f, dtype, multilabel, zero_based, query_id)\n",
        "/lhome/home/czarnecki/.local/lib/python2.7/site-packages/sklearn/datasets/svmlight_format.py:137: DeprecationWarning: using a non-integer number instead of an integer will result in an error in the future\n",
        "  return _load_svmlight_file(f, dtype, multilabel, zero_based, query_id)\n",
        "/lhome/home/czarnecki/.local/lib/python2.7/site-packages/sklearn/datasets/svmlight_format.py:137: DeprecationWarning: using a non-integer number instead of an integer will result in an error in the future\n",
        "  return _load_svmlight_file(f, dtype, multilabel, zero_based, query_id)\n",
        "/lhome/home/czarnecki/.local/lib/python2.7/site-packages/sklearn/datasets/svmlight_format.py:137: DeprecationWarning: using a non-integer number instead of an integer will result in an error in the future\n",
        "  return _load_svmlight_file(f, dtype, multilabel, zero_based, query_id)\n",
        "/lhome/home/czarnecki/.local/lib/python2.7/site-packages/sklearn/datasets/svmlight_format.py:137: DeprecationWarning: using a non-integer number instead of an integer will result in an error in the future\n",
        "  return _load_svmlight_file(f, dtype, multilabel, zero_based, query_id)\n",
        "/lhome/home/czarnecki/.local/lib/python2.7/site-packages/sklearn/datasets/svmlight_format.py:137: DeprecationWarning: using a non-integer number instead of an integer will result in an error in the future\n",
        "  return _load_svmlight_file(f, dtype, multilabel, zero_based, query_id)\n",
        "/lhome/home/czarnecki/.local/lib/python2.7/site-packages/sklearn/datasets/svmlight_format.py:137: DeprecationWarning: using a non-integer number instead of an integer will result in an error in the future\n",
        "  return _load_svmlight_file(f, dtype, multilabel, zero_based, query_id)\n",
        "/lhome/home/czarnecki/.local/lib/python2.7/site-packages/sklearn/datasets/svmlight_format.py:137: DeprecationWarning: using a non-integer number instead of an integer will result in an error in the future\n",
        "  return _load_svmlight_file(f, dtype, multilabel, zero_based, query_id)\n",
        "/lhome/home/czarnecki/.local/lib/python2.7/site-packages/sklearn/datasets/svmlight_format.py:137: DeprecationWarning: using a non-integer number instead of an integer will result in an error in the future\n",
        "  return _load_svmlight_file(f, dtype, multilabel, zero_based, query_id)\n",
        "/lhome/home/czarnecki/.local/lib/python2.7/site-packages/sklearn/datasets/svmlight_format.py:137: DeprecationWarning: using a non-integer number instead of an integer will result in an error in the future\n",
        "  return _load_svmlight_file(f, dtype, multilabel, zero_based, query_id)\n",
        "/lhome/home/czarnecki/.local/lib/python2.7/site-packages/sklearn/datasets/svmlight_format.py:137: DeprecationWarning: using a non-integer number instead of an integer will result in an error in the future\n",
        "  return _load_svmlight_file(f, dtype, multilabel, zero_based, query_id)\n"
       ]
      },
      {
       "output_type": "stream",
       "stream": "stderr",
       "text": [
        "/lhome/home/czarnecki/.local/lib/python2.7/site-packages/sklearn/datasets/svmlight_format.py:137: DeprecationWarning: using a non-integer number instead of an integer will result in an error in the future\n",
        "  return _load_svmlight_file(f, dtype, multilabel, zero_based, query_id)\n",
        "/lhome/home/czarnecki/.local/lib/python2.7/site-packages/sklearn/datasets/svmlight_format.py:137: DeprecationWarning: using a non-integer number instead of an integer will result in an error in the future\n",
        "  return _load_svmlight_file(f, dtype, multilabel, zero_based, query_id)\n",
        "/lhome/home/czarnecki/.local/lib/python2.7/site-packages/sklearn/datasets/svmlight_format.py:137: DeprecationWarning: using a non-integer number instead of an integer will result in an error in the future\n",
        "  return _load_svmlight_file(f, dtype, multilabel, zero_based, query_id)\n",
        "/lhome/home/czarnecki/.local/lib/python2.7/site-packages/sklearn/datasets/svmlight_format.py:137: DeprecationWarning: using a non-integer number instead of an integer will result in an error in the future\n",
        "  return _load_svmlight_file(f, dtype, multilabel, zero_based, query_id)\n",
        "/lhome/home/czarnecki/.local/lib/python2.7/site-packages/sklearn/datasets/svmlight_format.py:137: DeprecationWarning: using a non-integer number instead of an integer will result in an error in the future\n",
        "  return _load_svmlight_file(f, dtype, multilabel, zero_based, query_id)\n",
        "/lhome/home/czarnecki/.local/lib/python2.7/site-packages/sklearn/datasets/svmlight_format.py:137: DeprecationWarning: using a non-integer number instead of an integer will result in an error in the future\n",
        "  return _load_svmlight_file(f, dtype, multilabel, zero_based, query_id)\n",
        "/lhome/home/czarnecki/.local/lib/python2.7/site-packages/sklearn/datasets/svmlight_format.py:137: DeprecationWarning: using a non-integer number instead of an integer will result in an error in the future\n",
        "  return _load_svmlight_file(f, dtype, multilabel, zero_based, query_id)\n",
        "/lhome/home/czarnecki/.local/lib/python2.7/site-packages/sklearn/datasets/svmlight_format.py:137: DeprecationWarning: using a non-integer number instead of an integer will result in an error in the future\n",
        "  return _load_svmlight_file(f, dtype, multilabel, zero_based, query_id)\n"
       ]
      },
      {
       "output_type": "stream",
       "stream": "stderr",
       "text": [
        "/lhome/home/czarnecki/.local/lib/python2.7/site-packages/sklearn/datasets/svmlight_format.py:137: DeprecationWarning: using a non-integer number instead of an integer will result in an error in the future\n",
        "  return _load_svmlight_file(f, dtype, multilabel, zero_based, query_id)\n",
        "/lhome/home/czarnecki/.local/lib/python2.7/site-packages/sklearn/datasets/svmlight_format.py:137: DeprecationWarning: using a non-integer number instead of an integer will result in an error in the future\n",
        "  return _load_svmlight_file(f, dtype, multilabel, zero_based, query_id)\n",
        "/lhome/home/czarnecki/.local/lib/python2.7/site-packages/sklearn/datasets/svmlight_format.py:137: DeprecationWarning: using a non-integer number instead of an integer will result in an error in the future\n",
        "  return _load_svmlight_file(f, dtype, multilabel, zero_based, query_id)\n",
        "/lhome/home/czarnecki/.local/lib/python2.7/site-packages/sklearn/datasets/svmlight_format.py:137: DeprecationWarning: using a non-integer number instead of an integer will result in an error in the future\n",
        "  return _load_svmlight_file(f, dtype, multilabel, zero_based, query_id)\n"
       ]
      },
      {
       "output_type": "stream",
       "stream": "stderr",
       "text": [
        "/lhome/home/czarnecki/.local/lib/python2.7/site-packages/sklearn/datasets/svmlight_format.py:137: DeprecationWarning: using a non-integer number instead of an integer will result in an error in the future\n",
        "  return _load_svmlight_file(f, dtype, multilabel, zero_based, query_id)\n",
        "/lhome/home/czarnecki/.local/lib/python2.7/site-packages/sklearn/datasets/svmlight_format.py:137: DeprecationWarning: using a non-integer number instead of an integer will result in an error in the future\n",
        "  return _load_svmlight_file(f, dtype, multilabel, zero_based, query_id)\n"
       ]
      },
      {
       "output_type": "stream",
       "stream": "stderr",
       "text": [
        "/lhome/home/czarnecki/.local/lib/python2.7/site-packages/sklearn/datasets/svmlight_format.py:137: DeprecationWarning: using a non-integer number instead of an integer will result in an error in the future\n",
        "  return _load_svmlight_file(f, dtype, multilabel, zero_based, query_id)\n",
        "/lhome/home/czarnecki/.local/lib/python2.7/site-packages/sklearn/datasets/svmlight_format.py:137: DeprecationWarning: using a non-integer number instead of an integer will result in an error in the future\n",
        "  return _load_svmlight_file(f, dtype, multilabel, zero_based, query_id)\n"
       ]
      },
      {
       "output_type": "stream",
       "stream": "stderr",
       "text": [
        "/lhome/home/czarnecki/.local/lib/python2.7/site-packages/sklearn/datasets/svmlight_format.py:137: DeprecationWarning: using a non-integer number instead of an integer will result in an error in the future\n",
        "  return _load_svmlight_file(f, dtype, multilabel, zero_based, query_id)\n",
        "/lhome/home/czarnecki/.local/lib/python2.7/site-packages/sklearn/datasets/svmlight_format.py:137: DeprecationWarning: using a non-integer number instead of an integer will result in an error in the future\n",
        "  return _load_svmlight_file(f, dtype, multilabel, zero_based, query_id)\n"
       ]
      },
      {
       "output_type": "stream",
       "stream": "stderr",
       "text": [
        "/lhome/home/czarnecki/.local/lib/python2.7/site-packages/sklearn/datasets/svmlight_format.py:137: DeprecationWarning: using a non-integer number instead of an integer will result in an error in the future\n",
        "  return _load_svmlight_file(f, dtype, multilabel, zero_based, query_id)\n",
        "/lhome/home/czarnecki/.local/lib/python2.7/site-packages/sklearn/datasets/svmlight_format.py:137: DeprecationWarning: using a non-integer number instead of an integer will result in an error in the future\n",
        "  return _load_svmlight_file(f, dtype, multilabel, zero_based, query_id)\n",
        "/lhome/home/czarnecki/.local/lib/python2.7/site-packages/sklearn/datasets/svmlight_format.py:137: DeprecationWarning: using a non-integer number instead of an integer will result in an error in the future\n",
        "  return _load_svmlight_file(f, dtype, multilabel, zero_based, query_id)\n",
        "/lhome/home/czarnecki/.local/lib/python2.7/site-packages/sklearn/datasets/svmlight_format.py:137: DeprecationWarning: using a non-integer number instead of an integer will result in an error in the future\n",
        "  return _load_svmlight_file(f, dtype, multilabel, zero_based, query_id)\n",
        "/lhome/home/czarnecki/.local/lib/python2.7/site-packages/sklearn/datasets/svmlight_format.py:137: DeprecationWarning: using a non-integer number instead of an integer will result in an error in the future\n",
        "  return _load_svmlight_file(f, dtype, multilabel, zero_based, query_id)\n",
        "/lhome/home/czarnecki/.local/lib/python2.7/site-packages/sklearn/datasets/svmlight_format.py:137: DeprecationWarning: using a non-integer number instead of an integer will result in an error in the future\n",
        "  return _load_svmlight_file(f, dtype, multilabel, zero_based, query_id)\n",
        "/lhome/home/czarnecki/.local/lib/python2.7/site-packages/sklearn/datasets/svmlight_format.py:137: DeprecationWarning: using a non-integer number instead of an integer will result in an error in the future\n",
        "  return _load_svmlight_file(f, dtype, multilabel, zero_based, query_id)\n",
        "/lhome/home/czarnecki/.local/lib/python2.7/site-packages/sklearn/datasets/svmlight_format.py:137: DeprecationWarning: using a non-integer number instead of an integer will result in an error in the future\n",
        "  return _load_svmlight_file(f, dtype, multilabel, zero_based, query_id)\n",
        "/lhome/home/czarnecki/.local/lib/python2.7/site-packages/sklearn/datasets/svmlight_format.py:137: DeprecationWarning: using a non-integer number instead of an integer will result in an error in the future\n",
        "  return _load_svmlight_file(f, dtype, multilabel, zero_based, query_id)\n",
        "/lhome/home/czarnecki/.local/lib/python2.7/site-packages/sklearn/datasets/svmlight_format.py:137: DeprecationWarning: using a non-integer number instead of an integer will result in an error in the future\n",
        "  return _load_svmlight_file(f, dtype, multilabel, zero_based, query_id)\n",
        "/lhome/home/czarnecki/.local/lib/python2.7/site-packages/sklearn/datasets/svmlight_format.py:137: DeprecationWarning: using a non-integer number instead of an integer will result in an error in the future\n",
        "  return _load_svmlight_file(f, dtype, multilabel, zero_based, query_id)\n",
        "/lhome/home/czarnecki/.local/lib/python2.7/site-packages/sklearn/datasets/svmlight_format.py:137: DeprecationWarning: using a non-integer number instead of an integer will result in an error in the future\n",
        "  return _load_svmlight_file(f, dtype, multilabel, zero_based, query_id)\n",
        "/lhome/home/czarnecki/.local/lib/python2.7/site-packages/sklearn/datasets/svmlight_format.py:137: DeprecationWarning: using a non-integer number instead of an integer will result in an error in the future\n",
        "  return _load_svmlight_file(f, dtype, multilabel, zero_based, query_id)\n",
        "/lhome/home/czarnecki/.local/lib/python2.7/site-packages/sklearn/datasets/svmlight_format.py:137: DeprecationWarning: using a non-integer number instead of an integer will result in an error in the future\n",
        "  return _load_svmlight_file(f, dtype, multilabel, zero_based, query_id)\n",
        "/lhome/home/czarnecki/.local/lib/python2.7/site-packages/sklearn/datasets/svmlight_format.py:137: DeprecationWarning: using a non-integer number instead of an integer will result in an error in the future\n",
        "  return _load_svmlight_file(f, dtype, multilabel, zero_based, query_id)\n",
        "/lhome/home/czarnecki/.local/lib/python2.7/site-packages/sklearn/datasets/svmlight_format.py:137: DeprecationWarning: using a non-integer number instead of an integer will result in an error in the future\n",
        "  return _load_svmlight_file(f, dtype, multilabel, zero_based, query_id)\n",
        "/lhome/home/czarnecki/.local/lib/python2.7/site-packages/sklearn/datasets/svmlight_format.py:137: DeprecationWarning: using a non-integer number instead of an integer will result in an error in the future\n",
        "  return _load_svmlight_file(f, dtype, multilabel, zero_based, query_id)\n",
        "/lhome/home/czarnecki/.local/lib/python2.7/site-packages/sklearn/datasets/svmlight_format.py:137: DeprecationWarning: using a non-integer number instead of an integer will result in an error in the future\n",
        "  return _load_svmlight_file(f, dtype, multilabel, zero_based, query_id)\n",
        "/lhome/home/czarnecki/.local/lib/python2.7/site-packages/sklearn/datasets/svmlight_format.py:137: DeprecationWarning: using a non-integer number instead of an integer will result in an error in the future\n",
        "  return _load_svmlight_file(f, dtype, multilabel, zero_based, query_id)\n",
        "/lhome/home/czarnecki/.local/lib/python2.7/site-packages/sklearn/datasets/svmlight_format.py:137: DeprecationWarning: using a non-integer number instead of an integer will result in an error in the future\n",
        "  return _load_svmlight_file(f, dtype, multilabel, zero_based, query_id)\n",
        "/lhome/home/czarnecki/.local/lib/python2.7/site-packages/sklearn/datasets/svmlight_format.py:137: DeprecationWarning: using a non-integer number instead of an integer will result in an error in the future\n",
        "  return _load_svmlight_file(f, dtype, multilabel, zero_based, query_id)\n",
        "/lhome/home/czarnecki/.local/lib/python2.7/site-packages/sklearn/datasets/svmlight_format.py:137: DeprecationWarning: using a non-integer number instead of an integer will result in an error in the future\n",
        "  return _load_svmlight_file(f, dtype, multilabel, zero_based, query_id)\n",
        "/lhome/home/czarnecki/.local/lib/python2.7/site-packages/sklearn/datasets/svmlight_format.py:137: DeprecationWarning: using a non-integer number instead of an integer will result in an error in the future\n",
        "  return _load_svmlight_file(f, dtype, multilabel, zero_based, query_id)\n",
        "/lhome/home/czarnecki/.local/lib/python2.7/site-packages/sklearn/datasets/svmlight_format.py:137: DeprecationWarning: using a non-integer number instead of an integer will result in an error in the future\n",
        "  return _load_svmlight_file(f, dtype, multilabel, zero_based, query_id)\n"
       ]
      },
      {
       "output_type": "stream",
       "stream": "stderr",
       "text": [
        "/lhome/home/czarnecki/.local/lib/python2.7/site-packages/sklearn/datasets/svmlight_format.py:137: DeprecationWarning: using a non-integer number instead of an integer will result in an error in the future\n",
        "  return _load_svmlight_file(f, dtype, multilabel, zero_based, query_id)\n",
        "/lhome/home/czarnecki/.local/lib/python2.7/site-packages/sklearn/datasets/svmlight_format.py:137: DeprecationWarning: using a non-integer number instead of an integer will result in an error in the future\n",
        "  return _load_svmlight_file(f, dtype, multilabel, zero_based, query_id)\n",
        "/lhome/home/czarnecki/.local/lib/python2.7/site-packages/sklearn/datasets/svmlight_format.py:137: DeprecationWarning: using a non-integer number instead of an integer will result in an error in the future\n",
        "  return _load_svmlight_file(f, dtype, multilabel, zero_based, query_id)\n",
        "/lhome/home/czarnecki/.local/lib/python2.7/site-packages/sklearn/datasets/svmlight_format.py:137: DeprecationWarning: using a non-integer number instead of an integer will result in an error in the future\n",
        "  return _load_svmlight_file(f, dtype, multilabel, zero_based, query_id)\n",
        "/lhome/home/czarnecki/.local/lib/python2.7/site-packages/sklearn/datasets/svmlight_format.py:137: DeprecationWarning: using a non-integer number instead of an integer will result in an error in the future\n",
        "  return _load_svmlight_file(f, dtype, multilabel, zero_based, query_id)\n",
        "/lhome/home/czarnecki/.local/lib/python2.7/site-packages/sklearn/datasets/svmlight_format.py:137: DeprecationWarning: using a non-integer number instead of an integer will result in an error in the future\n",
        "  return _load_svmlight_file(f, dtype, multilabel, zero_based, query_id)\n",
        "/lhome/home/czarnecki/.local/lib/python2.7/site-packages/sklearn/datasets/svmlight_format.py:137: DeprecationWarning: using a non-integer number instead of an integer will result in an error in the future\n",
        "  return _load_svmlight_file(f, dtype, multilabel, zero_based, query_id)\n",
        "/lhome/home/czarnecki/.local/lib/python2.7/site-packages/sklearn/datasets/svmlight_format.py:137: DeprecationWarning: using a non-integer number instead of an integer will result in an error in the future\n",
        "  return _load_svmlight_file(f, dtype, multilabel, zero_based, query_id)\n"
       ]
      },
      {
       "output_type": "stream",
       "stream": "stderr",
       "text": [
        "/lhome/home/czarnecki/.local/lib/python2.7/site-packages/sklearn/datasets/svmlight_format.py:137: DeprecationWarning: using a non-integer number instead of an integer will result in an error in the future\n",
        "  return _load_svmlight_file(f, dtype, multilabel, zero_based, query_id)\n",
        "/lhome/home/czarnecki/.local/lib/python2.7/site-packages/sklearn/datasets/svmlight_format.py:137: DeprecationWarning: using a non-integer number instead of an integer will result in an error in the future\n",
        "  return _load_svmlight_file(f, dtype, multilabel, zero_based, query_id)\n",
        "/lhome/home/czarnecki/.local/lib/python2.7/site-packages/sklearn/datasets/svmlight_format.py:137: DeprecationWarning: using a non-integer number instead of an integer will result in an error in the future\n",
        "  return _load_svmlight_file(f, dtype, multilabel, zero_based, query_id)\n",
        "/lhome/home/czarnecki/.local/lib/python2.7/site-packages/sklearn/datasets/svmlight_format.py:137: DeprecationWarning: using a non-integer number instead of an integer will result in an error in the future\n",
        "  return _load_svmlight_file(f, dtype, multilabel, zero_based, query_id)\n"
       ]
      },
      {
       "output_type": "stream",
       "stream": "stderr",
       "text": [
        "/lhome/home/czarnecki/.local/lib/python2.7/site-packages/sklearn/datasets/svmlight_format.py:137: DeprecationWarning: using a non-integer number instead of an integer will result in an error in the future\n",
        "  return _load_svmlight_file(f, dtype, multilabel, zero_based, query_id)\n",
        "/lhome/home/czarnecki/.local/lib/python2.7/site-packages/sklearn/datasets/svmlight_format.py:137: DeprecationWarning: using a non-integer number instead of an integer will result in an error in the future\n",
        "  return _load_svmlight_file(f, dtype, multilabel, zero_based, query_id)\n",
        "/lhome/home/czarnecki/.local/lib/python2.7/site-packages/sklearn/datasets/svmlight_format.py:137: DeprecationWarning: using a non-integer number instead of an integer will result in an error in the future\n",
        "  return _load_svmlight_file(f, dtype, multilabel, zero_based, query_id)\n"
       ]
      }
     ],
     "prompt_number": 10
    },
    {
     "cell_type": "code",
     "collapsed": false,
     "input": [
      "print sets_pd[[ 'n_rows', 'n_dim', 'n_class', 'man_size']].to_latex()"
     ],
     "language": "python",
     "metadata": {},
     "outputs": [
      {
       "output_type": "stream",
       "stream": "stdout",
       "text": [
        "\\begin{tabular}{lllll}\n",
        "\\toprule\n",
        "{} & n\\_rows & n\\_dim & n\\_class & man\\_size \\\\\n",
        "\\midrule\n",
        "australian    &    690 &    14 &       2 &        1 \\\\\n",
        "bank          &   1372 &     4 &       2 &        3 \\\\\n",
        "breast\\_cancer &    683 &    10 &       2 &        1 \\\\\n",
        "crashes       &    540 &    20 &       2 &        1 \\\\\n",
        "diabetes      &    768 &     8 &       2 &        2 \\\\\n",
        "fourclass     &    862 &     2 &       2 &        2 \\\\\n",
        "german        &   1000 &    24 &       2 &        3 \\\\\n",
        "glass         &    214 &     9 &       6 &        6 \\\\\n",
        "heart         &    270 &    13 &       2 &        3 \\\\\n",
        "indian        &    583 &    10 &       2 &        3 \\\\\n",
        "ionosphere    &    351 &    34 &       2 &       24 \\\\\n",
        "iris          &    150 &     4 &       3 &        2 \\\\\n",
        "liver         &    345 &     6 &       2 &        3 \\\\\n",
        "satimage      &  10870 &    36 &       6 &        6 \\\\\n",
        "segment       &   2310 &    19 &       7 &        7 \\\\\n",
        "sonar         &    208 &    60 &       2 &       28 \\\\\n",
        "splice        &   1000 &    60 &       2 &       55 \\\\\n",
        "wine          &    178 &     4 &       3 &        2 \\\\\n",
        "\\bottomrule\n",
        "\\end{tabular}\n",
        "\n"
       ]
      }
     ],
     "prompt_number": 13
    },
    {
     "cell_type": "code",
     "collapsed": false,
     "input": [
      "for data in datasets:\n",
      "    print data.name, data.n_dim, data.data.shape[0], type(data.data), np.unique(data.target)"
     ],
     "language": "python",
     "metadata": {},
     "outputs": [
      {
       "output_type": "stream",
       "stream": "stdout",
       "text": [
        "iris 4 150 <type 'numpy.ndarray'> [0 1 2]\n",
        "wine 4 178 <type 'numpy.ndarray'> [1 2 3]\n",
        "liver 6 345 <type 'numpy.ndarray'> [1 2]\n",
        "glass 9 214 <type 'numpy.ndarray'> [ 1.  2.  3.  5.  6.  7.]\n",
        "heart 13 270 <type 'numpy.ndarray'> [-1.  1.]\n",
        "fourclass 2 862 <type 'numpy.ndarray'> [-1.  1.]\n",
        "bank 4 1372 <type 'numpy.ndarray'> [ 0.  1.]\n",
        "diabetess 8 768 <type 'numpy.ndarray'> [-1.  1.]\n",
        "breast_cancer 10 683 <type 'numpy.ndarray'> [ 2.  4.]\n",
        "indian 10 583 <type 'numpy.ndarray'> [ 1.  2.]\n",
        "australian 14 690 <type 'numpy.ndarray'> [-1.  1.]\n",
        "crashes 20 540 <type 'numpy.ndarray'> [ 0.  1.]\n",
        "german 24 1000 <type 'numpy.ndarray'> [-1.  1.]\n",
        "ionosphere 34 351 <type 'numpy.ndarray'> [-1.  1.]\n",
        "sonar 60 208 <type 'numpy.ndarray'> [-1.  1.]\n",
        "splice 60 1000 <type 'numpy.ndarray'> [-1.  1.]\n",
        "mushrooms 112 8124 <type 'numpy.ndarray'> [ 1.  2.]\n",
        "pendigits 16 10992 <type 'numpy.ndarray'> [ 0.  1.  2.  3.  4.  5.  6.  7.  8.  9.]\n",
        "segment 19 2310 <type 'numpy.ndarray'> [1 2 3 4 5 6 7]\n",
        "satimage 36 10870 <type 'numpy.ndarray'> [1 2 3 4 5 6]\n"
       ]
      }
     ],
     "prompt_number": 8
    },
    {
     "cell_type": "code",
     "collapsed": false,
     "input": [
      "glass = fetch_uci_datasets(['glass'])[0]\n",
      "X = glass.data"
     ],
     "language": "python",
     "metadata": {},
     "outputs": [
      {
       "output_type": "stream",
       "stream": "stderr",
       "text": [
        "/lhome/home/czarnecki/.local/lib/python2.7/site-packages/sklearn/datasets/svmlight_format.py:137: DeprecationWarning: using a non-integer number instead of an integer will result in an error in the future\n",
        "  return _load_svmlight_file(f, dtype, multilabel, zero_based, query_id)\n",
        "/lhome/home/czarnecki/.local/lib/python2.7/site-packages/sklearn/datasets/svmlight_format.py:137: DeprecationWarning: using a non-integer number instead of an integer will result in an error in the future\n",
        "  return _load_svmlight_file(f, dtype, multilabel, zero_based, query_id)\n",
        "/lhome/home/czarnecki/.local/lib/python2.7/site-packages/sklearn/datasets/svmlight_format.py:137: DeprecationWarning: using a non-integer number instead of an integer will result in an error in the future\n",
        "  return _load_svmlight_file(f, dtype, multilabel, zero_based, query_id)\n",
        "/lhome/home/czarnecki/.local/lib/python2.7/site-packages/sklearn/datasets/svmlight_format.py:137: DeprecationWarning: using a non-integer number instead of an integer will result in an error in the future\n",
        "  return _load_svmlight_file(f, dtype, multilabel, zero_based, query_id)\n",
        "/lhome/home/czarnecki/.local/lib/python2.7/site-packages/sklearn/datasets/svmlight_format.py:137: DeprecationWarning: using a non-integer number instead of an integer will result in an error in the future\n",
        "  return _load_svmlight_file(f, dtype, multilabel, zero_based, query_id)\n",
        "/lhome/home/czarnecki/.local/lib/python2.7/site-packages/sklearn/datasets/svmlight_format.py:137: DeprecationWarning: using a non-integer number instead of an integer will result in an error in the future\n",
        "  return _load_svmlight_file(f, dtype, multilabel, zero_based, query_id)\n",
        "/lhome/home/czarnecki/.local/lib/python2.7/site-packages/sklearn/datasets/svmlight_format.py:137: DeprecationWarning: using a non-integer number instead of an integer will result in an error in the future\n",
        "  return _load_svmlight_file(f, dtype, multilabel, zero_based, query_id)\n",
        "/lhome/home/czarnecki/.local/lib/python2.7/site-packages/sklearn/datasets/svmlight_format.py:137: DeprecationWarning: using a non-integer number instead of an integer will result in an error in the future\n",
        "  return _load_svmlight_file(f, dtype, multilabel, zero_based, query_id)\n",
        "/lhome/home/czarnecki/.local/lib/python2.7/site-packages/sklearn/datasets/svmlight_format.py:137: DeprecationWarning: using a non-integer number instead of an integer will result in an error in the future\n",
        "  return _load_svmlight_file(f, dtype, multilabel, zero_based, query_id)\n",
        "/lhome/home/czarnecki/.local/lib/python2.7/site-packages/sklearn/datasets/svmlight_format.py:137: DeprecationWarning: using a non-integer number instead of an integer will result in an error in the future\n",
        "  return _load_svmlight_file(f, dtype, multilabel, zero_based, query_id)\n"
       ]
      }
     ],
     "prompt_number": 25
    },
    {
     "cell_type": "code",
     "collapsed": false,
     "input": [
      "def make_rand_vector(dims):\n",
      "    vec = [np.random.normal(0, 1) for i in range(dims)]\n",
      "    mag = sum(x**2 for x in vec) ** .5\n",
      "    return np.array([[x/mag for x in vec]])"
     ],
     "language": "python",
     "metadata": {},
     "outputs": [],
     "prompt_number": 26
    },
    {
     "cell_type": "code",
     "collapsed": false,
     "input": [
      "w = np.hstack([make_rand_vector(X.shape[1]).T for _ in range(5)]).T\n",
      "b = np.random.uniform(X.min(), X.max())"
     ],
     "language": "python",
     "metadata": {},
     "outputs": [],
     "prompt_number": 51
    },
    {
     "cell_type": "code",
     "collapsed": false,
     "input": [
      "type(X)"
     ],
     "language": "python",
     "metadata": {},
     "outputs": [
      {
       "metadata": {},
       "output_type": "pyout",
       "prompt_number": 52,
       "text": [
        "scipy.sparse.csr.csr_matrix"
       ]
      }
     ],
     "prompt_number": 52
    },
    {
     "cell_type": "code",
     "collapsed": false,
     "input": [
      "import scipy"
     ],
     "language": "python",
     "metadata": {},
     "outputs": [],
     "prompt_number": 53
    },
    {
     "cell_type": "code",
     "collapsed": false,
     "input": [
      "d = X.dot(w.T)"
     ],
     "language": "python",
     "metadata": {},
     "outputs": [],
     "prompt_number": 54
    },
    {
     "cell_type": "code",
     "collapsed": false,
     "input": [
      "type(d)"
     ],
     "language": "python",
     "metadata": {},
     "outputs": [
      {
       "metadata": {},
       "output_type": "pyout",
       "prompt_number": 55,
       "text": [
        "numpy.ndarray"
       ]
      }
     ],
     "prompt_number": 55
    },
    {
     "cell_type": "code",
     "collapsed": false,
     "input": [
      "d"
     ],
     "language": "python",
     "metadata": {},
     "outputs": [
      {
       "metadata": {},
       "output_type": "pyout",
       "prompt_number": 56,
       "text": [
        "array([[-0.59286415, -0.72812524,  0.0044315 , -1.06772899, -0.0892633 ],\n",
        "       [-0.41270318, -0.64438827,  0.21798322, -1.17184559, -0.41268533],\n",
        "       [-0.44042065, -0.61217237,  0.27320575, -1.25410953, -0.48160016],\n",
        "       ..., \n",
        "       [ 0.35726337,  0.7450324 ,  0.44422773, -1.10912306, -0.54749881],\n",
        "       [ 0.42762768,  0.67197813,  0.48637456, -1.13125931, -0.56348775],\n",
        "       [ 0.36070391,  0.74529177,  0.44991083, -1.14832593, -0.53407557]])"
       ]
      }
     ],
     "prompt_number": 56
    },
    {
     "cell_type": "code",
     "collapsed": false,
     "input": [
      "d + b"
     ],
     "language": "python",
     "metadata": {},
     "outputs": [
      {
       "ename": "NotImplementedError",
       "evalue": "adding a nonzero scalar to a sparse matrix is not supported",
       "output_type": "pyerr",
       "traceback": [
        "\u001b[1;31m---------------------------------------------------------------------------\u001b[0m\n\u001b[1;31mNotImplementedError\u001b[0m                       Traceback (most recent call last)",
        "\u001b[1;32m<ipython-input-36-a24a6a4be7d0>\u001b[0m in \u001b[0;36m<module>\u001b[1;34m()\u001b[0m\n\u001b[1;32m----> 1\u001b[1;33m \u001b[0md\u001b[0m \u001b[1;33m+\u001b[0m \u001b[0mb\u001b[0m\u001b[1;33m\u001b[0m\u001b[0m\n\u001b[0m",
        "\u001b[1;32m/lhome/home/czarnecki/anaconda/lib/python2.7/site-packages/scipy/sparse/compressed.pyc\u001b[0m in \u001b[0;36m__add__\u001b[1;34m(self, other)\u001b[0m\n\u001b[0;32m    336\u001b[0m                 \u001b[1;32mreturn\u001b[0m \u001b[0mself\u001b[0m\u001b[1;33m.\u001b[0m\u001b[0mcopy\u001b[0m\u001b[1;33m(\u001b[0m\u001b[1;33m)\u001b[0m\u001b[1;33m\u001b[0m\u001b[0m\n\u001b[0;32m    337\u001b[0m             \u001b[1;32melse\u001b[0m\u001b[1;33m:\u001b[0m  \u001b[1;31m# Now we would add this scalar to every element.\u001b[0m\u001b[1;33m\u001b[0m\u001b[0m\n\u001b[1;32m--> 338\u001b[1;33m                 raise NotImplementedError('adding a nonzero scalar to a '\n\u001b[0m\u001b[0;32m    339\u001b[0m                                           'sparse matrix is not supported')\n\u001b[0;32m    340\u001b[0m         \u001b[1;32melif\u001b[0m \u001b[0misspmatrix\u001b[0m\u001b[1;33m(\u001b[0m\u001b[0mother\u001b[0m\u001b[1;33m)\u001b[0m\u001b[1;33m:\u001b[0m\u001b[1;33m\u001b[0m\u001b[0m\n",
        "\u001b[1;31mNotImplementedError\u001b[0m: adding a nonzero scalar to a sparse matrix is not supported"
       ]
      }
     ],
     "prompt_number": 36
    },
    {
     "cell_type": "code",
     "collapsed": false,
     "input": [
      "X, Y = heart_x, heart_y\n",
      "model = R2SVMLearner(depth=3, C=1)\n",
      "model.fit_predict(X,Y)\n",
      "print model.layer_scores_\n",
      "print len(model.layer_coefs_)"
     ],
     "language": "python",
     "metadata": {},
     "outputs": []
    },
    {
     "cell_type": "code",
     "collapsed": false,
     "input": [
      "# load MNIST\n",
      "import cPickle, gzip\n",
      "f = gzip.open('mnist.pkl.gz', 'rb')\n",
      "train_set, valid_set, test_set = cPickle.load(f)\n",
      "f.close()"
     ],
     "language": "python",
     "metadata": {},
     "outputs": []
    },
    {
     "cell_type": "code",
     "collapsed": false,
     "input": [
      "heart_x, heart_y = datasets.load_svmlight_file('./data/heart')\n",
      "heart_x = heart_x.toarray()\n",
      "print heart_y[:10]"
     ],
     "language": "python",
     "metadata": {},
     "outputs": []
    },
    {
     "cell_type": "code",
     "collapsed": false,
     "input": [
      "iris = datasets.load_iris()\n",
      "liver = datasets.fetch_mldata('liver-disorders')\n",
      "segment = datasets.fetch_mldata('segment')\n",
      "satimage = datasets.fetch_mldata('satimage')\n",
      "wine = datasets.fetch_mldata('uci-20070111 wine')\n",
      "\n",
      "iris['name'] = 'iris'\n",
      "liver['name'] = 'liver'\n",
      "segment['name'] = 'segment'\n",
      "satimage['name'] = 'satimage'\n",
      "wine['name'] = 'wine'\n",
      "\n",
      "uci_data_sets = [iris, liver, segment, satimage, wine] "
     ],
     "language": "python",
     "metadata": {},
     "outputs": []
    },
    {
     "cell_type": "code",
     "collapsed": true,
     "input": [
      "X = heart_x\n",
      "Y = heart_y\n",
      "\n",
      "params = {'k': [2,5], 'scale':[True], 'recurrent': [True]}\n",
      "our_params = {'depth': [2,5], 'beta': [0.04], 'C': [1], 'scale': [True] }\n",
      "\n",
      "p, s = grid_search(our_params, X, Y, model=R2SVMLearner)\n",
      "for a,b in zip(p,s) :\n",
      "    print a,b \n",
      "print\n",
      "\n",
      "p, s = grid_search(params, X, Y, model=R2Lin)\n",
      "for a,b in zip(p,s) :\n",
      "    print a,b \n",
      "print\n",
      "    \n",
      "param_grid_rbf = {'kernel': ['rbf'], 'C': [np.exp(10)], 'gamma': [np.exp(-12)]}\n",
      "p,s = grid_search(param_grid_rbf, X, Y, model=sklearn.svm.SVC)\n",
      "for a,b in zip(p,s) :\n",
      "    print a,b"
     ],
     "language": "python",
     "metadata": {},
     "outputs": []
    },
    {
     "cell_type": "code",
     "collapsed": false,
     "input": [
      "def fit_R2SVM(param_grid, )"
     ],
     "language": "python",
     "metadata": {},
     "outputs": []
    },
    {
     "cell_type": "code",
     "collapsed": false,
     "input": [
      "param_grid_our = {'depth': [2,5], 'beta': [0.1], 'cls_params': [{'C': c, 'kernel': 'linear'} for c in [1,10,100]]}\n",
      "param_grid_w = {'l': [2,5], 'beta': [0.1], 'C': [1,10,100]}\n",
      "param_grid_rbf = {'kernel': ['rbf'], 'C': [1,10,100], 'gamma': [0,1,10]}\n",
      "\n",
      "for data_set in uci_data_sets :\n",
      "    X = data_set.data\n",
      "    Y = data_set.target\n",
      "    params_our, scores_our = grid_search(param_grid_our, X, Y, model=R2SVMLearner)\n",
      "    params_w, scores_w = grid_search(param_grid_w, X, Y, model=R2SVM)\n",
      "    params_rbf, scores_rbf = grid_search(param_grid_rbf, X, Y, model=sklearn.svm.SVC)\n",
      "    \n",
      "    print \"R2SVMLearner on %s, dim: %i, #class: %i acc: %f\" % (data_set.name, X[0].shape[0], len(set(Y)), np.max(scores_our))\n",
      "    print \"R2SVM on %s, dim: %i, #class: %i acc: %f\" % (data_set.name, X[0].shape[0], len(set(Y)), np.max(scores_w))\n",
      "    print \"rbf SVM on %s, dim: %i, #class: %i acc: %f\" % (data_set.name, X[0].shape[0], len(set(Y)), np.max(scores_rbf))\n",
      "    print"
     ],
     "language": "python",
     "metadata": {},
     "outputs": []
    },
    {
     "cell_type": "code",
     "collapsed": false,
     "input": [
      "X, Y = wine.data, wine.target\n",
      "\n",
      "param_grid_our = {'depth': [2,5,10,30], 'beta': [0.1, 0.2], 'cls_params': [{'C': c, 'kernel': 'linear'} for c in [1,10,100]]}\n",
      "params_our, scores_our = grid_search(param_grid_our, X, Y, model=R2SVMLearner)\n",
      "print params_our[np.argmax(scores_our)], np.max(scores_our)"
     ],
     "language": "python",
     "metadata": {},
     "outputs": []
    },
    {
     "cell_type": "code",
     "collapsed": false,
     "input": [
      "X, Y = wine.data, wine.target\n",
      "\n",
      "param_grid_w = {'l': [2,5,10,30], 'beta': [0.1, 0.2], 'C': [1,10,100]}\n",
      "params_w, scores_w = grid_search(param_grid_w, X, Y, model=R2SVM)\n",
      "print params_w[np.argmax(scores_w)], np.max(scores_w)"
     ],
     "language": "python",
     "metadata": {},
     "outputs": []
    },
    {
     "cell_type": "code",
     "collapsed": false,
     "input": [
      "X, Y = wine.data, wine.target\n",
      "param_grid_rbf = {'kernel': ['rbf'], 'C': [1,10,100], 'gamma': [0,1,10,100]}\n",
      "params_rbf, scores_rbf = grid_search(param_grid_rbf, X, Y, model=sklearn.svm.SVC)\n",
      "print params_rbf[np.argmax(scores_rbf)], np.max(scores_rbf)"
     ],
     "language": "python",
     "metadata": {},
     "outputs": []
    },
    {
     "cell_type": "code",
     "collapsed": false,
     "input": [
      "X, Y = wine.data, wine.target\n",
      "param_grid_rbf = {'kernel': ['rbf'], 'C': [1,10,100], 'gamma': [0,1,10,100]}\n",
      "params_rbf, scores_rbf = grid_search(param_grid_rbf, X, Y, model=sklearn.svm.SVC)\n",
      "print params_rbf[np.argmax(scores_rbf)], np.max(scores_rbf)\n",
      "\n",
      "rbf = sklearn.svm.SVC()\n",
      "grid = GridSearchCV(rbf, param_grid_rbf, scoring='accuracy')\n",
      "grid.fit(X,Y)\n",
      "print grid.best_params_, grid.best_score_"
     ],
     "language": "python",
     "metadata": {},
     "outputs": []
    },
    {
     "cell_type": "code",
     "collapsed": false,
     "input": [
      "X, Y = X_moon, Y_moon\n",
      "model = R2SVMLearner(depth=10, beta=0.1, C=1)\n",
      "model.fit(X, Y)\n",
      "\n",
      "%matplotlib inline\n",
      "import matplotlib.pylab as plt\n",
      "plt.scatter(model.X_tr[-1][:,0], model.X_tr[-1][:,1], c=Y)\n",
      "plt.show()"
     ],
     "language": "python",
     "metadata": {},
     "outputs": []
    },
    {
     "cell_type": "code",
     "collapsed": false,
     "input": [
      "N = 300\n",
      "x, y = np.linspace(X.min(), X.max(), N),  np.linspace(X.min(), X.max(), N)\n",
      "xx, yy = np.meshgrid(x, y)\n",
      "z = model.predict(np.c_[xx.ravel(), yy.ravel()])\n",
      "# z = model._feed_forward(np.c_[xx.ravel(), yy.ravel()])[:,0]\n",
      "plt.contourf(xx, yy, z.reshape(N,N), cmap=plt.cm.Paired, alpha=0.8)\n",
      "plt.scatter(X[:,0], X[:,1], c=Y,  cmap=plt.cm.Paired, alpha=0.8)\n",
      "plt.show()"
     ],
     "language": "python",
     "metadata": {},
     "outputs": []
    },
    {
     "cell_type": "code",
     "collapsed": false,
     "input": [
      "X, Y = X_moon, Y_moon\n",
      "model = R2Lin(k=5)\n",
      "model.fit(X, Y)\n",
      "N = 300\n",
      "x, y = np.linspace(X.min(), X.max(), N),  np.linspace(X.min(), X.max(), N)\n",
      "xx, yy = np.meshgrid(x, y)\n",
      "z = model.predict(np.c_[xx.ravel(), yy.ravel()])\n",
      "# z = model._feed_forward(np.c_[xx.ravel(), yy.ravel()])[:,0]\n",
      "plt.contourf(xx, yy, z.reshape(N,N), cmap=plt.cm.Paired, alpha=0.8)\n",
      "plt.scatter(X[:,0], X[:,1], c=Y,  cmap=plt.cm.Paired, alpha=0.8)\n",
      "plt.show()"
     ],
     "language": "python",
     "metadata": {},
     "outputs": []
    },
    {
     "cell_type": "code",
     "collapsed": false,
     "input": [
      "def run_and_plot(X, Y, **R2_params):\n",
      "    plot_side = int(math.sqrt(R2_params['depth']))\n",
      "    if plot_side**2 < R2_params['depth']: plot_side += 1\n",
      "\n",
      "    for i in range(R2_params['depth']):\n",
      "        model = R2SVMLearner(**R2_params)\n",
      "        model.fit(X, Y)\n",
      "        \n",
      "        plt.subplot(plot_side, plot_side, i + 1)\n",
      "        \n",
      "        N = 200\n",
      "\n",
      "        x, y = np.linspace(X.min(), X.max(), N),  np.linspace(X.min(), X.max(), N)\n",
      "        xx, yy = np.meshgrid(x, y)\n",
      "        z = model.predict(np.c_[xx.ravel(), yy.ravel()])\n",
      "        plt.contourf(xx, yy, z.reshape(N,N), cmap=plt.cm.Paired, alpha=0.8)\n",
      "        plt.scatter(X[:,0], X[:,1], c=Y,  cmap=plt.cm.Paired, alpha=0.8)\n",
      "        plt.show()\n",
      "        \n",
      "        "
     ],
     "language": "python",
     "metadata": {},
     "outputs": []
    },
    {
     "cell_type": "code",
     "collapsed": false,
     "input": [
      "run_and_plot(X_moon, Y_moon, beta=0.1, depth=5, C=1)"
     ],
     "language": "python",
     "metadata": {},
     "outputs": []
    },
    {
     "cell_type": "code",
     "collapsed": false,
     "input": [
      "X, Y = X_moon, Y_moon\n",
      "model3 = R2SVM(l=2)\n",
      "model3.fit(X, Y)\n",
      "print model3.score(X, Y)\n",
      "model3.drawdata(X, Y)"
     ],
     "language": "python",
     "metadata": {},
     "outputs": []
    },
    {
     "cell_type": "code",
     "collapsed": false,
     "input": [
      "N = 300\n",
      "x, y = np.linspace(X.min(), X.max(), N),  np.linspace(X.min(), X.max(), N)\n",
      "xx, yy = np.meshgrid(x, y)\n",
      "z = np.array(model3.predict(np.c_[xx.ravel(), yy.ravel()]))\n",
      "# z = model._feed_forward(np.c_[xx.ravel(), yy.ravel()])[:,0]\n",
      "plt.contourf(xx, yy, z.reshape(N,N), cmap=plt.cm.Paired, alpha=0.8)\n",
      "plt.scatter(X[:,0], X[:,1], c=Y,  cmap=plt.cm.Paired, alpha=0.8)\n",
      "plt.show()"
     ],
     "language": "python",
     "metadata": {},
     "outputs": []
    },
    {
     "cell_type": "code",
     "collapsed": false,
     "input": [
      "from sklearn import datasets\n",
      "from scipy.sparse import vstack\n",
      "import os\n",
      "data_dir = '../data'"
     ],
     "language": "python",
     "metadata": {},
     "outputs": []
    },
    {
     "cell_type": "code",
     "collapsed": false,
     "input": [
      "pen_train_x, pen_train_y, pen_test_x, pen_test_y = datasets.load_svmlight_files((os.path.join(data_dir, 'pendigits'),\n",
      "                                                                                     os.path.join(data_dir, 'pendigits.t')))\n",
      "print pen_train_x.shape\n",
      "print pen_test_x.shape\n",
      "\n",
      "pen_x = vstack([pen_train_x, pen_test_x])\n",
      "pen_y = np.hstack([pen_train_y, pen_test_y])\n",
      "\n",
      "print pen_x.shape\n",
      "print pen_y.shape"
     ],
     "language": "python",
     "metadata": {},
     "outputs": []
    },
    {
     "cell_type": "code",
     "collapsed": false,
     "input": [
      "news_train_x, news_train_y, news_test_x, news_test_y = datasets.load_svmlight_files((os.path.join(data_dir, 'news20.scale'),\n",
      "                                                                                     os.path.join(data_dir, 'news20.t.scale')))"
     ],
     "language": "python",
     "metadata": {},
     "outputs": []
    },
    {
     "cell_type": "code",
     "collapsed": false,
     "input": [
      "print news_test_x.shape\n",
      "print news_test_y.shape"
     ],
     "language": "python",
     "metadata": {},
     "outputs": []
    },
    {
     "cell_type": "code",
     "collapsed": false,
     "input": [
      "print news_train_x.shape\n",
      "print news_train_y.shape"
     ],
     "language": "python",
     "metadata": {},
     "outputs": []
    },
    {
     "cell_type": "code",
     "collapsed": false,
     "input": [
      "news_x = vstack([news_train_x, news_test_x])\n",
      "news_y = np.hstack([news_train_y, news_test_y])\n",
      "print news_x.shape\n",
      "print news_y.shape"
     ],
     "language": "python",
     "metadata": {},
     "outputs": []
    },
    {
     "cell_type": "code",
     "collapsed": false,
     "input": [
      "type(news_test_x)"
     ],
     "language": "python",
     "metadata": {},
     "outputs": []
    },
    {
     "cell_type": "code",
     "collapsed": true,
     "input": [
      "covtype = datasets.fetch_covtype()"
     ],
     "language": "python",
     "metadata": {},
     "outputs": []
    },
    {
     "cell_type": "code",
     "collapsed": false,
     "input": [
      "import pickle\n",
      "import numpy as np"
     ],
     "language": "python",
     "metadata": {},
     "outputs": []
    },
    {
     "cell_type": "code",
     "collapsed": false,
     "input": [
      "f = open('../data/mnist.pkl')\n",
      "train_set, valid_set, test_set = pickle.load(f)\n",
      "f.close()"
     ],
     "language": "python",
     "metadata": {},
     "outputs": []
    },
    {
     "cell_type": "code",
     "collapsed": false,
     "input": [
      "mnist_x = np.vstack([train_set[0], valid_set[0], test_set[0]])"
     ],
     "language": "python",
     "metadata": {},
     "outputs": []
    },
    {
     "cell_type": "code",
     "collapsed": false,
     "input": [
      "mnist_x.shape"
     ],
     "language": "python",
     "metadata": {},
     "outputs": []
    },
    {
     "cell_type": "code",
     "collapsed": false,
     "input": [
      "train_set[0].shape"
     ],
     "language": "python",
     "metadata": {},
     "outputs": []
    },
    {
     "cell_type": "code",
     "collapsed": false,
     "input": [
      "mnist_y = np.hstack([train_set[1], valid_set[1], test_set[1]])\n",
      "print mnist_y.shape"
     ],
     "language": "python",
     "metadata": {},
     "outputs": []
    },
    {
     "cell_type": "code",
     "collapsed": false,
     "input": [
      "import sys"
     ],
     "language": "python",
     "metadata": {},
     "outputs": []
    },
    {
     "cell_type": "code",
     "collapsed": false,
     "input": [
      "sys.path.append('..')"
     ],
     "language": "python",
     "metadata": {},
     "outputs": []
    },
    {
     "cell_type": "code",
     "collapsed": false,
     "input": [
      "%load_ext autoreload\n",
      "%autoreload 2\n",
      "from data_api import *"
     ],
     "language": "python",
     "metadata": {},
     "outputs": []
    },
    {
     "cell_type": "code",
     "collapsed": false,
     "input": [
      "small = fetch_small_datasets()\n",
      "large = fetch_large_datasets()\n",
      "binary = fetch_binray_datasets()\n",
      "fmedium = fetch_medium_datasets()"
     ],
     "language": "python",
     "metadata": {},
     "outputs": []
    },
    {
     "cell_type": "code",
     "collapsed": false,
     "input": [
      "print fmedium[0].data.shape"
     ],
     "language": "python",
     "metadata": {},
     "outputs": []
    }
   ],
   "metadata": {}
  }
 ]
}