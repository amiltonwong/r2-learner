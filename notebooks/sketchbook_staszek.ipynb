{
 "metadata": {
  "name": "",
  "signature": "sha256:cb1ddc27d1a016ac323fe776697662098bd7b14b3ac9cea14affcab76e495ef0"
 },
 "nbformat": 3,
 "nbformat_minor": 0,
 "worksheets": [
  {
   "cells": [
    {
     "cell_type": "markdown",
     "metadata": {},
     "source": [
      "# Note: Run from root directory, because __file__ is undefined in ipython (bug)"
     ]
    },
    {
     "cell_type": "code",
     "collapsed": false,
     "input": [
      "%load_ext autoreload\n",
      "%autoreload 2\n",
      "\n",
      "import sys\n",
      "import os\n",
      "sys.path.append(\"..\")\n",
      "\n",
      "from sklearn import svm, datasets\n",
      "from sklearn.grid_search import ParameterGrid, GridSearchCV\n",
      "from sklearn.base import BaseEstimator, clone \n",
      "from sklearn.cross_validation import KFold\n",
      "from sklearn.svm import SVC\n",
      "import os\n",
      "import math\n",
      "import numpy as np\n",
      "import seaborn\n",
      "import sklearn.metrics\n",
      "from multiprocessing import Pool\n",
      "from functools import partial\n",
      "\n",
      "import sklearn\n",
      "from sklearn.preprocessing import MinMaxScaler, LabelBinarizer\n",
      "from sklearn.metrics import accuracy_score\n",
      "from sklearn.cross_validation import KFold\n",
      "from sklearn.preprocessing import MinMaxScaler\n",
      "\n",
      "from data_api import *\n",
      "from models import R2SVMLearner, R2ELMLearner, ELM\n",
      "from fit_r2elm import *\n",
      "from fit_r2svm import *\n",
      "\n",
      "\n",
      "%matplotlib inline"
     ],
     "language": "python",
     "metadata": {},
     "outputs": [
      {
       "output_type": "stream",
       "stream": "stdout",
       "text": [
        "The autoreload extension is already loaded. To reload it, use:\n",
        "  %reload_ext autoreload\n"
       ]
      }
     ],
     "prompt_number": 27
    },
    {
     "cell_type": "code",
     "collapsed": false,
     "input": [
      "\n",
      "iris = fetch_uci_datasets('iris')\n",
      "liver = fetch_uci_datasets('liver')\n",
      "X_iris, Y_iris = iris.data, iris.target\n",
      "X_liver, Y_liver = liver.data, liver.target\n",
      "\n",
      "scaler = MinMaxScaler((-1,1))\n",
      "X_iris = scaler.fit_transform(X_iris)\n",
      "\n",
      "scaler = MinMaxScaler((-1,1))\n",
      "X_liver = scaler.fit_transform(X_liver)\n",
      "\n",
      "sig_model = ELM(activation='sigmoid')\n",
      "rbf_model = ELM(activation='rbf')\n",
      "sig_model.fit(X_iris,Y_iris)\n",
      "rbf_model.fit(X_iris,Y_iris)\n",
      "print \"%s: dim: %i, class: %i\" % (iris.name, iris.n_dim, iris.n_class)\n",
      "print \"ELM+SIG on iris: %.2f\" % accuracy_score(Y_iris, sig_model.predict(X_iris))\n",
      "print \"ELM+RBF on iris: %.2f\" % accuracy_score(Y_iris, rbf_model.predict(X_iris))\n",
      "print\n",
      "print \"%s: dim: %i, class: %i\" % (liver.name, liver.n_dim, liver.n_class)\n",
      "sig_model = ELM(activation='sigmoid')\n",
      "rbf_model = ELM(activation='rbf')\n",
      "sig_model.fit(X_liver,Y_liver)\n",
      "rbf_model.fit(X_liver,Y_liver)\n",
      "print \"ELM+SIG on liver: %.2f\" % accuracy_score(Y_liver, sig_model.predict(X_liver))\n",
      "print \"ELM+RBF on liver: %.2f\" % accuracy_score(Y_liver, rbf_model.predict(X_liver))\n"
     ],
     "language": "python",
     "metadata": {},
     "outputs": [
      {
       "output_type": "stream",
       "stream": "stdout",
       "text": [
        "iris: dim: 4, class: 3\n",
        "ELM+SIG on iris: 0.99\n",
        "ELM+RBF on iris: 0.98\n",
        "\n",
        "liver: dim: 6, class: 2\n",
        "ELM+SIG on liver: 0.79\n",
        "ELM+RBF on liver: 0.79\n"
       ]
      }
     ],
     "prompt_number": 24
    },
    {
     "cell_type": "code",
     "collapsed": false,
     "input": [
      "from misc.config import c\n",
      "print(os.path.join(c[\"DATA_DIR\"], \"/heart\"))"
     ],
     "language": "python",
     "metadata": {},
     "outputs": [
      {
       "output_type": "stream",
       "stream": "stdout",
       "text": [
        "/heart\n"
       ]
      }
     ],
     "prompt_number": 25
    },
    {
     "cell_type": "code",
     "collapsed": false,
     "input": [
      "R2Lin"
     ],
     "language": "python",
     "metadata": {},
     "outputs": [
      {
       "metadata": {},
       "output_type": "pyout",
       "prompt_number": 37,
       "text": [
        "models.R2Lin"
       ]
      }
     ],
     "prompt_number": 37
    },
    {
     "cell_type": "code",
     "collapsed": false,
     "input": [
      "from models import R2Lin\n",
      "x = R2Lin(k=5).fit(data.data, data.target)"
     ],
     "language": "python",
     "metadata": {},
     "outputs": [],
     "prompt_number": 39
    },
    {
     "cell_type": "code",
     "collapsed": false,
     "input": [
      "param_grid = {'C': [1,10,100], [\"]\n",
      "              'beta': [0.04, 0.01, 0.1]}\n",
      "\n",
      "E_grid, E = fit_r2svm_on_dataset(data=liver, param_grid_in=param_grid, to_file=False)\n",
      "\n",
      "print E['config']['params']\n",
      "print E['results']['mean_acc']\n",
      "print E['monitors']['std']\n",
      "print E['monitors']['train_time']\n",
      "\n",
      "print E_grid['monitors']['grid_time']"
     ],
     "language": "python",
     "metadata": {},
     "outputs": [
      {
       "output_type": "stream",
       "stream": "stderr",
       "text": [
        "2015-03-07 20:19:31,190 \tR2SVM grid_search_on_liver  {'best_params': {'C': 1, 'use_prev': True, 'recurrent': True, 'depth': 5, 'beta': 0.04, 'scale': True, 'seed': None}, 'best_cls': R2SVMLearner(C=1, activation=<function _sigmoid at 0x7f47a733db90>, beta=0.04,\n",
        "       depth=5, recurrent=True, scale=True, seed=1565484368, use_prev=True), 'best_score': 0.68695652173913047}\n"
       ]
      },
      {
       "output_type": "stream",
       "stream": "stderr",
       "text": [
        "2015-03-07 20:19:31,190 \tR2SVM grid_search_on_liver  {'best_std': [0.032536151189338662], 'mean_fold_scores': [0.68695652173913047, 0.68405797101449273, 0.68405797101449273, 0.67536231884057973, 0.6811594202898551, 0.67826086956521736, 0.67536231884057973, 0.68405797101449273, 0.64927536231884053], 'std_fold_scores': [0.032536151189338662, 0.017867866675272431, 0.010845383729779527, 0.0081983394920179479, 0.024934276136355432, 0.021299910806810256, 0.024934276136355477, 0.017867866675272431, 0.01477976670606606], 'grid_time': 72.15772414207458}\n"
       ]
      },
      {
       "output_type": "stream",
       "stream": "stderr",
       "text": [
        "2015-03-07 20:19:57,653 \tR2SVM grid_search_on_liver  {'mean_acc': 0.66376811594202889}\n"
       ]
      },
      {
       "output_type": "stream",
       "stream": "stderr",
       "text": [
        "2015-03-07 20:19:57,653 \tR2SVM grid_search_on_liver  {'std': 0.072983642388487924, 'test_time': 0.0018510818481445312, 'n_dim': 6, 'acc_fold': array([ 0.53623188,  0.68115942,  0.72463768,  0.63768116,  0.73913043]), 'cm': [array([[14, 14],\n",
        "       [18, 23]]), array([[16, 12],\n",
        "       [10, 31]]), array([[20,  6],\n",
        "       [13, 30]]), array([[14, 13],\n",
        "       [12, 30]]), array([[24, 12],\n",
        "       [ 6, 27]])], 'train_time': [4.11162805557251, 5.281131982803345, 4.7586939334869385, 5.14855694770813, 7.149468183517456], 'clf': [R2SVMLearner(C=1, activation=<function _sigmoid at 0x7f47a733db90>, beta=0.04,\n",
        "       depth=5, recurrent=True, scale=True, seed=483105993, use_prev=True), R2SVMLearner(C=1, activation=<function _sigmoid at 0x7f47a733db90>, beta=0.04,\n",
        "       depth=5, recurrent=True, scale=True, seed=2138882007, use_prev=True), R2SVMLearner(C=1, activation=<function _sigmoid at 0x7f47a733db90>, beta=0.04,\n",
        "       depth=5, recurrent=True, scale=True, seed=1902692069, use_prev=True), R2SVMLearner(C=1, activation=<function _sigmoid at 0x7f47a733db90>, beta=0.04,\n",
        "       depth=5, recurrent=True, scale=True, seed=759997005, use_prev=True), R2SVMLearner(C=1, activation=<function _sigmoid at 0x7f47a733db90>, beta=0.04,\n",
        "       depth=5, recurrent=True, scale=True, seed=844709869, use_prev=True)], 'data_name': 'liver', 'n_class': 2}\n"
       ]
      },
      {
       "output_type": "stream",
       "stream": "stdout",
       "text": [
        "{'C': 1, 'use_prev': True, 'recurrent': True, 'depth': 5, 'beta': 0.04, 'scale': True, 'seed': None}\n",
        "0.663768115942\n",
        "0.0729836423885\n",
        "[4.11162805557251, 5.281131982803345, 4.7586939334869385, 5.14855694770813, 7.149468183517456]\n",
        "72.1577241421\n"
       ]
      }
     ],
     "prompt_number": 35
    },
    {
     "cell_type": "code",
     "collapsed": false,
     "input": [
      "param_grid = {'h': [30, 40, 50, 60],\n",
      "              'beta': [0.04, 0.01, 0.1]}\n",
      "\n",
      "E_grid, E = fit_r2elm_on_dataset(data=liver, param_grid_in=param_grid, to_file=False)\n",
      "\n",
      "print E['config']['params']\n",
      "print E['results']['mean_acc']\n",
      "print E['monitors']['std']\n",
      "print E['monitors']['train_time']\n",
      "\n",
      "print E_grid['monitors']['grid_time']"
     ],
     "language": "python",
     "metadata": {},
     "outputs": [
      {
       "output_type": "stream",
       "stream": "stderr",
       "text": [
        "2015-03-07 20:16:18,467 \tR2ELM grid_search_on_liver  {'best_params': {'use_prev': True, 'h': 30, 'recurrent': True, 'depth': 5, 'beta': 0.04, 'scale': True, 'seed': None}, 'best_cls': R2ELMLearner(activation=<function _sigmoid at 0x7f47a733db90>, beta=0.04,\n",
        "       depth=5, h=30, max_h=100, recurrent=True, scale=True,\n",
        "       seed=2026544437, use_prev=True), 'best_score': 0.6376811594202898}\n"
       ]
      },
      {
       "output_type": "stream",
       "stream": "stderr",
       "text": [
        "2015-03-07 20:16:18,470 \tR2ELM grid_search_on_liver  {'best_std': [0.051362449700490885, 0.051362449700490885, 0.051362449700490885, 0.051362449700490885], 'mean_fold_scores': [0.6376811594202898, 0.6376811594202898, 0.6376811594202898, 0.6376811594202898, 0.62898550724637681, 0.62898550724637681, 0.62898550724637681, 0.62898550724637681, 0.58840579710144925, 0.58840579710144925, 0.58840579710144925, 0.58840579710144925], 'std_fold_scores': [0.051362449700490885, 0.051362449700490885, 0.051362449700490885, 0.051362449700490885, 0.040372139933867006, 0.040372139933867006, 0.040372139933867006, 0.040372139933867006, 0.050371441150674677, 0.050371441150674677, 0.050371441150674677, 0.050371441150674677], 'grid_time': 3.1567440032958984}\n"
       ]
      },
      {
       "output_type": "stream",
       "stream": "stderr",
       "text": [
        "2015-03-07 20:16:18,728 \tR2ELM grid_search_on_liver  {'mean_acc': 0.68405797101449273}\n"
       ]
      },
      {
       "output_type": "stream",
       "stream": "stderr",
       "text": [
        "2015-03-07 20:16:18,729 \tR2ELM grid_search_on_liver  {'std': 0.072983642388487965, 'test_time': 0.0007288455963134766, 'n_dim': 6, 'acc_fold': array([ 0.66666667,  0.7826087 ,  0.5942029 ,  0.62318841,  0.75362319]), 'cm': [array([[15, 10],\n",
        "       [13, 31]]), array([[18,  6],\n",
        "       [ 9, 36]]), array([[12, 21],\n",
        "       [ 7, 29]]), array([[12, 18],\n",
        "       [ 8, 31]]), array([[21, 12],\n",
        "       [ 5, 31]])], 'train_time': [0.06869196891784668, 0.03861594200134277, 0.046751976013183594, 0.045719146728515625, 0.04847216606140137], 'clf': [R2ELMLearner(activation=<function _sigmoid at 0x7f47a733db90>, beta=0.04,\n",
        "       depth=5, h=30, max_h=100, recurrent=True, scale=True,\n",
        "       seed=1770069903, use_prev=True), R2ELMLearner(activation=<function _sigmoid at 0x7f47a733db90>, beta=0.04,\n",
        "       depth=5, h=30, max_h=100, recurrent=True, scale=True,\n",
        "       seed=1287232190, use_prev=True), R2ELMLearner(activation=<function _sigmoid at 0x7f47a733db90>, beta=0.04,\n",
        "       depth=5, h=30, max_h=100, recurrent=True, scale=True,\n",
        "       seed=1234432143, use_prev=True), R2ELMLearner(activation=<function _sigmoid at 0x7f47a733db90>, beta=0.04,\n",
        "       depth=5, h=30, max_h=100, recurrent=True, scale=True,\n",
        "       seed=1582719407, use_prev=True), R2ELMLearner(activation=<function _sigmoid at 0x7f47a733db90>, beta=0.04,\n",
        "       depth=5, h=30, max_h=100, recurrent=True, scale=True,\n",
        "       seed=1960358429, use_prev=True)], 'data_name': 'liver', 'n_class': 2}\n"
       ]
      },
      {
       "output_type": "stream",
       "stream": "stdout",
       "text": [
        "{'use_prev': True, 'h': 30, 'recurrent': True, 'depth': 5, 'beta': 0.04, 'scale': True, 'seed': None}\n",
        "0.684057971014\n",
        "0.0729836423885\n",
        "[0.06869196891784668, 0.03861594200134277, 0.046751976013183594, 0.045719146728515625, 0.04847216606140137]\n",
        "3.1567440033\n"
       ]
      }
     ],
     "prompt_number": 34
    }
   ],
   "metadata": {}
  }
 ]
}