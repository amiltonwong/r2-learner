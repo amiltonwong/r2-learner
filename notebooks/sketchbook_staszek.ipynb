{
 "metadata": {
  "name": "",
  "signature": "sha256:f5b34e5a7d0f6152d9593725608880f8ad175a299e1c3c76d0525fd538352de6"
 },
 "nbformat": 3,
 "nbformat_minor": 0,
 "worksheets": [
  {
   "cells": [
    {
     "cell_type": "markdown",
     "metadata": {},
     "source": [
      "# Note: Run from root directory, because __file__ is undefined in ipython (bug)"
     ]
    },
    {
     "cell_type": "code",
     "collapsed": false,
     "input": [
      "%load_ext autoreload\n",
      "%autoreload 2\n",
      "\n",
      "import sys\n",
      "import os\n",
      "sys.path.append(\"..\")\n",
      "\n",
      "from sklearn import svm, datasets\n",
      "from sklearn.grid_search import ParameterGrid, GridSearchCV\n",
      "from sklearn.base import BaseEstimator, clone \n",
      "from sklearn.cross_validation import KFold\n",
      "from sklearn.svm import SVC\n",
      "import os\n",
      "import math\n",
      "import numpy as np\n",
      "import seaborn\n",
      "import sklearn.metrics\n",
      "from multiprocessing import Pool\n",
      "from functools import partial\n",
      "\n",
      "import sklearn\n",
      "from sklearn.preprocessing import MinMaxScaler, LabelBinarizer\n",
      "from sklearn.metrics import accuracy_score\n",
      "from sklearn.cross_validation import KFold\n",
      "from sklearn.preprocessing import MinMaxScaler\n",
      "\n",
      "from data_api import *\n",
      "from models import R2SVMLearner, R2ELMLearner, ELM\n",
      "\n",
      "\n",
      "\n",
      "%matplotlib inline"
     ],
     "language": "python",
     "metadata": {},
     "outputs": [
      {
       "output_type": "stream",
       "stream": "stdout",
       "text": [
        "The autoreload extension is already loaded. To reload it, use:\n",
        "  %reload_ext autoreload\n"
       ]
      }
     ],
     "prompt_number": 14
    },
    {
     "cell_type": "code",
     "collapsed": false,
     "input": [
      "\n",
      "iris = fetch_uci_datasets('iris')\n",
      "liver = fetch_uci_datasets('liver')\n",
      "X_iris, Y_iris = iris.data, iris.target\n",
      "X_liver, Y_liver = liver.data, liver.target\n",
      "\n",
      "scaler = MinMaxScaler((-1,1))\n",
      "X_iris = scaler.fit_transform(X_iris)\n",
      "\n",
      "scaler = MinMaxScaler((-1,1))\n",
      "X_liver = scaler.fit_transform(X_liver)\n",
      "\n",
      "sig_model = ELM(activation='sigmoid')\n",
      "rbf_model = ELM(activation='rbf')\n",
      "sig_model.fit(X_iris,Y_iris)\n",
      "rbf_model.fit(X_iris,Y_iris)\n",
      "print \"%s: dim: %i, class: %i\" % (iris.name, iris.n_dim, iris.n_class)\n",
      "print \"ELM+SIG on iris: %.2f\" % accuracy_score(Y_iris, sig_model.predict(X_iris))\n",
      "print \"ELM+RBF on iris: %.2f\" % accuracy_score(Y_iris, rbf_model.predict(X_iris))\n",
      "print\n",
      "print \"%s: dim: %i, class: %i\" % (liver.name, liver.n_dim, liver.n_class)\n",
      "sig_model = ELM(activation='sigmoid')\n",
      "rbf_model = ELM(activation='rbf')\n",
      "sig_model.fit(X_liver,Y_liver)\n",
      "rbf_model.fit(X_liver,Y_liver)\n",
      "print \"ELM+SIG on liver: %.2f\" % accuracy_score(Y_liver, sig_model.predict(X_liver))\n",
      "print \"ELM+RBF on liver: %.2f\" % accuracy_score(Y_liver, rbf_model.predict(X_liver))\n"
     ],
     "language": "python",
     "metadata": {},
     "outputs": [
      {
       "output_type": "stream",
       "stream": "stdout",
       "text": [
        "iris: dim: 4, class: 3\n",
        "ELM+SIG on iris: 0.99\n",
        "ELM+RBF on iris: 0.98\n",
        "\n",
        "liver: dim: 6, class: 2\n",
        "ELM+SIG on liver: 0.79\n",
        "ELM+RBF on liver: 0.79\n"
       ]
      }
     ],
     "prompt_number": 24
    },
    {
     "cell_type": "code",
     "collapsed": false,
     "input": [
      "from misc.config import c\n",
      "print(os.path.join(c[\"DATA_DIR\"], \"/heart\"))"
     ],
     "language": "python",
     "metadata": {},
     "outputs": [
      {
       "output_type": "stream",
       "stream": "stdout",
       "text": [
        "/heart\n"
       ]
      }
     ],
     "prompt_number": 25
    }
   ],
   "metadata": {}
  }
 ]
}