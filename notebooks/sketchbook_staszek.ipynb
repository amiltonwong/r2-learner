{
 "metadata": {
  "name": "",
  "signature": "sha256:87d45b1554cf272777508a772a1a4a3e2c9f035bee5a9eab7ff4a6f1eea9cb10"
 },
 "nbformat": 3,
 "nbformat_minor": 0,
 "worksheets": [
  {
   "cells": [
    {
     "cell_type": "markdown",
     "metadata": {},
     "source": [
      "# Note: Run from root directory, because __file__ is undefined in ipython (bug)"
     ]
    },
    {
     "cell_type": "code",
     "collapsed": false,
     "input": [
      "%load_ext autoreload\n",
      "%autoreload 2\n",
      "\n",
      "import sys\n",
      "import os\n",
      "sys.path.append(\"..\")\n",
      "\n",
      "from sklearn import svm, datasets\n",
      "from sklearn.grid_search import ParameterGrid, GridSearchCV\n",
      "from sklearn.base import BaseEstimator, clone \n",
      "from sklearn.cross_validation import KFold\n",
      "from sklearn.svm import SVC\n",
      "import os\n",
      "import math\n",
      "import numpy as np\n",
      "import sklearn.metrics\n",
      "from multiprocessing import Pool\n",
      "from functools import partial\n",
      "\n",
      "import sklearn\n",
      "from sklearn.preprocessing import MinMaxScaler, LabelBinarizer\n",
      "from sklearn.metrics import accuracy_score\n",
      "from sklearn.cross_validation import KFold\n",
      "from sklearn.preprocessing import MinMaxScaler\n",
      "\n",
      "from data_api import *\n",
      "from models import R2SVMLearner, R2ELMLearner, ELM\n",
      "from fit_r2elm import *\n",
      "from fit_r2svm import *\n",
      "\n",
      "\n",
      "%matplotlib inline"
     ],
     "language": "python",
     "metadata": {},
     "outputs": [],
     "prompt_number": 1
    },
    {
     "cell_type": "code",
     "collapsed": false,
     "input": [
      "from models import R2Lin"
     ],
     "language": "python",
     "metadata": {},
     "outputs": [],
     "prompt_number": 2
    },
    {
     "cell_type": "code",
     "collapsed": false,
     "input": [
      "help(R2Lin)"
     ],
     "language": "python",
     "metadata": {},
     "outputs": [
      {
       "output_type": "stream",
       "stream": "stdout",
       "text": [
        "Help on class R2Lin in module models:\n",
        "\n",
        "class R2Lin\n",
        " |  Methods defined here:\n",
        " |  \n",
        " |  __init__(self, k, estimator=<functools.partial object>, recurrent=False, scale=False)\n",
        " |  \n",
        " |  __str__(self)\n",
        " |  \n",
        " |  fit(self, X, y)\n",
        " |  \n",
        " |  predict(self, X)\n",
        "\n"
       ]
      }
     ],
     "prompt_number": 3
    },
    {
     "cell_type": "code",
     "collapsed": false,
     "input": [
      "\n",
      "iris = fetch_uci_datasets('iris')\n",
      "liver = fetch_uci_datasets('liver')\n",
      "X_iris, Y_iris = iris.data, iris.target\n",
      "X_liver, Y_liver = liver.data, liver.target\n",
      "\n",
      "scaler = MinMaxScaler((-1,1))\n",
      "X_iris = scaler.fit_transform(X_iris)\n",
      "\n",
      "scaler = MinMaxScaler((-1,1))\n",
      "X_liver = scaler.fit_transform(X_liver)\n",
      "\n",
      "sig_model = ELM(activation='sigmoid')\n",
      "rbf_model = ELM(activation='rbf')\n",
      "sig_model.fit(X_iris,Y_iris)\n",
      "rbf_model.fit(X_iris,Y_iris)\n",
      "print \"%s: dim: %i, class: %i\" % (iris.name, iris.n_dim, iris.n_class)\n",
      "print \"ELM+SIG on iris: %.2f\" % accuracy_score(Y_iris, sig_model.predict(X_iris))\n",
      "print \"ELM+RBF on iris: %.2f\" % accuracy_score(Y_iris, rbf_model.predict(X_iris))\n",
      "print\n",
      "print \"%s: dim: %i, class: %i\" % (liver.name, liver.n_dim, liver.n_class)\n",
      "sig_model = ELM(activation='sigmoid')\n",
      "rbf_model = ELM(activation='rbf')\n",
      "sig_model.fit(X_liver,Y_liver)\n",
      "rbf_model.fit(X_liver,Y_liver)\n",
      "print \"ELM+SIG on liver: %.2f\" % accuracy_score(Y_liver, sig_model.predict(X_liver))\n",
      "print \"ELM+RBF on liver: %.2f\" % accuracy_score(Y_liver, rbf_model.predict(X_liver))\n",
      "\n",
      "\n",
      "r2lin_wojtek = R2Lin(k=7)\n",
      "r2lin_wojtek.fit(X_iris, Y_iris)\n",
      "print \"R2Lin on iris: %.2f\" % accuracy_score(Y_iris, r2lin_wojtek.predict(X_iris))"
     ],
     "language": "python",
     "metadata": {},
     "outputs": [
      {
       "output_type": "stream",
       "stream": "stderr",
       "text": [
        "/lhome/home/czarnecki/.local/lib/python2.7/site-packages/sklearn/datasets/svmlight_format.py:137: DeprecationWarning: using a non-integer number instead of an integer will result in an error in the future\n",
        "  return _load_svmlight_file(f, dtype, multilabel, zero_based, query_id)\n",
        "/lhome/home/czarnecki/.local/lib/python2.7/site-packages/sklearn/datasets/svmlight_format.py:137: DeprecationWarning: using a non-integer number instead of an integer will result in an error in the future\n",
        "  return _load_svmlight_file(f, dtype, multilabel, zero_based, query_id)\n",
        "/lhome/home/czarnecki/.local/lib/python2.7/site-packages/sklearn/datasets/svmlight_format.py:137: DeprecationWarning: using a non-integer number instead of an integer will result in an error in the future\n",
        "  return _load_svmlight_file(f, dtype, multilabel, zero_based, query_id)\n",
        "/lhome/home/czarnecki/.local/lib/python2.7/site-packages/sklearn/datasets/svmlight_format.py:137: DeprecationWarning: using a non-integer number instead of an integer will result in an error in the future\n",
        "  return _load_svmlight_file(f, dtype, multilabel, zero_based, query_id)\n",
        "/lhome/home/czarnecki/.local/lib/python2.7/site-packages/sklearn/datasets/svmlight_format.py:137: DeprecationWarning: using a non-integer number instead of an integer will result in an error in the future\n",
        "  return _load_svmlight_file(f, dtype, multilabel, zero_based, query_id)\n",
        "/lhome/home/czarnecki/.local/lib/python2.7/site-packages/sklearn/datasets/svmlight_format.py:137: DeprecationWarning: using a non-integer number instead of an integer will result in an error in the future\n",
        "  return _load_svmlight_file(f, dtype, multilabel, zero_based, query_id)\n",
        "/lhome/home/czarnecki/.local/lib/python2.7/site-packages/sklearn/datasets/svmlight_format.py:137: DeprecationWarning: using a non-integer number instead of an integer will result in an error in the future\n",
        "  return _load_svmlight_file(f, dtype, multilabel, zero_based, query_id)\n",
        "/lhome/home/czarnecki/.local/lib/python2.7/site-packages/sklearn/datasets/svmlight_format.py:137: DeprecationWarning: using a non-integer number instead of an integer will result in an error in the future\n",
        "  return _load_svmlight_file(f, dtype, multilabel, zero_based, query_id)\n",
        "/lhome/home/czarnecki/.local/lib/python2.7/site-packages/sklearn/datasets/svmlight_format.py:137: DeprecationWarning: using a non-integer number instead of an integer will result in an error in the future\n",
        "  return _load_svmlight_file(f, dtype, multilabel, zero_based, query_id)\n",
        "/lhome/home/czarnecki/.local/lib/python2.7/site-packages/sklearn/datasets/svmlight_format.py:137: DeprecationWarning: using a non-integer number instead of an integer will result in an error in the future\n",
        "  return _load_svmlight_file(f, dtype, multilabel, zero_based, query_id)\n",
        "/lhome/home/czarnecki/.local/lib/python2.7/site-packages/sklearn/datasets/svmlight_format.py:137: DeprecationWarning: using a non-integer number instead of an integer will result in an error in the future\n",
        "  return _load_svmlight_file(f, dtype, multilabel, zero_based, query_id)\n",
        "/lhome/home/czarnecki/.local/lib/python2.7/site-packages/sklearn/datasets/svmlight_format.py:137: DeprecationWarning: using a non-integer number instead of an integer will result in an error in the future\n",
        "  return _load_svmlight_file(f, dtype, multilabel, zero_based, query_id)\n",
        "/lhome/home/czarnecki/.local/lib/python2.7/site-packages/sklearn/datasets/svmlight_format.py:137: DeprecationWarning: using a non-integer number instead of an integer will result in an error in the future\n",
        "  return _load_svmlight_file(f, dtype, multilabel, zero_based, query_id)\n",
        "/lhome/home/czarnecki/.local/lib/python2.7/site-packages/sklearn/datasets/svmlight_format.py:137: DeprecationWarning: using a non-integer number instead of an integer will result in an error in the future\n",
        "  return _load_svmlight_file(f, dtype, multilabel, zero_based, query_id)\n",
        "/lhome/home/czarnecki/.local/lib/python2.7/site-packages/sklearn/datasets/svmlight_format.py:137: DeprecationWarning: using a non-integer number instead of an integer will result in an error in the future\n",
        "  return _load_svmlight_file(f, dtype, multilabel, zero_based, query_id)\n",
        "/lhome/home/czarnecki/.local/lib/python2.7/site-packages/sklearn/datasets/svmlight_format.py:137: DeprecationWarning: using a non-integer number instead of an integer will result in an error in the future\n",
        "  return _load_svmlight_file(f, dtype, multilabel, zero_based, query_id)\n",
        "/lhome/home/czarnecki/.local/lib/python2.7/site-packages/sklearn/datasets/svmlight_format.py:137: DeprecationWarning: using a non-integer number instead of an integer will result in an error in the future\n",
        "  return _load_svmlight_file(f, dtype, multilabel, zero_based, query_id)\n",
        "/lhome/home/czarnecki/.local/lib/python2.7/site-packages/sklearn/datasets/svmlight_format.py:137: DeprecationWarning: using a non-integer number instead of an integer will result in an error in the future\n",
        "  return _load_svmlight_file(f, dtype, multilabel, zero_based, query_id)\n",
        "/lhome/home/czarnecki/.local/lib/python2.7/site-packages/sklearn/datasets/svmlight_format.py:137: DeprecationWarning: using a non-integer number instead of an integer will result in an error in the future\n",
        "  return _load_svmlight_file(f, dtype, multilabel, zero_based, query_id)\n",
        "/lhome/home/czarnecki/.local/lib/python2.7/site-packages/sklearn/datasets/svmlight_format.py:137: DeprecationWarning: using a non-integer number instead of an integer will result in an error in the future\n",
        "  return _load_svmlight_file(f, dtype, multilabel, zero_based, query_id)\n",
        "/lhome/home/czarnecki/.local/lib/python2.7/site-packages/sklearn/datasets/svmlight_format.py:137: DeprecationWarning: using a non-integer number instead of an integer will result in an error in the future\n",
        "  return _load_svmlight_file(f, dtype, multilabel, zero_based, query_id)\n",
        "/lhome/home/czarnecki/.local/lib/python2.7/site-packages/sklearn/datasets/svmlight_format.py:137: DeprecationWarning: using a non-integer number instead of an integer will result in an error in the future\n",
        "  return _load_svmlight_file(f, dtype, multilabel, zero_based, query_id)\n",
        "/lhome/home/czarnecki/.local/lib/python2.7/site-packages/sklearn/datasets/svmlight_format.py:137: DeprecationWarning: using a non-integer number instead of an integer will result in an error in the future\n",
        "  return _load_svmlight_file(f, dtype, multilabel, zero_based, query_id)\n",
        "/lhome/home/czarnecki/.local/lib/python2.7/site-packages/sklearn/datasets/svmlight_format.py:137: DeprecationWarning: using a non-integer number instead of an integer will result in an error in the future\n",
        "  return _load_svmlight_file(f, dtype, multilabel, zero_based, query_id)\n",
        "/lhome/home/czarnecki/.local/lib/python2.7/site-packages/sklearn/datasets/svmlight_format.py:137: DeprecationWarning: using a non-integer number instead of an integer will result in an error in the future\n",
        "  return _load_svmlight_file(f, dtype, multilabel, zero_based, query_id)\n",
        "/lhome/home/czarnecki/.local/lib/python2.7/site-packages/sklearn/datasets/svmlight_format.py:137: DeprecationWarning: using a non-integer number instead of an integer will result in an error in the future\n",
        "  return _load_svmlight_file(f, dtype, multilabel, zero_based, query_id)\n",
        "/lhome/home/czarnecki/.local/lib/python2.7/site-packages/sklearn/datasets/svmlight_format.py:137: DeprecationWarning: using a non-integer number instead of an integer will result in an error in the future\n",
        "  return _load_svmlight_file(f, dtype, multilabel, zero_based, query_id)\n",
        "/lhome/home/czarnecki/.local/lib/python2.7/site-packages/sklearn/datasets/svmlight_format.py:137: DeprecationWarning: using a non-integer number instead of an integer will result in an error in the future\n",
        "  return _load_svmlight_file(f, dtype, multilabel, zero_based, query_id)\n",
        "/lhome/home/czarnecki/.local/lib/python2.7/site-packages/sklearn/datasets/svmlight_format.py:137: DeprecationWarning: using a non-integer number instead of an integer will result in an error in the future\n",
        "  return _load_svmlight_file(f, dtype, multilabel, zero_based, query_id)\n"
       ]
      },
      {
       "output_type": "stream",
       "stream": "stdout",
       "text": [
        "iris: dim: 4, class: 3\n",
        "ELM+SIG on iris: 0.99\n",
        "ELM+RBF on iris: 0.98\n",
        "\n",
        "liver: dim: 6, class: 2\n",
        "ELM+SIG on liver: 0.81\n",
        "ELM+RBF on liver: 0.76\n",
        "R2Lin on iris: 0.96"
       ]
      },
      {
       "output_type": "stream",
       "stream": "stdout",
       "text": [
        "\n"
       ]
      },
      {
       "output_type": "stream",
       "stream": "stderr",
       "text": [
        "/lhome/home/czarnecki/.local/lib/python2.7/site-packages/sklearn/datasets/svmlight_format.py:137: DeprecationWarning: using a non-integer number instead of an integer will result in an error in the future\n",
        "  return _load_svmlight_file(f, dtype, multilabel, zero_based, query_id)\n",
        "/lhome/home/czarnecki/.local/lib/python2.7/site-packages/sklearn/datasets/svmlight_format.py:137: DeprecationWarning: using a non-integer number instead of an integer will result in an error in the future\n",
        "  return _load_svmlight_file(f, dtype, multilabel, zero_based, query_id)\n",
        "/lhome/home/czarnecki/.local/lib/python2.7/site-packages/sklearn/datasets/svmlight_format.py:137: DeprecationWarning: using a non-integer number instead of an integer will result in an error in the future\n",
        "  return _load_svmlight_file(f, dtype, multilabel, zero_based, query_id)\n"
       ]
      }
     ],
     "prompt_number": 4
    },
    {
     "cell_type": "code",
     "collapsed": false,
     "input": [
      "from misc.config import c\n",
      "print(os.path.join(c[\"DATA_DIR\"], \"/heart\"))"
     ],
     "language": "python",
     "metadata": {},
     "outputs": [
      {
       "output_type": "stream",
       "stream": "stdout",
       "text": [
        "/heart\n"
       ]
      }
     ],
     "prompt_number": 25
    },
    {
     "cell_type": "code",
     "collapsed": false,
     "input": [
      "R2Lin"
     ],
     "language": "python",
     "metadata": {},
     "outputs": [
      {
       "metadata": {},
       "output_type": "pyout",
       "prompt_number": 37,
       "text": [
        "models.R2Lin"
       ]
      }
     ],
     "prompt_number": 37
    },
    {
     "cell_type": "code",
     "collapsed": false,
     "input": [
      "from models import R2Lin\n",
      "x = R2Lin(k=5).fit(data.data, data.target)"
     ],
     "language": "python",
     "metadata": {},
     "outputs": [],
     "prompt_number": 39
    },
    {
     "cell_type": "code",
     "collapsed": false,
     "input": [
      "param_grid = {'C': [1,10,100], [\"]\n",
      "              'beta': [0.04, 0.01, 0.1]}\n",
      "\n",
      "E_grid, E = fit_r2svm_on_dataset(data=liver, param_grid_in=param_grid, to_file=False)\n",
      "\n",
      "print E['config']['params']\n",
      "print E['results']['mean_acc']\n",
      "print E['monitors']['std']\n",
      "print E['monitors']['train_time']\n",
      "\n",
      "print E_grid['monitors']['grid_time']"
     ],
     "language": "python",
     "metadata": {},
     "outputs": [
      {
       "output_type": "stream",
       "stream": "stderr",
       "text": [
        "2015-03-07 20:19:31,190 \tR2SVM grid_search_on_liver  {'best_params': {'C': 1, 'use_prev': True, 'recurrent': True, 'depth': 5, 'beta': 0.04, 'scale': True, 'seed': None}, 'best_cls': R2SVMLearner(C=1, activation=<function _sigmoid at 0x7f47a733db90>, beta=0.04,\n",
        "       depth=5, recurrent=True, scale=True, seed=1565484368, use_prev=True), 'best_score': 0.68695652173913047}\n"
       ]
      },
      {
       "output_type": "stream",
       "stream": "stderr",
       "text": [
        "2015-03-07 20:19:31,190 \tR2SVM grid_search_on_liver  {'best_std': [0.032536151189338662], 'mean_fold_scores': [0.68695652173913047, 0.68405797101449273, 0.68405797101449273, 0.67536231884057973, 0.6811594202898551, 0.67826086956521736, 0.67536231884057973, 0.68405797101449273, 0.64927536231884053], 'std_fold_scores': [0.032536151189338662, 0.017867866675272431, 0.010845383729779527, 0.0081983394920179479, 0.024934276136355432, 0.021299910806810256, 0.024934276136355477, 0.017867866675272431, 0.01477976670606606], 'grid_time': 72.15772414207458}\n"
       ]
      },
      {
       "output_type": "stream",
       "stream": "stderr",
       "text": [
        "2015-03-07 20:19:57,653 \tR2SVM grid_search_on_liver  {'mean_acc': 0.66376811594202889}\n"
       ]
      },
      {
       "output_type": "stream",
       "stream": "stderr",
       "text": [
        "2015-03-07 20:19:57,653 \tR2SVM grid_search_on_liver  {'std': 0.072983642388487924, 'test_time': 0.0018510818481445312, 'n_dim': 6, 'acc_fold': array([ 0.53623188,  0.68115942,  0.72463768,  0.63768116,  0.73913043]), 'cm': [array([[14, 14],\n",
        "       [18, 23]]), array([[16, 12],\n",
        "       [10, 31]]), array([[20,  6],\n",
        "       [13, 30]]), array([[14, 13],\n",
        "       [12, 30]]), array([[24, 12],\n",
        "       [ 6, 27]])], 'train_time': [4.11162805557251, 5.281131982803345, 4.7586939334869385, 5.14855694770813, 7.149468183517456], 'clf': [R2SVMLearner(C=1, activation=<function _sigmoid at 0x7f47a733db90>, beta=0.04,\n",
        "       depth=5, recurrent=True, scale=True, seed=483105993, use_prev=True), R2SVMLearner(C=1, activation=<function _sigmoid at 0x7f47a733db90>, beta=0.04,\n",
        "       depth=5, recurrent=True, scale=True, seed=2138882007, use_prev=True), R2SVMLearner(C=1, activation=<function _sigmoid at 0x7f47a733db90>, beta=0.04,\n",
        "       depth=5, recurrent=True, scale=True, seed=1902692069, use_prev=True), R2SVMLearner(C=1, activation=<function _sigmoid at 0x7f47a733db90>, beta=0.04,\n",
        "       depth=5, recurrent=True, scale=True, seed=759997005, use_prev=True), R2SVMLearner(C=1, activation=<function _sigmoid at 0x7f47a733db90>, beta=0.04,\n",
        "       depth=5, recurrent=True, scale=True, seed=844709869, use_prev=True)], 'data_name': 'liver', 'n_class': 2}\n"
       ]
      },
      {
       "output_type": "stream",
       "stream": "stdout",
       "text": [
        "{'C': 1, 'use_prev': True, 'recurrent': True, 'depth': 5, 'beta': 0.04, 'scale': True, 'seed': None}\n",
        "0.663768115942\n",
        "0.0729836423885\n",
        "[4.11162805557251, 5.281131982803345, 4.7586939334869385, 5.14855694770813, 7.149468183517456]\n",
        "72.1577241421\n"
       ]
      }
     ],
     "prompt_number": 35
    },
    {
     "cell_type": "code",
     "collapsed": false,
     "input": [
      "param_grid = {'h': [30, 40, 50, 60],\n",
      "              'beta': [0.04, 0.01, 0.1]}\n",
      "\n",
      "E_grid, E = fit_r2elm_on_dataset(data=liver, param_grid_in=param_grid, to_file=False)\n",
      "\n",
      "print E['config']['params']\n",
      "print E['results']['mean_acc']\n",
      "print E['monitors']['std']\n",
      "print E['monitors']['train_time']\n",
      "\n",
      "print E_grid['monitors']['grid_time']"
     ],
     "language": "python",
     "metadata": {},
     "outputs": [
      {
       "output_type": "stream",
       "stream": "stderr",
       "text": [
        "2015-03-07 20:16:18,467 \tR2ELM grid_search_on_liver  {'best_params': {'use_prev': True, 'h': 30, 'recurrent': True, 'depth': 5, 'beta': 0.04, 'scale': True, 'seed': None}, 'best_cls': R2ELMLearner(activation=<function _sigmoid at 0x7f47a733db90>, beta=0.04,\n",
        "       depth=5, h=30, max_h=100, recurrent=True, scale=True,\n",
        "       seed=2026544437, use_prev=True), 'best_score': 0.6376811594202898}\n"
       ]
      },
      {
       "output_type": "stream",
       "stream": "stderr",
       "text": [
        "2015-03-07 20:16:18,470 \tR2ELM grid_search_on_liver  {'best_std': [0.051362449700490885, 0.051362449700490885, 0.051362449700490885, 0.051362449700490885], 'mean_fold_scores': [0.6376811594202898, 0.6376811594202898, 0.6376811594202898, 0.6376811594202898, 0.62898550724637681, 0.62898550724637681, 0.62898550724637681, 0.62898550724637681, 0.58840579710144925, 0.58840579710144925, 0.58840579710144925, 0.58840579710144925], 'std_fold_scores': [0.051362449700490885, 0.051362449700490885, 0.051362449700490885, 0.051362449700490885, 0.040372139933867006, 0.040372139933867006, 0.040372139933867006, 0.040372139933867006, 0.050371441150674677, 0.050371441150674677, 0.050371441150674677, 0.050371441150674677], 'grid_time': 3.1567440032958984}\n"
       ]
      },
      {
       "output_type": "stream",
       "stream": "stderr",
       "text": [
        "2015-03-07 20:16:18,728 \tR2ELM grid_search_on_liver  {'mean_acc': 0.68405797101449273}\n"
       ]
      },
      {
       "output_type": "stream",
       "stream": "stderr",
       "text": [
        "2015-03-07 20:16:18,729 \tR2ELM grid_search_on_liver  {'std': 0.072983642388487965, 'test_time': 0.0007288455963134766, 'n_dim': 6, 'acc_fold': array([ 0.66666667,  0.7826087 ,  0.5942029 ,  0.62318841,  0.75362319]), 'cm': [array([[15, 10],\n",
        "       [13, 31]]), array([[18,  6],\n",
        "       [ 9, 36]]), array([[12, 21],\n",
        "       [ 7, 29]]), array([[12, 18],\n",
        "       [ 8, 31]]), array([[21, 12],\n",
        "       [ 5, 31]])], 'train_time': [0.06869196891784668, 0.03861594200134277, 0.046751976013183594, 0.045719146728515625, 0.04847216606140137], 'clf': [R2ELMLearner(activation=<function _sigmoid at 0x7f47a733db90>, beta=0.04,\n",
        "       depth=5, h=30, max_h=100, recurrent=True, scale=True,\n",
        "       seed=1770069903, use_prev=True), R2ELMLearner(activation=<function _sigmoid at 0x7f47a733db90>, beta=0.04,\n",
        "       depth=5, h=30, max_h=100, recurrent=True, scale=True,\n",
        "       seed=1287232190, use_prev=True), R2ELMLearner(activation=<function _sigmoid at 0x7f47a733db90>, beta=0.04,\n",
        "       depth=5, h=30, max_h=100, recurrent=True, scale=True,\n",
        "       seed=1234432143, use_prev=True), R2ELMLearner(activation=<function _sigmoid at 0x7f47a733db90>, beta=0.04,\n",
        "       depth=5, h=30, max_h=100, recurrent=True, scale=True,\n",
        "       seed=1582719407, use_prev=True), R2ELMLearner(activation=<function _sigmoid at 0x7f47a733db90>, beta=0.04,\n",
        "       depth=5, h=30, max_h=100, recurrent=True, scale=True,\n",
        "       seed=1960358429, use_prev=True)], 'data_name': 'liver', 'n_class': 2}\n"
       ]
      },
      {
       "output_type": "stream",
       "stream": "stdout",
       "text": [
        "{'use_prev': True, 'h': 30, 'recurrent': True, 'depth': 5, 'beta': 0.04, 'scale': True, 'seed': None}\n",
        "0.684057971014\n",
        "0.0729836423885\n",
        "[0.06869196891784668, 0.03861594200134277, 0.046751976013183594, 0.045719146728515625, 0.04847216606140137]\n",
        "3.1567440033\n"
       ]
      }
     ],
     "prompt_number": 34
    },
    {
     "cell_type": "code",
     "collapsed": false,
     "input": [
      "X = np.random.normal(size=(10,40))\n",
      "W = np.ranodm.normal(size=(2, 40))\n"
     ],
     "language": "python",
     "metadata": {},
     "outputs": [
      {
       "ename": "AttributeError",
       "evalue": "'module' object has no attribute 'ranodm'",
       "output_type": "pyerr",
       "traceback": [
        "\u001b[1;31m---------------------------------------------------------------------------\u001b[0m\n\u001b[1;31mAttributeError\u001b[0m                            Traceback (most recent call last)",
        "\u001b[1;32m<ipython-input-40-4a9b526c98b9>\u001b[0m in \u001b[0;36m<module>\u001b[1;34m()\u001b[0m\n\u001b[0;32m      1\u001b[0m \u001b[0mX\u001b[0m \u001b[1;33m=\u001b[0m \u001b[0mnp\u001b[0m\u001b[1;33m.\u001b[0m\u001b[0mrandom\u001b[0m\u001b[1;33m.\u001b[0m\u001b[0mnormal\u001b[0m\u001b[1;33m(\u001b[0m\u001b[0msize\u001b[0m\u001b[1;33m=\u001b[0m\u001b[1;33m(\u001b[0m\u001b[1;36m10\u001b[0m\u001b[1;33m,\u001b[0m\u001b[1;36m40\u001b[0m\u001b[1;33m)\u001b[0m\u001b[1;33m)\u001b[0m\u001b[1;33m\u001b[0m\u001b[0m\n\u001b[1;32m----> 2\u001b[1;33m \u001b[0mW\u001b[0m \u001b[1;33m=\u001b[0m \u001b[0mnp\u001b[0m\u001b[1;33m.\u001b[0m\u001b[0mranodm\u001b[0m\u001b[1;33m.\u001b[0m\u001b[0mnormal\u001b[0m\u001b[1;33m(\u001b[0m\u001b[0msize\u001b[0m\u001b[1;33m=\u001b[0m\u001b[1;33m(\u001b[0m\u001b[1;36m2\u001b[0m\u001b[1;33m,\u001b[0m \u001b[1;36m40\u001b[0m\u001b[1;33m)\u001b[0m\u001b[1;33m)\u001b[0m\u001b[1;33m\u001b[0m\u001b[0m\n\u001b[0m",
        "\u001b[1;31mAttributeError\u001b[0m: 'module' object has no attribute 'ranodm'"
       ]
      }
     ],
     "prompt_number": 40
    },
    {
     "cell_type": "code",
     "collapsed": false,
     "input": [
      "from sklearn.svm import LinearSVC"
     ],
     "language": "python",
     "metadata": {},
     "outputs": [],
     "prompt_number": 71
    },
    {
     "cell_type": "code",
     "collapsed": false,
     "input": [
      "X = np.random.normal(size=(100,2))"
     ],
     "language": "python",
     "metadata": {},
     "outputs": [],
     "prompt_number": 110
    },
    {
     "cell_type": "code",
     "collapsed": false,
     "input": [
      "math.sqrt(0.866**2 + 1.87**2)"
     ],
     "language": "python",
     "metadata": {},
     "outputs": [
      {
       "metadata": {},
       "output_type": "pyout",
       "prompt_number": 118,
       "text": [
        "2.0607901397279638"
       ]
      }
     ],
     "prompt_number": 118
    },
    {
     "cell_type": "code",
     "collapsed": false,
     "input": [
      "X[0:1]/2.06"
     ],
     "language": "python",
     "metadata": {},
     "outputs": [
      {
       "metadata": {},
       "output_type": "pyout",
       "prompt_number": 135,
       "text": [
        "array([[ 0.42086379,  0.90848342]])"
       ]
      }
     ],
     "prompt_number": 135
    },
    {
     "cell_type": "code",
     "collapsed": false,
     "input": [
      "X_norm[0]"
     ],
     "language": "python",
     "metadata": {},
     "outputs": [
      {
       "metadata": {},
       "output_type": "pyout",
       "prompt_number": 136,
       "text": [
        "array([ 0.42034531,  0.90736422])"
       ]
      }
     ],
     "prompt_number": 136
    },
    {
     "cell_type": "code",
     "collapsed": false,
     "input": [
      "X_len = np.sum(np.abs(X)**2,axis=-1)**(1./2)\n",
      "X_norm = X * (1.0/X_len.reshape(-1,1))\n",
      "X_out = X_norm * (1.0/(1.0 + np.exp(-X_len))).reshape(-1,1)"
     ],
     "language": "python",
     "metadata": {},
     "outputs": [],
     "prompt_number": 140
    },
    {
     "cell_type": "code",
     "collapsed": false,
     "input": [],
     "language": "python",
     "metadata": {},
     "outputs": [],
     "prompt_number": 128
    },
    {
     "cell_type": "code",
     "collapsed": false,
     "input": [
      "from models import R2SVMLearner"
     ],
     "language": "python",
     "metadata": {},
     "outputs": [],
     "prompt_number": 33
    },
    {
     "cell_type": "code",
     "collapsed": false,
     "input": [
      "class R2SVMLearnerMy(BaseEstimator):\n",
      "    def __init__(self, C=1, activation='sigmoid', recurrent=True, depth=7,\\\n",
      "                 seed=None, beta=0.1, scale=False, use_prev = False, fit_c=None):\n",
      "        self.name = 'r2svm'\n",
      "        self.fit_c = fit_c\n",
      "        self.use_prev = use_prev\n",
      "        self.depth = depth\n",
      "        self.beta = beta\n",
      "        self.base_cls = partial(SVC, class_weight='auto', kernel='linear', C=C)\n",
      "        #self.base_cls = partial(LinearSVC, loss='l2', fit_intercept=False, random_state=0, \n",
      "        #                        class_weight='auto',  C=C)\n",
      "        self.seed = seed\n",
      "        self.scale = scale\n",
      "        self.activation = activation\n",
      "        self.recurrent = recurrent\n",
      "        self.C = C\n",
      "        self.X_tr = []\n",
      "        self.layer_predictions_ = []\n",
      "\n",
      "        if activation == 'tanh':\n",
      "            # self.activation = lambda x: 2./(1.+np.exp(x)) - 1.\n",
      "            self.activation = _tanh\n",
      "        elif activation == 'sigmoid':\n",
      "            self.activation = lambda x,model, delta, w: np.hstack([1.0/(1.0 + np.exp(-x[:,0])).reshape(-1,1), x[:,1].reshape(-1,1)])\n",
      "            #self.activation = lambda X,W: _sigmoid(np.dot(W.T, X)).reshape(-1, 1)\n",
      "        elif activation == 'rbf':\n",
      "            # self.activation = lambda x: 1.0/(1.0 + np.exp(-x))\n",
      "            self.activation = _rbf\n",
      "        elif activation == 'sigmoid_awesome':\n",
      "            def sig_awesome(X, delta):\n",
      "                X_len = np.sum(np.abs(X)**2,axis=-1)**(1./2)\n",
      "                X_norm = X * (1.0/X_len.reshape(-1,1))\n",
      "                X_out = X_norm * (1.0/(1.0 + np.exp(-X_len))).reshape(-1,1) \n",
      "                return X_out\n",
      "            \n",
      "            self.activation = sig_awesome\n",
      "        elif activation == 'sigmoid_awesome_3':\n",
      "            def sig_awesome(X, delta):\n",
      "                X_len = np.sum(np.abs(X)**2,axis=-1)**(1./2)\n",
      "                delta_len = np.sum(np.abs(self.beta*delta)**2,axis=-1)**(1./2)\n",
      "                X_norm = X * (1.0/X_len.reshape(-1,1))\n",
      "                X_out = X_norm * (1.0/(1.0 + np.exp(-delta_len))).reshape(-1,1) \n",
      "                return X_out\n",
      "            \n",
      "            self.activation = sig_awesome\n",
      "        elif activation == 'sigmoid_awesome_4':\n",
      "            def sig_awesome(X, delta, model):\n",
      "                X_len = np.sum(np.abs(X)**2,axis=-1)**(1./2)\n",
      "                delta_len = np.sum(np.abs(self.beta*delta)**2,axis=-1)**(1./2)\n",
      "                X_norm = X * (1.0/X_len.reshape(-1,1))\n",
      "                X_out = X_norm * (1.0/(1.0 + np.exp(-delta_len))).reshape(-1,1) \n",
      "                return X_out\n",
      "            \n",
      "            self.activation = sig_awesome\n",
      "        elif activation == 'sigmoid_awesome_5':\n",
      "            def sig_awesome(X, oi, model):\n",
      "                w = model.best_estimator_.coef_ / np.linalg.norm(model.best_estimator_.coef_, 2)\n",
      "                X_par =  w*np.dot(X, w.T)\n",
      "                X_perp = X - X_par\n",
      "                X_out = X_perp + X_par*(1.0/(1.0 + np.exp(-self.beta*oi)))\n",
      "                return X_out\n",
      "            \n",
      "            self.activation = sig_awesome\n",
      "            \n",
      "        elif activation == 'sigmoid_awesome_6':\n",
      "            def sig_awesome(X, oi, model, w_in):\n",
      "                w_raw = model.coef_\n",
      "                w = w_raw / np.linalg.norm(w_raw, 2)\n",
      "        \n",
      "                X_par =   w*np.dot(X, w.T)\n",
      "                X_perp = X - X_par\n",
      "                X_par_size = np.sum(np.abs(X_par)**2,axis=-1)**(1./2)\n",
      "                X_out = X_perp + X_par*(1.0/(1.0 + np.exp(-self.beta*abs(oi[:,0])))).reshape(-1,1)\n",
      "                return X_out\n",
      "            \n",
      "            self.activation = sig_awesome\n",
      "            \n",
      "        elif activation == 'sigmoid_awesome_7':\n",
      "            def sig_awesome(X, oi, model):\n",
      "                w_raw = model.best_estimator_.coef_\n",
      "                w = w_raw / np.linalg.norm(w_raw, 2)\n",
      "        \n",
      "                X_par =   w*np.dot(X, w.T)# - model.best_estimator_.intercept_\n",
      "                X_perp = X - X_par\n",
      "                X_out = X_perp + w*(1.0/(1.0 + np.exp(-self.beta*oi[:,1]))).reshape(-1,1)\n",
      "                return X_out\n",
      "            \n",
      "            self.activation = sig_awesome\n",
      "\n",
      "        elif activation == 'sigmoid_awesome_8':\n",
      "            def sig_awesome(X, oi, model,w_in):\n",
      "                w_raw = w_in.reshape(1,-1)\n",
      "                w = w_raw / np.linalg.norm(w_raw, 2)\n",
      "                \n",
      "                X_par =   w*np.dot(X, w.T)# - model.best_estimator_.intercept_\n",
      "                X_perp = X - X_par\n",
      "                X_out = X_perp + w*(1.0/(1.0 + np.exp(-self.beta*oi[:,1]))).reshape(-1,1)\n",
      "                return X_out\n",
      "            \n",
      "            self.activation = sig_awesome\n",
      "        elif activation == 'sigmoid_awesome_9':\n",
      "            def sig_awesome(X, oi, model,w_in):\n",
      "                w_raw = np.array([-w_in[1], w_in[0]]).reshape(1,-1)\n",
      "                w = w_raw / np.linalg.norm(w_raw, 2)\n",
      "                \n",
      "                X_par =   w*np.dot(X, w.T)# - model.best_estimator_.intercept_\n",
      "                X_perp = X - X_par\n",
      "                X_out = X_perp + w*(1.0/(1.0 + np.exp(-self.beta*oi[:,1]))).reshape(-1,1)\n",
      "                return X_out\n",
      "            \n",
      "            self.activation = sig_awesome            \n",
      "        elif activation == 'sigmoid_awesome_2':\n",
      "            def sig_awesome(X, delta):\n",
      "                return X + 1.0/(1.0 + np.exp(-delta))\n",
      "            \n",
      "            self.activation = sig_awesome\n",
      "        else:\n",
      "            self.activation = activation\n",
      "\n",
      "    def fit(self, X, Y, W=[]):\n",
      "        self.K = len(set(Y)) # Class number\n",
      "\n",
      "        # Seed\n",
      "        if self.seed is None: \n",
      "            self.seed = np.random.randint(0, np.iinfo(np.int32).max)\n",
      "        else:\n",
      "            np.random.seed(self.seed)\n",
      "            print(\"WARNING: seeding whole numpy, becuase of bug in SVC\")\n",
      "            \n",
      "        self.random_state = np.random.RandomState(self.seed)\n",
      "\n",
      "        # Models and scalers\n",
      "        self.scalers_ = [MinMaxScaler((-1.0,1.0)) for _ in xrange(2*self.depth+2)]\n",
      "        if self.K <= 2:\n",
      "            self.models_ = [self.base_cls() for _ in xrange(self.depth)]\n",
      "            for m in self.models_:\n",
      "                m.set_params(random_state=self.random_state)    # is this necessary?\n",
      "        else :\n",
      "            self.models_ = [OneVsRestClassifier(self.base_cls().set_params(random_state=self.random_state), \\\n",
      "                                                n_jobs=1) for _ in xrange(self.depth)]\n",
      "\n",
      "        # Prepare data\n",
      "        X_mod = X\n",
      "        if self.scale:\n",
      "            X_mod = self.scalers_[0].fit_transform(X_mod)\n",
      "        o = []\n",
      "        delta = np.zeros(shape=X.shape)\n",
      "        self.W = W\n",
      "        self.X_tr = [X_mod]\n",
      "        self.X_moved = [X_mod]\n",
      "\n",
      "        # Fit\n",
      "        for i in xrange(self.depth):\n",
      "            #X_mod = self.scalers_[i].fit_transform(X_mod) if self.scale else X_mod\n",
      "\n",
      "            self.models_[i].fit(X_mod, Y)\n",
      "\n",
      "                \n",
      "            if i != self.depth - 1:\n",
      "                o.append(self.models_[i].decision_function(X_mod) if self.K > 2 else \\\n",
      "                    np.hstack([-self.models_[i].decision_function(X_mod).reshape(-1,1), self.models_[i].decision_function(X_mod).reshape(-1,1)]))\n",
      "\n",
      "                if(len(self.W) < self.depth):\n",
      "                    self.W.append(self.random_state.normal(size=(self.K, X.shape[1])))\n",
      "\n",
      "                if self.recurrent:\n",
      "                    delta += np.dot(o[i], self.W[i])\n",
      "                else:\n",
      "                    delta = np.dot(o[i], self.W[i])\n",
      "\n",
      "                if self.scale:\n",
      "                    self.X_moved.append(X_mod + self.beta*delta)\n",
      "#                     self.X_moved.append((self.scalers_[0].transform(X) if self.scale else X) + self.beta*delta)\n",
      "#                     X_mod = self.scalers_[2*i+2].fit_transform(self.activation(self.scalers_[2*i+1].fit_transform(\\\n",
      "#                             self.X_moved[-1]), o[-1], self.models_[i], self.W[i][1,:]-self.W[i][0,:]))\n",
      "                    X_mod = self.scalers_[2*i+2].fit_transform(self.activation(\\\n",
      "                        self.X_moved[-1], o[-1], self.models_[i], self.W[i][1,:]-self.W[i][0,:]))\n",
      "                else:\n",
      "                    raise BaseException(\"a\")\n",
      "\n",
      "                self.X_tr.append(X_mod)\n",
      "\n",
      "        return self\n",
      "\n",
      "    def predict(self, X, all_layers=False):\n",
      "        # Prepare data\n",
      "        X_mod = X\n",
      "        if self.scale:\n",
      "            X_mod = self.scalers_[0].transform(X_mod)\n",
      "        o = []\n",
      "        delta = np.zeros(shape=X.shape)\n",
      "\n",
      "        self.X_moved = [X_mod]\n",
      "        self.X_tr = [X_mod]\n",
      "        \n",
      "        for i in xrange(self.depth - 1):\n",
      "            #X_mod = self.scalers_[i].transform(X_mod) if self.scale else X_mod\n",
      "\n",
      "            oi = self.models_[i].decision_function(X_mod).reshape(-1,1)\n",
      "            o.append(oi if self.K > 2 else \\\n",
      "                np.hstack([-oi, oi]))\n",
      "\n",
      "            if all_layers :\n",
      "                self.layer_predictions_.append(self.models_[i].predict(X_mod))\n",
      "\n",
      "            if self.recurrent:\n",
      "                delta += np.dot(o[i], self.W[i])\n",
      "            else:\n",
      "                delta = np.dot(o[i], self.W[i])\n",
      "\n",
      "            if self.scale:\n",
      "#                 self.X_moved.append((self.scalers_[0].transform(X) if self.scale else X) + self.beta*delta)\n",
      "                self.X_moved.append(X_mod + self.beta*delta)\n",
      "#                 X_mod = self.scalers_[2*i+2].transform(self.activation(self.scalers_[2*i+1].transform(\\\n",
      "#                         self.X_moved[-1]), o[-1], self.models_[i], self.W[i][1,:]-self.W[i][0,:]))\n",
      "                X_mod = self.scalers_[2*i+2].transform(self.activation(\\\n",
      "                    self.X_moved[-1], o[-1], self.models_[i], self.W[i][1,:]-self.W[i][0,:]))\n",
      "                self.X_tr.append(X_mod)\n",
      "            else:\n",
      "                X_mod = self.activation((self.scalers_[0].transform(X) if self.scale else X) + self.beta*delta)\n",
      "\n",
      "\n",
      "\n",
      "        #X_mod = self.scalers_[self.depth-1].transform(X_mod) if self.scale else X_mod\n",
      "        print X_mod[0:2]\n",
      "        self.layer_predictions_.append(self.models_[-1].predict(X_mod))\n",
      "        return self.models_[-1].predict(X_mod)\n"
     ],
     "language": "python",
     "metadata": {},
     "outputs": [],
     "prompt_number": 273
    },
    {
     "cell_type": "code",
     "collapsed": false,
     "input": [
      "len(W_separating)"
     ],
     "language": "python",
     "metadata": {},
     "outputs": [
      {
       "metadata": {},
       "output_type": "pyout",
       "prompt_number": 168,
       "text": [
        "5"
       ]
      }
     ],
     "prompt_number": 168
    },
    {
     "cell_type": "code",
     "collapsed": false,
     "input": [
      "len(model.W)"
     ],
     "language": "python",
     "metadata": {},
     "outputs": [
      {
       "metadata": {},
       "output_type": "pyout",
       "prompt_number": 230,
       "text": [
        "5"
       ]
      }
     ],
     "prompt_number": 230
    },
    {
     "cell_type": "code",
     "collapsed": false,
     "input": [
      "X = sklearn.datasets.make_moons(n_samples=100, noise=0.04)[0]\n",
      "X = MinMaxScaler((-2,2)).fit_transform(X)\n",
      "\n",
      "N = 70\n",
      "x, y = np.linspace(X.min(), X.max(), N),  np.linspace(X.min(), X.max(), N)\n",
      "xx, yy = np.meshgrid(x, y)\n",
      "#X = np.c_[xx.ravel() + 0.5, yy.ravel() +  0.5]\n",
      "X = np.c_[xx.ravel() , yy.ravel() ]\n",
      "\n",
      "\n",
      "from sklearn import preprocessing\n",
      "\n",
      "w_raw = np.array([[1,1]]) # k.best_estimator_.coef_\n",
      "w = w_raw / np.linalg.norm(w_raw, 2)\n",
      "oi = np.dot(X, w.T) - math.sqrt(0.5**2 + 0.5**2)\n",
      "X_par =   w*np.dot(X, w.T)\n",
      "X_perp = X - X_par\n",
      "X_par_size = np.sum(np.abs(X_par)**2,axis=-1)**(1./2)\n",
      "X_out = X_perp + w*(1.0/(1.0 + np.exp(-3*oi))).reshape(-1,1)\n",
      "\n",
      "#X_out = X_perp + X_par*(1.0/(1.0 + np.exp(-abs(X_par_size)))).reshape(-1,1)\n",
      "X_out = 1.0/(1.0 + np.exp(-X))\n",
      "\n",
      "fig = plt.figure(figsize=(25,24))\n",
      "ax = fig.add_subplot(121)\n",
      "ax.scatter(X[:,0], X[:,1])\n",
      "ax.set_aspect(1)\n",
      "ax = fig.add_subplot(122)\n",
      "ax.scatter(X_out[:,0], X_out[:,1])\n",
      "ax.set_aspect(1)\n",
      "plt.show()"
     ],
     "language": "python",
     "metadata": {},
     "outputs": [
      {
       "metadata": {},
       "output_type": "display_data",
       "png": "[encoded data removed]",
       "text": [
        "<matplotlib.figure.Figure at 0x7fa22efbcc10>"
       ]
      }
     ],
     "prompt_number": 246
    },
    {
     "cell_type": "code",
     "collapsed": false,
     "input": [
      "model.X_tr[-1]"
     ],
     "language": "python",
     "metadata": {},
     "outputs": [
      {
       "metadata": {},
       "output_type": "pyout",
       "prompt_number": 13,
       "text": [
        "array([[ 1.,  1.],\n",
        "       [ 1.,  1.],\n",
        "       [ 1.,  1.],\n",
        "       ..., \n",
        "       [-1., -1.],\n",
        "       [-1., -1.],\n",
        "       [-1., -1.]])"
       ]
      }
     ],
     "prompt_number": 13
    },
    {
     "cell_type": "code",
     "collapsed": false,
     "input": [
      "model.pred"
     ],
     "language": "python",
     "metadata": {},
     "outputs": [
      {
       "metadata": {},
       "output_type": "pyout",
       "prompt_number": 15,
       "text": [
        "2"
       ]
      }
     ],
     "prompt_number": 15
    },
    {
     "cell_type": "code",
     "collapsed": false,
     "input": [
      "z.min()"
     ],
     "language": "python",
     "metadata": {},
     "outputs": [
      {
       "metadata": {},
       "output_type": "pyout",
       "prompt_number": 27,
       "text": [
        "-1.0015024687370107"
       ]
      }
     ],
     "prompt_number": 27
    },
    {
     "cell_type": "code",
     "collapsed": false,
     "input": [
      "xx.ravel().shape"
     ],
     "language": "python",
     "metadata": {},
     "outputs": [
      {
       "metadata": {},
       "output_type": "pyout",
       "prompt_number": 62,
       "text": [
        "(90000,)"
       ]
      }
     ],
     "prompt_number": 62
    },
    {
     "cell_type": "code",
     "collapsed": false,
     "input": [
      "model.X_tr[-1].shape"
     ],
     "language": "python",
     "metadata": {},
     "outputs": [
      {
       "metadata": {},
       "output_type": "pyout",
       "prompt_number": 63,
       "text": [
        "(90000, 2)"
       ]
      }
     ],
     "prompt_number": 63
    },
    {
     "cell_type": "code",
     "collapsed": false,
     "input": [
      "z"
     ],
     "language": "python",
     "metadata": {},
     "outputs": [
      {
       "metadata": {},
       "output_type": "pyout",
       "prompt_number": 80,
       "text": [
        "array([1, 1, 1, ..., 0, 0, 0])"
       ]
      }
     ],
     "prompt_number": 80
    },
    {
     "cell_type": "code",
     "collapsed": false,
     "input": [
      "W_interesting"
     ],
     "language": "python",
     "metadata": {},
     "outputs": [
      {
       "metadata": {},
       "output_type": "pyout",
       "prompt_number": 84,
       "text": [
        "[array([[-0.92600577, -1.13036238],\n",
        "        [ 0.57390138, -0.93630127]]), array([[-0.62262728, -0.36845741],\n",
        "        [ 0.76285057, -0.72286034]]), array([[ 0.53592748, -0.10827244],\n",
        "        [ 1.08878878, -0.16425979]]), array([[-0.63610976, -0.64972833],\n",
        "        [ 0.67310653, -0.39551112]]), array([[ 0.12722039, -0.35003085],\n",
        "        [ 0.07035684,  0.53926531]]), array([[-0.5718045 ,  0.2230627 ],\n",
        "        [ 2.12619484, -1.75875763]]), array([[ 0.56618577, -0.54513311],\n",
        "        [-2.47505676,  0.75794138]]), array([[-0.36540497, -1.35475263],\n",
        "        [-0.36706816, -1.03334752]]), array([[-0.62477701, -0.81842638],\n",
        "        [-0.49428662, -0.82491755]]), array([[ 1.16480537, -0.6205893 ],\n",
        "        [ 1.32260058,  0.25891829]]), array([[ 0.82274434,  0.13456426],\n",
        "        [-0.03046124, -0.77868876]]), array([[ 0.68117522, -0.61132425],\n",
        "        [-1.67410767, -0.29666835]]), array([[ 0.83154721, -0.81871006],\n",
        "        [-1.76324465, -0.66236558]]), array([[ 1.61459164,  0.8193844 ],\n",
        "        [ 1.28076829,  1.11314517]]), array([[ 0.88995757, -0.40753908],\n",
        "        [ 0.0431088 ,  0.96132366]]), array([[-0.67003878,  1.4431758 ],\n",
        "        [ 0.28193081, -0.45053261]]), array([[ 0.1396914 , -0.58569697],\n",
        "        [-0.50981382, -1.25707045]]), array([[-0.84101631, -0.708145  ],\n",
        "        [ 2.77875936, -0.87795469]]), array([[ 0.11170523, -0.289396  ],\n",
        "        [ 0.3565168 , -0.42082793]])]"
       ]
      }
     ],
     "prompt_number": 84
    },
    {
     "cell_type": "code",
     "collapsed": false,
     "input": [
      "W_separating = model.W"
     ],
     "language": "python",
     "metadata": {},
     "outputs": [],
     "prompt_number": 150
    },
    {
     "cell_type": "code",
     "collapsed": false,
     "input": [
      "# model = R2SVMLearnerMy(depth=5, beta=0.3, fit_c=None, use_prev=False, scale=True, activation='sigmoid')\n",
      "\"\"\"\n",
      "[array([[-0.32883024, -2.24264459],\n",
      "        [-0.36057638, -1.14698549]]), array([[-0.35083638,  1.74727648],\n",
      "        [ 1.29376448, -2.16498482]]), array([[-0.28398226,  0.59888074],\n",
      "        [ 0.2750335 , -2.21710475]]), array([[-0.95206682,  0.0415407 ],\n",
      "        [ 0.66854166,  1.12050501]]), array([[ 0.1455548 , -1.20018953],\n",
      "        [-1.24756164,  1.18972683]])]\n",
      "\"\"\""
     ],
     "language": "python",
     "metadata": {},
     "outputs": []
    },
    {
     "cell_type": "code",
     "collapsed": false,
     "input": [
      "W_separating"
     ],
     "language": "python",
     "metadata": {},
     "outputs": [
      {
       "metadata": {},
       "output_type": "pyout",
       "prompt_number": 164,
       "text": [
        "[array([[-0.32883024, -2.24264459],\n",
        "        [-0.36057638, -1.14698549]]), array([[-0.35083638,  1.74727648],\n",
        "        [ 1.29376448, -2.16498482]]), array([[-0.28398226,  0.59888074],\n",
        "        [ 0.2750335 , -2.21710475]]), array([[-0.95206682,  0.0415407 ],\n",
        "        [ 0.66854166,  1.12050501]]), array([[ 0.1455548 , -1.20018953],\n",
        "        [-1.24756164,  1.18972683]])]"
       ]
      }
     ],
     "prompt_number": 164
    },
    {
     "cell_type": "code",
     "collapsed": false,
     "input": [
      "np.save(open(\"W_separating_two_moon.txt\", \"w\"), W_separating)"
     ],
     "language": "python",
     "metadata": {},
     "outputs": [],
     "prompt_number": 155
    },
    {
     "cell_type": "code",
     "collapsed": false,
     "input": [
      "import cPickle\n",
      "cPickle.dump({\"model\":model, \"data\":[X, Y]}, open(\"separating_two_moon.pkl\",\"w\"))"
     ],
     "language": "python",
     "metadata": {},
     "outputs": [
      {
       "ename": "TypeError",
       "evalue": "can't pickle function objects",
       "output_type": "pyerr",
       "traceback": [
        "\u001b[1;31m---------------------------------------------------------------------------\u001b[0m\n\u001b[1;31mTypeError\u001b[0m                                 Traceback (most recent call last)",
        "\u001b[1;32m<ipython-input-159-4aaf4f3d2fb9>\u001b[0m in \u001b[0;36m<module>\u001b[1;34m()\u001b[0m\n\u001b[0;32m      1\u001b[0m \u001b[1;32mimport\u001b[0m \u001b[0mcPickle\u001b[0m\u001b[1;33m\u001b[0m\u001b[0m\n\u001b[1;32m----> 2\u001b[1;33m \u001b[0mcPickle\u001b[0m\u001b[1;33m.\u001b[0m\u001b[0mdump\u001b[0m\u001b[1;33m(\u001b[0m\u001b[1;33m{\u001b[0m\u001b[1;34m\"model\"\u001b[0m\u001b[1;33m:\u001b[0m\u001b[0mmodel\u001b[0m\u001b[1;33m,\u001b[0m \u001b[1;34m\"data\"\u001b[0m\u001b[1;33m:\u001b[0m\u001b[1;33m[\u001b[0m\u001b[0mX\u001b[0m\u001b[1;33m,\u001b[0m \u001b[0mY\u001b[0m\u001b[1;33m]\u001b[0m\u001b[1;33m}\u001b[0m\u001b[1;33m,\u001b[0m \u001b[0mopen\u001b[0m\u001b[1;33m(\u001b[0m\u001b[1;34m\"separating_two_moon.pkl\"\u001b[0m\u001b[1;33m,\u001b[0m\u001b[1;34m\"w\"\u001b[0m\u001b[1;33m)\u001b[0m\u001b[1;33m)\u001b[0m\u001b[1;33m\u001b[0m\u001b[0m\n\u001b[0m",
        "\u001b[1;32m/lhome/home/czarnecki/anaconda/lib/python2.7/copy_reg.pyc\u001b[0m in \u001b[0;36m_reduce_ex\u001b[1;34m(self, proto)\u001b[0m\n\u001b[0;32m     68\u001b[0m     \u001b[1;32melse\u001b[0m\u001b[1;33m:\u001b[0m\u001b[1;33m\u001b[0m\u001b[0m\n\u001b[0;32m     69\u001b[0m         \u001b[1;32mif\u001b[0m \u001b[0mbase\u001b[0m \u001b[1;32mis\u001b[0m \u001b[0mself\u001b[0m\u001b[1;33m.\u001b[0m\u001b[0m__class__\u001b[0m\u001b[1;33m:\u001b[0m\u001b[1;33m\u001b[0m\u001b[0m\n\u001b[1;32m---> 70\u001b[1;33m             \u001b[1;32mraise\u001b[0m \u001b[0mTypeError\u001b[0m\u001b[1;33m,\u001b[0m \u001b[1;34m\"can't pickle %s objects\"\u001b[0m \u001b[1;33m%\u001b[0m \u001b[0mbase\u001b[0m\u001b[1;33m.\u001b[0m\u001b[0m__name__\u001b[0m\u001b[1;33m\u001b[0m\u001b[0m\n\u001b[0m\u001b[0;32m     71\u001b[0m         \u001b[0mstate\u001b[0m \u001b[1;33m=\u001b[0m \u001b[0mbase\u001b[0m\u001b[1;33m(\u001b[0m\u001b[0mself\u001b[0m\u001b[1;33m)\u001b[0m\u001b[1;33m\u001b[0m\u001b[0m\n\u001b[0;32m     72\u001b[0m     \u001b[0margs\u001b[0m \u001b[1;33m=\u001b[0m \u001b[1;33m(\u001b[0m\u001b[0mself\u001b[0m\u001b[1;33m.\u001b[0m\u001b[0m__class__\u001b[0m\u001b[1;33m,\u001b[0m \u001b[0mbase\u001b[0m\u001b[1;33m,\u001b[0m \u001b[0mstate\u001b[0m\u001b[1;33m)\u001b[0m\u001b[1;33m\u001b[0m\u001b[0m\n",
        "\u001b[1;31mTypeError\u001b[0m: can't pickle function objects"
       ]
      }
     ],
     "prompt_number": 159
    },
    {
     "cell_type": "code",
     "collapsed": false,
     "input": [
      "model.W"
     ],
     "language": "python",
     "metadata": {},
     "outputs": [
      {
       "metadata": {},
       "output_type": "pyout",
       "prompt_number": 93,
       "text": [
        "[array([[ 0.06847872,  1.49158501],\n",
        "        [-0.06291242, -0.39211734]]), array([[-1.9218142 ,  0.99117795],\n",
        "        [ 0.21143787,  0.03694337]]), array([[-3.05963888, -0.41530139],\n",
        "        [-0.02376247, -1.25846526]]), array([[ 2.26147255,  0.04473617],\n",
        "        [-0.35734163,  2.16016054]]), array([[ 0.98740621,  1.21350777],\n",
        "        [-0.33937305,  0.14203317]]), array([[ 0.25165219,  0.51877774],\n",
        "        [-0.81757539, -0.5367408 ]]), array([[-1.81889822,  0.93369729],\n",
        "        [-0.96851518,  0.61918758]]), array([[ 0.72333266,  1.34897668],\n",
        "        [-0.36781772,  0.68767286]]), array([[-1.7139063 ,  0.40622291],\n",
        "        [-0.74482189,  1.18684608]])]"
       ]
      }
     ],
     "prompt_number": 93
    },
    {
     "cell_type": "code",
     "collapsed": false,
     "input": [
      "model.X_tr[1].shape"
     ],
     "language": "python",
     "metadata": {},
     "outputs": [
      {
       "metadata": {},
       "output_type": "pyout",
       "prompt_number": 191,
       "text": [
        "(1000, 2)"
       ]
      }
     ],
     "prompt_number": 191
    },
    {
     "cell_type": "code",
     "collapsed": false,
     "input": [
      "model.W[2]"
     ],
     "language": "python",
     "metadata": {},
     "outputs": [
      {
       "metadata": {},
       "output_type": "pyout",
       "prompt_number": 225,
       "text": [
        "array([[-0.28398226,  0.59888074],\n",
        "       [ 0.2750335 , -2.21710475]])"
       ]
      }
     ],
     "prompt_number": 225
    },
    {
     "cell_type": "code",
     "collapsed": false,
     "input": [
      "[0, model.W[i][i,0]]"
     ],
     "language": "python",
     "metadata": {},
     "outputs": [
      {
       "metadata": {},
       "output_type": "pyout",
       "prompt_number": 221,
       "text": [
        "[0, -0.32883024120236853]"
       ]
      }
     ],
     "prompt_number": 221
    },
    {
     "cell_type": "code",
     "collapsed": false,
     "input": [
      "fig = plt.figure(figsize=plot_size)\n",
      "for i in range(model.depth):\n",
      "    ax2 = fig.add_subplot(1,model.depth,i+1)\n",
      "    ax2.set_aspect(1)\n",
      "    ax2.plot([0, model.W[i][1,0] - model.W[i][0,0]], [0, model.W[i][1,1] -  model.W[i][0,1]], 'k-', lw=4, c='r')\n",
      "    \n",
      "    ax2.contourf(model.X_tr[i][:,0].reshape(N,N), model.X_tr[i][:,1].reshape(N,N), z.reshape(N,N), \n",
      "                 cmap=plt.cm.Paired, alpha=0.8) #levels=np.arange(-2,2,0.2), \n",
      "    ax2.scatter(X_tr[i][:,0], X_tr[i][:,1], c=Y)\n",
      "plt.show()"
     ],
     "language": "python",
     "metadata": {},
     "outputs": [
      {
       "metadata": {},
       "output_type": "display_data",
       "png": "[encoded data removed]",
       "text": [
        "<matplotlib.figure.Figure at 0x7f5229097310>"
       ]
      }
     ],
     "prompt_number": 243
    },
    {
     "cell_type": "code",
     "collapsed": false,
     "input": [
      "W_separating"
     ],
     "language": "python",
     "metadata": {},
     "outputs": [
      {
       "metadata": {},
       "output_type": "pyout",
       "prompt_number": 166,
       "text": [
        "[array([[-0.32883024, -2.24264459],\n",
        "        [-0.36057638, -1.14698549]]), array([[-0.35083638,  1.74727648],\n",
        "        [ 1.29376448, -2.16498482]]), array([[-0.28398226,  0.59888074],\n",
        "        [ 0.2750335 , -2.21710475]]), array([[-0.95206682,  0.0415407 ],\n",
        "        [ 0.66854166,  1.12050501]]), array([[ 0.1455548 , -1.20018953],\n",
        "        [-1.24756164,  1.18972683]])]"
       ]
      }
     ],
     "prompt_number": 166
    },
    {
     "cell_type": "code",
     "collapsed": false,
     "input": [
      "models_separating = model.models_\n",
      "model_separating = model"
     ],
     "language": "python",
     "metadata": {},
     "outputs": [],
     "prompt_number": 260
    },
    {
     "cell_type": "code",
     "collapsed": false,
     "input": [
      "\n",
      "models_separating[0].random_state.get_state()[1][0]"
     ],
     "language": "python",
     "metadata": {},
     "outputs": [
      {
       "metadata": {},
       "output_type": "pyout",
       "prompt_number": 239,
       "text": [
        "3522410815"
       ]
      }
     ],
     "prompt_number": 239
    },
    {
     "cell_type": "code",
     "collapsed": false,
     "input": [
      "r=model.models_[0].random_state\n",
      "r.get_state()[1][0]"
     ],
     "language": "python",
     "metadata": {},
     "outputs": [
      {
       "metadata": {},
       "output_type": "pyout",
       "prompt_number": 240,
       "text": [
        "3522410815"
       ]
      }
     ],
     "prompt_number": 240
    },
    {
     "cell_type": "code",
     "collapsed": false,
     "input": [
      "model.models_[0].coef_, model.models_[1].coef_"
     ],
     "language": "python",
     "metadata": {},
     "outputs": [
      {
       "metadata": {},
       "output_type": "pyout",
       "prompt_number": 269,
       "text": [
        "(array([[ 1.29227875, -2.99236749]]), array([[ 2.36722869, -0.63097715]]))"
       ]
      }
     ],
     "prompt_number": 269
    },
    {
     "cell_type": "code",
     "collapsed": false,
     "input": [
      "models_separating[0].coef_, models_separating[1].coef_"
     ],
     "language": "python",
     "metadata": {},
     "outputs": [
      {
       "metadata": {},
       "output_type": "pyout",
       "prompt_number": 268,
       "text": [
        "(array([[ 1.31897975, -3.0736993 ]]), array([[-8.26815619,  9.78416586]]))"
       ]
      }
     ],
     "prompt_number": 268
    },
    {
     "cell_type": "code",
     "collapsed": false,
     "input": [
      "model"
     ],
     "language": "python",
     "metadata": {},
     "outputs": [
      {
       "metadata": {},
       "output_type": "pyout",
       "prompt_number": 270,
       "text": [
        "R2SVMLearnerMy(C=1, activation=<function <lambda> at 0x7f52296c5668>,\n",
        "        beta=0.3, depth=5, fit_c=None, recurrent=True, scale=True, seed=25,\n",
        "        use_prev=False)"
       ]
      }
     ],
     "prompt_number": 270
    },
    {
     "cell_type": "code",
     "collapsed": false,
     "input": [
      "from sklearn.svm import LinearSVC\n",
      "\n",
      "X_moon, Y_moon = sklearn.datasets.make_moons(n_samples=1000, noise=0.04)\n",
      "X_spiral, Y_spiral = np.loadtxt(\"../data/two_spirals.x\", skiprows=1), np.loadtxt(\"../data/two_spirals.y\", skiprows=1)\n",
      "X, Y = X_moon, Y_moon\n",
      "# X[:,1] *= 0.3\n",
      "X = MinMaxScaler((-1,1)).fit_transform(X)\n",
      "\n",
      "#X, Y = X_spiral + 0.5, Y_spiral\n",
      "model = R2SVMLearnerMy(seed=24, depth=5, beta=0.3, fit_c=None, use_prev=False, scale=True, activation='sigmoid')\n",
      "model.fit(X, Y, W_separating)\n",
      "\n",
      "plot_size=(10,10)\n",
      "\n",
      "%matplotlib inline\n",
      "import matplotlib.pylab as plt\n",
      "fig = plt.figure(figsize=plot_size)\n",
      "\n",
      "ax1, ax2 = fig.add_subplot(121), fig.add_subplot(122)\n",
      "X_tr = model.X_tr\n",
      "ax1.scatter(model.X_tr[-1][:,0], model.X_tr[-1][:,1], c=Y)\n",
      "ax2.scatter(model.X_moved[-1][:,0], model.X_moved[-1][:,1], c=Y)\n",
      "ax1.set_title(\"Moved training data\")\n",
      "ax2.set_title(\"Transformed trainign data\")\n",
      "plt.show()\n",
      "\n",
      "fig = plt.figure(figsize=plot_size)\n",
      "\n",
      "ax1, ax2 = fig.add_subplot(121), fig.add_subplot(122)\n",
      "N = 15\n",
      "x, y = np.linspace(X[:,0].min(), X[:,0].max(), N),  np.linspace(X[:,1].min(), X[:,1].max(), N)\n",
      "xx, yy = np.meshgrid(x, y)\n",
      "z = model.predict(np.c_[xx.ravel(), yy.ravel()])\n",
      "ax1.scatter(model.X_moved[-1][:,0], model.X_moved[-1][:,1])\n",
      "ax2.scatter(model.X_tr[-1][:,0], model.X_tr[-1][:,1])\n",
      "ax1.set_title(\"Moved data\")\n",
      "plt.show()\n",
      "N = 500\n",
      "x, y = np.linspace(X[:,0].min(), X[:,0].max(), N),  np.linspace(X[:,1].min(), X[:,1].max(), N)\n",
      "xx, yy = np.meshgrid(x, y)\n",
      "z = model.predict(np.c_[xx.ravel(), yy.ravel()])\n",
      "\n",
      "fig = plt.figure(figsize=plot_size)\n",
      "ax1, ax2 = fig.add_subplot(121), fig.add_subplot(122)\n",
      "\n",
      "ax1.contourf(xx, yy, z.reshape(N,N), cmap=plt.cm.Paired, alpha=0.8) #levels=np.arange(-2,2,0.2),\n",
      "ax1.scatter(X[:,0], X[:,1], c=Y,  cmap=plt.cm.Paired, alpha=0.8)\n",
      "ax2.contourf(model.X_tr[-1][:,0].reshape(N,N), model.X_tr[-1][:,1].reshape(N,N), z.reshape(N,N), \n",
      "             cmap=plt.cm.Paired, alpha=0.8) #levels=np.arange(-2,2,0.2), \n",
      "ax2.scatter(X_tr[-1][:,0], X_tr[-1][:,1], c=Y)\n",
      "plt.show()"
     ],
     "language": "python",
     "metadata": {},
     "outputs": []
    },
    {
     "cell_type": "code",
     "collapsed": false,
     "input": [
      "model.W[-1][0,:] - model.W[-1][1,:]"
     ],
     "language": "python",
     "metadata": {},
     "outputs": [
      {
       "metadata": {},
       "output_type": "pyout",
       "prompt_number": 259,
       "text": [
        "array([-0.15269371, -0.55971864])"
       ]
      }
     ],
     "prompt_number": 259
    },
    {
     "cell_type": "code",
     "collapsed": false,
     "input": [
      "model.models_[-1].best_estimator_.coef_"
     ],
     "language": "python",
     "metadata": {},
     "outputs": [
      {
       "metadata": {},
       "output_type": "pyout",
       "prompt_number": 233,
       "text": [
        "array([[-1.32782501,  1.40678527]])"
       ]
      }
     ],
     "prompt_number": 233
    }
   ],
   "metadata": {}
  }
 ]
}