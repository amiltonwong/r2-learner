{
 "metadata": {
  "name": "",
  "signature": "sha256:06a08de588ad3c0c29d1cf49ea768ed0dd209d17d97f9a0ccad93c1124241e7d"
 },
 "nbformat": 3,
 "nbformat_minor": 0,
 "worksheets": [
  {
   "cells": [
    {
     "cell_type": "markdown",
     "metadata": {},
     "source": [
      "# Note: Run from root directory, because __file__ is undefined in ipython (bug)"
     ]
    },
    {
     "cell_type": "code",
     "collapsed": false,
     "input": [
      "%load_ext autoreload\n",
      "%autoreload 2\n",
      "\n",
      "import sys\n",
      "import os\n",
      "sys.path.append(\"..\")\n",
      "\n",
      "from sklearn import svm, datasets\n",
      "from sklearn.grid_search import ParameterGrid, GridSearchCV\n",
      "from sklearn.base import BaseEstimator, clone \n",
      "from sklearn.cross_validation import KFold\n",
      "from sklearn.svm import SVC\n",
      "import os\n",
      "import math\n",
      "import numpy as np\n",
      "import seaborn\n",
      "import sklearn.metrics\n",
      "from multiprocessing import Pool\n",
      "from functools import partial\n",
      "\n",
      "import sklearn\n",
      "from sklearn.preprocessing import MinMaxScaler, LabelBinarizer\n",
      "from sklearn.metrics import accuracy_score\n",
      "from sklearn.cross_validation import KFold\n",
      "from sklearn.preprocessing import MinMaxScaler\n",
      "\n",
      "from data_api import *\n",
      "from models import R2SVMLearner, R2ELMLearner, ELM\n",
      "\n",
      "\n",
      "\n",
      "%matplotlib inline"
     ],
     "language": "python",
     "metadata": {},
     "outputs": [
      {
       "output_type": "stream",
       "stream": "stdout",
       "text": [
        "The autoreload extension is already loaded. To reload it, use:\n",
        "  %reload_ext autoreload\n"
       ]
      }
     ],
     "prompt_number": 14
    },
    {
     "cell_type": "code",
     "collapsed": false,
     "input": [
      "\n",
      "iris = fetch_uci_datasets('iris')\n",
      "liver = fetch_uci_datasets('liver')\n",
      "X_iris, Y_iris = iris.data, iris.target\n",
      "X_liver, Y_liver = liver.data, liver.target\n",
      "\n",
      "scaler = MinMaxScaler((-1,1))\n",
      "X_iris = scaler.fit_transform(X_iris)\n",
      "\n",
      "scaler = MinMaxScaler((-1,1))\n",
      "X_liver = scaler.fit_transform(X_liver)\n",
      "\n",
      "sig_model = ELM(activation='sigmoid')\n",
      "rbf_model = ELM(activation='rbf')\n",
      "sig_model.fit(X_iris,Y_iris)\n",
      "rbf_model.fit(X_iris,Y_iris)\n",
      "print \"%s: dim: %i, class: %i\" % (iris.name, iris.n_dim, iris.n_class)\n",
      "print \"ELM+SIG on iris: %.2f\" % accuracy_score(Y_iris, sig_model.predict(X_iris))\n",
      "print \"ELM+RBF on iris: %.2f\" % accuracy_score(Y_iris, rbf_model.predict(X_iris))\n",
      "print\n",
      "print \"%s: dim: %i, class: %i\" % (liver.name, liver.n_dim, liver.n_class)\n",
      "sig_model = ELM(activation='sigmoid')\n",
      "rbf_model = ELM(activation='rbf')\n",
      "sig_model.fit(X_liver,Y_liver)\n",
      "rbf_model.fit(X_liver,Y_liver)\n",
      "print \"ELM+SIG on liver: %.2f\" % accuracy_score(Y_liver, sig_model.predict(X_liver))\n",
      "print \"ELM+RBF on liver: %.2f\" % accuracy_score(Y_liver, rbf_model.predict(X_liver))\n"
     ],
     "language": "python",
     "metadata": {},
     "outputs": [
      {
       "output_type": "stream",
       "stream": "stdout",
       "text": [
        "/heart\n"
       ]
      },
      {
       "ename": "AssertionError",
       "evalue": "",
       "output_type": "pyerr",
       "traceback": [
        "\u001b[1;31m---------------------------------------------------------------------------\u001b[0m\n\u001b[1;31mAssertionError\u001b[0m                            Traceback (most recent call last)",
        "\u001b[1;32m<ipython-input-20-da7c72fee65f>\u001b[0m in \u001b[0;36m<module>\u001b[1;34m()\u001b[0m\n\u001b[0;32m      1\u001b[0m \u001b[1;33m\u001b[0m\u001b[0m\n\u001b[1;32m----> 2\u001b[1;33m \u001b[0miris\u001b[0m \u001b[1;33m=\u001b[0m \u001b[0mfetch_uci_datasets\u001b[0m\u001b[1;33m(\u001b[0m\u001b[1;34m'iris'\u001b[0m\u001b[1;33m)\u001b[0m\u001b[1;33m\u001b[0m\u001b[0m\n\u001b[0m\u001b[0;32m      3\u001b[0m \u001b[0mliver\u001b[0m \u001b[1;33m=\u001b[0m \u001b[0mfetch_uci_datasets\u001b[0m\u001b[1;33m(\u001b[0m\u001b[1;34m'liver'\u001b[0m\u001b[1;33m)\u001b[0m\u001b[1;33m\u001b[0m\u001b[0m\n\u001b[0;32m      4\u001b[0m \u001b[0mX_iris\u001b[0m\u001b[1;33m,\u001b[0m \u001b[0mY_iris\u001b[0m \u001b[1;33m=\u001b[0m \u001b[0miris\u001b[0m\u001b[1;33m.\u001b[0m\u001b[0mdata\u001b[0m\u001b[1;33m,\u001b[0m \u001b[0miris\u001b[0m\u001b[1;33m.\u001b[0m\u001b[0mtarget\u001b[0m\u001b[1;33m\u001b[0m\u001b[0m\n\u001b[0;32m      5\u001b[0m \u001b[0mX_liver\u001b[0m\u001b[1;33m,\u001b[0m \u001b[0mY_liver\u001b[0m \u001b[1;33m=\u001b[0m \u001b[0mliver\u001b[0m\u001b[1;33m.\u001b[0m\u001b[0mdata\u001b[0m\u001b[1;33m,\u001b[0m \u001b[0mliver\u001b[0m\u001b[1;33m.\u001b[0m\u001b[0mtarget\u001b[0m\u001b[1;33m\u001b[0m\u001b[0m\n",
        "\u001b[1;32m/home/moje/Projekty/r2-learner/r2-learner/data_api.py\u001b[0m in \u001b[0;36mfetch_uci_datasets\u001b[1;34m(name)\u001b[0m\n\u001b[0;32m     35\u001b[0m \u001b[1;33m\u001b[0m\u001b[0m\n\u001b[0;32m     36\u001b[0m     \u001b[1;31m#Download heart from http://www.csie.ntu.edu.tw/~cjlin/libsvmtools/datasets/binary.html\u001b[0m\u001b[1;33m\u001b[0m\u001b[1;33m\u001b[0m\u001b[0m\n\u001b[1;32m---> 37\u001b[1;33m     \u001b[1;32massert\u001b[0m\u001b[1;33m(\u001b[0m\u001b[0mos\u001b[0m\u001b[1;33m.\u001b[0m\u001b[0mpath\u001b[0m\u001b[1;33m.\u001b[0m\u001b[0mexists\u001b[0m\u001b[1;33m(\u001b[0m\u001b[0mos\u001b[0m\u001b[1;33m.\u001b[0m\u001b[0mpath\u001b[0m\u001b[1;33m.\u001b[0m\u001b[0mjoin\u001b[0m\u001b[1;33m(\u001b[0m\u001b[0mc\u001b[0m\u001b[1;33m[\u001b[0m\u001b[1;34m\"DATA_DIR\"\u001b[0m\u001b[1;33m]\u001b[0m\u001b[1;33m,\u001b[0m \u001b[1;34m'/heart'\u001b[0m\u001b[1;33m)\u001b[0m\u001b[1;33m)\u001b[0m\u001b[1;33m)\u001b[0m\u001b[1;33m\u001b[0m\u001b[0m\n\u001b[0m\u001b[0;32m     38\u001b[0m     \u001b[0mheart_x\u001b[0m\u001b[1;33m,\u001b[0m \u001b[0mheart_y\u001b[0m \u001b[1;33m=\u001b[0m \u001b[0mdatasets\u001b[0m\u001b[1;33m.\u001b[0m\u001b[0mload_svmlight_file\u001b[0m\u001b[1;33m(\u001b[0m\u001b[0mos\u001b[0m\u001b[1;33m.\u001b[0m\u001b[0mpath\u001b[0m\u001b[1;33m.\u001b[0m\u001b[0mjoin\u001b[0m\u001b[1;33m(\u001b[0m\u001b[0mc\u001b[0m\u001b[1;33m[\u001b[0m\u001b[1;34m\"DATA_DIR\"\u001b[0m\u001b[1;33m]\u001b[0m\u001b[1;33m,\u001b[0m \u001b[1;34m'/heart'\u001b[0m\u001b[1;33m)\u001b[0m\u001b[1;33m)\u001b[0m\u001b[1;33m\u001b[0m\u001b[0m\n\u001b[0;32m     39\u001b[0m     \u001b[0mheart_x\u001b[0m \u001b[1;33m=\u001b[0m \u001b[0mheart_x\u001b[0m\u001b[1;33m.\u001b[0m\u001b[0mtoarray\u001b[0m\u001b[1;33m(\u001b[0m\u001b[1;33m)\u001b[0m\u001b[1;33m\u001b[0m\u001b[0m\n",
        "\u001b[1;31mAssertionError\u001b[0m: "
       ]
      }
     ],
     "prompt_number": 20
    }
   ],
   "metadata": {}
  }
 ]
}