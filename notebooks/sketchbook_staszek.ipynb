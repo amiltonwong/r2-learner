{
 "metadata": {
  "name": "",
  "signature": "sha256:a13a448ae1959acc06acea1e9747ffdc2dd3e07e4532887144b3193f3b62f14c"
 },
 "nbformat": 3,
 "nbformat_minor": 0,
 "worksheets": [
  {
   "cells": [
    {
     "cell_type": "markdown",
     "metadata": {},
     "source": [
      "# Note: Run from root directory, because __file__ is undefined in ipython (bug)"
     ]
    },
    {
     "cell_type": "code",
     "collapsed": false,
     "input": [
      "%load_ext autoreload\n",
      "%autoreload 2\n",
      "\n",
      "import sys\n",
      "import os\n",
      "sys.path.append(\"..\")\n",
      "\n",
      "from sklearn import svm, datasets\n",
      "from sklearn.grid_search import ParameterGrid, GridSearchCV\n",
      "from sklearn.base import BaseEstimator, clone \n",
      "from sklearn.cross_validation import KFold\n",
      "from sklearn.svm import SVC\n",
      "import os\n",
      "import math\n",
      "import numpy as np\n",
      "import sklearn.metrics\n",
      "from multiprocessing import Pool\n",
      "from functools import partial\n",
      "\n",
      "import sklearn\n",
      "from sklearn.preprocessing import MinMaxScaler, LabelBinarizer\n",
      "from sklearn.metrics import accuracy_score\n",
      "from sklearn.cross_validation import KFold\n",
      "from sklearn.preprocessing import MinMaxScaler\n",
      "\n",
      "from data_api import *\n",
      "\n",
      "from r2 import *\n",
      "\n",
      "\n",
      "\n",
      "%matplotlib inline"
     ],
     "language": "python",
     "metadata": {},
     "outputs": [],
     "prompt_number": 1
    },
    {
     "cell_type": "code",
     "collapsed": false,
     "input": [
      "from models import R2Lin"
     ],
     "language": "python",
     "metadata": {},
     "outputs": []
    },
    {
     "cell_type": "code",
     "collapsed": false,
     "input": [
      "help(R2Lin)"
     ],
     "language": "python",
     "metadata": {},
     "outputs": [
      {
       "ename": "NameError",
       "evalue": "name 'R2Lin' is not defined",
       "output_type": "pyerr",
       "traceback": [
        "\u001b[1;31m---------------------------------------------------------------------------\u001b[0m\n\u001b[1;31mNameError\u001b[0m                                 Traceback (most recent call last)",
        "\u001b[1;32m<ipython-input-6-f38aef448b0f>\u001b[0m in \u001b[0;36m<module>\u001b[1;34m()\u001b[0m\n\u001b[1;32m----> 1\u001b[1;33m \u001b[0mhelp\u001b[0m\u001b[1;33m(\u001b[0m\u001b[0mR2Lin\u001b[0m\u001b[1;33m)\u001b[0m\u001b[1;33m\u001b[0m\u001b[0m\n\u001b[0m",
        "\u001b[1;31mNameError\u001b[0m: name 'R2Lin' is not defined"
       ]
      }
     ],
     "prompt_number": 6
    },
    {
     "cell_type": "code",
     "collapsed": false,
     "input": [
      "\n",
      "iris = fetch_uci_datasets('iris')\n",
      "liver = fetch_uci_datasets('liver')\n",
      "X_iris, Y_iris = iris.data, iris.target\n",
      "X_liver, Y_liver = liver.data, liver.target\n",
      "\n",
      "scaler = MinMaxScaler((-1,1))\n",
      "X_iris = scaler.fit_transform(X_iris)\n",
      "\n",
      "scaler = MinMaxScaler((-1,1))\n",
      "X_liver = scaler.fit_transform(X_liver)\n",
      "\n",
      "sig_model = ELM(activation='sigmoid')\n",
      "rbf_model = ELM(activation='rbf')\n",
      "sig_model.fit(X_iris,Y_iris)\n",
      "rbf_model.fit(X_iris,Y_iris)\n",
      "print \"%s: dim: %i, class: %i\" % (iris.name, iris.n_dim, iris.n_class)\n",
      "print \"ELM+SIG on iris: %.2f\" % accuracy_score(Y_iris, sig_model.predict(X_iris))\n",
      "print \"ELM+RBF on iris: %.2f\" % accuracy_score(Y_iris, rbf_model.predict(X_iris))\n",
      "print\n",
      "print \"%s: dim: %i, class: %i\" % (liver.name, liver.n_dim, liver.n_class)\n",
      "sig_model = ELM(activation='sigmoid')\n",
      "rbf_model = ELM(activation='rbf')\n",
      "sig_model.fit(X_liver,Y_liver)\n",
      "rbf_model.fit(X_liver,Y_liver)\n",
      "print \"ELM+SIG on liver: %.2f\" % accuracy_score(Y_liver, sig_model.predict(X_liver))\n",
      "print \"ELM+RBF on liver: %.2f\" % accuracy_score(Y_liver, rbf_model.predict(X_liver))\n",
      "\n",
      "\n",
      "r2lin_wojtek = R2Lin(k=7)\n",
      "r2lin_wojtek.fit(X_iris, Y_iris)\n",
      "print \"R2Lin on iris: %.2f\" % accuracy_score(Y_iris, r2lin_wojtek.predict(X_iris))"
     ],
     "language": "python",
     "metadata": {},
     "outputs": []
    },
    {
     "cell_type": "code",
     "collapsed": false,
     "input": [
      "from misc.config import c\n",
      "print(os.path.join(c[\"DATA_DIR\"], \"/heart\"))"
     ],
     "language": "python",
     "metadata": {},
     "outputs": []
    },
    {
     "cell_type": "code",
     "collapsed": false,
     "input": [
      "R2Lin"
     ],
     "language": "python",
     "metadata": {},
     "outputs": []
    },
    {
     "cell_type": "code",
     "collapsed": false,
     "input": [
      "from models import R2Lin\n",
      "x = R2Lin(k=5).fit(data.data, data.target)"
     ],
     "language": "python",
     "metadata": {},
     "outputs": []
    },
    {
     "cell_type": "code",
     "collapsed": false,
     "input": [
      "param_grid = {'C': [1,10,100], [\"]\n",
      "              'beta': [0.04, 0.01, 0.1]}\n",
      "\n",
      "E_grid, E = fit_r2svm_on_dataset(data=liver, param_grid_in=param_grid, to_file=False)\n",
      "\n",
      "print E['config']['params']\n",
      "print E['results']['mean_acc']\n",
      "print E['monitors']['std']\n",
      "print E['monitors']['train_time']\n",
      "\n",
      "print E_grid['monitors']['grid_time']"
     ],
     "language": "python",
     "metadata": {},
     "outputs": []
    },
    {
     "cell_type": "code",
     "collapsed": false,
     "input": [
      "param_grid = {'h': [30, 40, 50, 60],\n",
      "              'beta': [0.04, 0.01, 0.1]}\n",
      "\n",
      "E_grid, E = fit_r2elm_on_dataset(data=liver, param_grid_in=param_grid, to_file=False)\n",
      "\n",
      "print E['config']['params']\n",
      "print E['results']['mean_acc']\n",
      "print E['monitors']['std']\n",
      "print E['monitors']['train_time']\n",
      "\n",
      "print E_grid['monitors']['grid_time']"
     ],
     "language": "python",
     "metadata": {},
     "outputs": []
    },
    {
     "cell_type": "code",
     "collapsed": false,
     "input": [
      "X = np.random.normal(size=(10,40))\n",
      "W = np.ranodm.normal(size=(2, 40))\n"
     ],
     "language": "python",
     "metadata": {},
     "outputs": []
    },
    {
     "cell_type": "code",
     "collapsed": false,
     "input": [
      "from sklearn.svm import LinearSVC"
     ],
     "language": "python",
     "metadata": {},
     "outputs": []
    },
    {
     "cell_type": "code",
     "collapsed": false,
     "input": [
      "X = np.random.normal(size=(100,2))"
     ],
     "language": "python",
     "metadata": {},
     "outputs": []
    },
    {
     "cell_type": "code",
     "collapsed": false,
     "input": [
      "math.sqrt(0.866**2 + 1.87**2)"
     ],
     "language": "python",
     "metadata": {},
     "outputs": []
    },
    {
     "cell_type": "code",
     "collapsed": false,
     "input": [
      "X[0:1]/2.06"
     ],
     "language": "python",
     "metadata": {},
     "outputs": []
    },
    {
     "cell_type": "code",
     "collapsed": false,
     "input": [
      "X_norm[0]"
     ],
     "language": "python",
     "metadata": {},
     "outputs": []
    },
    {
     "cell_type": "code",
     "collapsed": false,
     "input": [
      "X_len = np.sum(np.abs(X)**2,axis=-1)**(1./2)\n",
      "X_norm = X * (1.0/X_len.reshape(-1,1))\n",
      "X_out = X_norm * (1.0/(1.0 + np.exp(-X_len))).reshape(-1,1)"
     ],
     "language": "python",
     "metadata": {},
     "outputs": []
    },
    {
     "cell_type": "code",
     "collapsed": false,
     "input": [],
     "language": "python",
     "metadata": {},
     "outputs": []
    },
    {
     "cell_type": "code",
     "collapsed": false,
     "input": [
      "from models import R2SVMLearner"
     ],
     "language": "python",
     "metadata": {},
     "outputs": []
    },
    {
     "cell_type": "code",
     "collapsed": false,
     "input": [],
     "language": "python",
     "metadata": {},
     "outputs": []
    },
    {
     "cell_type": "code",
     "collapsed": false,
     "input": [
      "len(W_separating)"
     ],
     "language": "python",
     "metadata": {},
     "outputs": []
    },
    {
     "cell_type": "code",
     "collapsed": false,
     "input": [
      "len(model.W)"
     ],
     "language": "python",
     "metadata": {},
     "outputs": []
    },
    {
     "cell_type": "code",
     "collapsed": false,
     "input": [
      "X = sklearn.datasets.make_moons(n_samples=100, noise=0.04)[0]\n",
      "X = MinMaxScaler((-2,2)).fit_transform(X)\n",
      "\n",
      "N = 70\n",
      "x, y = np.linspace(X.min(), X.max(), N),  np.linspace(X.min(), X.max(), N)\n",
      "xx, yy = np.meshgrid(x, y)\n",
      "#X = np.c_[xx.ravel() + 0.5, yy.ravel() +  0.5]\n",
      "X = np.c_[xx.ravel() , yy.ravel() ]\n",
      "\n",
      "\n",
      "from sklearn import preprocessing\n",
      "\n",
      "w_raw = np.array([[1,1]]) # k.best_estimator_.coef_\n",
      "w = w_raw / np.linalg.norm(w_raw, 2)\n",
      "oi = np.dot(X, w.T) - math.sqrt(0.5**2 + 0.5**2)\n",
      "X_par =   w*np.dot(X, w.T)\n",
      "X_perp = X - X_par\n",
      "X_par_size = np.sum(np.abs(X_par)**2,axis=-1)**(1./2)\n",
      "X_out = X_perp + w*(1.0/(1.0 + np.exp(-3*oi))).reshape(-1,1)\n",
      "\n",
      "#X_out = X_perp + X_par*(1.0/(1.0 + np.exp(-abs(X_par_size)))).reshape(-1,1)\n",
      "X_out = 1.0/(1.0 + np.exp(-X))\n",
      "\n",
      "fig = plt.figure(figsize=(25,24))\n",
      "ax = fig.add_subplot(121)\n",
      "ax.scatter(X[:,0], X[:,1])\n",
      "ax.set_aspect(1)\n",
      "ax = fig.add_subplot(122)\n",
      "ax.scatter(X_out[:,0], X_out[:,1])\n",
      "ax.set_aspect(1)\n",
      "plt.show()"
     ],
     "language": "python",
     "metadata": {},
     "outputs": []
    },
    {
     "cell_type": "code",
     "collapsed": false,
     "input": [
      "model.X_tr[-1]"
     ],
     "language": "python",
     "metadata": {},
     "outputs": []
    },
    {
     "cell_type": "code",
     "collapsed": false,
     "input": [
      "model.pred"
     ],
     "language": "python",
     "metadata": {},
     "outputs": []
    },
    {
     "cell_type": "code",
     "collapsed": false,
     "input": [
      "z.min()"
     ],
     "language": "python",
     "metadata": {},
     "outputs": []
    },
    {
     "cell_type": "code",
     "collapsed": false,
     "input": [
      "xx.ravel().shape"
     ],
     "language": "python",
     "metadata": {},
     "outputs": []
    },
    {
     "cell_type": "code",
     "collapsed": false,
     "input": [
      "model.X_tr[-1].shape"
     ],
     "language": "python",
     "metadata": {},
     "outputs": []
    },
    {
     "cell_type": "code",
     "collapsed": false,
     "input": [
      "z"
     ],
     "language": "python",
     "metadata": {},
     "outputs": []
    },
    {
     "cell_type": "code",
     "collapsed": false,
     "input": [
      "W_interesting"
     ],
     "language": "python",
     "metadata": {},
     "outputs": []
    },
    {
     "cell_type": "code",
     "collapsed": false,
     "input": [
      "W_separating = model.W"
     ],
     "language": "python",
     "metadata": {},
     "outputs": []
    },
    {
     "cell_type": "code",
     "collapsed": false,
     "input": [
      "# model = R2SVMLearnerMy(depth=5, beta=0.3, fit_c=None, use_prev=False, scale=True, activation='sigmoid')\n",
      "\"\"\"\n",
      "[array([[-0.32883024, -2.24264459],\n",
      "        [-0.36057638, -1.14698549]]), array([[-0.35083638,  1.74727648],\n",
      "        [ 1.29376448, -2.16498482]]), array([[-0.28398226,  0.59888074],\n",
      "        [ 0.2750335 , -2.21710475]]), array([[-0.95206682,  0.0415407 ],\n",
      "        [ 0.66854166,  1.12050501]]), array([[ 0.1455548 , -1.20018953],\n",
      "        [-1.24756164,  1.18972683]])]\n",
      "\"\"\""
     ],
     "language": "python",
     "metadata": {},
     "outputs": []
    },
    {
     "cell_type": "code",
     "collapsed": false,
     "input": [
      "W_separating"
     ],
     "language": "python",
     "metadata": {},
     "outputs": []
    },
    {
     "cell_type": "code",
     "collapsed": false,
     "input": [
      "np.save(open(\"W_separating_two_moon.txt\", \"w\"), W_separating)"
     ],
     "language": "python",
     "metadata": {},
     "outputs": []
    },
    {
     "cell_type": "code",
     "collapsed": false,
     "input": [
      "def f():\n",
      "    return 2\n",
      "A = {\"f\":f}\n",
      "cPickle.dump(A, open(\"test.pkl\",\"w\"))"
     ],
     "language": "python",
     "metadata": {},
     "outputs": []
    },
    {
     "cell_type": "code",
     "collapsed": false,
     "input": [
      "import cPickle\n",
      "cPickle.dump({\"model\":R2SVMLearnerMy()}, open(\"test.pkl\",\"w\"))"
     ],
     "language": "python",
     "metadata": {},
     "outputs": []
    },
    {
     "cell_type": "code",
     "collapsed": false,
     "input": [
      "import cPickle\n",
      "cPickle.dump({\"model\":[], \"data\":f}, open(\"separating_two_moon.pkl\",\"w\"))"
     ],
     "language": "python",
     "metadata": {},
     "outputs": []
    },
    {
     "cell_type": "code",
     "collapsed": false,
     "input": [
      "model.W"
     ],
     "language": "python",
     "metadata": {},
     "outputs": []
    },
    {
     "cell_type": "code",
     "collapsed": false,
     "input": [
      "model.X_tr[1].shape"
     ],
     "language": "python",
     "metadata": {},
     "outputs": []
    },
    {
     "cell_type": "code",
     "collapsed": false,
     "input": [
      "model.W[2]"
     ],
     "language": "python",
     "metadata": {},
     "outputs": []
    },
    {
     "cell_type": "code",
     "collapsed": false,
     "input": [
      "[0, model.W[i][i,0]]"
     ],
     "language": "python",
     "metadata": {},
     "outputs": []
    },
    {
     "cell_type": "code",
     "collapsed": false,
     "input": [
      "fig = plt.figure(figsize=plot_size)\n",
      "for i in range(model.depth):\n",
      "    ax2 = fig.add_subplot(1,model.depth,i+1)\n",
      "    ax2.set_aspect(1)\n",
      "    ax2.plot([0, model.W[i][1,0] - model.W[i][0,0]], [0, model.W[i][1,1] -  model.W[i][0,1]], 'k-', lw=4, c='r')\n",
      "    \n",
      "    ax2.contourf(model.X_tr[i][:,0].reshape(N,N), model.X_tr[i][:,1].reshape(N,N), z.reshape(N,N), \n",
      "                 cmap=plt.cm.Paired, alpha=0.8) #levels=np.arange(-2,2,0.2), \n",
      "    ax2.scatter(X_tr[i][:,0], X_tr[i][:,1], c=Y)\n",
      "plt.show()"
     ],
     "language": "python",
     "metadata": {},
     "outputs": []
    },
    {
     "cell_type": "code",
     "collapsed": false,
     "input": [
      "W_separating"
     ],
     "language": "python",
     "metadata": {},
     "outputs": []
    },
    {
     "cell_type": "code",
     "collapsed": false,
     "input": [
      "models_separating = model.models_\n",
      "model_separating = model"
     ],
     "language": "python",
     "metadata": {},
     "outputs": []
    },
    {
     "cell_type": "code",
     "collapsed": false,
     "input": [
      "\n",
      "models_separating[0].random_state.get_state()[1][0]"
     ],
     "language": "python",
     "metadata": {},
     "outputs": []
    },
    {
     "cell_type": "code",
     "collapsed": false,
     "input": [
      "r=model.models_[0].random_state\n",
      "r.get_state()[1][0]"
     ],
     "language": "python",
     "metadata": {},
     "outputs": []
    },
    {
     "cell_type": "code",
     "collapsed": false,
     "input": [
      "model.models_[0].coef_, model.models_[1].coef_"
     ],
     "language": "python",
     "metadata": {},
     "outputs": []
    },
    {
     "cell_type": "code",
     "collapsed": false,
     "input": [
      "models_separating[0].coef_, models_separating[1].coef_"
     ],
     "language": "python",
     "metadata": {},
     "outputs": []
    },
    {
     "cell_type": "code",
     "collapsed": false,
     "input": [
      "from r2 import R2SVMLearner, R2ELMLearner"
     ],
     "language": "python",
     "metadata": {},
     "outputs": [],
     "prompt_number": 4
    },
    {
     "cell_type": "code",
     "collapsed": false,
     "input": [
      "X.mean(axis=0)"
     ],
     "language": "python",
     "metadata": {},
     "outputs": [
      {
       "metadata": {},
       "output_type": "pyout",
       "prompt_number": 7,
       "text": [
        "array([ 0.00815468, -0.01043807])"
       ]
      }
     ],
     "prompt_number": 7
    },
    {
     "cell_type": "code",
     "collapsed": false,
     "input": [
      "from sklearn.svm import LinearSVC\n",
      "\n",
      "X_moon, Y_moon = sklearn.datasets.make_moons(n_samples=1000, noise=0.04)\n",
      "X_spiral, Y_spiral = np.loadtxt(\"../data/two_spirals.x\", skiprows=1), np.loadtxt(\"../data/two_spirals.y\", skiprows=1)\n",
      "X, Y = X_moon, Y_moon\n",
      "# Y[0:180] = 2\n",
      "# X[:,1] *= 0.3\n",
      "X = MinMaxScaler((-0.3,0.3)).fit_transform(X)\n",
      "\n",
      "#X, Y = X_spiral + 0.5, Y_spiral\n",
      "# model = R2SVMLearner(seed=29, depth=5, beta=0.3, fit_c=None, use_prev=False, scale=True, activation='sigmoid')\n",
      "model = R2SVMLearner(depth=8, beta=0.1, use_prev=True, scale=True, activation='sigmoid')\n",
      "model.fit(X, Y)\n",
      "\n",
      "plot_size=(10,10)\n",
      "\n",
      "%matplotlib inline\n",
      "import matplotlib.pylab as plt\n",
      "fig = plt.figure(figsize=plot_size)\n",
      "\n",
      "ax1, ax2 = fig.add_subplot(121), fig.add_subplot(122)\n",
      "X_tr = model._X_tr\n",
      "ax1.scatter(model._X_tr[-1][:,0], model._X_tr[-1][:,1], c=Y)\n",
      "ax2.scatter(model._X_moved[-1][:,0], model._X_moved[-1][:,1], c=Y)\n",
      "\n",
      "ax1.set_title(\"Transformed trainign data\")\n",
      "ax2.set_title(\"Moved training data\")\n",
      "plt.show()\n",
      "\n",
      "fig = plt.figure(figsize=plot_size)\n",
      "\n",
      "ax1, ax2 = fig.add_subplot(121), fig.add_subplot(122)\n",
      "N = 15\n",
      "x, y = np.linspace(X[:,0].min(), X[:,0].max(), N),  np.linspace(X[:,1].min(), X[:,1].max(), N)\n",
      "xx, yy = np.meshgrid(x, y)\n",
      "z = model.predict(np.c_[xx.ravel(), yy.ravel()])\n",
      "ax1.scatter(model._X_moved[-1][:,0], model._X_moved[-1][:,1])\n",
      "ax2.scatter(model._X_tr[-1][:,0], model._X_tr[-1][:,1])\n",
      "ax1.set_title(\"Moved data\")\n",
      "plt.show()\n",
      "N = 50\n",
      "x, y = np.linspace(X[:,0].min(), X[:,0].max(), N),  np.linspace(X[:,1].min(), X[:,1].max(), N)\n",
      "xx, yy = np.meshgrid(x, y)\n",
      "z = model.predict(np.c_[xx.ravel(), yy.ravel()])\n",
      "\n",
      "fig = plt.figure(figsize=plot_size)\n",
      "ax1, ax2 = fig.add_subplot(121), fig.add_subplot(122)\n",
      "\n",
      "ax1.contourf(xx, yy, z.reshape(N,N), cmap=plt.cm.Paired, alpha=0.8) #levels=np.arange(-2,2,0.2),\n",
      "ax1.scatter(X[:,0], X[:,1], c=Y,  cmap=plt.cm.Paired, alpha=0.8)\n",
      "ax2.contourf(model._X_tr[-1][:,0].reshape(N,N), model._X_tr[-1][:,1].reshape(N,N), z.reshape(N,N), \n",
      "             cmap=plt.cm.Paired, alpha=0.8) #levels=np.arange(-2,2,0.2), \n",
      "ax2.scatter(X_tr[-1][:,0], X_tr[-1][:,1], c=Y)\n",
      "plt.show()\n",
      "\n",
      "print sklearn.metrics.accuracy_score(Y, model.predict(X))"
     ],
     "language": "python",
     "metadata": {},
     "outputs": [
      {
       "metadata": {},
       "output_type": "display_data",
       "png": "[encoded data removed]",
       "text": [
        "<matplotlib.figure.Figure at 0x7f6c2b5b9810>"
       ]
      },
      {
       "metadata": {},
       "output_type": "display_data",
       "png": "[encoded data removed]",
       "text": [
        "<matplotlib.figure.Figure at 0x7f6c2b221390>"
       ]
      }
     ]
    },
    {
     "cell_type": "markdown",
     "metadata": {},
     "source": [
      "# Working example"
     ]
    },
    {
     "cell_type": "code",
     "collapsed": false,
     "input": [
      "class R2SVMLearnerMy(BaseEstimator):\n",
      "    def __init__(self, C=1, activation='sigmoid', recurrent=True, depth=7,\\\n",
      "                 seed=None, beta=0.1, scale=False, use_prev = False, fit_c=None):\n",
      "        self.name = 'r2svm'\n",
      "        self.fit_c = fit_c\n",
      "        self.use_prev = use_prev\n",
      "        self.depth = depth\n",
      "        self.beta = beta\n",
      "        self.base_cls = partial(SVC, class_weight='auto', kernel='linear', C=C)\n",
      "        #self.base_cls = partial(LinearSVC, loss='l2', fit_intercept=False, random_state=0, \n",
      "        #                        class_weight='auto',  C=C)\n",
      "        self.seed = seed\n",
      "        self.scale = scale\n",
      "        self.activation = activation\n",
      "        self.recurrent = recurrent\n",
      "        self.C = C\n",
      "        self.X_tr = []\n",
      "        self.layer_predictions_ = []\n",
      "\n",
      "        \n",
      "        if activation == 'sigmoid_awesome':\n",
      "            def sig_awesome(X, delta):\n",
      "                X_len = np.sum(np.abs(X)**2,axis=-1)**(1./2)\n",
      "                X_norm = X * (1.0/X_len.reshape(-1,1))\n",
      "                X_out = X_norm * (1.0/(1.0 + np.exp(-X_len))).reshape(-1,1) \n",
      "                return X_out\n",
      "            \n",
      "            self.activation = sig_awesome\n",
      "        elif activation == 'sigmoid_awesome_3':\n",
      "            def sig_awesome(X, delta):\n",
      "                X_len = np.sum(np.abs(X)**2,axis=-1)**(1./2)\n",
      "                delta_len = np.sum(np.abs(self.beta*delta)**2,axis=-1)**(1./2)\n",
      "                X_norm = X * (1.0/X_len.reshape(-1,1))\n",
      "                X_out = X_norm * (1.0/(1.0 + np.exp(-delta_len))).reshape(-1,1) \n",
      "                return X_out\n",
      "            \n",
      "            self.activation = sig_awesome\n",
      "        elif activation == 'sigmoid_awesome_4':\n",
      "            def sig_awesome(X, delta, model):\n",
      "                X_len = np.sum(np.abs(X)**2,axis=-1)**(1./2)\n",
      "                delta_len = np.sum(np.abs(self.beta*delta)**2,axis=-1)**(1./2)\n",
      "                X_norm = X * (1.0/X_len.reshape(-1,1))\n",
      "                X_out = X_norm * (1.0/(1.0 + np.exp(-delta_len))).reshape(-1,1) \n",
      "                return X_out\n",
      "            \n",
      "            self.activation = sig_awesome\n",
      "        elif activation == 'sigmoid_awesome_5':\n",
      "            def sig_awesome(X, oi, model):\n",
      "                w = model.best_estimator_.coef_ / np.linalg.norm(model.best_estimator_.coef_, 2)\n",
      "                X_par =  w*np.dot(X, w.T)\n",
      "                X_perp = X - X_par\n",
      "                X_out = X_perp + X_par*(1.0/(1.0 + np.exp(-self.beta*oi)))\n",
      "                return X_out\n",
      "            \n",
      "            self.activation = sig_awesome\n",
      "            \n",
      "        elif activation == 'sigmoid_awesome_6':\n",
      "            def sig_awesome(X, oi, model, w_in):\n",
      "                w_raw = model.coef_\n",
      "                w = w_raw / np.linalg.norm(w_raw, 2)\n",
      "        \n",
      "                X_par =   w*np.dot(X, w.T)\n",
      "                X_perp = X - X_par\n",
      "                X_par_size = np.sum(np.abs(X_par)**2,axis=-1)**(1./2)\n",
      "                X_out = X_perp + X_par*(1.0/(1.0 + np.exp(-self.beta*abs(oi[:,0])))).reshape(-1,1)\n",
      "                return X_out\n",
      "            \n",
      "            self.activation = sig_awesome\n",
      "            \n",
      "        elif activation == 'sigmoid_awesome_7':\n",
      "            def sig_awesome(X, oi, model):\n",
      "                w_raw = model.best_estimator_.coef_\n",
      "                w = w_raw / np.linalg.norm(w_raw, 2)\n",
      "        \n",
      "                X_par =   w*np.dot(X, w.T)# - model.best_estimator_.intercept_\n",
      "                X_perp = X - X_par\n",
      "                X_out = X_perp + w*(1.0/(1.0 + np.exp(-self.beta*oi[:,1]))).reshape(-1,1)\n",
      "                return X_out\n",
      "            \n",
      "            self.activation = sig_awesome\n",
      "\n",
      "        elif activation == 'sigmoid_awesome_8':\n",
      "            def sig_awesome(X, oi, model,w_in):\n",
      "                w_raw = w_in.reshape(1,-1)\n",
      "                w = w_raw / np.linalg.norm(w_raw, 2)\n",
      "                \n",
      "                X_par =   w*np.dot(X, w.T)# - model.best_estimator_.intercept_\n",
      "                X_perp = X - X_par\n",
      "                X_out = X_perp + w*(1.0/(1.0 + np.exp(-self.beta*oi[:,1]))).reshape(-1,1)\n",
      "                return X_out\n",
      "            \n",
      "            self.activation = sig_awesome\n",
      "        elif activation == 'sigmoid_awesome_9':\n",
      "            def sig_awesome(X, oi, model,w_in):\n",
      "                w_raw = np.array([-w_in[1], w_in[0]]).reshape(1,-1)\n",
      "                w = w_raw / np.linalg.norm(w_raw, 2)\n",
      "                \n",
      "                X_par =   w*np.dot(X, w.T)# - model.best_estimator_.intercept_\n",
      "                X_perp = X - X_par\n",
      "                X_out = X_perp + w*(1.0/(1.0 + np.exp(-self.beta*oi[:,1]))).reshape(-1,1)\n",
      "                return X_out\n",
      "            \n",
      "            self.activation = sig_awesome            \n",
      "        elif activation == 'sigmoid_awesome_2':\n",
      "            def sig_awesome(X, delta):\n",
      "                return X + 1.0/(1.0 + np.exp(-delta))\n",
      "            \n",
      "            self.activation = sig_awesome\n",
      "        else:\n",
      "            self.activation = activation\n",
      "\n",
      "    def fit(self, X, Y, W=[]):\n",
      "        self.K = len(set(Y)) # Class number\n",
      "\n",
      "        # Seed\n",
      "        if self.seed is None: \n",
      "            self.seed = np.random.randint(0, np.iinfo(np.int32).max)\n",
      "        else:\n",
      "            np.random.seed(self.seed)\n",
      "            print(\"WARNING: seeding whole numpy, becuase of bug in SVC\")\n",
      "            \n",
      "        self.random_state = np.random.RandomState(self.seed)\n",
      "\n",
      "        # Models and scalers\n",
      "        self.scalers_ = [MinMaxScaler((-1.0,1.0)) for _ in xrange(2*self.depth+2)]\n",
      "        if self.K <= 2:\n",
      "            self.models_ = [self.base_cls() for _ in xrange(self.depth)]\n",
      "            for m in self.models_:\n",
      "                m.set_params(random_state=self.random_state)    # is this necessary?\n",
      "        else :\n",
      "            self.models_ = [OneVsRestClassifier(self.base_cls().set_params(random_state=self.random_state), \\\n",
      "                                                n_jobs=1) for _ in xrange(self.depth)]\n",
      "\n",
      "        # Prepare data\n",
      "        X_mod = X\n",
      "        if self.scale:\n",
      "            X_mod = self.scalers_[0].fit_transform(X_mod)\n",
      "        o = []\n",
      "        delta = np.zeros(shape=X.shape)\n",
      "        self.W = W\n",
      "        self.X_tr = [X_mod]\n",
      "        self.X_moved = [X_mod]\n",
      "\n",
      "        # Fit\n",
      "        for i in xrange(self.depth):\n",
      "            #X_mod = self.scalers_[i].fit_transform(X_mod) if self.scale else X_mod\n",
      "\n",
      "            self.models_[i].fit(X_mod, Y)\n",
      "\n",
      "                \n",
      "            if i != self.depth - 1:\n",
      "                o.append(self.models_[i].decision_function(X_mod) if self.K > 2 else \\\n",
      "                    np.hstack([-self.models_[i].decision_function(X_mod).reshape(-1,1), self.models_[i].decision_function(X_mod).reshape(-1,1)]))\n",
      "\n",
      "                if(len(self.W) < self.depth):\n",
      "                    self.W.append(self.random_state.normal(size=(self.K, X.shape[1])))\n",
      "\n",
      "                if self.recurrent:\n",
      "                    delta += np.dot(o[i], self.W[i])\n",
      "                else:\n",
      "                    delta = np.dot(o[i], self.W[i])\n",
      "\n",
      "                if self.scale:\n",
      "                    self.X_moved.append(X_mod + self.beta*delta)\n",
      "#                     self.X_moved.append((self.scalers_[0].transform(X) if self.scale else X) + self.beta*delta)\n",
      "#                     X_mod = self.scalers_[2*i+2].fit_transform(self.activation(self.scalers_[2*i+1].fit_transform(\\\n",
      "#                             self.X_moved[-1]), o[-1], self.models_[i], self.W[i][1,:]-self.W[i][0,:]))\n",
      "                    X_mod = self.scalers_[2*i+2].fit_transform(self.activation(\\\n",
      "                        self.X_moved[-1], o[-1], self.models_[i], self.W[i][1,:]-self.W[i][0,:]))\n",
      "                else:\n",
      "                    raise BaseException(\"a\")\n",
      "\n",
      "                self.X_tr.append(X_mod)\n",
      "\n",
      "        return self\n",
      "\n",
      "    def predict(self, X, all_layers=False):\n",
      "        # Prepare data\n",
      "        X_mod = X\n",
      "        if self.scale:\n",
      "            X_mod = self.scalers_[0].transform(X_mod)\n",
      "        o = []\n",
      "        delta = np.zeros(shape=X.shape)\n",
      "\n",
      "        self.X_moved = [X_mod]\n",
      "        self.X_tr = [X_mod]\n",
      "        \n",
      "        for i in xrange(self.depth - 1):\n",
      "            #X_mod = self.scalers_[i].transform(X_mod) if self.scale else X_mod\n",
      "\n",
      "            oi = self.models_[i].decision_function(X_mod).reshape(-1,1)\n",
      "            o.append(oi if self.K > 2 else \\\n",
      "                np.hstack([-oi, oi]))\n",
      "\n",
      "            if all_layers :\n",
      "                self.layer_predictions_.append(self.models_[i].predict(X_mod))\n",
      "\n",
      "            if self.recurrent:\n",
      "                delta += np.dot(o[i], self.W[i])\n",
      "            else:\n",
      "                delta = np.dot(o[i], self.W[i])\n",
      "\n",
      "            if self.scale:\n",
      "#                 self.X_moved.append((self.scalers_[0].transform(X) if self.scale else X) + self.beta*delta)\n",
      "                self.X_moved.append(X_mod + self.beta*delta)\n",
      "#                 X_mod = self.scalers_[2*i+2].transform(self.activation(self.scalers_[2*i+1].transform(\\\n",
      "#                         self.X_moved[-1]), o[-1], self.models_[i], self.W[i][1,:]-self.W[i][0,:]))\n",
      "                X_mod = self.scalers_[2*i+2].transform(self.activation(\\\n",
      "                    self.X_moved[-1], o[-1], self.models_[i], self.W[i][1,:]-self.W[i][0,:]))\n",
      "                self.X_tr.append(X_mod)\n",
      "            else:\n",
      "                X_mod = self.activation((self.scalers_[0].transform(X) if self.scale else X) + self.beta*delta)\n",
      "\n",
      "\n",
      "\n",
      "        #X_mod = self.scalers_[self.depth-1].transform(X_mod) if self.scale else X_mod\n",
      "        print X_mod[0:2]\n",
      "        self.layer_predictions_.append(self.models_[-1].predict(X_mod))\n",
      "        return self.models_[-1].predict(X_mod)\n"
     ],
     "language": "python",
     "metadata": {},
     "outputs": [],
     "prompt_number": 7
    },
    {
     "cell_type": "code",
     "collapsed": false,
     "input": [
      "W_separating[3]"
     ],
     "language": "python",
     "metadata": {},
     "outputs": [
      {
       "metadata": {},
       "output_type": "pyout",
       "prompt_number": 17,
       "text": [
        "array([[-0.95206682,  0.0415407 ],\n",
        "       [ 0.66854166,  1.12050501]])"
       ]
      }
     ],
     "prompt_number": 17
    },
    {
     "cell_type": "code",
     "collapsed": false,
     "input": [
      "from sklearn.svm import LinearSVC\n",
      "W_separating = [np.load(open(\"W_separating_two_moon.txt\",\"r\"))[i] for i in range(4)]\n",
      "\n",
      "X_moon, Y_moon = sklearn.datasets.make_moons(n_samples=1000, noise=0.04)\n",
      "X_spiral, Y_spiral = np.loadtxt(\"../data/two_spirals.x\", skiprows=1), np.loadtxt(\"../data/two_spirals.y\", skiprows=1)\n",
      "X, Y = X_moon, Y_moon\n",
      "# X[:,1] *= 0.3\n",
      "X = MinMaxScaler((-1,1)).fit_transform(X)\n",
      "\n",
      "#X, Y = X_spiral + 0.5, Y_spiral\n",
      "model = R2SVMLearnerMy(seed=29, depth=5, beta=0.3, fit_c=None, use_prev=False, scale=True, activation=lambda x,a,b,c:\\\n",
      "                          1.0/(1.0+np.exp(-x)))\n",
      "model.fit(X, Y, W_separating)\n",
      "\n",
      "plot_size=(10,10)\n",
      "\n",
      "%matplotlib inline\n",
      "import matplotlib.pylab as plt\n",
      "fig = plt.figure(figsize=plot_size)\n",
      "\n",
      "ax1, ax2 = fig.add_subplot(121), fig.add_subplot(122)\n",
      "X_tr = model.X_tr\n",
      "ax1.scatter(model.X_tr[-1][:,0], model.X_tr[-1][:,1], c=Y)\n",
      "ax2.scatter(model.X_moved[-1][:,0], model.X_moved[-1][:,1], c=Y)\n",
      "ax1.set_title(\"Moved training data\")\n",
      "ax2.set_title(\"Transformed trainign data\")\n",
      "plt.show()\n",
      "\n",
      "fig = plt.figure(figsize=plot_size)\n",
      "\n",
      "ax1, ax2 = fig.add_subplot(121), fig.add_subplot(122)\n",
      "N = 15\n",
      "x, y = np.linspace(X[:,0].min(), X[:,0].max(), N),  np.linspace(X[:,1].min(), X[:,1].max(), N)\n",
      "xx, yy = np.meshgrid(x, y)\n",
      "z = model.predict(np.c_[xx.ravel(), yy.ravel()])\n",
      "ax1.scatter(model.X_moved[-1][:,0], model.X_moved[-1][:,1])\n",
      "ax2.scatter(model.X_tr[-1][:,0], model.X_tr[-1][:,1])\n",
      "ax1.set_title(\"Moved data\")\n",
      "plt.show()\n",
      "N = 500\n",
      "x, y = np.linspace(X[:,0].min(), X[:,0].max(), N),  np.linspace(X[:,1].min(), X[:,1].max(), N)\n",
      "xx, yy = np.meshgrid(x, y)\n",
      "z = model.predict(np.c_[xx.ravel(), yy.ravel()])\n",
      "\n",
      "fig = plt.figure(figsize=plot_size)\n",
      "ax1, ax2 = fig.add_subplot(121), fig.add_subplot(122)\n",
      "\n",
      "ax1.contourf(xx, yy, z.reshape(N,N), cmap=plt.cm.Paired, alpha=0.8) #levels=np.arange(-2,2,0.2),\n",
      "ax1.scatter(X[:,0], X[:,1], c=Y,  cmap=plt.cm.Paired, alpha=0.8)\n",
      "ax2.contourf(model.X_tr[-1][:,0].reshape(N,N), model.X_tr[-1][:,1].reshape(N,N), z.reshape(N,N), \n",
      "             cmap=plt.cm.Paired, alpha=0.8) #levels=np.arange(-2,2,0.2), \n",
      "ax2.scatter(X_tr[-1][:,0], X_tr[-1][:,1], c=Y)\n",
      "plt.show()"
     ],
     "language": "python",
     "metadata": {},
     "outputs": [
      {
       "ename": "NameError",
       "evalue": "name 'R2SVMLearnerMy' is not defined",
       "output_type": "pyerr",
       "traceback": [
        "\u001b[1;31m---------------------------------------------------------------------------\u001b[0m\n\u001b[1;31mNameError\u001b[0m                                 Traceback (most recent call last)",
        "\u001b[1;32m<ipython-input-4-2eb6c7a3dda8>\u001b[0m in \u001b[0;36m<module>\u001b[1;34m()\u001b[0m\n\u001b[0;32m      9\u001b[0m \u001b[1;33m\u001b[0m\u001b[0m\n\u001b[0;32m     10\u001b[0m \u001b[1;31m#X, Y = X_spiral + 0.5, Y_spiral\u001b[0m\u001b[1;33m\u001b[0m\u001b[1;33m\u001b[0m\u001b[0m\n\u001b[1;32m---> 11\u001b[1;33m \u001b[0mmodel\u001b[0m \u001b[1;33m=\u001b[0m \u001b[0mR2SVMLearnerMy\u001b[0m\u001b[1;33m(\u001b[0m\u001b[0mseed\u001b[0m\u001b[1;33m=\u001b[0m\u001b[1;36m29\u001b[0m\u001b[1;33m,\u001b[0m \u001b[0mdepth\u001b[0m\u001b[1;33m=\u001b[0m\u001b[1;36m5\u001b[0m\u001b[1;33m,\u001b[0m \u001b[0mbeta\u001b[0m\u001b[1;33m=\u001b[0m\u001b[1;36m0.3\u001b[0m\u001b[1;33m,\u001b[0m \u001b[0mfit_c\u001b[0m\u001b[1;33m=\u001b[0m\u001b[0mNone\u001b[0m\u001b[1;33m,\u001b[0m \u001b[0muse_prev\u001b[0m\u001b[1;33m=\u001b[0m\u001b[0mFalse\u001b[0m\u001b[1;33m,\u001b[0m \u001b[0mscale\u001b[0m\u001b[1;33m=\u001b[0m\u001b[0mTrue\u001b[0m\u001b[1;33m,\u001b[0m \u001b[0mactivation\u001b[0m\u001b[1;33m=\u001b[0m\u001b[1;32mlambda\u001b[0m \u001b[0mx\u001b[0m\u001b[1;33m,\u001b[0m\u001b[0ma\u001b[0m\u001b[1;33m,\u001b[0m\u001b[0mb\u001b[0m\u001b[1;33m,\u001b[0m\u001b[0mc\u001b[0m\u001b[1;33m:\u001b[0m                          \u001b[1;36m1.0\u001b[0m\u001b[1;33m/\u001b[0m\u001b[1;33m(\u001b[0m\u001b[1;36m1.0\u001b[0m\u001b[1;33m+\u001b[0m\u001b[0mnp\u001b[0m\u001b[1;33m.\u001b[0m\u001b[0mexp\u001b[0m\u001b[1;33m(\u001b[0m\u001b[1;33m-\u001b[0m\u001b[0mx\u001b[0m\u001b[1;33m)\u001b[0m\u001b[1;33m)\u001b[0m\u001b[1;33m)\u001b[0m\u001b[1;33m\u001b[0m\u001b[0m\n\u001b[0m\u001b[0;32m     12\u001b[0m \u001b[0mmodel\u001b[0m\u001b[1;33m.\u001b[0m\u001b[0mfit\u001b[0m\u001b[1;33m(\u001b[0m\u001b[0mX\u001b[0m\u001b[1;33m,\u001b[0m \u001b[0mY\u001b[0m\u001b[1;33m,\u001b[0m \u001b[0mW_separating\u001b[0m\u001b[1;33m)\u001b[0m\u001b[1;33m\u001b[0m\u001b[0m\n\u001b[0;32m     13\u001b[0m \u001b[1;33m\u001b[0m\u001b[0m\n",
        "\u001b[1;31mNameError\u001b[0m: name 'R2SVMLearnerMy' is not defined"
       ]
      }
     ],
     "prompt_number": 4
    },
    {
     "cell_type": "code",
     "collapsed": false,
     "input": [
      "model.W[-1][0,:] - model.W[-1][1,:]"
     ],
     "language": "python",
     "metadata": {},
     "outputs": []
    },
    {
     "cell_type": "code",
     "collapsed": false,
     "input": [
      "model.models_[-1].best_estimator_.coef_"
     ],
     "language": "python",
     "metadata": {},
     "outputs": []
    }
   ],
   "metadata": {}
  }
 ]
}