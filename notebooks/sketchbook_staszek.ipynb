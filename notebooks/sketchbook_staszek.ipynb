{
 "metadata": {
  "name": "",
  "signature": "sha256:644a2a52f6745d03e69f34ae0e04d8e88edafa219dadce8e9491cf2f33e26163"
 },
 "nbformat": 3,
 "nbformat_minor": 0,
 "worksheets": [
  {
   "cells": [
    {
     "cell_type": "markdown",
     "metadata": {},
     "source": [
      "# Note: Run from root directory, because __file__ is undefined in ipython (bug)"
     ]
    },
    {
     "cell_type": "code",
     "collapsed": false,
     "input": [
      "%load_ext autoreload\n",
      "%autoreload 2\n",
      "\n",
      "import sys\n",
      "import os\n",
      "sys.path.append(\"..\")\n",
      "\n",
      "from sklearn import svm, datasets\n",
      "from sklearn.grid_search import ParameterGrid, GridSearchCV\n",
      "from sklearn.base import BaseEstimator, clone \n",
      "from sklearn.cross_validation import KFold\n",
      "from sklearn.svm import SVC\n",
      "import os\n",
      "import math\n",
      "import numpy as np\n",
      "import seaborn\n",
      "import sklearn.metrics\n",
      "from multiprocessing import Pool\n",
      "from functools import partial\n",
      "\n",
      "import sklearn\n",
      "from sklearn.preprocessing import MinMaxScaler, LabelBinarizer\n",
      "from sklearn.metrics import accuracy_score\n",
      "from sklearn.cross_validation import KFold\n",
      "from sklearn.preprocessing import MinMaxScaler\n",
      "\n",
      "from data_api import *\n",
      "from models import R2SVMLearner, R2ELMLearner, ELM\n",
      "from fit_r2elm import *\n",
      "from fit_r2svm import *\n",
      "\n",
      "\n",
      "%matplotlib inline"
     ],
     "language": "python",
     "metadata": {},
     "outputs": [
      {
       "output_type": "stream",
       "stream": "stdout",
       "text": [
        "The autoreload extension is already loaded. To reload it, use:\n",
        "  %reload_ext autoreload\n"
       ]
      }
     ],
     "prompt_number": 27
    },
    {
     "cell_type": "code",
     "collapsed": false,
     "input": [
      "\n",
      "iris = fetch_uci_datasets('iris')\n",
      "liver = fetch_uci_datasets('liver')\n",
      "X_iris, Y_iris = iris.data, iris.target\n",
      "X_liver, Y_liver = liver.data, liver.target\n",
      "\n",
      "scaler = MinMaxScaler((-1,1))\n",
      "X_iris = scaler.fit_transform(X_iris)\n",
      "\n",
      "scaler = MinMaxScaler((-1,1))\n",
      "X_liver = scaler.fit_transform(X_liver)\n",
      "\n",
      "sig_model = ELM(activation='sigmoid')\n",
      "rbf_model = ELM(activation='rbf')\n",
      "sig_model.fit(X_iris,Y_iris)\n",
      "rbf_model.fit(X_iris,Y_iris)\n",
      "print \"%s: dim: %i, class: %i\" % (iris.name, iris.n_dim, iris.n_class)\n",
      "print \"ELM+SIG on iris: %.2f\" % accuracy_score(Y_iris, sig_model.predict(X_iris))\n",
      "print \"ELM+RBF on iris: %.2f\" % accuracy_score(Y_iris, rbf_model.predict(X_iris))\n",
      "print\n",
      "print \"%s: dim: %i, class: %i\" % (liver.name, liver.n_dim, liver.n_class)\n",
      "sig_model = ELM(activation='sigmoid')\n",
      "rbf_model = ELM(activation='rbf')\n",
      "sig_model.fit(X_liver,Y_liver)\n",
      "rbf_model.fit(X_liver,Y_liver)\n",
      "print \"ELM+SIG on liver: %.2f\" % accuracy_score(Y_liver, sig_model.predict(X_liver))\n",
      "print \"ELM+RBF on liver: %.2f\" % accuracy_score(Y_liver, rbf_model.predict(X_liver))\n"
     ],
     "language": "python",
     "metadata": {},
     "outputs": [
      {
       "output_type": "stream",
       "stream": "stdout",
       "text": [
        "iris: dim: 4, class: 3\n",
        "ELM+SIG on iris: 0.99\n",
        "ELM+RBF on iris: 0.98\n",
        "\n",
        "liver: dim: 6, class: 2\n",
        "ELM+SIG on liver: 0.79\n",
        "ELM+RBF on liver: 0.79\n"
       ]
      }
     ],
     "prompt_number": 24
    },
    {
     "cell_type": "code",
     "collapsed": false,
     "input": [
      "from misc.config import c\n",
      "print(os.path.join(c[\"DATA_DIR\"], \"/heart\"))"
     ],
     "language": "python",
     "metadata": {},
     "outputs": [
      {
       "output_type": "stream",
       "stream": "stdout",
       "text": [
        "/heart\n"
       ]
      }
     ],
     "prompt_number": 25
    },
    {
     "cell_type": "code",
     "collapsed": false,
     "input": [
      "param_grid = {'h': [50],\n",
      "              'beta': [0.04]}\n",
      "\n",
      "E_grid, E = fit_r2elm_on_dataset(data=liver, param_grid_in=param_grid, to_file=False)\n",
      "\n",
      "print E['config']['params']\n",
      "print E['results']['mean_acc']\n",
      "print E['monitors']['std']\n",
      "print E['monitors']['train_time']\n",
      "\n",
      "print E_grid['monitors']['grid_time']"
     ],
     "language": "python",
     "metadata": {},
     "outputs": [
      {
       "output_type": "stream",
       "stream": "stderr",
       "text": [
        "2015-03-07 20:10:46,183 \tR2ELM grid_search_on_liver  {'best_params': {'use_prev': True, 'h': 50, 'recurrent': True, 'depth': 5, 'beta': 0.04, 'scale': True, 'seed': None}, 'best_cls': R2ELMLearner(activation=<function _sigmoid at 0x7f47a733db90>, beta=0.04,\n",
        "       depth=5, h=50, max_h=100, recurrent=True, scale=True,\n",
        "       seed=1116081516, use_prev=True), 'best_score': 0.55652173913043479}\n"
       ]
      },
      {
       "output_type": "stream",
       "stream": "stderr",
       "text": [
        "2015-03-07 20:10:46,185 \tR2ELM grid_search_on_liver  {'best_std': [0.058115761321053387], 'mean_fold_scores': [0.55652173913043479], 'std_fold_scores': [0.058115761321053387], 'grid_time': 0.5553739070892334}\n"
       ]
      },
      {
       "output_type": "stream",
       "stream": "stderr",
       "text": [
        "2015-03-07 20:10:46,603 \tR2ELM grid_search_on_liver  {'mean_acc': 0.66376811594202889}\n"
       ]
      },
      {
       "output_type": "stream",
       "stream": "stderr",
       "text": [
        "2015-03-07 20:10:46,604 \tR2ELM grid_search_on_liver  {'std': 0.061760219572934844, 'test_time': 0.0007638931274414062, 'n_dim': 6, 'acc_fold': array([ 0.71014493,  0.65217391,  0.62318841,  0.75362319,  0.57971014]), 'cm': [array([[18, 17],\n",
        "       [ 3, 31]]), array([[15, 13],\n",
        "       [11, 30]]), array([[17, 14],\n",
        "       [12, 26]]), array([[21,  6],\n",
        "       [11, 31]]), array([[ 7, 17],\n",
        "       [12, 33]])], 'train_time': [0.16544890403747559, 0.05815887451171875, 0.05841398239135742, 0.05222606658935547, 0.06334805488586426], 'clf': [R2ELMLearner(activation=<function _sigmoid at 0x7f47a733db90>, beta=0.04,\n",
        "       depth=5, h=50, max_h=100, recurrent=True, scale=True,\n",
        "       seed=217977126, use_prev=True), R2ELMLearner(activation=<function _sigmoid at 0x7f47a733db90>, beta=0.04,\n",
        "       depth=5, h=50, max_h=100, recurrent=True, scale=True,\n",
        "       seed=1539989674, use_prev=True), R2ELMLearner(activation=<function _sigmoid at 0x7f47a733db90>, beta=0.04,\n",
        "       depth=5, h=50, max_h=100, recurrent=True, scale=True,\n",
        "       seed=1797723801, use_prev=True), R2ELMLearner(activation=<function _sigmoid at 0x7f47a733db90>, beta=0.04,\n",
        "       depth=5, h=50, max_h=100, recurrent=True, scale=True,\n",
        "       seed=1267106068, use_prev=True), R2ELMLearner(activation=<function _sigmoid at 0x7f47a733db90>, beta=0.04,\n",
        "       depth=5, h=50, max_h=100, recurrent=True, scale=True,\n",
        "       seed=1076355186, use_prev=True)], 'data_name': 'liver', 'n_class': 2}\n"
       ]
      },
      {
       "output_type": "stream",
       "stream": "stdout",
       "text": [
        "{'use_prev': True, 'h': 50, 'recurrent': True, 'depth': 5, 'beta': 0.04, 'scale': True, 'seed': None}\n",
        "0.663768115942\n",
        "0.0617602195729\n",
        "[0.16544890403747559, 0.05815887451171875, 0.05841398239135742, 0.05222606658935547, 0.06334805488586426]\n",
        "0.555373907089\n"
       ]
      }
     ],
     "prompt_number": 31
    }
   ],
   "metadata": {}
  }
 ]
}